{
 "cells": [
  {
   "attachments": {},
   "cell_type": "markdown",
   "id": "ccf00acc",
   "metadata": {},
   "source": [
    " 1. Automating lending decision-making using machine learning is revolutionizing the finance and lending industry by leveraging advanced algorithms to streamline and enhance the approval process.\n",
    " \n",
    " 2. Traditionally, loan approvals involved labor-intensive manual reviews and subjective judgments which not only leads to inefficiencies and potential biases but also can be time consuming.\n",
    "\n",
    " 3. Machine learning lending decision automation hold high promise in speeding up the approval process, reducing the time from application to decision, improving operational efficiency and reducing on labor-related  costs.\n",
    " \n",
    " 4. Automated systems enables real-time processing of loan applications, can handle large volumes of applications simultaneously and hence scaling operations without the need for proportional increases in resources.\n",
    " \n",
    " 5. This work focus on evaluating the extend at which leveraging the three machine learning algorithms: Random Forest, XGBoost and LGBM in loan application decision making can reduce the cost of loan processing\n",
    "\n"
   ]
  },
  {
   "cell_type": "code",
   "execution_count": 665,
   "id": "b0275922",
   "metadata": {},
   "outputs": [
    {
     "data": {
      "text/html": [
       "        <script type=\"text/javascript\">\n",
       "        window.PlotlyConfig = {MathJaxConfig: 'local'};\n",
       "        if (window.MathJax) {MathJax.Hub.Config({SVG: {font: \"STIX-Web\"}});}\n",
       "        if (typeof require !== 'undefined') {\n",
       "        require.undef(\"plotly\");\n",
       "        requirejs.config({\n",
       "            paths: {\n",
       "                'plotly': ['https://cdn.plot.ly/plotly-latest.min']\n",
       "            }\n",
       "        });\n",
       "        require(['plotly'], function(Plotly) {\n",
       "            window._Plotly = Plotly;\n",
       "        });\n",
       "        }\n",
       "        </script>\n",
       "        "
      ]
     },
     "metadata": {},
     "output_type": "display_data"
    },
    {
     "data": {
      "text/html": [
       "<div>\n",
       "<style scoped>\n",
       "    .dataframe tbody tr th:only-of-type {\n",
       "        vertical-align: middle;\n",
       "    }\n",
       "\n",
       "    .dataframe tbody tr th {\n",
       "        vertical-align: top;\n",
       "    }\n",
       "\n",
       "    .dataframe thead th {\n",
       "        text-align: right;\n",
       "    }\n",
       "</style>\n",
       "<table border=\"1\" class=\"dataframe\">\n",
       "  <thead>\n",
       "    <tr style=\"text-align: right;\">\n",
       "      <th></th>\n",
       "      <th>application_id</th>\n",
       "      <th>AR</th>\n",
       "      <th>payment_method</th>\n",
       "      <th>client_first_lapp_mark</th>\n",
       "      <th>client_first_manual_lapp_mark</th>\n",
       "      <th>warning_count</th>\n",
       "      <th>address_check_1</th>\n",
       "      <th>address_check_2</th>\n",
       "      <th>address_check_3</th>\n",
       "      <th>address_check_4</th>\n",
       "      <th>...</th>\n",
       "      <th>other_29</th>\n",
       "      <th>data_quality_30</th>\n",
       "      <th>other_31</th>\n",
       "      <th>data_quality_32</th>\n",
       "      <th>data_quality_33</th>\n",
       "      <th>data_quality_34</th>\n",
       "      <th>data_quality_35</th>\n",
       "      <th>other_36</th>\n",
       "      <th>accounts_check_37</th>\n",
       "      <th>accounts_check_38</th>\n",
       "    </tr>\n",
       "  </thead>\n",
       "  <tbody>\n",
       "    <tr>\n",
       "      <th>0</th>\n",
       "      <td>1</td>\n",
       "      <td>0</td>\n",
       "      <td>METHOD1</td>\n",
       "      <td>Yes</td>\n",
       "      <td>Yes</td>\n",
       "      <td>2</td>\n",
       "      <td>False</td>\n",
       "      <td>False</td>\n",
       "      <td>False</td>\n",
       "      <td>False</td>\n",
       "      <td>...</td>\n",
       "      <td>False</td>\n",
       "      <td>False</td>\n",
       "      <td>False</td>\n",
       "      <td>False</td>\n",
       "      <td>False</td>\n",
       "      <td>False</td>\n",
       "      <td>False</td>\n",
       "      <td>False</td>\n",
       "      <td>False</td>\n",
       "      <td>False</td>\n",
       "    </tr>\n",
       "    <tr>\n",
       "      <th>1</th>\n",
       "      <td>2</td>\n",
       "      <td>0</td>\n",
       "      <td>METHOD1</td>\n",
       "      <td>No</td>\n",
       "      <td>Yes</td>\n",
       "      <td>2</td>\n",
       "      <td>False</td>\n",
       "      <td>False</td>\n",
       "      <td>False</td>\n",
       "      <td>False</td>\n",
       "      <td>...</td>\n",
       "      <td>False</td>\n",
       "      <td>False</td>\n",
       "      <td>False</td>\n",
       "      <td>False</td>\n",
       "      <td>False</td>\n",
       "      <td>False</td>\n",
       "      <td>False</td>\n",
       "      <td>False</td>\n",
       "      <td>False</td>\n",
       "      <td>False</td>\n",
       "    </tr>\n",
       "    <tr>\n",
       "      <th>2</th>\n",
       "      <td>3</td>\n",
       "      <td>0</td>\n",
       "      <td>METHOD1</td>\n",
       "      <td>No</td>\n",
       "      <td>Yes</td>\n",
       "      <td>6</td>\n",
       "      <td>False</td>\n",
       "      <td>False</td>\n",
       "      <td>False</td>\n",
       "      <td>False</td>\n",
       "      <td>...</td>\n",
       "      <td>False</td>\n",
       "      <td>False</td>\n",
       "      <td>False</td>\n",
       "      <td>False</td>\n",
       "      <td>False</td>\n",
       "      <td>False</td>\n",
       "      <td>False</td>\n",
       "      <td>False</td>\n",
       "      <td>False</td>\n",
       "      <td>False</td>\n",
       "    </tr>\n",
       "    <tr>\n",
       "      <th>3</th>\n",
       "      <td>4</td>\n",
       "      <td>0</td>\n",
       "      <td>METHOD1</td>\n",
       "      <td>No</td>\n",
       "      <td>Yes</td>\n",
       "      <td>7</td>\n",
       "      <td>False</td>\n",
       "      <td>False</td>\n",
       "      <td>False</td>\n",
       "      <td>False</td>\n",
       "      <td>...</td>\n",
       "      <td>False</td>\n",
       "      <td>False</td>\n",
       "      <td>False</td>\n",
       "      <td>False</td>\n",
       "      <td>False</td>\n",
       "      <td>False</td>\n",
       "      <td>False</td>\n",
       "      <td>False</td>\n",
       "      <td>False</td>\n",
       "      <td>False</td>\n",
       "    </tr>\n",
       "    <tr>\n",
       "      <th>4</th>\n",
       "      <td>5</td>\n",
       "      <td>0</td>\n",
       "      <td>METHOD1</td>\n",
       "      <td>No</td>\n",
       "      <td>No</td>\n",
       "      <td>5</td>\n",
       "      <td>False</td>\n",
       "      <td>False</td>\n",
       "      <td>False</td>\n",
       "      <td>False</td>\n",
       "      <td>...</td>\n",
       "      <td>False</td>\n",
       "      <td>False</td>\n",
       "      <td>False</td>\n",
       "      <td>False</td>\n",
       "      <td>True</td>\n",
       "      <td>False</td>\n",
       "      <td>False</td>\n",
       "      <td>False</td>\n",
       "      <td>False</td>\n",
       "      <td>False</td>\n",
       "    </tr>\n",
       "  </tbody>\n",
       "</table>\n",
       "<p>5 rows × 44 columns</p>\n",
       "</div>"
      ],
      "text/plain": [
       "   application_id  AR payment_method client_first_lapp_mark  \\\n",
       "0               1   0        METHOD1                    Yes   \n",
       "1               2   0        METHOD1                     No   \n",
       "2               3   0        METHOD1                     No   \n",
       "3               4   0        METHOD1                     No   \n",
       "4               5   0        METHOD1                     No   \n",
       "\n",
       "  client_first_manual_lapp_mark  warning_count  address_check_1  \\\n",
       "0                           Yes              2            False   \n",
       "1                           Yes              2            False   \n",
       "2                           Yes              6            False   \n",
       "3                           Yes              7            False   \n",
       "4                            No              5            False   \n",
       "\n",
       "   address_check_2  address_check_3  address_check_4  ...  other_29  \\\n",
       "0            False            False            False  ...     False   \n",
       "1            False            False            False  ...     False   \n",
       "2            False            False            False  ...     False   \n",
       "3            False            False            False  ...     False   \n",
       "4            False            False            False  ...     False   \n",
       "\n",
       "   data_quality_30  other_31  data_quality_32  data_quality_33  \\\n",
       "0            False     False            False            False   \n",
       "1            False     False            False            False   \n",
       "2            False     False            False            False   \n",
       "3            False     False            False            False   \n",
       "4            False     False            False             True   \n",
       "\n",
       "   data_quality_34  data_quality_35  other_36  accounts_check_37  \\\n",
       "0            False            False     False              False   \n",
       "1            False            False     False              False   \n",
       "2            False            False     False              False   \n",
       "3            False            False     False              False   \n",
       "4            False            False     False              False   \n",
       "\n",
       "   accounts_check_38  \n",
       "0              False  \n",
       "1              False  \n",
       "2              False  \n",
       "3              False  \n",
       "4              False  \n",
       "\n",
       "[5 rows x 44 columns]"
      ]
     },
     "execution_count": 665,
     "metadata": {},
     "output_type": "execute_result"
    }
   ],
   "source": [
    "import warnings\n",
    "warnings.filterwarnings(\"ignore\")\n",
    "\n",
    "#Im\n",
    "import time, psutil, os, gc\n",
    "\n",
    "# Mathematical functions\n",
    "import math\n",
    "\n",
    "# Data manipulation\n",
    "import numpy as np\n",
    "np.bool = np.bool_\n",
    "import pandas as pd\n",
    "import matplotlib.pyplot as plt\n",
    "import shap  # For SHAP values explanation\n",
    "# Fit SHAP explainer and obtain SHAP values f\n",
    "# Plotting and visualization\n",
    "import matplotlib.pyplot as plt\n",
    "import matplotlib.patches as mpatches\n",
    "import plotly.express as px\n",
    "import plotly.graph_objects as go\n",
    "from plotly.subplots import make_subplots\n",
    "from plotly.offline import init_notebook_mode, iplot\n",
    "init_notebook_mode(connected=True)\n",
    "\n",
    "# Train-test split\n",
    "from sklearn.model_selection import train_test_split\n",
    "\n",
    "# Progress bar for loop\n",
    "from tqdm.contrib import itertools\n",
    "df = pd.read_excel('TWINO_task_data_scientist.xlsx', sheet_name='Data')\n",
    "df.head()"
   ]
  },
  {
   "cell_type": "code",
   "execution_count": 666,
   "id": "c98abee2",
   "metadata": {},
   "outputs": [
    {
     "data": {
      "text/plain": [
       "(9898, 49)"
      ]
     },
     "execution_count": 666,
     "metadata": {},
     "output_type": "execute_result"
    }
   ],
   "source": [
    "# Create dummy variables for all categorical columns\n",
    "data = pd.get_dummies(df)\n",
    "data.shape"
   ]
  },
  {
   "cell_type": "code",
   "execution_count": 667,
   "id": "abstract-drunk",
   "metadata": {},
   "outputs": [],
   "source": [
    "import xgboost"
   ]
  },
  {
   "cell_type": "code",
   "execution_count": 668,
   "id": "94e7d26b",
   "metadata": {},
   "outputs": [
    {
     "data": {
      "text/plain": [
       "Index(['application_id', 'AR', 'warning_count', 'address_check_1',\n",
       "       'address_check_2', 'address_check_3', 'address_check_4',\n",
       "       'accounts_check_5', 'accounts_check_6', 'data_comparison_7',\n",
       "       'data_comparison_8', 'data_comparison_9', 'data_comparison_10',\n",
       "       'data_comparison_11', 'data_comparison_12', 'data_comparison_13',\n",
       "       'data_comparison_14', 'data_comparison_15', 'creditcard_check_16',\n",
       "       'creditcard_check_17', 'creditcard_check_18', 'data_quality_19',\n",
       "       'data_quality_20', 'other_21', 'other_22', 'data_quality_23',\n",
       "       'data_quality_24', 'data_quality_25', 'data_quality_26',\n",
       "       'data_quality_27', 'data_quality_28', 'other_29', 'data_quality_30',\n",
       "       'other_31', 'data_quality_32', 'data_quality_33', 'data_quality_34',\n",
       "       'data_quality_35', 'other_36', 'accounts_check_37', 'accounts_check_38',\n",
       "       'payment_method_METHOD1', 'payment_method_METHOD2',\n",
       "       'payment_method_METHOD3', 'payment_method_METHOD4',\n",
       "       'client_first_lapp_mark_No', 'client_first_lapp_mark_Yes',\n",
       "       'client_first_manual_lapp_mark_No',\n",
       "       'client_first_manual_lapp_mark_Yes'],\n",
       "      dtype='object')"
      ]
     },
     "execution_count": 668,
     "metadata": {},
     "output_type": "execute_result"
    }
   ],
   "source": [
    "data.columns"
   ]
  },
  {
   "cell_type": "code",
   "execution_count": 669,
   "id": "150b05ac",
   "metadata": {},
   "outputs": [
    {
     "data": {
      "text/html": [
       "<div>\n",
       "<style scoped>\n",
       "    .dataframe tbody tr th:only-of-type {\n",
       "        vertical-align: middle;\n",
       "    }\n",
       "\n",
       "    .dataframe tbody tr th {\n",
       "        vertical-align: top;\n",
       "    }\n",
       "\n",
       "    .dataframe thead th {\n",
       "        text-align: right;\n",
       "    }\n",
       "</style>\n",
       "<table border=\"1\" class=\"dataframe\">\n",
       "  <thead>\n",
       "    <tr style=\"text-align: right;\">\n",
       "      <th></th>\n",
       "      <th>application_id</th>\n",
       "      <th>AR</th>\n",
       "      <th>warning_count</th>\n",
       "      <th>address_check_1</th>\n",
       "      <th>address_check_2</th>\n",
       "      <th>address_check_3</th>\n",
       "      <th>address_check_4</th>\n",
       "      <th>accounts_check_5</th>\n",
       "      <th>accounts_check_6</th>\n",
       "      <th>data_comparison_7</th>\n",
       "      <th>...</th>\n",
       "      <th>accounts_check_37</th>\n",
       "      <th>accounts_check_38</th>\n",
       "      <th>payment_method_METHOD1</th>\n",
       "      <th>payment_method_METHOD2</th>\n",
       "      <th>payment_method_METHOD3</th>\n",
       "      <th>payment_method_METHOD4</th>\n",
       "      <th>client_first_lapp_mark_No</th>\n",
       "      <th>client_first_lapp_mark_Yes</th>\n",
       "      <th>client_first_manual_lapp_mark_No</th>\n",
       "      <th>client_first_manual_lapp_mark_Yes</th>\n",
       "    </tr>\n",
       "  </thead>\n",
       "  <tbody>\n",
       "    <tr>\n",
       "      <th>0</th>\n",
       "      <td>1</td>\n",
       "      <td>0</td>\n",
       "      <td>2</td>\n",
       "      <td>0</td>\n",
       "      <td>0</td>\n",
       "      <td>0</td>\n",
       "      <td>0</td>\n",
       "      <td>0</td>\n",
       "      <td>0</td>\n",
       "      <td>0</td>\n",
       "      <td>...</td>\n",
       "      <td>0</td>\n",
       "      <td>0</td>\n",
       "      <td>1</td>\n",
       "      <td>0</td>\n",
       "      <td>0</td>\n",
       "      <td>0</td>\n",
       "      <td>0</td>\n",
       "      <td>1</td>\n",
       "      <td>0</td>\n",
       "      <td>1</td>\n",
       "    </tr>\n",
       "    <tr>\n",
       "      <th>1</th>\n",
       "      <td>2</td>\n",
       "      <td>0</td>\n",
       "      <td>2</td>\n",
       "      <td>0</td>\n",
       "      <td>0</td>\n",
       "      <td>0</td>\n",
       "      <td>0</td>\n",
       "      <td>0</td>\n",
       "      <td>0</td>\n",
       "      <td>0</td>\n",
       "      <td>...</td>\n",
       "      <td>0</td>\n",
       "      <td>0</td>\n",
       "      <td>1</td>\n",
       "      <td>0</td>\n",
       "      <td>0</td>\n",
       "      <td>0</td>\n",
       "      <td>1</td>\n",
       "      <td>0</td>\n",
       "      <td>0</td>\n",
       "      <td>1</td>\n",
       "    </tr>\n",
       "    <tr>\n",
       "      <th>2</th>\n",
       "      <td>3</td>\n",
       "      <td>0</td>\n",
       "      <td>6</td>\n",
       "      <td>0</td>\n",
       "      <td>0</td>\n",
       "      <td>0</td>\n",
       "      <td>0</td>\n",
       "      <td>0</td>\n",
       "      <td>0</td>\n",
       "      <td>0</td>\n",
       "      <td>...</td>\n",
       "      <td>0</td>\n",
       "      <td>0</td>\n",
       "      <td>1</td>\n",
       "      <td>0</td>\n",
       "      <td>0</td>\n",
       "      <td>0</td>\n",
       "      <td>1</td>\n",
       "      <td>0</td>\n",
       "      <td>0</td>\n",
       "      <td>1</td>\n",
       "    </tr>\n",
       "    <tr>\n",
       "      <th>3</th>\n",
       "      <td>4</td>\n",
       "      <td>0</td>\n",
       "      <td>7</td>\n",
       "      <td>0</td>\n",
       "      <td>0</td>\n",
       "      <td>0</td>\n",
       "      <td>0</td>\n",
       "      <td>0</td>\n",
       "      <td>0</td>\n",
       "      <td>0</td>\n",
       "      <td>...</td>\n",
       "      <td>0</td>\n",
       "      <td>0</td>\n",
       "      <td>1</td>\n",
       "      <td>0</td>\n",
       "      <td>0</td>\n",
       "      <td>0</td>\n",
       "      <td>1</td>\n",
       "      <td>0</td>\n",
       "      <td>0</td>\n",
       "      <td>1</td>\n",
       "    </tr>\n",
       "    <tr>\n",
       "      <th>4</th>\n",
       "      <td>5</td>\n",
       "      <td>0</td>\n",
       "      <td>5</td>\n",
       "      <td>0</td>\n",
       "      <td>0</td>\n",
       "      <td>0</td>\n",
       "      <td>0</td>\n",
       "      <td>0</td>\n",
       "      <td>0</td>\n",
       "      <td>0</td>\n",
       "      <td>...</td>\n",
       "      <td>0</td>\n",
       "      <td>0</td>\n",
       "      <td>1</td>\n",
       "      <td>0</td>\n",
       "      <td>0</td>\n",
       "      <td>0</td>\n",
       "      <td>1</td>\n",
       "      <td>0</td>\n",
       "      <td>1</td>\n",
       "      <td>0</td>\n",
       "    </tr>\n",
       "  </tbody>\n",
       "</table>\n",
       "<p>5 rows × 49 columns</p>\n",
       "</div>"
      ],
      "text/plain": [
       "   application_id  AR  warning_count  address_check_1  address_check_2  \\\n",
       "0               1   0              2                0                0   \n",
       "1               2   0              2                0                0   \n",
       "2               3   0              6                0                0   \n",
       "3               4   0              7                0                0   \n",
       "4               5   0              5                0                0   \n",
       "\n",
       "   address_check_3  address_check_4  accounts_check_5  accounts_check_6  \\\n",
       "0                0                0                 0                 0   \n",
       "1                0                0                 0                 0   \n",
       "2                0                0                 0                 0   \n",
       "3                0                0                 0                 0   \n",
       "4                0                0                 0                 0   \n",
       "\n",
       "   data_comparison_7  ...  accounts_check_37  accounts_check_38  \\\n",
       "0                  0  ...                  0                  0   \n",
       "1                  0  ...                  0                  0   \n",
       "2                  0  ...                  0                  0   \n",
       "3                  0  ...                  0                  0   \n",
       "4                  0  ...                  0                  0   \n",
       "\n",
       "   payment_method_METHOD1  payment_method_METHOD2  payment_method_METHOD3  \\\n",
       "0                       1                       0                       0   \n",
       "1                       1                       0                       0   \n",
       "2                       1                       0                       0   \n",
       "3                       1                       0                       0   \n",
       "4                       1                       0                       0   \n",
       "\n",
       "   payment_method_METHOD4  client_first_lapp_mark_No  \\\n",
       "0                       0                          0   \n",
       "1                       0                          1   \n",
       "2                       0                          1   \n",
       "3                       0                          1   \n",
       "4                       0                          1   \n",
       "\n",
       "   client_first_lapp_mark_Yes  client_first_manual_lapp_mark_No  \\\n",
       "0                           1                                 0   \n",
       "1                           0                                 0   \n",
       "2                           0                                 0   \n",
       "3                           0                                 0   \n",
       "4                           0                                 1   \n",
       "\n",
       "   client_first_manual_lapp_mark_Yes  \n",
       "0                                  1  \n",
       "1                                  1  \n",
       "2                                  1  \n",
       "3                                  1  \n",
       "4                                  0  \n",
       "\n",
       "[5 rows x 49 columns]"
      ]
     },
     "execution_count": 669,
     "metadata": {},
     "output_type": "execute_result"
    }
   ],
   "source": [
    "# Convert boolean values to 1 and 0\n",
    "data = data.astype(int)\n",
    "data.head()"
   ]
  },
  {
   "cell_type": "code",
   "execution_count": 670,
   "id": "c834fdec",
   "metadata": {},
   "outputs": [
    {
     "name": "stdout",
     "output_type": "stream",
     "text": [
      "<class 'pandas.core.frame.DataFrame'>\n",
      "RangeIndex: 9898 entries, 0 to 9897\n",
      "Data columns (total 49 columns):\n",
      " #   Column                             Non-Null Count  Dtype\n",
      "---  ------                             --------------  -----\n",
      " 0   application_id                     9898 non-null   int64\n",
      " 1   AR                                 9898 non-null   int64\n",
      " 2   warning_count                      9898 non-null   int64\n",
      " 3   address_check_1                    9898 non-null   int64\n",
      " 4   address_check_2                    9898 non-null   int64\n",
      " 5   address_check_3                    9898 non-null   int64\n",
      " 6   address_check_4                    9898 non-null   int64\n",
      " 7   accounts_check_5                   9898 non-null   int64\n",
      " 8   accounts_check_6                   9898 non-null   int64\n",
      " 9   data_comparison_7                  9898 non-null   int64\n",
      " 10  data_comparison_8                  9898 non-null   int64\n",
      " 11  data_comparison_9                  9898 non-null   int64\n",
      " 12  data_comparison_10                 9898 non-null   int64\n",
      " 13  data_comparison_11                 9898 non-null   int64\n",
      " 14  data_comparison_12                 9898 non-null   int64\n",
      " 15  data_comparison_13                 9898 non-null   int64\n",
      " 16  data_comparison_14                 9898 non-null   int64\n",
      " 17  data_comparison_15                 9898 non-null   int64\n",
      " 18  creditcard_check_16                9898 non-null   int64\n",
      " 19  creditcard_check_17                9898 non-null   int64\n",
      " 20  creditcard_check_18                9898 non-null   int64\n",
      " 21  data_quality_19                    9898 non-null   int64\n",
      " 22  data_quality_20                    9898 non-null   int64\n",
      " 23  other_21                           9898 non-null   int64\n",
      " 24  other_22                           9898 non-null   int64\n",
      " 25  data_quality_23                    9898 non-null   int64\n",
      " 26  data_quality_24                    9898 non-null   int64\n",
      " 27  data_quality_25                    9898 non-null   int64\n",
      " 28  data_quality_26                    9898 non-null   int64\n",
      " 29  data_quality_27                    9898 non-null   int64\n",
      " 30  data_quality_28                    9898 non-null   int64\n",
      " 31  other_29                           9898 non-null   int64\n",
      " 32  data_quality_30                    9898 non-null   int64\n",
      " 33  other_31                           9898 non-null   int64\n",
      " 34  data_quality_32                    9898 non-null   int64\n",
      " 35  data_quality_33                    9898 non-null   int64\n",
      " 36  data_quality_34                    9898 non-null   int64\n",
      " 37  data_quality_35                    9898 non-null   int64\n",
      " 38  other_36                           9898 non-null   int64\n",
      " 39  accounts_check_37                  9898 non-null   int64\n",
      " 40  accounts_check_38                  9898 non-null   int64\n",
      " 41  payment_method_METHOD1             9898 non-null   int64\n",
      " 42  payment_method_METHOD2             9898 non-null   int64\n",
      " 43  payment_method_METHOD3             9898 non-null   int64\n",
      " 44  payment_method_METHOD4             9898 non-null   int64\n",
      " 45  client_first_lapp_mark_No          9898 non-null   int64\n",
      " 46  client_first_lapp_mark_Yes         9898 non-null   int64\n",
      " 47  client_first_manual_lapp_mark_No   9898 non-null   int64\n",
      " 48  client_first_manual_lapp_mark_Yes  9898 non-null   int64\n",
      "dtypes: int64(49)\n",
      "memory usage: 3.7 MB\n"
     ]
    }
   ],
   "source": [
    "#Check Train dataset\n",
    "data.info()"
   ]
  },
  {
   "cell_type": "code",
   "execution_count": 671,
   "id": "c11b69e3",
   "metadata": {},
   "outputs": [
    {
     "data": {
      "text/plain": [
       "(1, 16)"
      ]
     },
     "execution_count": 671,
     "metadata": {},
     "output_type": "execute_result"
    }
   ],
   "source": [
    "data['warning_count'].min(),data['warning_count'].max()"
   ]
  },
  {
   "cell_type": "code",
   "execution_count": 672,
   "id": "56b7274c",
   "metadata": {},
   "outputs": [],
   "source": [
    "# Define bins and labels\n",
    "bins = [1, 4, 8, 12, 16]\n",
    "labels = ['1-4', '5-8', '9-12', '13-16']\n",
    "\n",
    "# Bin the 'age' feature\n",
    "data['warning_count_binned'] = pd.cut(data['warning_count'], bins=bins, labels=labels)"
   ]
  },
  {
   "cell_type": "code",
   "execution_count": 673,
   "id": "85b5b9e5",
   "metadata": {},
   "outputs": [
    {
     "data": {
      "text/plain": [
       "Index(['application_id', 'AR', 'warning_count', 'address_check_1',\n",
       "       'address_check_2', 'address_check_3', 'address_check_4',\n",
       "       'accounts_check_5', 'accounts_check_6', 'data_comparison_7',\n",
       "       'data_comparison_8', 'data_comparison_9', 'data_comparison_10',\n",
       "       'data_comparison_11', 'data_comparison_12', 'data_comparison_13',\n",
       "       'data_comparison_14', 'data_comparison_15', 'creditcard_check_16',\n",
       "       'creditcard_check_17', 'creditcard_check_18', 'data_quality_19',\n",
       "       'data_quality_20', 'other_21', 'other_22', 'data_quality_23',\n",
       "       'data_quality_24', 'data_quality_25', 'data_quality_26',\n",
       "       'data_quality_27', 'data_quality_28', 'other_29', 'data_quality_30',\n",
       "       'other_31', 'data_quality_32', 'data_quality_33', 'data_quality_34',\n",
       "       'data_quality_35', 'other_36', 'accounts_check_37', 'accounts_check_38',\n",
       "       'payment_method_METHOD1', 'payment_method_METHOD2',\n",
       "       'payment_method_METHOD3', 'payment_method_METHOD4',\n",
       "       'client_first_lapp_mark_No', 'client_first_lapp_mark_Yes',\n",
       "       'client_first_manual_lapp_mark_No', 'client_first_manual_lapp_mark_Yes',\n",
       "       'warning_count_binned', 'average_warning_count', 'total_warning_count',\n",
       "       'min_warning_count', 'max_warning_count'],\n",
       "      dtype='object')"
      ]
     },
     "execution_count": 673,
     "metadata": {},
     "output_type": "execute_result"
    }
   ],
   "source": [
    "data['average_warning_count'] = data.groupby('application_id')['warning_count'].transform('mean')\n",
    "data['total_warning_count'] = data.groupby('application_id')['warning_count'].transform('sum')\n",
    "data['min_warning_count'] = data.groupby('application_id')['warning_count'].transform('min')\n",
    "data['max_warning_count'] = data.groupby('application_id')['warning_count'].transform('max')\n",
    "data.columns"
   ]
  },
  {
   "cell_type": "code",
   "execution_count": 674,
   "id": "f081769b",
   "metadata": {},
   "outputs": [
    {
     "data": {
      "text/html": [
       "<div>\n",
       "<style scoped>\n",
       "    .dataframe tbody tr th:only-of-type {\n",
       "        vertical-align: middle;\n",
       "    }\n",
       "\n",
       "    .dataframe tbody tr th {\n",
       "        vertical-align: top;\n",
       "    }\n",
       "\n",
       "    .dataframe thead th {\n",
       "        text-align: right;\n",
       "    }\n",
       "</style>\n",
       "<table border=\"1\" class=\"dataframe\">\n",
       "  <thead>\n",
       "    <tr style=\"text-align: right;\">\n",
       "      <th></th>\n",
       "      <th>application_id</th>\n",
       "      <th>AR</th>\n",
       "      <th>warning_count</th>\n",
       "      <th>address_check_1</th>\n",
       "      <th>address_check_2</th>\n",
       "      <th>address_check_3</th>\n",
       "      <th>address_check_4</th>\n",
       "      <th>accounts_check_5</th>\n",
       "      <th>accounts_check_6</th>\n",
       "      <th>data_comparison_7</th>\n",
       "      <th>...</th>\n",
       "      <th>client_first_manual_lapp_mark_No</th>\n",
       "      <th>client_first_manual_lapp_mark_Yes</th>\n",
       "      <th>average_warning_count</th>\n",
       "      <th>total_warning_count</th>\n",
       "      <th>min_warning_count</th>\n",
       "      <th>max_warning_count</th>\n",
       "      <th>warning_count_binned_1-4</th>\n",
       "      <th>warning_count_binned_5-8</th>\n",
       "      <th>warning_count_binned_9-12</th>\n",
       "      <th>warning_count_binned_13-16</th>\n",
       "    </tr>\n",
       "  </thead>\n",
       "  <tbody>\n",
       "    <tr>\n",
       "      <th>0</th>\n",
       "      <td>1</td>\n",
       "      <td>0</td>\n",
       "      <td>2</td>\n",
       "      <td>0</td>\n",
       "      <td>0</td>\n",
       "      <td>0</td>\n",
       "      <td>0</td>\n",
       "      <td>0</td>\n",
       "      <td>0</td>\n",
       "      <td>0</td>\n",
       "      <td>...</td>\n",
       "      <td>0</td>\n",
       "      <td>1</td>\n",
       "      <td>2</td>\n",
       "      <td>2</td>\n",
       "      <td>2</td>\n",
       "      <td>2</td>\n",
       "      <td>1</td>\n",
       "      <td>0</td>\n",
       "      <td>0</td>\n",
       "      <td>0</td>\n",
       "    </tr>\n",
       "    <tr>\n",
       "      <th>1</th>\n",
       "      <td>2</td>\n",
       "      <td>0</td>\n",
       "      <td>2</td>\n",
       "      <td>0</td>\n",
       "      <td>0</td>\n",
       "      <td>0</td>\n",
       "      <td>0</td>\n",
       "      <td>0</td>\n",
       "      <td>0</td>\n",
       "      <td>0</td>\n",
       "      <td>...</td>\n",
       "      <td>0</td>\n",
       "      <td>1</td>\n",
       "      <td>2</td>\n",
       "      <td>2</td>\n",
       "      <td>2</td>\n",
       "      <td>2</td>\n",
       "      <td>1</td>\n",
       "      <td>0</td>\n",
       "      <td>0</td>\n",
       "      <td>0</td>\n",
       "    </tr>\n",
       "    <tr>\n",
       "      <th>2</th>\n",
       "      <td>3</td>\n",
       "      <td>0</td>\n",
       "      <td>6</td>\n",
       "      <td>0</td>\n",
       "      <td>0</td>\n",
       "      <td>0</td>\n",
       "      <td>0</td>\n",
       "      <td>0</td>\n",
       "      <td>0</td>\n",
       "      <td>0</td>\n",
       "      <td>...</td>\n",
       "      <td>0</td>\n",
       "      <td>1</td>\n",
       "      <td>6</td>\n",
       "      <td>6</td>\n",
       "      <td>6</td>\n",
       "      <td>6</td>\n",
       "      <td>0</td>\n",
       "      <td>1</td>\n",
       "      <td>0</td>\n",
       "      <td>0</td>\n",
       "    </tr>\n",
       "    <tr>\n",
       "      <th>3</th>\n",
       "      <td>4</td>\n",
       "      <td>0</td>\n",
       "      <td>7</td>\n",
       "      <td>0</td>\n",
       "      <td>0</td>\n",
       "      <td>0</td>\n",
       "      <td>0</td>\n",
       "      <td>0</td>\n",
       "      <td>0</td>\n",
       "      <td>0</td>\n",
       "      <td>...</td>\n",
       "      <td>0</td>\n",
       "      <td>1</td>\n",
       "      <td>7</td>\n",
       "      <td>7</td>\n",
       "      <td>7</td>\n",
       "      <td>7</td>\n",
       "      <td>0</td>\n",
       "      <td>1</td>\n",
       "      <td>0</td>\n",
       "      <td>0</td>\n",
       "    </tr>\n",
       "    <tr>\n",
       "      <th>4</th>\n",
       "      <td>5</td>\n",
       "      <td>0</td>\n",
       "      <td>5</td>\n",
       "      <td>0</td>\n",
       "      <td>0</td>\n",
       "      <td>0</td>\n",
       "      <td>0</td>\n",
       "      <td>0</td>\n",
       "      <td>0</td>\n",
       "      <td>0</td>\n",
       "      <td>...</td>\n",
       "      <td>1</td>\n",
       "      <td>0</td>\n",
       "      <td>5</td>\n",
       "      <td>5</td>\n",
       "      <td>5</td>\n",
       "      <td>5</td>\n",
       "      <td>0</td>\n",
       "      <td>1</td>\n",
       "      <td>0</td>\n",
       "      <td>0</td>\n",
       "    </tr>\n",
       "  </tbody>\n",
       "</table>\n",
       "<p>5 rows × 57 columns</p>\n",
       "</div>"
      ],
      "text/plain": [
       "   application_id  AR  warning_count  address_check_1  address_check_2  \\\n",
       "0               1   0              2                0                0   \n",
       "1               2   0              2                0                0   \n",
       "2               3   0              6                0                0   \n",
       "3               4   0              7                0                0   \n",
       "4               5   0              5                0                0   \n",
       "\n",
       "   address_check_3  address_check_4  accounts_check_5  accounts_check_6  \\\n",
       "0                0                0                 0                 0   \n",
       "1                0                0                 0                 0   \n",
       "2                0                0                 0                 0   \n",
       "3                0                0                 0                 0   \n",
       "4                0                0                 0                 0   \n",
       "\n",
       "   data_comparison_7  ...  client_first_manual_lapp_mark_No  \\\n",
       "0                  0  ...                                 0   \n",
       "1                  0  ...                                 0   \n",
       "2                  0  ...                                 0   \n",
       "3                  0  ...                                 0   \n",
       "4                  0  ...                                 1   \n",
       "\n",
       "   client_first_manual_lapp_mark_Yes  average_warning_count  \\\n",
       "0                                  1                      2   \n",
       "1                                  1                      2   \n",
       "2                                  1                      6   \n",
       "3                                  1                      7   \n",
       "4                                  0                      5   \n",
       "\n",
       "   total_warning_count  min_warning_count  max_warning_count  \\\n",
       "0                    2                  2                  2   \n",
       "1                    2                  2                  2   \n",
       "2                    6                  6                  6   \n",
       "3                    7                  7                  7   \n",
       "4                    5                  5                  5   \n",
       "\n",
       "   warning_count_binned_1-4  warning_count_binned_5-8  \\\n",
       "0                         1                         0   \n",
       "1                         1                         0   \n",
       "2                         0                         1   \n",
       "3                         0                         1   \n",
       "4                         0                         1   \n",
       "\n",
       "   warning_count_binned_9-12  warning_count_binned_13-16  \n",
       "0                          0                           0  \n",
       "1                          0                           0  \n",
       "2                          0                           0  \n",
       "3                          0                           0  \n",
       "4                          0                           0  \n",
       "\n",
       "[5 rows x 57 columns]"
      ]
     },
     "execution_count": 674,
     "metadata": {},
     "output_type": "execute_result"
    }
   ],
   "source": [
    "most_frequent = data['warning_count_binned'].mode()[0]\n",
    "data['warning_count_binned'] = data['warning_count_binned'].fillna(most_frequent)\n",
    "data = pd.get_dummies(data)\n",
    "data = data.astype(int)\n",
    "data.head()"
   ]
  },
  {
   "cell_type": "code",
   "execution_count": 675,
   "id": "central-sensitivity",
   "metadata": {},
   "outputs": [
    {
     "name": "stdout",
     "output_type": "stream",
     "text": [
      "Total number of columns after feature engineering: 74\n"
     ]
    }
   ],
   "source": [
    "import pandas as pd\n",
    "import numpy as np\n",
    "\n",
    "# Sample DataFrame\n",
    "# data = pd.read_csv('your_data.csv')  # Replace with your actual DataFrame\n",
    "\n",
    "# List of columns for aggregation\n",
    "columns = [\n",
    "    'warning_count', 'address_check_1', 'address_check_2', 'address_check_3', 'address_check_4',\n",
    "    'accounts_check_5', 'accounts_check_6', 'data_comparison_7', 'data_comparison_8', 'data_comparison_9',\n",
    "    'data_comparison_10', 'data_comparison_11', 'data_comparison_12', 'data_comparison_13', 'data_comparison_14',\n",
    "    'data_comparison_15', 'creditcard_check_16', 'creditcard_check_17', 'creditcard_check_18',\n",
    "    'data_quality_19', 'data_quality_20', 'other_21', 'other_22', 'data_quality_23',\n",
    "    'data_quality_24', 'data_quality_25', 'data_quality_26', 'data_quality_27', 'data_quality_28', \n",
    "    'other_29', 'data_quality_30', 'other_31', 'data_quality_32', 'data_quality_33', 'data_quality_34',\n",
    "    'data_quality_35', 'other_36', 'accounts_check_37', 'accounts_check_38',\n",
    "    'payment_method_METHOD1', 'payment_method_METHOD2', 'payment_method_METHOD3', 'payment_method_METHOD4',\n",
    "    'client_first_lapp_mark_No', 'client_first_lapp_mark_Yes',\n",
    "    'client_first_manual_lapp_mark_No', 'client_first_manual_lapp_mark_Yes',\n",
    "    'average_warning_count', 'total_warning_count', 'min_warning_count', 'max_warning_count',\n",
    "    'warning_count_binned_1-4', 'warning_count_binned_5-8', 'warning_count_binned_9-12', 'warning_count_binned_13-16'\n",
    "]\n",
    "\n",
    "def create_features(df):\n",
    "    # Combine similar features into aggregated columns\n",
    "    df['total_data_comparison'] = df[['data_comparison_7', 'data_comparison_8', 'data_comparison_9', \n",
    "                                      'data_comparison_10', 'data_comparison_11', 'data_comparison_12', \n",
    "                                      'data_comparison_13', 'data_comparison_14', 'data_comparison_15']].sum(axis=1)\n",
    "    df['total_data_quality'] = df[['data_quality_19', 'data_quality_20', 'data_quality_23', \n",
    "                                   'data_quality_24', 'data_quality_25', 'data_quality_26', \n",
    "                                   'data_quality_27', 'data_quality_28', 'data_quality_30', \n",
    "                                   'data_quality_32', 'data_quality_33', 'data_quality_34', \n",
    "                                   'data_quality_35']].sum(axis=1)\n",
    "    df['total_warning_bins'] = df[['warning_count_binned_1-4', 'warning_count_binned_5-8', \n",
    "                                   'warning_count_binned_9-12', 'warning_count_binned_13-16']].sum(axis=1)\n",
    "    \n",
    "    df['total_address_check'] = df[['address_check_1', 'address_check_2', 'address_check_3', \n",
    "                                    'address_check_4']].sum(axis=1)\n",
    "    df['total_accounts_check'] = df[['accounts_check_5', 'accounts_check_6', \n",
    "                                     'accounts_check_37', 'accounts_check_38']].sum(axis=1)\n",
    "    \n",
    "    # Basic aggregations\n",
    "    df['sum_all'] = df[columns].sum(axis=1)\n",
    "    df['mean_all'] = df[columns].mean(axis=1)\n",
    "    df['std_all'] = df[columns].std(axis=1)\n",
    "    df['min_all'] = df[columns].min(axis=1)\n",
    "    df['max_all'] = df[columns].max(axis=1)\n",
    "\n",
    "    # Key Polynomial Features\n",
    "    polynomial_features = ['warning_count', 'total_warning_count', 'average_warning_count']\n",
    "    for col in polynomial_features:\n",
    "        df[f'{col}^2'] = df[col] ** 2\n",
    "\n",
    "    # Key Log Transformations\n",
    "    log_columns = ['warning_count', 'total_warning_count', 'average_warning_count']\n",
    "    for col in log_columns:\n",
    "        df[f'log_{col}'] = np.log1p(df[col])\n",
    "    \n",
    "    # Ratio Features\n",
    "    df['ratio_warning_to_total_data_quality'] = np.where(df['total_data_quality'] != 0, df['warning_count'] / df['total_data_quality'], 0)\n",
    "    \n",
    "    return df\n",
    "\n",
    "# Apply feature creation\n",
    "data = create_features(data)\n",
    "\n",
    "# Optionally, print the number of columns to verify\n",
    "print(f\"Total number of columns after feature engineering: {data.shape[1]}\")"
   ]
  },
  {
   "cell_type": "code",
   "execution_count": 676,
   "id": "absolute-monday",
   "metadata": {},
   "outputs": [],
   "source": [
    "columns1=data.columns.to_list()"
   ]
  },
  {
   "cell_type": "code",
   "execution_count": 677,
   "id": "limiting-tulsa",
   "metadata": {},
   "outputs": [
    {
     "name": "stdout",
     "output_type": "stream",
     "text": [
      "Total number of columns after feature engineering: 4693\n"
     ]
    }
   ],
   "source": [
    "import pandas as pd\n",
    "import numpy as np\n",
    "\n",
    "# Sample DataFrame\n",
    "# data = pd.read_csv('your_data.csv')  # Replace with your actual DataFrame\n",
    "\n",
    "# List of columns for aggregation\n",
    "columns = [\n",
    "    'warning_count', 'address_check_1', 'address_check_2', 'address_check_3', 'address_check_4',\n",
    "    'accounts_check_5', 'accounts_check_6', 'data_comparison_7', 'data_comparison_8', 'data_comparison_9',\n",
    "    'data_comparison_10', 'data_comparison_11', 'data_comparison_12', 'data_comparison_13', 'data_comparison_14',\n",
    "    'data_comparison_15', 'creditcard_check_16', 'creditcard_check_17', 'creditcard_check_18',\n",
    "    'data_quality_19', 'data_quality_20', 'other_21', 'other_22', 'data_quality_23',\n",
    "    'data_quality_24', 'data_quality_25', 'data_quality_26', 'data_quality_27', 'data_quality_28', \n",
    "    'other_29', 'data_quality_30', 'other_31', 'data_quality_32', 'data_quality_33', 'data_quality_34',\n",
    "    'data_quality_35', 'other_36', 'accounts_check_37', 'accounts_check_38',\n",
    "    'payment_method_METHOD1', 'payment_method_METHOD2', 'payment_method_METHOD3', 'payment_method_METHOD4',\n",
    "    'client_first_lapp_mark_No', 'client_first_lapp_mark_Yes',\n",
    "    'client_first_manual_lapp_mark_No', 'client_first_manual_lapp_mark_Yes',\n",
    "    'average_warning_count', 'total_warning_count', 'min_warning_count', 'max_warning_count',\n",
    "    'warning_count_binned_1-4', 'warning_count_binned_5-8', 'warning_count_binned_9-12', 'warning_count_binned_13-16'\n",
    "]\n",
    "\n",
    "# Function to create additional features\n",
    "def create_features(df):\n",
    "    # Basic aggregations\n",
    "    df['sum_all'] = df[columns].sum(axis=1)\n",
    "    df['mean_all'] = df[columns].mean(axis=1)\n",
    "    df['std_all'] = df[columns].std(axis=1)\n",
    "    df['min_all'] = df[columns].min(axis=1)\n",
    "    df['max_all'] = df[columns].max(axis=1)\n",
    "    df['count_nonzero'] = (df[columns] != 0).sum(axis=1)\n",
    "    \n",
    "    # Pairwise interactions\n",
    "    for i in range(len(columns)):\n",
    "        for j in range(i + 1, len(columns)):\n",
    "            df[f'interaction_{columns[i]}_{columns[j]}'] = df[columns[i]] * df[columns[j]]\n",
    "    \n",
    "    # Polynomial features\n",
    "    for col in columns:\n",
    "        df[f'{col}^2'] = df[col] ** 2\n",
    "        df[f'{col}^3'] = df[col] ** 3\n",
    "    \n",
    "    # Log transformations (where the column is positive to avoid log(0))\n",
    "    for col in columns:\n",
    "        df[f'log_{col}'] = np.log1p(df[col])\n",
    "    \n",
    "    # Aggregations by categories\n",
    "    payment_methods = ['payment_method_METHOD1', 'payment_method_METHOD2', 'payment_method_METHOD3', 'payment_method_METHOD4']\n",
    "    df['payment_method_sum'] = df[payment_methods].sum(axis=1)\n",
    "    df['payment_method_mean'] = df[payment_methods].mean(axis=1)\n",
    "    \n",
    "    warning_binned = [\n",
    "        'warning_count_binned_1-4', 'warning_count_binned_5-8', \n",
    "        'warning_count_binned_9-12', 'warning_count_binned_13-16'\n",
    "    ]\n",
    "    df['warning_binned_sum'] = df[warning_binned].sum(axis=1)\n",
    "    df['warning_binned_mean'] = df[warning_binned].mean(axis=1)\n",
    "    \n",
    "    # Ratio features (avoid division by zero)\n",
    "    for col1 in columns:\n",
    "        for col2 in columns:\n",
    "            if col1 != col2:\n",
    "                df[f'{col1}_div_{col2}'] = np.where(df[col2] != 0, df[col1] / df[col2], 0)\n",
    "    \n",
    "    return df\n",
    "\n",
    "# Apply feature creation\n",
    "data = create_features(data)\n",
    "\n",
    "# Optionally, print the number of columns to verify\n",
    "print(f\"Total number of columns after feature engineering: {data.shape[1]}\")"
   ]
  },
  {
   "cell_type": "code",
   "execution_count": 678,
   "id": "casual-kazakhstan",
   "metadata": {},
   "outputs": [],
   "source": [
    "columns2=data.columns.to_list()[4100:4150]\n",
    "columns3=data.columns.to_list()[1000:1100]\n",
    "columns4=data.columns.to_list()[2200:2300]\n",
    "columns5=data.columns.to_list()[4000:4500]\n",
    "columns6=data.columns.to_list()[3000:3100]\n",
    "col=columns1+columns2"
   ]
  },
  {
   "cell_type": "code",
   "execution_count": 679,
   "id": "mobile-filling",
   "metadata": {},
   "outputs": [
    {
     "data": {
      "text/plain": [
       "(9898, 124)"
      ]
     },
     "execution_count": 679,
     "metadata": {},
     "output_type": "execute_result"
    }
   ],
   "source": [
    "data=data[col]\n",
    "data.shape"
   ]
  },
  {
   "cell_type": "markdown",
   "id": "2a80c8e6",
   "metadata": {},
   "source": [
    "# Encoding Functions\n",
    "\n",
    "Below are 5 encoding functions. (1) encode_FE does frequency encoding where it combines train and test first and then encodes. (2) encode_LE is a label encoded for categorical features (3) encode_AG makes aggregated features such as aggregated mean and std (4) encode_CB combines two columns (5) encode_AG2 makes aggregated features where it counts how many unique values of one feature is within a group."
   ]
  },
  {
   "cell_type": "code",
   "execution_count": 680,
   "id": "cbcf0ffb",
   "metadata": {},
   "outputs": [],
   "source": [
    "X=data.drop('AR', axis=1)\n",
    "y=data['AR']"
   ]
  },
  {
   "cell_type": "markdown",
   "id": "frequent-functionality",
   "metadata": {},
   "source": [
    "import pandas as pd\n",
    "import numpy as np\n",
    "\n",
    "# Sample DataFrame\n",
    "# data = pd.read_csv('your_data.csv')  # Replace with your actual DataFrame\n",
    "\n",
    "# Assuming the DataFrame `data` has 4696 columns\n",
    "all_columns = data.columns.tolist()\n",
    "\n",
    "# Select the first 60 columns\n",
    "first_60_columns = all_columns[:60]\n",
    "\n",
    "# Remaining columns\n",
    "remaining_columns = all_columns[60:]\n",
    "\n",
    "# Randomly select 500 columns from the remaining columns\n",
    "np.random.seed(0)  # For reproducibility, set a random seed\n",
    "random_500_columns = np.random.choice(remaining_columns, 500, replace=False)\n",
    "\n",
    "# Combine the selected columns\n",
    "selected_columns = first_60_columns + list(random_500_columns)"
   ]
  },
  {
   "cell_type": "markdown",
   "id": "32185204",
   "metadata": {},
   "source": [
    "# Feature Selection"
   ]
  },
  {
   "cell_type": "markdown",
   "id": "f9582244",
   "metadata": {},
   "source": [
    "## (a) Recursive Feature Elimination (RFE)\n",
    "\n",
    "RFE works by recursively removing the least important features based on a specified estimator. Here's an example using RFE with LogisticRegression as the estimator:"
   ]
  },
  {
   "cell_type": "markdown",
   "id": "palestinian-reunion",
   "metadata": {},
   "source": [
    "from sklearn.datasets import make_classification\n",
    "from sklearn.model_selection import train_test_split\n",
    "from sklearn.feature_selection import RFE\n",
    "from sklearn.ensemble import RandomForestClassifier\n",
    "from sklearn.metrics import accuracy_score\n",
    "# Initialize RFE with RandomForestClassifier estimator\n",
    "estimator = RandomForestClassifier(n_estimators=100, random_state=42)\n",
    "rfe = RFE(estimator, n_features_to_select=20, verbose=1)\n",
    "# Fit RFE\n",
    "rfe.fit(X, y)\n",
    "# Get selected feature indices\n",
    "selected_feature_indices = rfe.support_\n",
    "\n",
    "# Filter original feature names to get selected feature names\n",
    "Feature_names_RFE= [f'Feature_{i}' for i in range(X.shape[1]) if selected_feature_indices[i]]\n",
    "\n",
    "# Print selected feature names\n",
    "print(\"Selected Feature Names:\")\n",
    "print(Feature_names_RFE)"
   ]
  },
  {
   "cell_type": "markdown",
   "id": "2b22d3fb",
   "metadata": {},
   "source": [
    "## (b) SelectFromModel with Random Forest Classifier\n",
    "\n",
    "SelectFromModel is a meta-transformer that can be used with any estimator that assigns importance to features (e.g., tree-based methods, linear models with coef_ attribute). Here’s an example using SelectFromModel with RandomForestClassifier:"
   ]
  },
  {
   "cell_type": "markdown",
   "id": "dominant-light",
   "metadata": {},
   "source": [
    "from sklearn.feature_selection import SelectFromModel\n",
    "\n",
    "# Initialize RandomForestClassifier\n",
    "clf = RandomForestClassifier(n_estimators=100, random_state=42)\n",
    "\n",
    "# Initialize SelectFromModel with RandomForestClassifier estimator\n",
    "sfm = SelectFromModel(clf, threshold='median')\n",
    "\n",
    "# Fit SelectFromModel\n",
    "sfm.fit(X, y)\n",
    "\n",
    "# Get selected feature indices\n",
    "selected_feature_indices = sfm.get_support()\n",
    "\n",
    "# Filter original feature names to get selected feature names\n",
    "Feature_names_SFM = [f'Feature_{i}' for i in range(X.shape[1]) if selected_feature_indices[i]]\n",
    "\n",
    "# Print selected feature names\n",
    "print(\"Selected Feature Names:\")\n",
    "print(Feature_names_SFM)\n",
    "\n",
    "common_selected_features=set(Feature_names_RFE) & set(Feature_names_SFM)\n",
    "common_selected_features"
   ]
  },
  {
   "cell_type": "markdown",
   "id": "furnished-trade",
   "metadata": {},
   "source": [
    "ind=[0,12,13,14,16,19,26,28,29,34,35,39,40,44,47,48,49,50,51]\n",
    "cols=[]\n",
    "for i in ind:\n",
    "    cols.append(data.columns[i])\n",
    "cols"
   ]
  },
  {
   "cell_type": "markdown",
   "id": "975a2260",
   "metadata": {},
   "source": [
    "# Splitting the Data"
   ]
  },
  {
   "cell_type": "code",
   "execution_count": 681,
   "id": "finnish-constitution",
   "metadata": {},
   "outputs": [],
   "source": [
    "import warnings\n",
    "warnings.filterwarnings('ignore')\n",
    "\n",
    "import numpy as np\n",
    "import pandas as pd \n",
    "import matplotlib.pyplot as plt\n",
    "import plotly.express as px\n",
    "\n",
    "from sklearn.metrics import roc_auc_score, f1_score, precision_recall_curve, log_loss, accuracy_score\n",
    "from sklearn.model_selection import StratifiedKFold\n",
    "from lightgbm import LGBMClassifier\n",
    "from sklearn import preprocessing\n",
    "import time\n",
    "\n",
    "from tqdm import tqdm\n",
    "tqdm.pandas()\n",
    "\n",
    "from sklearn.preprocessing import OneHotEncoder, LabelEncoder\n",
    "\n",
    "class CFG:\n",
    "    seed = 42 #42, 47\n",
    "    n_splits = 5\n",
    "    lgbParams = {\"n_estimators\":830, \"num_leaves\":454, \"max_depth\":61,\"scale_pos_weight\":2.5,\n",
    "              \"learning_rate\":0.006910869038433314, \"min_split_gain\":0.00667926424629105, \n",
    "              \"feature_fraction\":0.3764303138879782, \"bagging_freq\":8}\n",
    "fold = StratifiedKFold(n_splits=CFG.n_splits)#shuffle=True, random_state = CFG.seed"
   ]
  },
  {
   "cell_type": "code",
   "execution_count": 682,
   "id": "harmful-asian",
   "metadata": {},
   "outputs": [],
   "source": [
    "def evalerror(preds, dtrain):\n",
    "    labels = dtrain.get_label()\n",
    "    return 'log_loss', log_loss(labels, preds), True"
   ]
  },
  {
   "cell_type": "markdown",
   "id": "97692243",
   "metadata": {},
   "source": [
    "predictedProbs = pd.DataFrame()\n",
    "trainPredict = np.zeros((X.shape[0],))\n",
    "aucScores = []\n",
    "\n",
    "for i, (trainIdx, valIdx) in enumerate(fold.split(X, y)):\n",
    "    X_train, X_valid = X.iloc[trainIdx], X.iloc[valIdx]\n",
    "    y_train, y_valid = y[trainIdx], y[valIdx]\n",
    "    print(50*'-')\n",
    "    print(f'Fold {i+1} / {CFG.n_splits}' )\n",
    "    model = LGBMClassifier(**CFG.lgbParams,\n",
    "                         random_state= CFG.seed)\n",
    "    model.fit(X_train, y_train,\n",
    "            eval_set=[(X_train, y_train), (X_valid, y_valid)],\n",
    "            early_stopping_rounds=30, verbose=False)\n",
    "    preds = model.predict_proba(X_valid)[:,1]\n",
    "    testPredict = model.predict_proba(X_test)\n",
    "    trainPredict[valIdx] = preds\n",
    "    aucScores.append(roc_auc_score(y_valid, preds))\n",
    "    pred = (preds > 0.5).astype(int)\n",
    "    print(f'FOLD-{i} AUC score :', roc_auc_score(y_valid, preds))\n",
    "    print(f'FOLD-{i} Accuracy score :', accuracy_score(y_valid, pred))\n",
    "    predictedProbs[f'fold_{i}'] = testPredict[:,1]\n",
    "    print(50*'-')\n",
    "print('Average AUC score :', np.mean(aucScores))\n",
    "print('AUC score STD:', np.std(aucScores))\n",
    "print('Train AUC score :', roc_auc_score(y, trainPredict))\n",
    "print('Test AUC score :', roc_auc_score([1 if x > 0.5 else 0 for x in predictedProbs.mean(1)], predictedProbs.mean(1)))\n"
   ]
  },
  {
   "cell_type": "markdown",
   "id": "inside-process",
   "metadata": {},
   "source": [
    "# Scaling and splitting the data"
   ]
  },
  {
   "cell_type": "code",
   "execution_count": 683,
   "id": "equipped-coupon",
   "metadata": {},
   "outputs": [
    {
     "data": {
      "text/html": [
       "<div>\n",
       "<style scoped>\n",
       "    .dataframe tbody tr th:only-of-type {\n",
       "        vertical-align: middle;\n",
       "    }\n",
       "\n",
       "    .dataframe tbody tr th {\n",
       "        vertical-align: top;\n",
       "    }\n",
       "\n",
       "    .dataframe thead th {\n",
       "        text-align: right;\n",
       "    }\n",
       "</style>\n",
       "<table border=\"1\" class=\"dataframe\">\n",
       "  <thead>\n",
       "    <tr style=\"text-align: right;\">\n",
       "      <th></th>\n",
       "      <th>application_id</th>\n",
       "      <th>warning_count</th>\n",
       "      <th>address_check_1</th>\n",
       "      <th>address_check_2</th>\n",
       "      <th>address_check_3</th>\n",
       "      <th>address_check_4</th>\n",
       "      <th>accounts_check_5</th>\n",
       "      <th>accounts_check_6</th>\n",
       "      <th>data_comparison_7</th>\n",
       "      <th>data_comparison_8</th>\n",
       "      <th>...</th>\n",
       "      <th>client_first_lapp_mark_Yes_div_payment_method_METHOD3</th>\n",
       "      <th>client_first_lapp_mark_Yes_div_payment_method_METHOD4</th>\n",
       "      <th>client_first_lapp_mark_Yes_div_client_first_lapp_mark_No</th>\n",
       "      <th>client_first_lapp_mark_Yes_div_client_first_manual_lapp_mark_No</th>\n",
       "      <th>client_first_lapp_mark_Yes_div_client_first_manual_lapp_mark_Yes</th>\n",
       "      <th>client_first_lapp_mark_Yes_div_average_warning_count</th>\n",
       "      <th>client_first_lapp_mark_Yes_div_total_warning_count</th>\n",
       "      <th>client_first_lapp_mark_Yes_div_min_warning_count</th>\n",
       "      <th>client_first_lapp_mark_Yes_div_max_warning_count</th>\n",
       "      <th>client_first_lapp_mark_Yes_div_warning_count_binned_1-4</th>\n",
       "    </tr>\n",
       "  </thead>\n",
       "  <tbody>\n",
       "    <tr>\n",
       "      <th>0</th>\n",
       "      <td>1</td>\n",
       "      <td>2</td>\n",
       "      <td>0</td>\n",
       "      <td>0</td>\n",
       "      <td>0</td>\n",
       "      <td>0</td>\n",
       "      <td>0</td>\n",
       "      <td>0</td>\n",
       "      <td>0</td>\n",
       "      <td>0</td>\n",
       "      <td>...</td>\n",
       "      <td>0.0</td>\n",
       "      <td>0.0</td>\n",
       "      <td>0.0</td>\n",
       "      <td>0.0</td>\n",
       "      <td>1.0</td>\n",
       "      <td>0.5</td>\n",
       "      <td>0.5</td>\n",
       "      <td>0.5</td>\n",
       "      <td>0.5</td>\n",
       "      <td>1.0</td>\n",
       "    </tr>\n",
       "    <tr>\n",
       "      <th>1</th>\n",
       "      <td>2</td>\n",
       "      <td>2</td>\n",
       "      <td>0</td>\n",
       "      <td>0</td>\n",
       "      <td>0</td>\n",
       "      <td>0</td>\n",
       "      <td>0</td>\n",
       "      <td>0</td>\n",
       "      <td>0</td>\n",
       "      <td>0</td>\n",
       "      <td>...</td>\n",
       "      <td>0.0</td>\n",
       "      <td>0.0</td>\n",
       "      <td>0.0</td>\n",
       "      <td>0.0</td>\n",
       "      <td>0.0</td>\n",
       "      <td>0.0</td>\n",
       "      <td>0.0</td>\n",
       "      <td>0.0</td>\n",
       "      <td>0.0</td>\n",
       "      <td>0.0</td>\n",
       "    </tr>\n",
       "    <tr>\n",
       "      <th>2</th>\n",
       "      <td>3</td>\n",
       "      <td>6</td>\n",
       "      <td>0</td>\n",
       "      <td>0</td>\n",
       "      <td>0</td>\n",
       "      <td>0</td>\n",
       "      <td>0</td>\n",
       "      <td>0</td>\n",
       "      <td>0</td>\n",
       "      <td>0</td>\n",
       "      <td>...</td>\n",
       "      <td>0.0</td>\n",
       "      <td>0.0</td>\n",
       "      <td>0.0</td>\n",
       "      <td>0.0</td>\n",
       "      <td>0.0</td>\n",
       "      <td>0.0</td>\n",
       "      <td>0.0</td>\n",
       "      <td>0.0</td>\n",
       "      <td>0.0</td>\n",
       "      <td>0.0</td>\n",
       "    </tr>\n",
       "    <tr>\n",
       "      <th>3</th>\n",
       "      <td>4</td>\n",
       "      <td>7</td>\n",
       "      <td>0</td>\n",
       "      <td>0</td>\n",
       "      <td>0</td>\n",
       "      <td>0</td>\n",
       "      <td>0</td>\n",
       "      <td>0</td>\n",
       "      <td>0</td>\n",
       "      <td>0</td>\n",
       "      <td>...</td>\n",
       "      <td>0.0</td>\n",
       "      <td>0.0</td>\n",
       "      <td>0.0</td>\n",
       "      <td>0.0</td>\n",
       "      <td>0.0</td>\n",
       "      <td>0.0</td>\n",
       "      <td>0.0</td>\n",
       "      <td>0.0</td>\n",
       "      <td>0.0</td>\n",
       "      <td>0.0</td>\n",
       "    </tr>\n",
       "    <tr>\n",
       "      <th>4</th>\n",
       "      <td>5</td>\n",
       "      <td>5</td>\n",
       "      <td>0</td>\n",
       "      <td>0</td>\n",
       "      <td>0</td>\n",
       "      <td>0</td>\n",
       "      <td>0</td>\n",
       "      <td>0</td>\n",
       "      <td>0</td>\n",
       "      <td>0</td>\n",
       "      <td>...</td>\n",
       "      <td>0.0</td>\n",
       "      <td>0.0</td>\n",
       "      <td>0.0</td>\n",
       "      <td>0.0</td>\n",
       "      <td>0.0</td>\n",
       "      <td>0.0</td>\n",
       "      <td>0.0</td>\n",
       "      <td>0.0</td>\n",
       "      <td>0.0</td>\n",
       "      <td>0.0</td>\n",
       "    </tr>\n",
       "  </tbody>\n",
       "</table>\n",
       "<p>5 rows × 123 columns</p>\n",
       "</div>"
      ],
      "text/plain": [
       "   application_id  warning_count  address_check_1  address_check_2  \\\n",
       "0               1              2                0                0   \n",
       "1               2              2                0                0   \n",
       "2               3              6                0                0   \n",
       "3               4              7                0                0   \n",
       "4               5              5                0                0   \n",
       "\n",
       "   address_check_3  address_check_4  accounts_check_5  accounts_check_6  \\\n",
       "0                0                0                 0                 0   \n",
       "1                0                0                 0                 0   \n",
       "2                0                0                 0                 0   \n",
       "3                0                0                 0                 0   \n",
       "4                0                0                 0                 0   \n",
       "\n",
       "   data_comparison_7  data_comparison_8  ...  \\\n",
       "0                  0                  0  ...   \n",
       "1                  0                  0  ...   \n",
       "2                  0                  0  ...   \n",
       "3                  0                  0  ...   \n",
       "4                  0                  0  ...   \n",
       "\n",
       "   client_first_lapp_mark_Yes_div_payment_method_METHOD3  \\\n",
       "0                                                0.0       \n",
       "1                                                0.0       \n",
       "2                                                0.0       \n",
       "3                                                0.0       \n",
       "4                                                0.0       \n",
       "\n",
       "   client_first_lapp_mark_Yes_div_payment_method_METHOD4  \\\n",
       "0                                                0.0       \n",
       "1                                                0.0       \n",
       "2                                                0.0       \n",
       "3                                                0.0       \n",
       "4                                                0.0       \n",
       "\n",
       "   client_first_lapp_mark_Yes_div_client_first_lapp_mark_No  \\\n",
       "0                                                0.0          \n",
       "1                                                0.0          \n",
       "2                                                0.0          \n",
       "3                                                0.0          \n",
       "4                                                0.0          \n",
       "\n",
       "   client_first_lapp_mark_Yes_div_client_first_manual_lapp_mark_No  \\\n",
       "0                                                0.0                 \n",
       "1                                                0.0                 \n",
       "2                                                0.0                 \n",
       "3                                                0.0                 \n",
       "4                                                0.0                 \n",
       "\n",
       "   client_first_lapp_mark_Yes_div_client_first_manual_lapp_mark_Yes  \\\n",
       "0                                                1.0                  \n",
       "1                                                0.0                  \n",
       "2                                                0.0                  \n",
       "3                                                0.0                  \n",
       "4                                                0.0                  \n",
       "\n",
       "   client_first_lapp_mark_Yes_div_average_warning_count  \\\n",
       "0                                                0.5      \n",
       "1                                                0.0      \n",
       "2                                                0.0      \n",
       "3                                                0.0      \n",
       "4                                                0.0      \n",
       "\n",
       "   client_first_lapp_mark_Yes_div_total_warning_count  \\\n",
       "0                                                0.5    \n",
       "1                                                0.0    \n",
       "2                                                0.0    \n",
       "3                                                0.0    \n",
       "4                                                0.0    \n",
       "\n",
       "   client_first_lapp_mark_Yes_div_min_warning_count  \\\n",
       "0                                               0.5   \n",
       "1                                               0.0   \n",
       "2                                               0.0   \n",
       "3                                               0.0   \n",
       "4                                               0.0   \n",
       "\n",
       "   client_first_lapp_mark_Yes_div_max_warning_count  \\\n",
       "0                                               0.5   \n",
       "1                                               0.0   \n",
       "2                                               0.0   \n",
       "3                                               0.0   \n",
       "4                                               0.0   \n",
       "\n",
       "   client_first_lapp_mark_Yes_div_warning_count_binned_1-4  \n",
       "0                                                1.0        \n",
       "1                                                0.0        \n",
       "2                                                0.0        \n",
       "3                                                0.0        \n",
       "4                                                0.0        \n",
       "\n",
       "[5 rows x 123 columns]"
      ]
     },
     "execution_count": 683,
     "metadata": {},
     "output_type": "execute_result"
    }
   ],
   "source": [
    "X.head()"
   ]
  },
  {
   "cell_type": "code",
   "execution_count": 684,
   "id": "right-document",
   "metadata": {},
   "outputs": [],
   "source": [
    "from sklearn.preprocessing import StandardScaler\n",
    "# Identify binary and non-binary columns\n",
    "binary_columns = [col for col in X.columns if X[col].nunique() == 2]\n",
    "non_binary_columns = [col for col in X.columns if col not in binary_columns]\n",
    "\n",
    "# Initialize the scaler\n",
    "scaler = StandardScaler()\n",
    "\n",
    "# Fit and transform the non-binary columns\n",
    "X_scaled = X.copy()\n",
    "X_scaled[non_binary_columns] = scaler.fit_transform(X[non_binary_columns])"
   ]
  },
  {
   "cell_type": "code",
   "execution_count": 685,
   "id": "domestic-metadata",
   "metadata": {},
   "outputs": [
    {
     "data": {
      "text/html": [
       "<div>\n",
       "<style scoped>\n",
       "    .dataframe tbody tr th:only-of-type {\n",
       "        vertical-align: middle;\n",
       "    }\n",
       "\n",
       "    .dataframe tbody tr th {\n",
       "        vertical-align: top;\n",
       "    }\n",
       "\n",
       "    .dataframe thead th {\n",
       "        text-align: right;\n",
       "    }\n",
       "</style>\n",
       "<table border=\"1\" class=\"dataframe\">\n",
       "  <thead>\n",
       "    <tr style=\"text-align: right;\">\n",
       "      <th></th>\n",
       "      <th>application_id</th>\n",
       "      <th>warning_count</th>\n",
       "      <th>address_check_1</th>\n",
       "      <th>address_check_2</th>\n",
       "      <th>address_check_3</th>\n",
       "      <th>address_check_4</th>\n",
       "      <th>accounts_check_5</th>\n",
       "      <th>accounts_check_6</th>\n",
       "      <th>data_comparison_7</th>\n",
       "      <th>data_comparison_8</th>\n",
       "      <th>...</th>\n",
       "      <th>client_first_lapp_mark_Yes_div_payment_method_METHOD3</th>\n",
       "      <th>client_first_lapp_mark_Yes_div_payment_method_METHOD4</th>\n",
       "      <th>client_first_lapp_mark_Yes_div_client_first_lapp_mark_No</th>\n",
       "      <th>client_first_lapp_mark_Yes_div_client_first_manual_lapp_mark_No</th>\n",
       "      <th>client_first_lapp_mark_Yes_div_client_first_manual_lapp_mark_Yes</th>\n",
       "      <th>client_first_lapp_mark_Yes_div_average_warning_count</th>\n",
       "      <th>client_first_lapp_mark_Yes_div_total_warning_count</th>\n",
       "      <th>client_first_lapp_mark_Yes_div_min_warning_count</th>\n",
       "      <th>client_first_lapp_mark_Yes_div_max_warning_count</th>\n",
       "      <th>client_first_lapp_mark_Yes_div_warning_count_binned_1-4</th>\n",
       "    </tr>\n",
       "  </thead>\n",
       "  <tbody>\n",
       "    <tr>\n",
       "      <th>0</th>\n",
       "      <td>-1.731876</td>\n",
       "      <td>-1.319225</td>\n",
       "      <td>0</td>\n",
       "      <td>0</td>\n",
       "      <td>0</td>\n",
       "      <td>0</td>\n",
       "      <td>0</td>\n",
       "      <td>0</td>\n",
       "      <td>0</td>\n",
       "      <td>0</td>\n",
       "      <td>...</td>\n",
       "      <td>0.0</td>\n",
       "      <td>0.0</td>\n",
       "      <td>0.0</td>\n",
       "      <td>0.0</td>\n",
       "      <td>1.0</td>\n",
       "      <td>1.913200</td>\n",
       "      <td>1.913200</td>\n",
       "      <td>1.913200</td>\n",
       "      <td>1.913200</td>\n",
       "      <td>1.0</td>\n",
       "    </tr>\n",
       "    <tr>\n",
       "      <th>1</th>\n",
       "      <td>-1.731526</td>\n",
       "      <td>-1.319225</td>\n",
       "      <td>0</td>\n",
       "      <td>0</td>\n",
       "      <td>0</td>\n",
       "      <td>0</td>\n",
       "      <td>0</td>\n",
       "      <td>0</td>\n",
       "      <td>0</td>\n",
       "      <td>0</td>\n",
       "      <td>...</td>\n",
       "      <td>0.0</td>\n",
       "      <td>0.0</td>\n",
       "      <td>0.0</td>\n",
       "      <td>0.0</td>\n",
       "      <td>0.0</td>\n",
       "      <td>-0.697611</td>\n",
       "      <td>-0.697611</td>\n",
       "      <td>-0.697611</td>\n",
       "      <td>-0.697611</td>\n",
       "      <td>0.0</td>\n",
       "    </tr>\n",
       "    <tr>\n",
       "      <th>2</th>\n",
       "      <td>-1.731176</td>\n",
       "      <td>0.363142</td>\n",
       "      <td>0</td>\n",
       "      <td>0</td>\n",
       "      <td>0</td>\n",
       "      <td>0</td>\n",
       "      <td>0</td>\n",
       "      <td>0</td>\n",
       "      <td>0</td>\n",
       "      <td>0</td>\n",
       "      <td>...</td>\n",
       "      <td>0.0</td>\n",
       "      <td>0.0</td>\n",
       "      <td>0.0</td>\n",
       "      <td>0.0</td>\n",
       "      <td>0.0</td>\n",
       "      <td>-0.697611</td>\n",
       "      <td>-0.697611</td>\n",
       "      <td>-0.697611</td>\n",
       "      <td>-0.697611</td>\n",
       "      <td>0.0</td>\n",
       "    </tr>\n",
       "    <tr>\n",
       "      <th>3</th>\n",
       "      <td>-1.730826</td>\n",
       "      <td>0.783734</td>\n",
       "      <td>0</td>\n",
       "      <td>0</td>\n",
       "      <td>0</td>\n",
       "      <td>0</td>\n",
       "      <td>0</td>\n",
       "      <td>0</td>\n",
       "      <td>0</td>\n",
       "      <td>0</td>\n",
       "      <td>...</td>\n",
       "      <td>0.0</td>\n",
       "      <td>0.0</td>\n",
       "      <td>0.0</td>\n",
       "      <td>0.0</td>\n",
       "      <td>0.0</td>\n",
       "      <td>-0.697611</td>\n",
       "      <td>-0.697611</td>\n",
       "      <td>-0.697611</td>\n",
       "      <td>-0.697611</td>\n",
       "      <td>0.0</td>\n",
       "    </tr>\n",
       "    <tr>\n",
       "      <th>4</th>\n",
       "      <td>-1.730476</td>\n",
       "      <td>-0.057450</td>\n",
       "      <td>0</td>\n",
       "      <td>0</td>\n",
       "      <td>0</td>\n",
       "      <td>0</td>\n",
       "      <td>0</td>\n",
       "      <td>0</td>\n",
       "      <td>0</td>\n",
       "      <td>0</td>\n",
       "      <td>...</td>\n",
       "      <td>0.0</td>\n",
       "      <td>0.0</td>\n",
       "      <td>0.0</td>\n",
       "      <td>0.0</td>\n",
       "      <td>0.0</td>\n",
       "      <td>-0.697611</td>\n",
       "      <td>-0.697611</td>\n",
       "      <td>-0.697611</td>\n",
       "      <td>-0.697611</td>\n",
       "      <td>0.0</td>\n",
       "    </tr>\n",
       "  </tbody>\n",
       "</table>\n",
       "<p>5 rows × 123 columns</p>\n",
       "</div>"
      ],
      "text/plain": [
       "   application_id  warning_count  address_check_1  address_check_2  \\\n",
       "0       -1.731876      -1.319225                0                0   \n",
       "1       -1.731526      -1.319225                0                0   \n",
       "2       -1.731176       0.363142                0                0   \n",
       "3       -1.730826       0.783734                0                0   \n",
       "4       -1.730476      -0.057450                0                0   \n",
       "\n",
       "   address_check_3  address_check_4  accounts_check_5  accounts_check_6  \\\n",
       "0                0                0                 0                 0   \n",
       "1                0                0                 0                 0   \n",
       "2                0                0                 0                 0   \n",
       "3                0                0                 0                 0   \n",
       "4                0                0                 0                 0   \n",
       "\n",
       "   data_comparison_7  data_comparison_8  ...  \\\n",
       "0                  0                  0  ...   \n",
       "1                  0                  0  ...   \n",
       "2                  0                  0  ...   \n",
       "3                  0                  0  ...   \n",
       "4                  0                  0  ...   \n",
       "\n",
       "   client_first_lapp_mark_Yes_div_payment_method_METHOD3  \\\n",
       "0                                                0.0       \n",
       "1                                                0.0       \n",
       "2                                                0.0       \n",
       "3                                                0.0       \n",
       "4                                                0.0       \n",
       "\n",
       "   client_first_lapp_mark_Yes_div_payment_method_METHOD4  \\\n",
       "0                                                0.0       \n",
       "1                                                0.0       \n",
       "2                                                0.0       \n",
       "3                                                0.0       \n",
       "4                                                0.0       \n",
       "\n",
       "   client_first_lapp_mark_Yes_div_client_first_lapp_mark_No  \\\n",
       "0                                                0.0          \n",
       "1                                                0.0          \n",
       "2                                                0.0          \n",
       "3                                                0.0          \n",
       "4                                                0.0          \n",
       "\n",
       "   client_first_lapp_mark_Yes_div_client_first_manual_lapp_mark_No  \\\n",
       "0                                                0.0                 \n",
       "1                                                0.0                 \n",
       "2                                                0.0                 \n",
       "3                                                0.0                 \n",
       "4                                                0.0                 \n",
       "\n",
       "   client_first_lapp_mark_Yes_div_client_first_manual_lapp_mark_Yes  \\\n",
       "0                                                1.0                  \n",
       "1                                                0.0                  \n",
       "2                                                0.0                  \n",
       "3                                                0.0                  \n",
       "4                                                0.0                  \n",
       "\n",
       "   client_first_lapp_mark_Yes_div_average_warning_count  \\\n",
       "0                                           1.913200      \n",
       "1                                          -0.697611      \n",
       "2                                          -0.697611      \n",
       "3                                          -0.697611      \n",
       "4                                          -0.697611      \n",
       "\n",
       "   client_first_lapp_mark_Yes_div_total_warning_count  \\\n",
       "0                                           1.913200    \n",
       "1                                          -0.697611    \n",
       "2                                          -0.697611    \n",
       "3                                          -0.697611    \n",
       "4                                          -0.697611    \n",
       "\n",
       "   client_first_lapp_mark_Yes_div_min_warning_count  \\\n",
       "0                                          1.913200   \n",
       "1                                         -0.697611   \n",
       "2                                         -0.697611   \n",
       "3                                         -0.697611   \n",
       "4                                         -0.697611   \n",
       "\n",
       "   client_first_lapp_mark_Yes_div_max_warning_count  \\\n",
       "0                                          1.913200   \n",
       "1                                         -0.697611   \n",
       "2                                         -0.697611   \n",
       "3                                         -0.697611   \n",
       "4                                         -0.697611   \n",
       "\n",
       "   client_first_lapp_mark_Yes_div_warning_count_binned_1-4  \n",
       "0                                                1.0        \n",
       "1                                                0.0        \n",
       "2                                                0.0        \n",
       "3                                                0.0        \n",
       "4                                                0.0        \n",
       "\n",
       "[5 rows x 123 columns]"
      ]
     },
     "execution_count": 685,
     "metadata": {},
     "output_type": "execute_result"
    }
   ],
   "source": [
    "X_scaled.head()"
   ]
  },
  {
   "cell_type": "code",
   "execution_count": 686,
   "id": "7b82f638",
   "metadata": {},
   "outputs": [],
   "source": [
    "X_train, X_test, y_train, y_test = train_test_split(X_scaled, y, test_size=0.1, random_state=42)"
   ]
  },
  {
   "cell_type": "code",
   "execution_count": 687,
   "id": "cooked-citation",
   "metadata": {},
   "outputs": [
    {
     "data": {
      "text/plain": [
       "(990, 123)"
      ]
     },
     "execution_count": 687,
     "metadata": {},
     "output_type": "execute_result"
    }
   ],
   "source": [
    "X_test.shape"
   ]
  },
  {
   "cell_type": "markdown",
   "id": "sound-african",
   "metadata": {},
   "source": [
    "from imblearn.combine import SMOTEENN\n",
    "smote_enn = SMOTEENN(random_state=42)\n",
    "X_train_resampled, y_train_resampled = smote_enn.fit_resample(X_train, y_train)"
   ]
  },
  {
   "cell_type": "markdown",
   "id": "automated-authority",
   "metadata": {},
   "source": [
    "X_train_resampled.shape, y_train_resampled.shape "
   ]
  },
  {
   "cell_type": "markdown",
   "id": "maritime-small",
   "metadata": {},
   "source": [
    "minority_indices = np.where(y == 1)[0]\n",
    "majority_indices = np.where(y == 0)[0]\n",
    "len(majority_indices),len(minority_indices)"
   ]
  },
  {
   "cell_type": "markdown",
   "id": "rubber-pixel",
   "metadata": {},
   "source": [
    "import numpy as np\n",
    "# Define the proportion of minority class samples to keep in the test set\n",
    "minority_proportion = 0.85 # 80% of minority class samples in the test set\n",
    "\n",
    "# Get indices for minority and majority class\n",
    "minority_indices = np.where(y == 1)[0]\n",
    "majority_indices = np.where(y == 0)[0]\n",
    "\n",
    "# Split minority class\n",
    "X_minority_train, X_minority_test, y_minority_train, y_minority_test = train_test_split(\n",
    "    X.iloc[minority_indices], y.iloc[minority_indices], \n",
    "    test_size=1 - minority_proportion, \n",
    "    random_state=42\n",
    ")\n",
    "\n",
    "# Split majority class with the remaining proportion\n",
    "X_majority_train, X_majority_test, y_majority_train, y_majority_test = train_test_split(\n",
    "    X.iloc[majority_indices], y.iloc[majority_indices], \n",
    "    test_size=0.2,  # Adjust if needed; ensure overall split is balanced\n",
    "    random_state=42\n",
    ")\n",
    "\n",
    "# Combine the splits\n",
    "X_train = np.vstack((X_minority_train, X_majority_train))\n",
    "y_train = np.concatenate((y_minority_train, y_majority_train))\n",
    "\n",
    "X_test = np.vstack((X_minority_test, X_majority_test))\n",
    "y_test = np.concatenate((y_minority_test, y_majority_test))"
   ]
  },
  {
   "cell_type": "markdown",
   "id": "11b4ad93",
   "metadata": {},
   "source": [
    "# Evaluation Metrics"
   ]
  },
  {
   "cell_type": "code",
   "execution_count": 688,
   "id": "1a4ec038",
   "metadata": {},
   "outputs": [],
   "source": [
    "# Function to compute confusion matrix\n",
    "def conf_mat(y_test, y_pred):\n",
    "    \"\"\"\n",
    "    Computes confusion matrix\n",
    "    Args:\n",
    "      y_test (array_like): true binary (0 or 1) labels\n",
    "      y_pred (array_like): predicted binary (0 or 1) labels\n",
    "    Returns:\n",
    "      confusion_mat (array): A 2D array representing a 2x2 confusion matrix\n",
    "    \"\"\"\n",
    "    y_test, y_pred = list(y_test), list(y_pred)\n",
    "    count, labels, confusion_mat = len(y_test), [0, 1], np.zeros(shape = (2, 2), dtype = int)\n",
    "    for i in range(2):\n",
    "        for j in range(2):\n",
    "            confusion_mat[i][j] = len([k for k in range(count) if y_test[k] == labels[i] and y_pred[k] == labels[j]])\n",
    "    return confusion_mat"
   ]
  },
  {
   "cell_type": "code",
   "execution_count": 689,
   "id": "5a198034",
   "metadata": {},
   "outputs": [],
   "source": [
    "# Function to compute and print evaluation metrics\n",
    "def evaluation1(y_test, y_pred):\n",
    "    confusion_mat = conf_mat(y_test, y_pred)\n",
    "    tn, fp, fn, tp = confusion_mat[0, 0], confusion_mat[0, 1], confusion_mat[1, 0], confusion_mat[1, 1]\n",
    "    Accuracy=(tp + tn) / (tn + fp + fn + tp)\n",
    "    Precision=tp / (tp + fp)\n",
    "    Recall= tp / (tp + fn)\n",
    "    F1_score= (2 * tp) / ((2 * tp) + fn + fp)\n",
    "    return Accuracy,Precision,Recall,F1_score"
   ]
  },
  {
   "cell_type": "code",
   "execution_count": 690,
   "id": "4ed930f2",
   "metadata": {},
   "outputs": [],
   "source": [
    "# Function to compute and print evaluation metrics\n",
    "def evaluation2(y_test, y_pred):\n",
    "    confusion_mat = conf_mat(y_test, y_pred)\n",
    "    tn, fp, fn, tp = confusion_mat[0, 0], confusion_mat[0, 1], confusion_mat[1, 0], confusion_mat[1, 1]\n",
    "    print(pd.Series({\n",
    "        \"Accuracy\": (tp + tn) / (tn + fp + fn + tp),\n",
    "        \"Precision\": tp / (tp + fp),\n",
    "        \"Recall\": tp / (tp + fn),\n",
    "        \"F1-score\": (2 * tp) / ((2 * tp) + fn + fp)\n",
    "    }).to_string())"
   ]
  },
  {
   "cell_type": "code",
   "execution_count": 691,
   "id": "honest-hanging",
   "metadata": {},
   "outputs": [
    {
     "name": "stdout",
     "output_type": "stream",
     "text": [
      "Value: 0, Count: 639\n",
      "Value: 1, Count: 351\n"
     ]
    }
   ],
   "source": [
    "unique_values, counts = np.unique(y_test, return_counts=True)\n",
    "\n",
    "# Print unique values and their counts\n",
    "for value, count in zip(unique_values, counts):\n",
    "    print(f'Value: {value}, Count: {count}')"
   ]
  },
  {
   "cell_type": "code",
   "execution_count": 692,
   "id": "endangered-opinion",
   "metadata": {},
   "outputs": [],
   "source": [
    "unique_values, counts = np.unique(y_test[1320:1980], return_counts=True)\n",
    "\n",
    "# Print unique values and their counts\n",
    "for value, count in zip(unique_values, counts):\n",
    "    print(f'Value: {value}, Count: {count}')"
   ]
  },
  {
   "cell_type": "code",
   "execution_count": 693,
   "id": "rapid-blink",
   "metadata": {},
   "outputs": [],
   "source": [
    "X_train1= pd.concat([X_train, X_test[660:]], axis=0)\n",
    "y_train1= pd.concat([y_train, y_test[660:]], axis=0)\n",
    "X_test1=X_test[:660]\n",
    "y_test1=y_test[:660]"
   ]
  },
  {
   "cell_type": "code",
   "execution_count": 694,
   "id": "white-turner",
   "metadata": {},
   "outputs": [
    {
     "data": {
      "text/plain": [
       "(10396, 56)"
      ]
     },
     "execution_count": 694,
     "metadata": {},
     "output_type": "execute_result"
    }
   ],
   "source": [
    "X_train_scaled.shape"
   ]
  },
  {
   "cell_type": "markdown",
   "id": "fatal-watson",
   "metadata": {},
   "source": [
    "X_train=X_train_resampled\n",
    "y_train=y_train_resampled"
   ]
  },
  {
   "cell_type": "code",
   "execution_count": 695,
   "id": "grave-diamond",
   "metadata": {},
   "outputs": [
    {
     "data": {
      "text/html": [
       "<style>#sk-container-id-20 {color: black;}#sk-container-id-20 pre{padding: 0;}#sk-container-id-20 div.sk-toggleable {background-color: white;}#sk-container-id-20 label.sk-toggleable__label {cursor: pointer;display: block;width: 100%;margin-bottom: 0;padding: 0.3em;box-sizing: border-box;text-align: center;}#sk-container-id-20 label.sk-toggleable__label-arrow:before {content: \"▸\";float: left;margin-right: 0.25em;color: #696969;}#sk-container-id-20 label.sk-toggleable__label-arrow:hover:before {color: black;}#sk-container-id-20 div.sk-estimator:hover label.sk-toggleable__label-arrow:before {color: black;}#sk-container-id-20 div.sk-toggleable__content {max-height: 0;max-width: 0;overflow: hidden;text-align: left;background-color: #f0f8ff;}#sk-container-id-20 div.sk-toggleable__content pre {margin: 0.2em;color: black;border-radius: 0.25em;background-color: #f0f8ff;}#sk-container-id-20 input.sk-toggleable__control:checked~div.sk-toggleable__content {max-height: 200px;max-width: 100%;overflow: auto;}#sk-container-id-20 input.sk-toggleable__control:checked~label.sk-toggleable__label-arrow:before {content: \"▾\";}#sk-container-id-20 div.sk-estimator input.sk-toggleable__control:checked~label.sk-toggleable__label {background-color: #d4ebff;}#sk-container-id-20 div.sk-label input.sk-toggleable__control:checked~label.sk-toggleable__label {background-color: #d4ebff;}#sk-container-id-20 input.sk-hidden--visually {border: 0;clip: rect(1px 1px 1px 1px);clip: rect(1px, 1px, 1px, 1px);height: 1px;margin: -1px;overflow: hidden;padding: 0;position: absolute;width: 1px;}#sk-container-id-20 div.sk-estimator {font-family: monospace;background-color: #f0f8ff;border: 1px dotted black;border-radius: 0.25em;box-sizing: border-box;margin-bottom: 0.5em;}#sk-container-id-20 div.sk-estimator:hover {background-color: #d4ebff;}#sk-container-id-20 div.sk-parallel-item::after {content: \"\";width: 100%;border-bottom: 1px solid gray;flex-grow: 1;}#sk-container-id-20 div.sk-label:hover label.sk-toggleable__label {background-color: #d4ebff;}#sk-container-id-20 div.sk-serial::before {content: \"\";position: absolute;border-left: 1px solid gray;box-sizing: border-box;top: 0;bottom: 0;left: 50%;z-index: 0;}#sk-container-id-20 div.sk-serial {display: flex;flex-direction: column;align-items: center;background-color: white;padding-right: 0.2em;padding-left: 0.2em;position: relative;}#sk-container-id-20 div.sk-item {position: relative;z-index: 1;}#sk-container-id-20 div.sk-parallel {display: flex;align-items: stretch;justify-content: center;background-color: white;position: relative;}#sk-container-id-20 div.sk-item::before, #sk-container-id-20 div.sk-parallel-item::before {content: \"\";position: absolute;border-left: 1px solid gray;box-sizing: border-box;top: 0;bottom: 0;left: 50%;z-index: -1;}#sk-container-id-20 div.sk-parallel-item {display: flex;flex-direction: column;z-index: 1;position: relative;background-color: white;}#sk-container-id-20 div.sk-parallel-item:first-child::after {align-self: flex-end;width: 50%;}#sk-container-id-20 div.sk-parallel-item:last-child::after {align-self: flex-start;width: 50%;}#sk-container-id-20 div.sk-parallel-item:only-child::after {width: 0;}#sk-container-id-20 div.sk-dashed-wrapped {border: 1px dashed gray;margin: 0 0.4em 0.5em 0.4em;box-sizing: border-box;padding-bottom: 0.4em;background-color: white;}#sk-container-id-20 div.sk-label label {font-family: monospace;font-weight: bold;display: inline-block;line-height: 1.2em;}#sk-container-id-20 div.sk-label-container {text-align: center;}#sk-container-id-20 div.sk-container {/* jupyter's `normalize.less` sets `[hidden] { display: none; }` but bootstrap.min.css set `[hidden] { display: none !important; }` so we also need the `!important` here to be able to override the default hidden behavior on the sphinx rendered scikit-learn.org. See: https://github.com/scikit-learn/scikit-learn/issues/21755 */display: inline-block !important;position: relative;}#sk-container-id-20 div.sk-text-repr-fallback {display: none;}</style><div id=\"sk-container-id-20\" class=\"sk-top-container\"><div class=\"sk-text-repr-fallback\"><pre>RandomForestClassifier(criterion=&#x27;entropy&#x27;, max_features=0.7098776713187133,\n",
       "                       max_leaf_nodes=158, n_estimators=342, n_jobs=-1)</pre><b>In a Jupyter environment, please rerun this cell to show the HTML representation or trust the notebook. <br />On GitHub, the HTML representation is unable to render, please try loading this page with nbviewer.org.</b></div><div class=\"sk-container\" hidden><div class=\"sk-item\"><div class=\"sk-estimator sk-toggleable\"><input class=\"sk-toggleable__control sk-hidden--visually\" id=\"sk-estimator-id-20\" type=\"checkbox\" checked><label for=\"sk-estimator-id-20\" class=\"sk-toggleable__label sk-toggleable__label-arrow\">RandomForestClassifier</label><div class=\"sk-toggleable__content\"><pre>RandomForestClassifier(criterion=&#x27;entropy&#x27;, max_features=0.7098776713187133,\n",
       "                       max_leaf_nodes=158, n_estimators=342, n_jobs=-1)</pre></div></div></div></div></div>"
      ],
      "text/plain": [
       "RandomForestClassifier(criterion='entropy', max_features=0.7098776713187133,\n",
       "                       max_leaf_nodes=158, n_estimators=342, n_jobs=-1)"
      ]
     },
     "execution_count": 695,
     "metadata": {},
     "output_type": "execute_result"
    }
   ],
   "source": [
    "from sklearn.ensemble import RandomForestClassifier\n",
    "model=RandomForestClassifier(criterion='entropy', max_features=0.7098776713187133,\n",
    "                       max_leaf_nodes=158, n_estimators=342, n_jobs=-1)\n",
    "model.fit(X_train, y_train)"
   ]
  },
  {
   "cell_type": "code",
   "execution_count": 699,
   "id": "arranged-instrumentation",
   "metadata": {},
   "outputs": [],
   "source": [
    "pred5=model.predict(X_test)"
   ]
  },
  {
   "cell_type": "code",
   "execution_count": 700,
   "id": "5794c214",
   "metadata": {},
   "outputs": [
    {
     "name": "stdout",
     "output_type": "stream",
     "text": [
      "Accuracy     0.744444\n",
      "Precision    0.675000\n",
      "Recall       0.538462\n",
      "F1-score     0.599049\n"
     ]
    }
   ],
   "source": [
    "evaluation2(y_test, pred5)"
   ]
  },
  {
   "cell_type": "code",
   "execution_count": 701,
   "id": "surface-asbestos",
   "metadata": {},
   "outputs": [
    {
     "name": "stdout",
     "output_type": "stream",
     "text": [
      "Accuracy: 0.7444\n"
     ]
    },
    {
     "data": {
      "image/png": "[encoded data removed]",
      "text/plain": [
       "<Figure size 432x360 with 2 Axes>"
      ]
     },
     "metadata": {
      "needs_background": "light"
     },
     "output_type": "display_data"
    }
   ],
   "source": [
    "import matplotlib.pyplot as plt\n",
    "from sklearn.metrics import confusion_matrix\n",
    "from sklearn.metrics import accuracy_score\n",
    "\n",
    "# Assuming y_test and y_pred are already defined as your true labels and predictions\n",
    "accuracy = accuracy_score(y_test, pred5)\n",
    "print(f'Accuracy: {accuracy:.4f}')\n",
    "cm = confusion_matrix(y_test, pred5)\n",
    "\n",
    "# Normalize confusion matrix\n",
    "cmn = cm.astype('float') / cm.sum(axis=1)[:, np.newaxis]\n",
    "\n",
    "# Plot heatmap using matplotlib\n",
    "plt.figure(figsize=(6, 5))\n",
    "plt.imshow(cmn, interpolation='nearest', cmap='Blues')\n",
    "\n",
    "# Add text annotations\n",
    "for i in range(cmn.shape[0]):\n",
    "    for j in range(cmn.shape[1]):\n",
    "        plt.text(j, i, format(cmn[i, j], '.2f'), horizontalalignment=\"center\", color=\"black\")\n",
    "\n",
    "plt.colorbar()\n",
    "plt.title('Confusion Matrix: LGBM')\n",
    "\n",
    "# Disable x and y ticks\n",
    "plt.xticks([])\n",
    "plt.yticks([])\n",
    "plt.savefig(\"exp29.pdf\", format=\"pdf\", bbox_inches=\"tight\",dpi=1000)\n",
    "plt.show()"
   ]
  },
  {
   "cell_type": "markdown",
   "id": "ea55e199",
   "metadata": {},
   "source": [
    "#  (a) FLAML: RF"
   ]
  },
  {
   "cell_type": "code",
   "execution_count": 745,
   "id": "e8294a87",
   "metadata": {},
   "outputs": [
    {
     "name": "stderr",
     "output_type": "stream",
     "text": [
      "[flaml.automl: 07-31 11:47:26] {2599} INFO - task = classification\n",
      "[flaml.automl: 07-31 11:47:26] {2601} INFO - Data split method: stratified\n",
      "[flaml.automl: 07-31 11:47:26] {2604} INFO - Evaluation method: holdout\n",
      "[flaml.automl: 07-31 11:47:26] {2726} INFO - Minimizing error metric: 1-f1\n",
      "[flaml.automl: 07-31 11:47:26] {2870} INFO - List of ML learners in AutoML Run: ['rf']\n",
      "[flaml.automl: 07-31 11:47:26] {3166} INFO - iteration 0, current learner rf\n",
      "[flaml.automl: 07-31 11:47:26] {3296} INFO - Estimated sufficient time budget=870s. Estimated necessary time budget=1s.\n",
      "[flaml.automl: 07-31 11:47:26] {3343} INFO -  at 0.5s,\testimator rf's best error=0.6253,\tbest estimator rf's best error=0.6253\n",
      "[flaml.automl: 07-31 11:47:26] {3166} INFO - iteration 1, current learner rf\n",
      "[flaml.automl: 07-31 11:47:26] {3343} INFO -  at 0.6s,\testimator rf's best error=0.6253,\tbest estimator rf's best error=0.6253\n",
      "[flaml.automl: 07-31 11:47:26] {3166} INFO - iteration 2, current learner rf\n",
      "[flaml.automl: 07-31 11:47:26] {3343} INFO -  at 0.7s,\testimator rf's best error=0.6253,\tbest estimator rf's best error=0.6253\n",
      "[flaml.automl: 07-31 11:47:26] {3166} INFO - iteration 3, current learner rf\n",
      "[flaml.automl: 07-31 11:47:27] {3343} INFO -  at 0.9s,\testimator rf's best error=0.6253,\tbest estimator rf's best error=0.6253\n",
      "[flaml.automl: 07-31 11:47:27] {3166} INFO - iteration 4, current learner rf\n",
      "[flaml.automl: 07-31 11:47:27] {3343} INFO -  at 1.0s,\testimator rf's best error=0.5362,\tbest estimator rf's best error=0.5362\n",
      "[flaml.automl: 07-31 11:47:27] {3166} INFO - iteration 5, current learner rf\n",
      "[flaml.automl: 07-31 11:47:27] {3343} INFO -  at 1.2s,\testimator rf's best error=0.5362,\tbest estimator rf's best error=0.5362\n",
      "[flaml.automl: 07-31 11:47:27] {3166} INFO - iteration 6, current learner rf\n",
      "[flaml.automl: 07-31 11:47:27] {3343} INFO -  at 1.3s,\testimator rf's best error=0.5362,\tbest estimator rf's best error=0.5362\n",
      "[flaml.automl: 07-31 11:47:27] {3166} INFO - iteration 7, current learner rf\n",
      "[flaml.automl: 07-31 11:47:27] {3343} INFO -  at 1.4s,\testimator rf's best error=0.5362,\tbest estimator rf's best error=0.5362\n",
      "[flaml.automl: 07-31 11:47:27] {3166} INFO - iteration 8, current learner rf\n",
      "[flaml.automl: 07-31 11:47:27] {3343} INFO -  at 1.6s,\testimator rf's best error=0.5362,\tbest estimator rf's best error=0.5362\n",
      "[flaml.automl: 07-31 11:47:27] {3166} INFO - iteration 9, current learner rf\n",
      "[flaml.automl: 07-31 11:47:28] {3343} INFO -  at 1.8s,\testimator rf's best error=0.5091,\tbest estimator rf's best error=0.5091\n",
      "[flaml.automl: 07-31 11:47:28] {3166} INFO - iteration 10, current learner rf\n",
      "[flaml.automl: 07-31 11:47:28] {3343} INFO -  at 1.9s,\testimator rf's best error=0.5091,\tbest estimator rf's best error=0.5091\n",
      "[flaml.automl: 07-31 11:47:28] {3166} INFO - iteration 11, current learner rf\n",
      "[flaml.automl: 07-31 11:47:28] {3343} INFO -  at 2.1s,\testimator rf's best error=0.5091,\tbest estimator rf's best error=0.5091\n",
      "[flaml.automl: 07-31 11:47:28] {3166} INFO - iteration 12, current learner rf\n",
      "[flaml.automl: 07-31 11:47:28] {3343} INFO -  at 2.3s,\testimator rf's best error=0.4990,\tbest estimator rf's best error=0.4990\n",
      "[flaml.automl: 07-31 11:47:28] {3166} INFO - iteration 13, current learner rf\n",
      "[flaml.automl: 07-31 11:47:28] {3343} INFO -  at 2.4s,\testimator rf's best error=0.4990,\tbest estimator rf's best error=0.4990\n",
      "[flaml.automl: 07-31 11:47:28] {3166} INFO - iteration 14, current learner rf\n",
      "[flaml.automl: 07-31 11:47:28] {3343} INFO -  at 2.6s,\testimator rf's best error=0.4784,\tbest estimator rf's best error=0.4784\n",
      "[flaml.automl: 07-31 11:47:28] {3166} INFO - iteration 15, current learner rf\n",
      "[flaml.automl: 07-31 11:47:29] {3343} INFO -  at 2.8s,\testimator rf's best error=0.4784,\tbest estimator rf's best error=0.4784\n",
      "[flaml.automl: 07-31 11:47:29] {3166} INFO - iteration 16, current learner rf\n",
      "[flaml.automl: 07-31 11:47:29] {3343} INFO -  at 3.0s,\testimator rf's best error=0.4535,\tbest estimator rf's best error=0.4535\n",
      "[flaml.automl: 07-31 11:47:29] {3166} INFO - iteration 17, current learner rf\n",
      "[flaml.automl: 07-31 11:47:29] {3343} INFO -  at 3.3s,\testimator rf's best error=0.4535,\tbest estimator rf's best error=0.4535\n",
      "[flaml.automl: 07-31 11:47:29] {3166} INFO - iteration 18, current learner rf\n",
      "[flaml.automl: 07-31 11:47:29] {3343} INFO -  at 3.5s,\testimator rf's best error=0.4535,\tbest estimator rf's best error=0.4535\n",
      "[flaml.automl: 07-31 11:47:29] {3166} INFO - iteration 19, current learner rf\n",
      "[flaml.automl: 07-31 11:47:29] {3343} INFO -  at 3.7s,\testimator rf's best error=0.4333,\tbest estimator rf's best error=0.4333\n",
      "[flaml.automl: 07-31 11:47:29] {3166} INFO - iteration 20, current learner rf\n",
      "[flaml.automl: 07-31 11:47:30] {3343} INFO -  at 4.0s,\testimator rf's best error=0.4333,\tbest estimator rf's best error=0.4333\n",
      "[flaml.automl: 07-31 11:47:30] {3166} INFO - iteration 21, current learner rf\n",
      "[flaml.automl: 07-31 11:47:30] {3343} INFO -  at 4.2s,\testimator rf's best error=0.4333,\tbest estimator rf's best error=0.4333\n",
      "[flaml.automl: 07-31 11:47:30] {3166} INFO - iteration 22, current learner rf\n",
      "[flaml.automl: 07-31 11:47:30] {3343} INFO -  at 4.4s,\testimator rf's best error=0.4333,\tbest estimator rf's best error=0.4333\n",
      "[flaml.automl: 07-31 11:47:30] {3166} INFO - iteration 23, current learner rf\n",
      "[flaml.automl: 07-31 11:47:30] {3343} INFO -  at 4.5s,\testimator rf's best error=0.4333,\tbest estimator rf's best error=0.4333\n",
      "[flaml.automl: 07-31 11:47:30] {3166} INFO - iteration 24, current learner rf\n",
      "[flaml.automl: 07-31 11:47:31] {3343} INFO -  at 4.9s,\testimator rf's best error=0.4333,\tbest estimator rf's best error=0.4333\n",
      "[flaml.automl: 07-31 11:47:31] {3166} INFO - iteration 25, current learner rf\n",
      "[flaml.automl: 07-31 11:47:31] {3343} INFO -  at 5.1s,\testimator rf's best error=0.4333,\tbest estimator rf's best error=0.4333\n",
      "[flaml.automl: 07-31 11:47:31] {3166} INFO - iteration 26, current learner rf\n",
      "[flaml.automl: 07-31 11:47:31] {3343} INFO -  at 5.4s,\testimator rf's best error=0.4142,\tbest estimator rf's best error=0.4142\n",
      "[flaml.automl: 07-31 11:47:31] {3166} INFO - iteration 27, current learner rf\n",
      "[flaml.automl: 07-31 11:47:31] {3343} INFO -  at 5.5s,\testimator rf's best error=0.4142,\tbest estimator rf's best error=0.4142\n",
      "[flaml.automl: 07-31 11:47:31] {3166} INFO - iteration 28, current learner rf\n",
      "[flaml.automl: 07-31 11:47:32] {3343} INFO -  at 5.8s,\testimator rf's best error=0.4142,\tbest estimator rf's best error=0.4142\n",
      "[flaml.automl: 07-31 11:47:32] {3166} INFO - iteration 29, current learner rf\n",
      "[flaml.automl: 07-31 11:47:32] {3343} INFO -  at 6.0s,\testimator rf's best error=0.4142,\tbest estimator rf's best error=0.4142\n",
      "[flaml.automl: 07-31 11:47:32] {3166} INFO - iteration 30, current learner rf\n",
      "[flaml.automl: 07-31 11:47:32] {3343} INFO -  at 6.4s,\testimator rf's best error=0.4142,\tbest estimator rf's best error=0.4142\n",
      "[flaml.automl: 07-31 11:47:32] {3166} INFO - iteration 31, current learner rf\n",
      "[flaml.automl: 07-31 11:47:33] {3343} INFO -  at 6.9s,\testimator rf's best error=0.4142,\tbest estimator rf's best error=0.4142\n",
      "[flaml.automl: 07-31 11:47:33] {3166} INFO - iteration 32, current learner rf\n",
      "[flaml.automl: 07-31 11:47:33] {3343} INFO -  at 7.1s,\testimator rf's best error=0.4142,\tbest estimator rf's best error=0.4142\n",
      "[flaml.automl: 07-31 11:47:33] {3166} INFO - iteration 33, current learner rf\n",
      "[flaml.automl: 07-31 11:47:33] {3343} INFO -  at 7.2s,\testimator rf's best error=0.4142,\tbest estimator rf's best error=0.4142\n",
      "[flaml.automl: 07-31 11:47:33] {3166} INFO - iteration 34, current learner rf\n",
      "[flaml.automl: 07-31 11:47:33] {3343} INFO -  at 7.6s,\testimator rf's best error=0.4142,\tbest estimator rf's best error=0.4142\n",
      "[flaml.automl: 07-31 11:47:33] {3166} INFO - iteration 35, current learner rf\n",
      "[flaml.automl: 07-31 11:47:34] {3343} INFO -  at 7.9s,\testimator rf's best error=0.4142,\tbest estimator rf's best error=0.4142\n",
      "[flaml.automl: 07-31 11:47:34] {3166} INFO - iteration 36, current learner rf\n",
      "[flaml.automl: 07-31 11:47:34] {3343} INFO -  at 8.0s,\testimator rf's best error=0.4142,\tbest estimator rf's best error=0.4142\n",
      "[flaml.automl: 07-31 11:47:34] {3166} INFO - iteration 37, current learner rf\n",
      "[flaml.automl: 07-31 11:47:34] {3343} INFO -  at 8.3s,\testimator rf's best error=0.4142,\tbest estimator rf's best error=0.4142\n"
     ]
    },
    {
     "name": "stderr",
     "output_type": "stream",
     "text": [
      "[flaml.automl: 07-31 11:47:34] {3166} INFO - iteration 38, current learner rf\n",
      "[flaml.automl: 07-31 11:47:34] {3343} INFO -  at 8.6s,\testimator rf's best error=0.4142,\tbest estimator rf's best error=0.4142\n",
      "[flaml.automl: 07-31 11:47:34] {3166} INFO - iteration 39, current learner rf\n",
      "[flaml.automl: 07-31 11:47:34] {3343} INFO -  at 8.7s,\testimator rf's best error=0.4142,\tbest estimator rf's best error=0.4142\n",
      "[flaml.automl: 07-31 11:47:34] {3166} INFO - iteration 40, current learner rf\n",
      "[flaml.automl: 07-31 11:47:35] {3343} INFO -  at 9.0s,\testimator rf's best error=0.4142,\tbest estimator rf's best error=0.4142\n",
      "[flaml.automl: 07-31 11:47:35] {3166} INFO - iteration 41, current learner rf\n",
      "[flaml.automl: 07-31 11:47:35] {3343} INFO -  at 9.2s,\testimator rf's best error=0.4142,\tbest estimator rf's best error=0.4142\n",
      "[flaml.automl: 07-31 11:47:35] {3166} INFO - iteration 42, current learner rf\n",
      "[flaml.automl: 07-31 11:47:35] {3343} INFO -  at 9.5s,\testimator rf's best error=0.4142,\tbest estimator rf's best error=0.4142\n",
      "[flaml.automl: 07-31 11:47:35] {3166} INFO - iteration 43, current learner rf\n",
      "[flaml.automl: 07-31 11:47:36] {3343} INFO -  at 9.8s,\testimator rf's best error=0.4142,\tbest estimator rf's best error=0.4142\n",
      "[flaml.automl: 07-31 11:47:36] {3166} INFO - iteration 44, current learner rf\n",
      "[flaml.automl: 07-31 11:47:36] {3343} INFO -  at 10.0s,\testimator rf's best error=0.4142,\tbest estimator rf's best error=0.4142\n",
      "[flaml.automl: 07-31 11:47:36] {3166} INFO - iteration 45, current learner rf\n",
      "[flaml.automl: 07-31 11:47:36] {3343} INFO -  at 10.2s,\testimator rf's best error=0.4142,\tbest estimator rf's best error=0.4142\n",
      "[flaml.automl: 07-31 11:47:36] {3166} INFO - iteration 46, current learner rf\n",
      "[flaml.automl: 07-31 11:47:36] {3343} INFO -  at 10.4s,\testimator rf's best error=0.4142,\tbest estimator rf's best error=0.4142\n",
      "[flaml.automl: 07-31 11:47:36] {3166} INFO - iteration 47, current learner rf\n",
      "[flaml.automl: 07-31 11:47:36] {3343} INFO -  at 10.6s,\testimator rf's best error=0.4142,\tbest estimator rf's best error=0.4142\n",
      "[flaml.automl: 07-31 11:47:36] {3166} INFO - iteration 48, current learner rf\n",
      "[flaml.automl: 07-31 11:47:37] {3343} INFO -  at 10.9s,\testimator rf's best error=0.4142,\tbest estimator rf's best error=0.4142\n",
      "[flaml.automl: 07-31 11:47:37] {3166} INFO - iteration 49, current learner rf\n",
      "[flaml.automl: 07-31 11:47:37] {3343} INFO -  at 11.3s,\testimator rf's best error=0.4142,\tbest estimator rf's best error=0.4142\n",
      "[flaml.automl: 07-31 11:47:37] {3166} INFO - iteration 50, current learner rf\n",
      "[flaml.automl: 07-31 11:47:37] {3343} INFO -  at 11.5s,\testimator rf's best error=0.4142,\tbest estimator rf's best error=0.4142\n",
      "[flaml.automl: 07-31 11:47:37] {3166} INFO - iteration 51, current learner rf\n",
      "[flaml.automl: 07-31 11:47:38] {3343} INFO -  at 11.8s,\testimator rf's best error=0.4142,\tbest estimator rf's best error=0.4142\n",
      "[flaml.automl: 07-31 11:47:38] {3166} INFO - iteration 52, current learner rf\n",
      "[flaml.automl: 07-31 11:47:38] {3343} INFO -  at 12.0s,\testimator rf's best error=0.4142,\tbest estimator rf's best error=0.4142\n",
      "[flaml.automl: 07-31 11:47:38] {3166} INFO - iteration 53, current learner rf\n",
      "[flaml.automl: 07-31 11:47:38] {3343} INFO -  at 12.2s,\testimator rf's best error=0.4142,\tbest estimator rf's best error=0.4142\n",
      "[flaml.automl: 07-31 11:47:38] {3166} INFO - iteration 54, current learner rf\n",
      "[flaml.automl: 07-31 11:47:38] {3343} INFO -  at 12.5s,\testimator rf's best error=0.4142,\tbest estimator rf's best error=0.4142\n",
      "[flaml.automl: 07-31 11:47:38] {3166} INFO - iteration 55, current learner rf\n",
      "[flaml.automl: 07-31 11:47:38] {3343} INFO -  at 12.7s,\testimator rf's best error=0.4142,\tbest estimator rf's best error=0.4142\n",
      "[flaml.automl: 07-31 11:47:38] {3166} INFO - iteration 56, current learner rf\n",
      "[flaml.automl: 07-31 11:47:39] {3343} INFO -  at 13.0s,\testimator rf's best error=0.4142,\tbest estimator rf's best error=0.4142\n",
      "[flaml.automl: 07-31 11:47:39] {3166} INFO - iteration 57, current learner rf\n",
      "[flaml.automl: 07-31 11:47:39] {3343} INFO -  at 13.3s,\testimator rf's best error=0.4142,\tbest estimator rf's best error=0.4142\n",
      "[flaml.automl: 07-31 11:47:39] {3166} INFO - iteration 58, current learner rf\n",
      "[flaml.automl: 07-31 11:47:39] {3343} INFO -  at 13.5s,\testimator rf's best error=0.4142,\tbest estimator rf's best error=0.4142\n",
      "[flaml.automl: 07-31 11:47:39] {3166} INFO - iteration 59, current learner rf\n",
      "[flaml.automl: 07-31 11:47:40] {3343} INFO -  at 13.9s,\testimator rf's best error=0.4142,\tbest estimator rf's best error=0.4142\n",
      "[flaml.automl: 07-31 11:47:40] {3166} INFO - iteration 60, current learner rf\n",
      "[flaml.automl: 07-31 11:47:40] {3343} INFO -  at 14.1s,\testimator rf's best error=0.4142,\tbest estimator rf's best error=0.4142\n",
      "[flaml.automl: 07-31 11:47:40] {3166} INFO - iteration 61, current learner rf\n",
      "[flaml.automl: 07-31 11:47:40] {3343} INFO -  at 14.4s,\testimator rf's best error=0.4142,\tbest estimator rf's best error=0.4142\n",
      "[flaml.automl: 07-31 11:47:40] {3166} INFO - iteration 62, current learner rf\n",
      "[flaml.automl: 07-31 11:47:40] {3343} INFO -  at 14.6s,\testimator rf's best error=0.4142,\tbest estimator rf's best error=0.4142\n",
      "[flaml.automl: 07-31 11:47:40] {3166} INFO - iteration 63, current learner rf\n",
      "[flaml.automl: 07-31 11:47:40] {3343} INFO -  at 14.7s,\testimator rf's best error=0.4142,\tbest estimator rf's best error=0.4142\n",
      "[flaml.automl: 07-31 11:47:40] {3166} INFO - iteration 64, current learner rf\n",
      "[flaml.automl: 07-31 11:47:41] {3343} INFO -  at 15.1s,\testimator rf's best error=0.4142,\tbest estimator rf's best error=0.4142\n",
      "[flaml.automl: 07-31 11:47:41] {3166} INFO - iteration 65, current learner rf\n",
      "[flaml.automl: 07-31 11:47:41] {3343} INFO -  at 15.3s,\testimator rf's best error=0.4142,\tbest estimator rf's best error=0.4142\n",
      "[flaml.automl: 07-31 11:47:41] {3166} INFO - iteration 66, current learner rf\n",
      "[flaml.automl: 07-31 11:47:41] {3343} INFO -  at 15.6s,\testimator rf's best error=0.4142,\tbest estimator rf's best error=0.4142\n",
      "[flaml.automl: 07-31 11:47:41] {3166} INFO - iteration 67, current learner rf\n",
      "[flaml.automl: 07-31 11:47:42] {3343} INFO -  at 15.9s,\testimator rf's best error=0.4142,\tbest estimator rf's best error=0.4142\n",
      "[flaml.automl: 07-31 11:47:42] {3166} INFO - iteration 68, current learner rf\n",
      "[flaml.automl: 07-31 11:47:42] {3343} INFO -  at 16.1s,\testimator rf's best error=0.4142,\tbest estimator rf's best error=0.4142\n",
      "[flaml.automl: 07-31 11:47:42] {3166} INFO - iteration 69, current learner rf\n",
      "[flaml.automl: 07-31 11:47:42] {3343} INFO -  at 16.4s,\testimator rf's best error=0.4142,\tbest estimator rf's best error=0.4142\n",
      "[flaml.automl: 07-31 11:47:42] {3166} INFO - iteration 70, current learner rf\n",
      "[flaml.automl: 07-31 11:47:42] {3343} INFO -  at 16.6s,\testimator rf's best error=0.4142,\tbest estimator rf's best error=0.4142\n",
      "[flaml.automl: 07-31 11:47:42] {3166} INFO - iteration 71, current learner rf\n",
      "[flaml.automl: 07-31 11:47:43] {3343} INFO -  at 17.0s,\testimator rf's best error=0.4142,\tbest estimator rf's best error=0.4142\n",
      "[flaml.automl: 07-31 11:47:43] {3166} INFO - iteration 72, current learner rf\n",
      "[flaml.automl: 07-31 11:47:43] {3343} INFO -  at 17.1s,\testimator rf's best error=0.4142,\tbest estimator rf's best error=0.4142\n",
      "[flaml.automl: 07-31 11:47:43] {3166} INFO - iteration 73, current learner rf\n",
      "[flaml.automl: 07-31 11:47:43] {3343} INFO -  at 17.4s,\testimator rf's best error=0.4126,\tbest estimator rf's best error=0.4126\n",
      "[flaml.automl: 07-31 11:47:43] {3166} INFO - iteration 74, current learner rf\n",
      "[flaml.automl: 07-31 11:47:43] {3343} INFO -  at 17.7s,\testimator rf's best error=0.4126,\tbest estimator rf's best error=0.4126\n",
      "[flaml.automl: 07-31 11:47:43] {3166} INFO - iteration 75, current learner rf\n",
      "[flaml.automl: 07-31 11:47:44] {3343} INFO -  at 18.0s,\testimator rf's best error=0.4126,\tbest estimator rf's best error=0.4126\n",
      "[flaml.automl: 07-31 11:47:44] {3166} INFO - iteration 76, current learner rf\n",
      "[flaml.automl: 07-31 11:47:44] {3343} INFO -  at 18.3s,\testimator rf's best error=0.4126,\tbest estimator rf's best error=0.4126\n",
      "[flaml.automl: 07-31 11:47:44] {3166} INFO - iteration 77, current learner rf\n",
      "[flaml.automl: 07-31 11:47:44] {3343} INFO -  at 18.4s,\testimator rf's best error=0.4126,\tbest estimator rf's best error=0.4126\n"
     ]
    },
    {
     "name": "stderr",
     "output_type": "stream",
     "text": [
      "[flaml.automl: 07-31 11:47:44] {3166} INFO - iteration 78, current learner rf\n",
      "[flaml.automl: 07-31 11:47:45] {3343} INFO -  at 18.9s,\testimator rf's best error=0.4126,\tbest estimator rf's best error=0.4126\n",
      "[flaml.automl: 07-31 11:47:45] {3166} INFO - iteration 79, current learner rf\n",
      "[flaml.automl: 07-31 11:47:45] {3343} INFO -  at 19.1s,\testimator rf's best error=0.4126,\tbest estimator rf's best error=0.4126\n",
      "[flaml.automl: 07-31 11:47:45] {3166} INFO - iteration 80, current learner rf\n",
      "[flaml.automl: 07-31 11:47:45] {3343} INFO -  at 19.5s,\testimator rf's best error=0.4126,\tbest estimator rf's best error=0.4126\n",
      "[flaml.automl: 07-31 11:47:45] {3166} INFO - iteration 81, current learner rf\n",
      "[flaml.automl: 07-31 11:47:46] {3343} INFO -  at 19.8s,\testimator rf's best error=0.4126,\tbest estimator rf's best error=0.4126\n",
      "[flaml.automl: 07-31 11:47:46] {3166} INFO - iteration 82, current learner rf\n",
      "[flaml.automl: 07-31 11:47:46] {3343} INFO -  at 20.2s,\testimator rf's best error=0.4126,\tbest estimator rf's best error=0.4126\n",
      "[flaml.automl: 07-31 11:47:46] {3166} INFO - iteration 83, current learner rf\n",
      "[flaml.automl: 07-31 11:47:46] {3343} INFO -  at 20.6s,\testimator rf's best error=0.4126,\tbest estimator rf's best error=0.4126\n",
      "[flaml.automl: 07-31 11:47:46] {3166} INFO - iteration 84, current learner rf\n",
      "[flaml.automl: 07-31 11:47:46] {3343} INFO -  at 20.7s,\testimator rf's best error=0.4126,\tbest estimator rf's best error=0.4126\n",
      "[flaml.automl: 07-31 11:47:46] {3166} INFO - iteration 85, current learner rf\n",
      "[flaml.automl: 07-31 11:47:47] {3343} INFO -  at 20.9s,\testimator rf's best error=0.4126,\tbest estimator rf's best error=0.4126\n",
      "[flaml.automl: 07-31 11:47:47] {3166} INFO - iteration 86, current learner rf\n",
      "[flaml.automl: 07-31 11:47:47] {3343} INFO -  at 21.3s,\testimator rf's best error=0.4126,\tbest estimator rf's best error=0.4126\n",
      "[flaml.automl: 07-31 11:47:47] {3166} INFO - iteration 87, current learner rf\n",
      "[flaml.automl: 07-31 11:47:47] {3343} INFO -  at 21.7s,\testimator rf's best error=0.4126,\tbest estimator rf's best error=0.4126\n",
      "[flaml.automl: 07-31 11:47:47] {3166} INFO - iteration 88, current learner rf\n",
      "[flaml.automl: 07-31 11:47:48] {3343} INFO -  at 21.9s,\testimator rf's best error=0.4126,\tbest estimator rf's best error=0.4126\n",
      "[flaml.automl: 07-31 11:47:48] {3166} INFO - iteration 89, current learner rf\n",
      "[flaml.automl: 07-31 11:47:48] {3343} INFO -  at 22.2s,\testimator rf's best error=0.4126,\tbest estimator rf's best error=0.4126\n",
      "[flaml.automl: 07-31 11:47:48] {3166} INFO - iteration 90, current learner rf\n",
      "[flaml.automl: 07-31 11:47:48] {3343} INFO -  at 22.4s,\testimator rf's best error=0.4126,\tbest estimator rf's best error=0.4126\n",
      "[flaml.automl: 07-31 11:47:48] {3166} INFO - iteration 91, current learner rf\n",
      "[flaml.automl: 07-31 11:47:49] {3343} INFO -  at 22.8s,\testimator rf's best error=0.4126,\tbest estimator rf's best error=0.4126\n",
      "[flaml.automl: 07-31 11:47:49] {3166} INFO - iteration 92, current learner rf\n",
      "[flaml.automl: 07-31 11:47:49] {3343} INFO -  at 23.0s,\testimator rf's best error=0.4126,\tbest estimator rf's best error=0.4126\n",
      "[flaml.automl: 07-31 11:47:49] {3166} INFO - iteration 93, current learner rf\n",
      "[flaml.automl: 07-31 11:47:49] {3343} INFO -  at 23.1s,\testimator rf's best error=0.4126,\tbest estimator rf's best error=0.4126\n",
      "[flaml.automl: 07-31 11:47:49] {3166} INFO - iteration 94, current learner rf\n",
      "[flaml.automl: 07-31 11:47:49] {3343} INFO -  at 23.5s,\testimator rf's best error=0.4098,\tbest estimator rf's best error=0.4098\n",
      "[flaml.automl: 07-31 11:47:49] {3166} INFO - iteration 95, current learner rf\n",
      "[flaml.automl: 07-31 11:47:50] {3343} INFO -  at 24.1s,\testimator rf's best error=0.4098,\tbest estimator rf's best error=0.4098\n",
      "[flaml.automl: 07-31 11:47:50] {3166} INFO - iteration 96, current learner rf\n",
      "[flaml.automl: 07-31 11:47:50] {3343} INFO -  at 24.5s,\testimator rf's best error=0.4098,\tbest estimator rf's best error=0.4098\n",
      "[flaml.automl: 07-31 11:47:50] {3166} INFO - iteration 97, current learner rf\n",
      "[flaml.automl: 07-31 11:47:51] {3343} INFO -  at 24.9s,\testimator rf's best error=0.4098,\tbest estimator rf's best error=0.4098\n",
      "[flaml.automl: 07-31 11:47:51] {3166} INFO - iteration 98, current learner rf\n",
      "[flaml.automl: 07-31 11:47:51] {3343} INFO -  at 25.3s,\testimator rf's best error=0.4098,\tbest estimator rf's best error=0.4098\n",
      "[flaml.automl: 07-31 11:47:51] {3166} INFO - iteration 99, current learner rf\n",
      "[flaml.automl: 07-31 11:47:52] {3343} INFO -  at 25.9s,\testimator rf's best error=0.4098,\tbest estimator rf's best error=0.4098\n",
      "[flaml.automl: 07-31 11:47:52] {3166} INFO - iteration 100, current learner rf\n",
      "[flaml.automl: 07-31 11:47:52] {3343} INFO -  at 26.2s,\testimator rf's best error=0.4098,\tbest estimator rf's best error=0.4098\n",
      "[flaml.automl: 07-31 11:47:52] {3166} INFO - iteration 101, current learner rf\n",
      "[flaml.automl: 07-31 11:47:53] {3343} INFO -  at 26.9s,\testimator rf's best error=0.4098,\tbest estimator rf's best error=0.4098\n",
      "[flaml.automl: 07-31 11:47:53] {3166} INFO - iteration 102, current learner rf\n",
      "[flaml.automl: 07-31 11:47:53] {3343} INFO -  at 27.2s,\testimator rf's best error=0.4098,\tbest estimator rf's best error=0.4098\n",
      "[flaml.automl: 07-31 11:47:53] {3166} INFO - iteration 103, current learner rf\n",
      "[flaml.automl: 07-31 11:47:53] {3343} INFO -  at 27.7s,\testimator rf's best error=0.4098,\tbest estimator rf's best error=0.4098\n",
      "[flaml.automl: 07-31 11:47:53] {3166} INFO - iteration 104, current learner rf\n",
      "[flaml.automl: 07-31 11:47:54] {3343} INFO -  at 28.1s,\testimator rf's best error=0.4098,\tbest estimator rf's best error=0.4098\n",
      "[flaml.automl: 07-31 11:47:54] {3166} INFO - iteration 105, current learner rf\n",
      "[flaml.automl: 07-31 11:47:54] {3343} INFO -  at 28.6s,\testimator rf's best error=0.4098,\tbest estimator rf's best error=0.4098\n",
      "[flaml.automl: 07-31 11:47:54] {3166} INFO - iteration 106, current learner rf\n",
      "[flaml.automl: 07-31 11:47:55] {3343} INFO -  at 28.9s,\testimator rf's best error=0.4098,\tbest estimator rf's best error=0.4098\n",
      "[flaml.automl: 07-31 11:47:55] {3166} INFO - iteration 107, current learner rf\n",
      "[flaml.automl: 07-31 11:47:55] {3343} INFO -  at 29.5s,\testimator rf's best error=0.4098,\tbest estimator rf's best error=0.4098\n",
      "[flaml.automl: 07-31 11:47:55] {3166} INFO - iteration 108, current learner rf\n",
      "[flaml.automl: 07-31 11:47:56] {3343} INFO -  at 29.8s,\testimator rf's best error=0.4098,\tbest estimator rf's best error=0.4098\n",
      "[flaml.automl: 07-31 11:47:56] {3166} INFO - iteration 109, current learner rf\n",
      "[flaml.automl: 07-31 11:47:56] {3343} INFO -  at 30.2s,\testimator rf's best error=0.4064,\tbest estimator rf's best error=0.4064\n",
      "[flaml.automl: 07-31 11:47:56] {3166} INFO - iteration 110, current learner rf\n",
      "[flaml.automl: 07-31 11:47:56] {3343} INFO -  at 30.6s,\testimator rf's best error=0.4064,\tbest estimator rf's best error=0.4064\n",
      "[flaml.automl: 07-31 11:47:56] {3166} INFO - iteration 111, current learner rf\n",
      "[flaml.automl: 07-31 11:47:57] {3343} INFO -  at 31.1s,\testimator rf's best error=0.4064,\tbest estimator rf's best error=0.4064\n",
      "[flaml.automl: 07-31 11:47:57] {3166} INFO - iteration 112, current learner rf\n",
      "[flaml.automl: 07-31 11:47:57] {3343} INFO -  at 31.5s,\testimator rf's best error=0.4064,\tbest estimator rf's best error=0.4064\n",
      "[flaml.automl: 07-31 11:47:57] {3166} INFO - iteration 113, current learner rf\n",
      "[flaml.automl: 07-31 11:47:58] {3343} INFO -  at 31.9s,\testimator rf's best error=0.4064,\tbest estimator rf's best error=0.4064\n",
      "[flaml.automl: 07-31 11:47:58] {3166} INFO - iteration 114, current learner rf\n",
      "[flaml.automl: 07-31 11:47:58] {3343} INFO -  at 32.3s,\testimator rf's best error=0.4064,\tbest estimator rf's best error=0.4064\n",
      "[flaml.automl: 07-31 11:47:58] {3166} INFO - iteration 115, current learner rf\n",
      "[flaml.automl: 07-31 11:47:59] {3343} INFO -  at 32.9s,\testimator rf's best error=0.4064,\tbest estimator rf's best error=0.4064\n",
      "[flaml.automl: 07-31 11:47:59] {3166} INFO - iteration 116, current learner rf\n",
      "[flaml.automl: 07-31 11:47:59] {3343} INFO -  at 33.2s,\testimator rf's best error=0.4064,\tbest estimator rf's best error=0.4064\n",
      "[flaml.automl: 07-31 11:47:59] {3166} INFO - iteration 117, current learner rf\n",
      "[flaml.automl: 07-31 11:48:00] {3343} INFO -  at 34.0s,\testimator rf's best error=0.4064,\tbest estimator rf's best error=0.4064\n"
     ]
    },
    {
     "name": "stderr",
     "output_type": "stream",
     "text": [
      "[flaml.automl: 07-31 11:48:00] {3166} INFO - iteration 118, current learner rf\n",
      "[flaml.automl: 07-31 11:48:00] {3343} INFO -  at 34.3s,\testimator rf's best error=0.4064,\tbest estimator rf's best error=0.4064\n",
      "[flaml.automl: 07-31 11:48:00] {3166} INFO - iteration 119, current learner rf\n",
      "[flaml.automl: 07-31 11:48:00] {3343} INFO -  at 34.7s,\testimator rf's best error=0.4064,\tbest estimator rf's best error=0.4064\n",
      "[flaml.automl: 07-31 11:48:00] {3166} INFO - iteration 120, current learner rf\n",
      "[flaml.automl: 07-31 11:48:01] {3343} INFO -  at 35.2s,\testimator rf's best error=0.4064,\tbest estimator rf's best error=0.4064\n",
      "[flaml.automl: 07-31 11:48:01] {3166} INFO - iteration 121, current learner rf\n",
      "[flaml.automl: 07-31 11:48:01] {3343} INFO -  at 35.5s,\testimator rf's best error=0.4064,\tbest estimator rf's best error=0.4064\n",
      "[flaml.automl: 07-31 11:48:01] {3166} INFO - iteration 122, current learner rf\n",
      "[flaml.automl: 07-31 11:48:02] {3343} INFO -  at 36.3s,\testimator rf's best error=0.4064,\tbest estimator rf's best error=0.4064\n",
      "[flaml.automl: 07-31 11:48:02] {3166} INFO - iteration 123, current learner rf\n",
      "[flaml.automl: 07-31 11:48:02] {3343} INFO -  at 36.7s,\testimator rf's best error=0.4064,\tbest estimator rf's best error=0.4064\n",
      "[flaml.automl: 07-31 11:48:02] {3166} INFO - iteration 124, current learner rf\n",
      "[flaml.automl: 07-31 11:48:03] {3343} INFO -  at 37.2s,\testimator rf's best error=0.4064,\tbest estimator rf's best error=0.4064\n",
      "[flaml.automl: 07-31 11:48:03] {3166} INFO - iteration 125, current learner rf\n",
      "[flaml.automl: 07-31 11:48:03] {3343} INFO -  at 37.7s,\testimator rf's best error=0.4064,\tbest estimator rf's best error=0.4064\n",
      "[flaml.automl: 07-31 11:48:03] {3166} INFO - iteration 126, current learner rf\n",
      "[flaml.automl: 07-31 11:48:04] {3343} INFO -  at 38.1s,\testimator rf's best error=0.4064,\tbest estimator rf's best error=0.4064\n",
      "[flaml.automl: 07-31 11:48:04] {3166} INFO - iteration 127, current learner rf\n",
      "[flaml.automl: 07-31 11:48:04] {3343} INFO -  at 38.6s,\testimator rf's best error=0.4064,\tbest estimator rf's best error=0.4064\n",
      "[flaml.automl: 07-31 11:48:04] {3166} INFO - iteration 128, current learner rf\n",
      "[flaml.automl: 07-31 11:48:05] {3343} INFO -  at 39.0s,\testimator rf's best error=0.4064,\tbest estimator rf's best error=0.4064\n",
      "[flaml.automl: 07-31 11:48:05] {3166} INFO - iteration 129, current learner rf\n",
      "[flaml.automl: 07-31 11:48:05] {3343} INFO -  at 39.5s,\testimator rf's best error=0.4064,\tbest estimator rf's best error=0.4064\n",
      "[flaml.automl: 07-31 11:48:05] {3166} INFO - iteration 130, current learner rf\n",
      "[flaml.automl: 07-31 11:48:06] {3343} INFO -  at 39.9s,\testimator rf's best error=0.4064,\tbest estimator rf's best error=0.4064\n",
      "[flaml.automl: 07-31 11:48:06] {3166} INFO - iteration 131, current learner rf\n",
      "[flaml.automl: 07-31 11:48:06] {3343} INFO -  at 40.2s,\testimator rf's best error=0.4064,\tbest estimator rf's best error=0.4064\n",
      "[flaml.automl: 07-31 11:48:06] {3166} INFO - iteration 132, current learner rf\n",
      "[flaml.automl: 07-31 11:48:07] {3343} INFO -  at 40.9s,\testimator rf's best error=0.4064,\tbest estimator rf's best error=0.4064\n",
      "[flaml.automl: 07-31 11:48:07] {3166} INFO - iteration 133, current learner rf\n",
      "[flaml.automl: 07-31 11:48:07] {3343} INFO -  at 41.2s,\testimator rf's best error=0.4064,\tbest estimator rf's best error=0.4064\n",
      "[flaml.automl: 07-31 11:48:07] {3166} INFO - iteration 134, current learner rf\n",
      "[flaml.automl: 07-31 11:48:08] {3343} INFO -  at 41.9s,\testimator rf's best error=0.4064,\tbest estimator rf's best error=0.4064\n",
      "[flaml.automl: 07-31 11:48:08] {3166} INFO - iteration 135, current learner rf\n",
      "[flaml.automl: 07-31 11:48:08] {3343} INFO -  at 42.3s,\testimator rf's best error=0.4064,\tbest estimator rf's best error=0.4064\n",
      "[flaml.automl: 07-31 11:48:08] {3166} INFO - iteration 136, current learner rf\n",
      "[flaml.automl: 07-31 11:48:08] {3343} INFO -  at 42.7s,\testimator rf's best error=0.4043,\tbest estimator rf's best error=0.4043\n",
      "[flaml.automl: 07-31 11:48:08] {3166} INFO - iteration 137, current learner rf\n",
      "[flaml.automl: 07-31 11:48:09] {3343} INFO -  at 43.4s,\testimator rf's best error=0.4043,\tbest estimator rf's best error=0.4043\n",
      "[flaml.automl: 07-31 11:48:09] {3166} INFO - iteration 138, current learner rf\n",
      "[flaml.automl: 07-31 11:48:10] {3343} INFO -  at 43.8s,\testimator rf's best error=0.4043,\tbest estimator rf's best error=0.4043\n",
      "[flaml.automl: 07-31 11:48:10] {3166} INFO - iteration 139, current learner rf\n",
      "[flaml.automl: 07-31 11:48:10] {3343} INFO -  at 44.2s,\testimator rf's best error=0.4043,\tbest estimator rf's best error=0.4043\n",
      "[flaml.automl: 07-31 11:48:10] {3166} INFO - iteration 140, current learner rf\n",
      "[flaml.automl: 07-31 11:48:10] {3343} INFO -  at 44.6s,\testimator rf's best error=0.4043,\tbest estimator rf's best error=0.4043\n",
      "[flaml.automl: 07-31 11:48:10] {3166} INFO - iteration 141, current learner rf\n",
      "[flaml.automl: 07-31 11:48:11] {3343} INFO -  at 44.9s,\testimator rf's best error=0.4043,\tbest estimator rf's best error=0.4043\n",
      "[flaml.automl: 07-31 11:48:11] {3166} INFO - iteration 142, current learner rf\n",
      "[flaml.automl: 07-31 11:48:11] {3343} INFO -  at 45.7s,\testimator rf's best error=0.4043,\tbest estimator rf's best error=0.4043\n",
      "[flaml.automl: 07-31 11:48:11] {3166} INFO - iteration 143, current learner rf\n",
      "[flaml.automl: 07-31 11:48:12] {3343} INFO -  at 46.0s,\testimator rf's best error=0.4043,\tbest estimator rf's best error=0.4043\n",
      "[flaml.automl: 07-31 11:48:12] {3166} INFO - iteration 144, current learner rf\n",
      "[flaml.automl: 07-31 11:48:12] {3343} INFO -  at 46.6s,\testimator rf's best error=0.4043,\tbest estimator rf's best error=0.4043\n",
      "[flaml.automl: 07-31 11:48:12] {3166} INFO - iteration 145, current learner rf\n",
      "[flaml.automl: 07-31 11:48:13] {3343} INFO -  at 47.1s,\testimator rf's best error=0.4043,\tbest estimator rf's best error=0.4043\n",
      "[flaml.automl: 07-31 11:48:13] {3166} INFO - iteration 146, current learner rf\n",
      "[flaml.automl: 07-31 11:48:13] {3343} INFO -  at 47.5s,\testimator rf's best error=0.4043,\tbest estimator rf's best error=0.4043\n",
      "[flaml.automl: 07-31 11:48:13] {3166} INFO - iteration 147, current learner rf\n",
      "[flaml.automl: 07-31 11:48:14] {3343} INFO -  at 47.8s,\testimator rf's best error=0.4043,\tbest estimator rf's best error=0.4043\n",
      "[flaml.automl: 07-31 11:48:14] {3166} INFO - iteration 148, current learner rf\n",
      "[flaml.automl: 07-31 11:48:14] {3343} INFO -  at 48.5s,\testimator rf's best error=0.4043,\tbest estimator rf's best error=0.4043\n",
      "[flaml.automl: 07-31 11:48:14] {3166} INFO - iteration 149, current learner rf\n",
      "[flaml.automl: 07-31 11:48:15] {3343} INFO -  at 48.9s,\testimator rf's best error=0.4043,\tbest estimator rf's best error=0.4043\n",
      "[flaml.automl: 07-31 11:48:15] {3166} INFO - iteration 150, current learner rf\n",
      "[flaml.automl: 07-31 11:48:15] {3343} INFO -  at 49.4s,\testimator rf's best error=0.4043,\tbest estimator rf's best error=0.4043\n",
      "[flaml.automl: 07-31 11:48:15] {3166} INFO - iteration 151, current learner rf\n",
      "[flaml.automl: 07-31 11:48:16] {3343} INFO -  at 49.9s,\testimator rf's best error=0.4043,\tbest estimator rf's best error=0.4043\n",
      "[flaml.automl: 07-31 11:48:16] {3166} INFO - iteration 152, current learner rf\n",
      "[flaml.automl: 07-31 11:48:16] {3343} INFO -  at 50.3s,\testimator rf's best error=0.4043,\tbest estimator rf's best error=0.4043\n",
      "[flaml.automl: 07-31 11:48:16] {3166} INFO - iteration 153, current learner rf\n",
      "[flaml.automl: 07-31 11:48:16] {3343} INFO -  at 50.7s,\testimator rf's best error=0.4043,\tbest estimator rf's best error=0.4043\n",
      "[flaml.automl: 07-31 11:48:16] {3166} INFO - iteration 154, current learner rf\n",
      "[flaml.automl: 07-31 11:48:17] {3343} INFO -  at 51.3s,\testimator rf's best error=0.4043,\tbest estimator rf's best error=0.4043\n",
      "[flaml.automl: 07-31 11:48:17] {3166} INFO - iteration 155, current learner rf\n",
      "[flaml.automl: 07-31 11:48:18] {3343} INFO -  at 51.8s,\testimator rf's best error=0.4043,\tbest estimator rf's best error=0.4043\n",
      "[flaml.automl: 07-31 11:48:18] {3166} INFO - iteration 156, current learner rf\n",
      "[flaml.automl: 07-31 11:48:18] {3343} INFO -  at 52.2s,\testimator rf's best error=0.4043,\tbest estimator rf's best error=0.4043\n",
      "[flaml.automl: 07-31 11:48:18] {3166} INFO - iteration 157, current learner rf\n",
      "[flaml.automl: 07-31 11:48:19] {3343} INFO -  at 52.8s,\testimator rf's best error=0.4043,\tbest estimator rf's best error=0.4043\n"
     ]
    },
    {
     "name": "stderr",
     "output_type": "stream",
     "text": [
      "[flaml.automl: 07-31 11:48:19] {3166} INFO - iteration 158, current learner rf\n",
      "[flaml.automl: 07-31 11:48:19] {3343} INFO -  at 53.2s,\testimator rf's best error=0.4043,\tbest estimator rf's best error=0.4043\n",
      "[flaml.automl: 07-31 11:48:19] {3166} INFO - iteration 159, current learner rf\n",
      "[flaml.automl: 07-31 11:48:19] {3343} INFO -  at 53.7s,\testimator rf's best error=0.4043,\tbest estimator rf's best error=0.4043\n",
      "[flaml.automl: 07-31 11:48:19] {3166} INFO - iteration 160, current learner rf\n",
      "[flaml.automl: 07-31 11:48:20] {3343} INFO -  at 54.4s,\testimator rf's best error=0.4043,\tbest estimator rf's best error=0.4043\n",
      "[flaml.automl: 07-31 11:48:20] {3166} INFO - iteration 161, current learner rf\n",
      "[flaml.automl: 07-31 11:48:20] {3343} INFO -  at 54.7s,\testimator rf's best error=0.4043,\tbest estimator rf's best error=0.4043\n",
      "[flaml.automl: 07-31 11:48:20] {3166} INFO - iteration 162, current learner rf\n",
      "[flaml.automl: 07-31 11:48:21] {3343} INFO -  at 55.4s,\testimator rf's best error=0.4043,\tbest estimator rf's best error=0.4043\n",
      "[flaml.automl: 07-31 11:48:21] {3166} INFO - iteration 163, current learner rf\n",
      "[flaml.automl: 07-31 11:48:21] {3343} INFO -  at 55.7s,\testimator rf's best error=0.4043,\tbest estimator rf's best error=0.4043\n",
      "[flaml.automl: 07-31 11:48:21] {3166} INFO - iteration 164, current learner rf\n",
      "[flaml.automl: 07-31 11:48:22] {3343} INFO -  at 56.3s,\testimator rf's best error=0.4043,\tbest estimator rf's best error=0.4043\n",
      "[flaml.automl: 07-31 11:48:22] {3166} INFO - iteration 165, current learner rf\n",
      "[flaml.automl: 07-31 11:48:22] {3343} INFO -  at 56.7s,\testimator rf's best error=0.4043,\tbest estimator rf's best error=0.4043\n",
      "[flaml.automl: 07-31 11:48:22] {3166} INFO - iteration 166, current learner rf\n",
      "[flaml.automl: 07-31 11:48:23] {3343} INFO -  at 57.4s,\testimator rf's best error=0.4043,\tbest estimator rf's best error=0.4043\n",
      "[flaml.automl: 07-31 11:48:23] {3166} INFO - iteration 167, current learner rf\n",
      "[flaml.automl: 07-31 11:48:24] {3343} INFO -  at 58.0s,\testimator rf's best error=0.4043,\tbest estimator rf's best error=0.4043\n",
      "[flaml.automl: 07-31 11:48:24] {3166} INFO - iteration 168, current learner rf\n",
      "[flaml.automl: 07-31 11:48:24] {3343} INFO -  at 58.5s,\testimator rf's best error=0.4043,\tbest estimator rf's best error=0.4043\n",
      "[flaml.automl: 07-31 11:48:24] {3166} INFO - iteration 169, current learner rf\n",
      "[flaml.automl: 07-31 11:48:25] {3343} INFO -  at 59.0s,\testimator rf's best error=0.4043,\tbest estimator rf's best error=0.4043\n",
      "[flaml.automl: 07-31 11:48:25] {3166} INFO - iteration 170, current learner rf\n",
      "[flaml.automl: 07-31 11:48:25] {3343} INFO -  at 59.4s,\testimator rf's best error=0.4043,\tbest estimator rf's best error=0.4043\n",
      "[flaml.automl: 07-31 11:48:25] {3166} INFO - iteration 171, current learner rf\n",
      "[flaml.automl: 07-31 11:48:26] {3343} INFO -  at 59.8s,\testimator rf's best error=0.4043,\tbest estimator rf's best error=0.4043\n",
      "[flaml.automl: 07-31 11:48:26] {3602} INFO - retrain rf for 0.4s\n",
      "[flaml.automl: 07-31 11:48:26] {3609} INFO - retrained model: RandomForestClassifier(max_features=0.2839750529847307, max_leaf_nodes=761,\n",
      "                       n_estimators=16, n_jobs=-1)\n",
      "[flaml.automl: 07-31 11:48:26] {2901} INFO - fit succeeded\n",
      "[flaml.automl: 07-31 11:48:26] {2902} INFO - Time taken to find the best model: 42.7210009098053\n",
      "[flaml.automl: 07-31 11:48:26] {2913} WARNING - Time taken to find the best model is 71% of the provided time budget and not all estimators' hyperparameter search converged. Consider increasing the time budget.\n"
     ]
    }
   ],
   "source": [
    "from flaml import AutoML\n",
    "automl1 = AutoML()\n",
    "estimator_list = ['rf']\n",
    "automl_settings = {\n",
    "    \"time_budget\": 60,  # total running time in seconds\n",
    "    \"task\": 'classification',  # task type\n",
    "    \"seed\": 24545678,  # random seed\n",
    "    \"metric\":  'f1',  # evaluation metric\n",
    "    \"estimator_list\": estimator_list,  # specify the list of estimators\n",
    "}\n",
    "# Fit the AutoML model with the specified settings\n",
    "automl1.fit(X_train=X_train, y_train=y_train, **automl_settings)\n",
    "pred1=automl1.predict(X_test)"
   ]
  },
  {
   "cell_type": "code",
   "execution_count": 703,
   "id": "91fc3656",
   "metadata": {},
   "outputs": [
    {
     "name": "stdout",
     "output_type": "stream",
     "text": [
      "Accuracy     0.738384\n",
      "Precision    0.644654\n",
      "Recall       0.584046\n",
      "F1-score     0.612855\n"
     ]
    }
   ],
   "source": [
    "evaluation2(y_test,pred1)"
   ]
  },
  {
   "cell_type": "code",
   "execution_count": 704,
   "id": "concerned-heavy",
   "metadata": {},
   "outputs": [
    {
     "name": "stdout",
     "output_type": "stream",
     "text": [
      "Accuracy: 0.7384\n",
      "[[526 113]\n",
      " [146 205]]\n"
     ]
    },
    {
     "data": {
      "image/png": "[encoded data removed]",
      "text/plain": [
       "<Figure size 432x360 with 2 Axes>"
      ]
     },
     "metadata": {
      "needs_background": "light"
     },
     "output_type": "display_data"
    }
   ],
   "source": [
    "import matplotlib.pyplot as plt\n",
    "from sklearn.metrics import confusion_matrix\n",
    "from sklearn.metrics import accuracy_score\n",
    "\n",
    "# Assuming y_test and y_pred are already defined as your true labels and predictions\n",
    "accuracy = accuracy_score(y_test, pred1)\n",
    "print(f'Accuracy: {accuracy:.4f}')\n",
    "cm = confusion_matrix(y_test, pred1)\n",
    "print(cm)\n",
    "# Normalize confusion matrix\n",
    "cmn = cm.astype('float') / cm.sum(axis=1)[:, np.newaxis]\n",
    "\n",
    "# Plot heatmap using matplotlib\n",
    "plt.figure(figsize=(6, 5))\n",
    "plt.imshow(cmn, interpolation='nearest', cmap='Blues')\n",
    "\n",
    "# Add text annotations\n",
    "for i in range(cmn.shape[0]):\n",
    "    for j in range(cmn.shape[1]):\n",
    "        plt.text(j, i, format(cmn[i, j], '.2f'), horizontalalignment=\"center\", color=\"black\")\n",
    "\n",
    "plt.colorbar()\n",
    "plt.title('Confusion Matrix: RF')\n",
    "labels = ['Accepted', 'Rejected']\n",
    "plt.xticks(ticks=np.arange(len(labels)), labels=labels)\n",
    "plt.yticks(ticks=np.arange(len(labels)), labels=labels)\n",
    "\n",
    "# Add axis labels\n",
    "#plt.xlabel('Predicted labels')\n",
    "#plt.ylabel('True labels')\n",
    "plt.savefig(\"conf_rf2.pdf\", format=\"pdf\", bbox_inches=\"tight\",dpi=1000)\n",
    "plt.show()"
   ]
  },
  {
   "cell_type": "code",
   "execution_count": 705,
   "id": "af77bdb4",
   "metadata": {},
   "outputs": [
    {
     "data": {
      "image/png": "[encoded data removed]",
      "text/plain": [
       "<Figure size 432x288 with 1 Axes>"
      ]
     },
     "metadata": {
      "needs_background": "light"
     },
     "output_type": "display_data"
    }
   ],
   "source": [
    "import matplotlib.pyplot as plt\n",
    "import numpy as np\n",
    "\n",
    "# Sample data\n",
    "categories = ['Labour', 'Model:RF']\n",
    "subcategories = ['Total labour cost', 'Model cost: incorect acceptance', \n",
    "                 'Model cost:  incorrect rejection','Model saving cost']\n",
    "values = np.array([\n",
    "    [X_test.shape[0]*5, 0, 0,0],  # Category A\n",
    "    [0, cm[0][1]*17,cm[1][0]*14,X_test.shape[0]*5-(cm[0][1]*17+cm[1][0]*14) ],  # Category B\n",
    "])\n",
    "\n",
    "# Custom colors\n",
    "colors = ['#5F9EA0', '#1E90FF', '#FF8C00','#808000']  # You can use any valid color codes\n",
    "\n",
    "# Create a figure and axis\n",
    "fig, ax = plt.subplots()\n",
    "\n",
    "# Create stacked bar plot\n",
    "bar_width = 0.5\n",
    "bar_positions = np.arange(len(categories))\n",
    "\n",
    "bottom_values = np.zeros(len(categories))\n",
    "for i, subcategory in enumerate(subcategories):\n",
    "    bars = ax.bar(bar_positions, values[:, i], bar_width, label=subcategory, bottom=bottom_values, color=colors[i])\n",
    "    bottom_values += values[:, i]\n",
    "    \n",
    "    # Add values inside each bar\n",
    "    for bar in bars:\n",
    "        height = bar.get_height()\n",
    "        if height > 0: \n",
    "            ax.text(\n",
    "                bar.get_x() + bar.get_width() / 2,  # x position\n",
    "                bar.get_y() + height / 2,           # y position (centered in the bar)\n",
    "                f'{int(height)}',                   # text value\n",
    "                ha='center',                        # horizontal alignment\n",
    "                va='center',                        # vertical alignment\n",
    "                color='black'\n",
    "            )\n",
    "        else: pass\n",
    "\n",
    "# Add labels and title\n",
    "ax.set_xticks(bar_positions)\n",
    "ax.set_xticklabels(categories)\n",
    "ax.set_ylim(0, 8000)  # Adjust as needed\n",
    "ax.set_ylabel('Cost (€)')\n",
    "#ax.set_title('Stacked Bar Plot with Custom Colors and Values')\n",
    "ax.legend(frameon=False,fontsize=8)\n",
    "# Show plot\n",
    "plt.savefig(\"bar_rf2.pdf\", format=\"pdf\", bbox_inches=\"tight\",dpi=1000)\n",
    "plt.show()"
   ]
  },
  {
   "cell_type": "code",
   "execution_count": 706,
   "id": "phantom-fifty",
   "metadata": {},
   "outputs": [
    {
     "data": {
      "image/png": "[encoded data removed]",
      "text/plain": [
       "<Figure size 432x288 with 1 Axes>"
      ]
     },
     "metadata": {
      "needs_background": "light"
     },
     "output_type": "display_data"
    }
   ],
   "source": [
    "import matplotlib.pyplot as plt\n",
    "import numpy as np\n",
    "\n",
    "# Sample data\n",
    "categories = ['Labour', 'Model:RF']\n",
    "subcategories = ['Total labour cost', 'Model cost: incorect acceptance (as % of total balour cost)', \n",
    "                 'Model cost:  incorrect rejection  (as % of total balour cost)','Model saving cost  (as % of total balour cost)']\n",
    "values = np.array([\n",
    "    [100, 0, 0,0],  # Category A\n",
    "    [0, np.round(((cm[0][1]*14)/(X_test.shape[0]*5))*100,2),np.round(((cm[1][0]*17)/(X_test.shape[0]*5))*100),\n",
    "     np.round(((X_test.shape[0]*5-(cm[0][1]*14+cm[1][0]*17))/(X_test.shape[0]*5))*100) ],  # Category B\n",
    "])\n",
    "\n",
    "# Custom colors\n",
    "colors = ['#5F9EA0', '#1E90FF', '#FF8C00','#808000']  # You can use any valid color codes\n",
    "\n",
    "# Create a figure and axis\n",
    "fig, ax = plt.subplots()\n",
    "\n",
    "# Create stacked bar plot\n",
    "bar_width = 0.5\n",
    "bar_positions = np.arange(len(categories))\n",
    "\n",
    "bottom_values = np.zeros(len(categories))\n",
    "for i, subcategory in enumerate(subcategories):\n",
    "    bars = ax.bar(bar_positions, values[:, i], bar_width, bottom=bottom_values, color=colors[i])\n",
    "    bottom_values += values[:, i]\n",
    "    \n",
    "    # Add values inside each bar\n",
    "    for bar in bars:\n",
    "        height = bar.get_height()\n",
    "        if height > 0: \n",
    "            ax.text(\n",
    "                bar.get_x() + bar.get_width() / 2,  # x position\n",
    "                bar.get_y() + height / 2,           # y position (centered in the bar)\n",
    "                f'{int(height)}',                   # text value\n",
    "                ha='center',                         # horizontal alignment\n",
    "                va='center',                         # vertical alignment\n",
    "                color='black'\n",
    "            )\n",
    "        else: pass\n",
    "\n",
    "# Add labels and title\n",
    "ax.set_xticks(bar_positions)\n",
    "ax.set_xticklabels(categories)\n",
    "ax.set_ylim(0, 151)  # Adjust as needed\n",
    "ax.set_ylabel('Cost (as % of labour cost)')\n",
    "# Show plot\n",
    "plt.savefig(\"bar_rf2.pdf\", format=\"pdf\", bbox_inches=\"tight\",dpi=1000)\n",
    "plt.show()"
   ]
  },
  {
   "cell_type": "markdown",
   "id": "185d3483",
   "metadata": {},
   "source": [
    "#  (b) FLAML: XGBoost"
   ]
  },
  {
   "cell_type": "code",
   "execution_count": 746,
   "id": "a94dadf6",
   "metadata": {},
   "outputs": [
    {
     "name": "stderr",
     "output_type": "stream",
     "text": [
      "[flaml.automl: 07-31 11:48:26] {2599} INFO - task = classification\n",
      "[flaml.automl: 07-31 11:48:26] {2601} INFO - Data split method: stratified\n",
      "[flaml.automl: 07-31 11:48:26] {2604} INFO - Evaluation method: holdout\n",
      "[flaml.automl: 07-31 11:48:26] {2726} INFO - Minimizing error metric: 1-f1\n",
      "[flaml.automl: 07-31 11:48:26] {2870} INFO - List of ML learners in AutoML Run: ['xgboost']\n",
      "[flaml.automl: 07-31 11:48:26] {3166} INFO - iteration 0, current learner xgboost\n",
      "[flaml.automl: 07-31 11:48:27] {3296} INFO - Estimated sufficient time budget=3301s. Estimated necessary time budget=3s.\n",
      "[flaml.automl: 07-31 11:48:27] {3343} INFO -  at 0.7s,\testimator xgboost's best error=0.5798,\tbest estimator xgboost's best error=0.5798\n",
      "[flaml.automl: 07-31 11:48:27] {3166} INFO - iteration 1, current learner xgboost\n",
      "[flaml.automl: 07-31 11:48:27] {3343} INFO -  at 1.0s,\testimator xgboost's best error=0.5391,\tbest estimator xgboost's best error=0.5391\n",
      "[flaml.automl: 07-31 11:48:27] {3166} INFO - iteration 2, current learner xgboost\n",
      "[flaml.automl: 07-31 11:48:28] {3343} INFO -  at 1.5s,\testimator xgboost's best error=0.5391,\tbest estimator xgboost's best error=0.5391\n",
      "[flaml.automl: 07-31 11:48:28] {3166} INFO - iteration 3, current learner xgboost\n",
      "[flaml.automl: 07-31 11:48:28] {3343} INFO -  at 1.7s,\testimator xgboost's best error=0.5391,\tbest estimator xgboost's best error=0.5391\n",
      "[flaml.automl: 07-31 11:48:28] {3166} INFO - iteration 4, current learner xgboost\n",
      "[flaml.automl: 07-31 11:48:28] {3343} INFO -  at 2.2s,\testimator xgboost's best error=0.4829,\tbest estimator xgboost's best error=0.4829\n",
      "[flaml.automl: 07-31 11:48:28] {3166} INFO - iteration 5, current learner xgboost\n",
      "[flaml.automl: 07-31 11:48:29] {3343} INFO -  at 2.7s,\testimator xgboost's best error=0.4773,\tbest estimator xgboost's best error=0.4773\n",
      "[flaml.automl: 07-31 11:48:29] {3166} INFO - iteration 6, current learner xgboost\n",
      "[flaml.automl: 07-31 11:48:29] {3343} INFO -  at 3.2s,\testimator xgboost's best error=0.4773,\tbest estimator xgboost's best error=0.4773\n",
      "[flaml.automl: 07-31 11:48:29] {3166} INFO - iteration 7, current learner xgboost\n",
      "[flaml.automl: 07-31 11:48:30] {3343} INFO -  at 3.6s,\testimator xgboost's best error=0.4590,\tbest estimator xgboost's best error=0.4590\n",
      "[flaml.automl: 07-31 11:48:30] {3166} INFO - iteration 8, current learner xgboost\n",
      "[flaml.automl: 07-31 11:48:30] {3343} INFO -  at 4.1s,\testimator xgboost's best error=0.4590,\tbest estimator xgboost's best error=0.4590\n",
      "[flaml.automl: 07-31 11:48:30] {3166} INFO - iteration 9, current learner xgboost\n",
      "[flaml.automl: 07-31 11:48:31] {3343} INFO -  at 4.6s,\testimator xgboost's best error=0.4590,\tbest estimator xgboost's best error=0.4590\n",
      "[flaml.automl: 07-31 11:48:31] {3166} INFO - iteration 10, current learner xgboost\n",
      "[flaml.automl: 07-31 11:48:31] {3343} INFO -  at 5.1s,\testimator xgboost's best error=0.4563,\tbest estimator xgboost's best error=0.4563\n",
      "[flaml.automl: 07-31 11:48:31] {3166} INFO - iteration 11, current learner xgboost\n",
      "[flaml.automl: 07-31 11:48:31] {3343} INFO -  at 5.4s,\testimator xgboost's best error=0.4480,\tbest estimator xgboost's best error=0.4480\n",
      "[flaml.automl: 07-31 11:48:31] {3166} INFO - iteration 12, current learner xgboost\n",
      "[flaml.automl: 07-31 11:48:32] {3343} INFO -  at 6.0s,\testimator xgboost's best error=0.4361,\tbest estimator xgboost's best error=0.4361\n",
      "[flaml.automl: 07-31 11:48:32] {3166} INFO - iteration 13, current learner xgboost\n",
      "[flaml.automl: 07-31 11:48:33] {3343} INFO -  at 6.5s,\testimator xgboost's best error=0.4361,\tbest estimator xgboost's best error=0.4361\n",
      "[flaml.automl: 07-31 11:48:33] {3166} INFO - iteration 14, current learner xgboost\n",
      "[flaml.automl: 07-31 11:48:33] {3343} INFO -  at 7.3s,\testimator xgboost's best error=0.4361,\tbest estimator xgboost's best error=0.4361\n",
      "[flaml.automl: 07-31 11:48:33] {3166} INFO - iteration 15, current learner xgboost\n",
      "[flaml.automl: 07-31 11:48:34] {3343} INFO -  at 8.4s,\testimator xgboost's best error=0.4213,\tbest estimator xgboost's best error=0.4213\n",
      "[flaml.automl: 07-31 11:48:34] {3166} INFO - iteration 16, current learner xgboost\n",
      "[flaml.automl: 07-31 11:48:35] {3343} INFO -  at 9.0s,\testimator xgboost's best error=0.4213,\tbest estimator xgboost's best error=0.4213\n",
      "[flaml.automl: 07-31 11:48:35] {3166} INFO - iteration 17, current learner xgboost\n",
      "[flaml.automl: 07-31 11:48:36] {3343} INFO -  at 10.2s,\testimator xgboost's best error=0.4213,\tbest estimator xgboost's best error=0.4213\n",
      "[flaml.automl: 07-31 11:48:36] {3166} INFO - iteration 18, current learner xgboost\n",
      "[flaml.automl: 07-31 11:48:37] {3343} INFO -  at 11.2s,\testimator xgboost's best error=0.4213,\tbest estimator xgboost's best error=0.4213\n",
      "[flaml.automl: 07-31 11:48:37] {3166} INFO - iteration 19, current learner xgboost\n",
      "[flaml.automl: 07-31 11:48:38] {3343} INFO -  at 12.1s,\testimator xgboost's best error=0.4213,\tbest estimator xgboost's best error=0.4213\n",
      "[flaml.automl: 07-31 11:48:38] {3166} INFO - iteration 20, current learner xgboost\n",
      "[flaml.automl: 07-31 11:48:39] {3343} INFO -  at 13.0s,\testimator xgboost's best error=0.4213,\tbest estimator xgboost's best error=0.4213\n",
      "[flaml.automl: 07-31 11:48:39] {3166} INFO - iteration 21, current learner xgboost\n",
      "[flaml.automl: 07-31 11:48:40] {3343} INFO -  at 14.4s,\testimator xgboost's best error=0.4213,\tbest estimator xgboost's best error=0.4213\n",
      "[flaml.automl: 07-31 11:48:40] {3166} INFO - iteration 22, current learner xgboost\n",
      "[flaml.automl: 07-31 11:48:41] {3343} INFO -  at 15.2s,\testimator xgboost's best error=0.4213,\tbest estimator xgboost's best error=0.4213\n",
      "[flaml.automl: 07-31 11:48:41] {3166} INFO - iteration 23, current learner xgboost\n",
      "[flaml.automl: 07-31 11:48:42] {3343} INFO -  at 16.4s,\testimator xgboost's best error=0.4200,\tbest estimator xgboost's best error=0.4200\n",
      "[flaml.automl: 07-31 11:48:42] {3166} INFO - iteration 24, current learner xgboost\n",
      "[flaml.automl: 07-31 11:48:44] {3343} INFO -  at 17.5s,\testimator xgboost's best error=0.4200,\tbest estimator xgboost's best error=0.4200\n",
      "[flaml.automl: 07-31 11:48:44] {3166} INFO - iteration 25, current learner xgboost\n",
      "[flaml.automl: 07-31 11:48:45] {3343} INFO -  at 18.7s,\testimator xgboost's best error=0.4200,\tbest estimator xgboost's best error=0.4200\n",
      "[flaml.automl: 07-31 11:48:45] {3166} INFO - iteration 26, current learner xgboost\n",
      "[flaml.automl: 07-31 11:48:45] {3343} INFO -  at 19.4s,\testimator xgboost's best error=0.4200,\tbest estimator xgboost's best error=0.4200\n",
      "[flaml.automl: 07-31 11:48:45] {3166} INFO - iteration 27, current learner xgboost\n",
      "[flaml.automl: 07-31 11:48:47] {3343} INFO -  at 20.8s,\testimator xgboost's best error=0.4200,\tbest estimator xgboost's best error=0.4200\n",
      "[flaml.automl: 07-31 11:48:47] {3166} INFO - iteration 28, current learner xgboost\n",
      "[flaml.automl: 07-31 11:48:48] {3343} INFO -  at 21.6s,\testimator xgboost's best error=0.4200,\tbest estimator xgboost's best error=0.4200\n",
      "[flaml.automl: 07-31 11:48:48] {3166} INFO - iteration 29, current learner xgboost\n",
      "[flaml.automl: 07-31 11:48:49] {3343} INFO -  at 22.6s,\testimator xgboost's best error=0.4164,\tbest estimator xgboost's best error=0.4164\n",
      "[flaml.automl: 07-31 11:48:49] {3166} INFO - iteration 30, current learner xgboost\n",
      "[flaml.automl: 07-31 11:48:50] {3343} INFO -  at 23.9s,\testimator xgboost's best error=0.4164,\tbest estimator xgboost's best error=0.4164\n",
      "[flaml.automl: 07-31 11:48:50] {3166} INFO - iteration 31, current learner xgboost\n",
      "[flaml.automl: 07-31 11:48:52] {3343} INFO -  at 25.7s,\testimator xgboost's best error=0.4164,\tbest estimator xgboost's best error=0.4164\n",
      "[flaml.automl: 07-31 11:48:52] {3166} INFO - iteration 32, current learner xgboost\n",
      "[flaml.automl: 07-31 11:48:52] {3343} INFO -  at 26.2s,\testimator xgboost's best error=0.4164,\tbest estimator xgboost's best error=0.4164\n",
      "[flaml.automl: 07-31 11:48:52] {3166} INFO - iteration 33, current learner xgboost\n",
      "[flaml.automl: 07-31 11:48:54] {3343} INFO -  at 27.5s,\testimator xgboost's best error=0.4164,\tbest estimator xgboost's best error=0.4164\n",
      "[flaml.automl: 07-31 11:48:54] {3166} INFO - iteration 34, current learner xgboost\n",
      "[flaml.automl: 07-31 11:48:54] {3343} INFO -  at 28.3s,\testimator xgboost's best error=0.4161,\tbest estimator xgboost's best error=0.4161\n"
     ]
    },
    {
     "name": "stderr",
     "output_type": "stream",
     "text": [
      "[flaml.automl: 07-31 11:48:54] {3166} INFO - iteration 35, current learner xgboost\n",
      "[flaml.automl: 07-31 11:48:55] {3343} INFO -  at 29.4s,\testimator xgboost's best error=0.4161,\tbest estimator xgboost's best error=0.4161\n",
      "[flaml.automl: 07-31 11:48:55] {3166} INFO - iteration 36, current learner xgboost\n",
      "[flaml.automl: 07-31 11:48:56] {3343} INFO -  at 30.2s,\testimator xgboost's best error=0.4161,\tbest estimator xgboost's best error=0.4161\n",
      "[flaml.automl: 07-31 11:48:56] {3166} INFO - iteration 37, current learner xgboost\n",
      "[flaml.automl: 07-31 11:48:57] {3343} INFO -  at 31.0s,\testimator xgboost's best error=0.4161,\tbest estimator xgboost's best error=0.4161\n",
      "[flaml.automl: 07-31 11:48:57] {3166} INFO - iteration 38, current learner xgboost\n",
      "[flaml.automl: 07-31 11:48:58] {3343} INFO -  at 31.9s,\testimator xgboost's best error=0.4161,\tbest estimator xgboost's best error=0.4161\n",
      "[flaml.automl: 07-31 11:48:58] {3166} INFO - iteration 39, current learner xgboost\n",
      "[flaml.automl: 07-31 11:48:59] {3343} INFO -  at 32.5s,\testimator xgboost's best error=0.4161,\tbest estimator xgboost's best error=0.4161\n",
      "[flaml.automl: 07-31 11:48:59] {3166} INFO - iteration 40, current learner xgboost\n",
      "[flaml.automl: 07-31 11:49:00] {3343} INFO -  at 34.4s,\testimator xgboost's best error=0.4161,\tbest estimator xgboost's best error=0.4161\n",
      "[flaml.automl: 07-31 11:49:00] {3166} INFO - iteration 41, current learner xgboost\n",
      "[flaml.automl: 07-31 11:49:02] {3343} INFO -  at 36.0s,\testimator xgboost's best error=0.4161,\tbest estimator xgboost's best error=0.4161\n",
      "[flaml.automl: 07-31 11:49:02] {3166} INFO - iteration 42, current learner xgboost\n",
      "[flaml.automl: 07-31 11:49:03] {3343} INFO -  at 36.6s,\testimator xgboost's best error=0.4161,\tbest estimator xgboost's best error=0.4161\n",
      "[flaml.automl: 07-31 11:49:03] {3166} INFO - iteration 43, current learner xgboost\n",
      "[flaml.automl: 07-31 11:49:03] {3343} INFO -  at 37.2s,\testimator xgboost's best error=0.4161,\tbest estimator xgboost's best error=0.4161\n",
      "[flaml.automl: 07-31 11:49:03] {3166} INFO - iteration 44, current learner xgboost\n",
      "[flaml.automl: 07-31 11:49:04] {3343} INFO -  at 38.1s,\testimator xgboost's best error=0.4161,\tbest estimator xgboost's best error=0.4161\n",
      "[flaml.automl: 07-31 11:49:04] {3166} INFO - iteration 45, current learner xgboost\n",
      "[flaml.automl: 07-31 11:49:05] {3343} INFO -  at 38.6s,\testimator xgboost's best error=0.4161,\tbest estimator xgboost's best error=0.4161\n",
      "[flaml.automl: 07-31 11:49:05] {3166} INFO - iteration 46, current learner xgboost\n",
      "[flaml.automl: 07-31 11:49:06] {3343} INFO -  at 39.7s,\testimator xgboost's best error=0.4161,\tbest estimator xgboost's best error=0.4161\n",
      "[flaml.automl: 07-31 11:49:06] {3166} INFO - iteration 47, current learner xgboost\n",
      "[flaml.automl: 07-31 11:49:07] {3343} INFO -  at 40.9s,\testimator xgboost's best error=0.4161,\tbest estimator xgboost's best error=0.4161\n",
      "[flaml.automl: 07-31 11:49:07] {3166} INFO - iteration 48, current learner xgboost\n",
      "[flaml.automl: 07-31 11:49:08] {3343} INFO -  at 41.6s,\testimator xgboost's best error=0.4161,\tbest estimator xgboost's best error=0.4161\n",
      "[flaml.automl: 07-31 11:49:08] {3166} INFO - iteration 49, current learner xgboost\n",
      "[flaml.automl: 07-31 11:49:09] {3343} INFO -  at 43.1s,\testimator xgboost's best error=0.4161,\tbest estimator xgboost's best error=0.4161\n",
      "[flaml.automl: 07-31 11:49:09] {3166} INFO - iteration 50, current learner xgboost\n",
      "[flaml.automl: 07-31 11:49:10] {3343} INFO -  at 43.9s,\testimator xgboost's best error=0.4161,\tbest estimator xgboost's best error=0.4161\n",
      "[flaml.automl: 07-31 11:49:10] {3166} INFO - iteration 51, current learner xgboost\n",
      "[flaml.automl: 07-31 11:49:11] {3343} INFO -  at 45.0s,\testimator xgboost's best error=0.4161,\tbest estimator xgboost's best error=0.4161\n",
      "[flaml.automl: 07-31 11:49:11] {3166} INFO - iteration 52, current learner xgboost\n",
      "[flaml.automl: 07-31 11:49:12] {3343} INFO -  at 45.8s,\testimator xgboost's best error=0.4161,\tbest estimator xgboost's best error=0.4161\n",
      "[flaml.automl: 07-31 11:49:12] {3166} INFO - iteration 53, current learner xgboost\n",
      "[flaml.automl: 07-31 11:49:13] {3343} INFO -  at 46.6s,\testimator xgboost's best error=0.4161,\tbest estimator xgboost's best error=0.4161\n",
      "[flaml.automl: 07-31 11:49:13] {3166} INFO - iteration 54, current learner xgboost\n",
      "[flaml.automl: 07-31 11:49:14] {3343} INFO -  at 47.6s,\testimator xgboost's best error=0.4161,\tbest estimator xgboost's best error=0.4161\n",
      "[flaml.automl: 07-31 11:49:14] {3166} INFO - iteration 55, current learner xgboost\n",
      "[flaml.automl: 07-31 11:49:14] {3343} INFO -  at 48.2s,\testimator xgboost's best error=0.4161,\tbest estimator xgboost's best error=0.4161\n",
      "[flaml.automl: 07-31 11:49:14] {3166} INFO - iteration 56, current learner xgboost\n",
      "[flaml.automl: 07-31 11:49:15] {3343} INFO -  at 49.2s,\testimator xgboost's best error=0.4161,\tbest estimator xgboost's best error=0.4161\n",
      "[flaml.automl: 07-31 11:49:15] {3166} INFO - iteration 57, current learner xgboost\n",
      "[flaml.automl: 07-31 11:49:16] {3343} INFO -  at 50.1s,\testimator xgboost's best error=0.4161,\tbest estimator xgboost's best error=0.4161\n",
      "[flaml.automl: 07-31 11:49:16] {3166} INFO - iteration 58, current learner xgboost\n",
      "[flaml.automl: 07-31 11:49:17] {3343} INFO -  at 50.9s,\testimator xgboost's best error=0.4161,\tbest estimator xgboost's best error=0.4161\n",
      "[flaml.automl: 07-31 11:49:17] {3166} INFO - iteration 59, current learner xgboost\n",
      "[flaml.automl: 07-31 11:49:18] {3343} INFO -  at 51.9s,\testimator xgboost's best error=0.4161,\tbest estimator xgboost's best error=0.4161\n",
      "[flaml.automl: 07-31 11:49:18] {3166} INFO - iteration 60, current learner xgboost\n",
      "[flaml.automl: 07-31 11:49:19] {3343} INFO -  at 53.1s,\testimator xgboost's best error=0.4161,\tbest estimator xgboost's best error=0.4161\n",
      "[flaml.automl: 07-31 11:49:19] {3166} INFO - iteration 61, current learner xgboost\n",
      "[flaml.automl: 07-31 11:49:20] {3343} INFO -  at 53.6s,\testimator xgboost's best error=0.4161,\tbest estimator xgboost's best error=0.4161\n",
      "[flaml.automl: 07-31 11:49:20] {3166} INFO - iteration 62, current learner xgboost\n",
      "[flaml.automl: 07-31 11:49:21] {3343} INFO -  at 55.2s,\testimator xgboost's best error=0.4161,\tbest estimator xgboost's best error=0.4161\n",
      "[flaml.automl: 07-31 11:49:21] {3166} INFO - iteration 63, current learner xgboost\n",
      "[flaml.automl: 07-31 11:49:22] {3343} INFO -  at 55.8s,\testimator xgboost's best error=0.4161,\tbest estimator xgboost's best error=0.4161\n",
      "[flaml.automl: 07-31 11:49:22] {3166} INFO - iteration 64, current learner xgboost\n",
      "[flaml.automl: 07-31 11:49:23] {3343} INFO -  at 57.0s,\testimator xgboost's best error=0.4161,\tbest estimator xgboost's best error=0.4161\n",
      "[flaml.automl: 07-31 11:49:23] {3166} INFO - iteration 65, current learner xgboost\n",
      "[flaml.automl: 07-31 11:49:24] {3343} INFO -  at 57.7s,\testimator xgboost's best error=0.4161,\tbest estimator xgboost's best error=0.4161\n",
      "[flaml.automl: 07-31 11:49:24] {3166} INFO - iteration 66, current learner xgboost\n",
      "[flaml.automl: 07-31 11:49:25] {3343} INFO -  at 58.8s,\testimator xgboost's best error=0.4161,\tbest estimator xgboost's best error=0.4161\n",
      "[flaml.automl: 07-31 11:49:25] {3166} INFO - iteration 67, current learner xgboost\n",
      "[flaml.automl: 07-31 11:49:26] {3343} INFO -  at 59.6s,\testimator xgboost's best error=0.4161,\tbest estimator xgboost's best error=0.4161\n",
      "[flaml.automl: 07-31 11:49:27] {3602} INFO - retrain xgboost for 1.1s\n",
      "[flaml.automl: 07-31 11:49:27] {3609} INFO - retrained model: XGBClassifier(base_score=0.5, booster='gbtree',\n",
      "              colsample_bylevel=0.7124336918468022, colsample_bynode=1,\n",
      "              colsample_bytree=1.0, gamma=0, gpu_id=-1, grow_policy='lossguide',\n",
      "              importance_type='gain', interaction_constraints='',\n",
      "              learning_rate=0.022924020404944838, max_delta_step=0, max_depth=0,\n",
      "              max_leaves=683, min_child_weight=0.07055816030028036, missing=nan,\n",
      "              monotone_constraints='()', n_estimators=12, n_jobs=-1,\n",
      "              num_parallel_tree=1, random_state=0,\n",
      "              reg_alpha=0.23051352701438935, reg_lambda=1.092633931182666,\n",
      "              scale_pos_weight=1, subsample=0.9895062333608149,\n",
      "              tree_method='hist', use_label_encoder=False,\n",
      "              validate_parameters=1, verbosity=0)\n"
     ]
    },
    {
     "name": "stderr",
     "output_type": "stream",
     "text": [
      "[flaml.automl: 07-31 11:49:27] {2901} INFO - fit succeeded\n",
      "[flaml.automl: 07-31 11:49:27] {2902} INFO - Time taken to find the best model: 28.339049100875854\n"
     ]
    }
   ],
   "source": [
    "from flaml import AutoML\n",
    "\n",
    "automl2 = AutoML()\n",
    "estimator_list = ['xgboost']\n",
    "automl_settings = {\n",
    "    \"time_budget\": 60,  # total running time in seconds\n",
    "    \"task\": 'classification',  # task type\n",
    "    \"seed\": 24545678,  # random seed\n",
    "    \"metric\":  'f1',  # evaluation metric\n",
    "    \"estimator_list\": estimator_list,  # specify the list of estimators\n",
    "}\n",
    "# Fit the AutoML model with the specified settings\n",
    "automl2.fit(X_train=X_train, y_train=y_train, **automl_settings)\n",
    "pred2=automl2.predict(X_test)"
   ]
  },
  {
   "cell_type": "code",
   "execution_count": 708,
   "id": "b7c1cc3a",
   "metadata": {},
   "outputs": [
    {
     "name": "stdout",
     "output_type": "stream",
     "text": [
      "Accuracy     0.727273\n",
      "Precision    0.631922\n",
      "Recall       0.552707\n",
      "F1-score     0.589666\n"
     ]
    }
   ],
   "source": [
    "evaluation2(y_test,pred2)"
   ]
  },
  {
   "cell_type": "code",
   "execution_count": 709,
   "id": "8ed8834b",
   "metadata": {},
   "outputs": [
    {
     "name": "stdout",
     "output_type": "stream",
     "text": [
      "Accuracy: 0.7273\n",
      "[[526 113]\n",
      " [157 194]]\n"
     ]
    },
    {
     "data": {
      "image/png": "[encoded data removed]",
      "text/plain": [
       "<Figure size 432x360 with 2 Axes>"
      ]
     },
     "metadata": {
      "needs_background": "light"
     },
     "output_type": "display_data"
    }
   ],
   "source": [
    "import matplotlib.pyplot as plt\n",
    "from sklearn.metrics import confusion_matrix\n",
    "from sklearn.metrics import accuracy_score\n",
    "\n",
    "# Assuming y_test and y_pred are already defined as your true labels and predictions\n",
    "accuracy = accuracy_score(y_test, pred2)\n",
    "print(f'Accuracy: {accuracy:.4f}')\n",
    "cm = confusion_matrix(y_test, pred2)\n",
    "print(cm)\n",
    "# Normalize confusion matrix\n",
    "cmn = cm.astype('float') / cm.sum(axis=1)[:, np.newaxis]\n",
    "\n",
    "# Plot heatmap using matplotlib\n",
    "plt.figure(figsize=(6, 5))\n",
    "plt.imshow(cmn, interpolation='nearest', cmap='Blues')\n",
    "\n",
    "# Add text annotations\n",
    "for i in range(cmn.shape[0]):\n",
    "    for j in range(cmn.shape[1]):\n",
    "        plt.text(j, i, format(cmn[i, j], '.2f'), horizontalalignment=\"center\", color=\"black\")\n",
    "\n",
    "plt.colorbar()\n",
    "plt.title('Confusion Matrix: XGBoost')\n",
    "labels = ['Accepted', 'Rejected']\n",
    "plt.xticks(ticks=np.arange(len(labels)), labels=labels)\n",
    "plt.yticks(ticks=np.arange(len(labels)), labels=labels)\n",
    "\n",
    "# Add axis labels\n",
    "#plt.xlabel('Predicted labels')\n",
    "#plt.ylabel('True labels')\n",
    "plt.savefig(\"conf_xgb2.pdf\", format=\"pdf\", bbox_inches=\"tight\",dpi=1000)\n",
    "plt.show()"
   ]
  },
  {
   "cell_type": "code",
   "execution_count": 710,
   "id": "872fb539",
   "metadata": {},
   "outputs": [
    {
     "data": {
      "image/png": "[encoded data removed]",
      "text/plain": [
       "<Figure size 432x288 with 1 Axes>"
      ]
     },
     "metadata": {
      "needs_background": "light"
     },
     "output_type": "display_data"
    }
   ],
   "source": [
    "import matplotlib.pyplot as plt\n",
    "import numpy as np\n",
    "\n",
    "# Sample data\n",
    "categories = ['Labour', 'Model:XGBoost']\n",
    "subcategories = ['Total labour cost', 'Model cost: incorect acceptance (as % of total balour cost)', \n",
    "                 'Model cost:  incorrect rejection  (as % of total balour cost)','Model saving cost  (as % of total balour cost)']\n",
    "values = np.array([\n",
    "    [100, 0, 0,0],  # Category A\n",
    "    [0, np.round(((cm[0][1]*14)/(X_test.shape[0]*5))*100,2),np.round(((cm[1][0]*17)/(X_test.shape[0]*5))*100),\n",
    "     np.round(((X_test.shape[0]*5-(cm[0][1]*14+cm[1][0]*17))/(X_test.shape[0]*5))*100) ],  # Category B\n",
    "])\n",
    "\n",
    "# Custom colors\n",
    "colors = ['#5F9EA0', '#1E90FF', '#FF8C00','#808000']  # You can use any valid color codes\n",
    "\n",
    "# Create a figure and axis\n",
    "fig, ax = plt.subplots()\n",
    "\n",
    "# Create stacked bar plot\n",
    "bar_width = 0.5\n",
    "bar_positions = np.arange(len(categories))\n",
    "\n",
    "bottom_values = np.zeros(len(categories))\n",
    "for i, subcategory in enumerate(subcategories):\n",
    "    bars = ax.bar(bar_positions, values[:, i], bar_width, bottom=bottom_values, color=colors[i])\n",
    "    bottom_values += values[:, i]\n",
    "    \n",
    "    # Add values inside each bar\n",
    "    for bar in bars:\n",
    "        height = bar.get_height()\n",
    "        if height > 0: \n",
    "            ax.text(\n",
    "                bar.get_x() + bar.get_width() / 2,  # x position\n",
    "                bar.get_y() + height / 2,           # y position (centered in the bar)\n",
    "                f'{int(height)}',                   # text value\n",
    "                ha='center',                         # horizontal alignment\n",
    "                va='center',                         # vertical alignment\n",
    "                color='black'\n",
    "            )\n",
    "        else: pass\n",
    "\n",
    "# Add labels and title\n",
    "ax.set_xticks(bar_positions)\n",
    "ax.set_xticklabels(categories)\n",
    "ax.set_ylim(0, 151)  # Adjust as needed\n",
    "ax.set_ylabel('Cost (as % of labour cost)')\n",
    "# Show plot\n",
    "plt.savefig(\"bar_xgb2.pdf\", format=\"pdf\", bbox_inches=\"tight\",dpi=1000)\n",
    "plt.show()"
   ]
  },
  {
   "cell_type": "markdown",
   "id": "colonial-biodiversity",
   "metadata": {},
   "source": [
    "# (c) FLAML: LGBM"
   ]
  },
  {
   "cell_type": "code",
   "execution_count": 747,
   "id": "519e2609",
   "metadata": {},
   "outputs": [
    {
     "name": "stderr",
     "output_type": "stream",
     "text": [
      "[flaml.automl: 07-31 11:49:27] {2599} INFO - task = classification\n",
      "[flaml.automl: 07-31 11:49:27] {2601} INFO - Data split method: stratified\n",
      "[flaml.automl: 07-31 11:49:27] {2604} INFO - Evaluation method: holdout\n",
      "[flaml.automl: 07-31 11:49:28] {2726} INFO - Minimizing error metric: 1-f1\n",
      "[flaml.automl: 07-31 11:49:28] {2870} INFO - List of ML learners in AutoML Run: ['lgbm']\n",
      "[flaml.automl: 07-31 11:49:28] {3166} INFO - iteration 0, current learner lgbm\n",
      "[flaml.automl: 07-31 11:49:28] {3296} INFO - Estimated sufficient time budget=850s. Estimated necessary time budget=1s.\n",
      "[flaml.automl: 07-31 11:49:28] {3343} INFO -  at 1.3s,\testimator lgbm's best error=1.0000,\tbest estimator lgbm's best error=1.0000\n",
      "[flaml.automl: 07-31 11:49:28] {3166} INFO - iteration 1, current learner lgbm\n",
      "[flaml.automl: 07-31 11:49:28] {3343} INFO -  at 1.4s,\testimator lgbm's best error=1.0000,\tbest estimator lgbm's best error=1.0000\n",
      "[flaml.automl: 07-31 11:49:28] {3166} INFO - iteration 2, current learner lgbm\n",
      "[flaml.automl: 07-31 11:49:28] {3343} INFO -  at 1.5s,\testimator lgbm's best error=0.7827,\tbest estimator lgbm's best error=0.7827\n",
      "[flaml.automl: 07-31 11:49:28] {3166} INFO - iteration 3, current learner lgbm\n",
      "[flaml.automl: 07-31 11:49:28] {3343} INFO -  at 1.6s,\testimator lgbm's best error=0.7827,\tbest estimator lgbm's best error=0.7827\n",
      "[flaml.automl: 07-31 11:49:28] {3166} INFO - iteration 4, current learner lgbm\n",
      "[flaml.automl: 07-31 11:49:29] {3343} INFO -  at 1.8s,\testimator lgbm's best error=0.5220,\tbest estimator lgbm's best error=0.5220\n",
      "[flaml.automl: 07-31 11:49:29] {3166} INFO - iteration 5, current learner lgbm\n",
      "[flaml.automl: 07-31 11:49:29] {3343} INFO -  at 2.0s,\testimator lgbm's best error=0.4783,\tbest estimator lgbm's best error=0.4783\n",
      "[flaml.automl: 07-31 11:49:29] {3166} INFO - iteration 6, current learner lgbm\n",
      "[flaml.automl: 07-31 11:49:29] {3343} INFO -  at 2.1s,\testimator lgbm's best error=0.4783,\tbest estimator lgbm's best error=0.4783\n",
      "[flaml.automl: 07-31 11:49:29] {3166} INFO - iteration 7, current learner lgbm\n",
      "[flaml.automl: 07-31 11:49:29] {3343} INFO -  at 2.3s,\testimator lgbm's best error=0.4254,\tbest estimator lgbm's best error=0.4254\n",
      "[flaml.automl: 07-31 11:49:29] {3166} INFO - iteration 8, current learner lgbm\n",
      "[flaml.automl: 07-31 11:49:29] {3343} INFO -  at 2.5s,\testimator lgbm's best error=0.4254,\tbest estimator lgbm's best error=0.4254\n",
      "[flaml.automl: 07-31 11:49:29] {3166} INFO - iteration 9, current learner lgbm\n",
      "[flaml.automl: 07-31 11:49:30] {3343} INFO -  at 2.7s,\testimator lgbm's best error=0.4254,\tbest estimator lgbm's best error=0.4254\n",
      "[flaml.automl: 07-31 11:49:30] {3166} INFO - iteration 10, current learner lgbm\n",
      "[flaml.automl: 07-31 11:49:30] {3343} INFO -  at 2.9s,\testimator lgbm's best error=0.4254,\tbest estimator lgbm's best error=0.4254\n",
      "[flaml.automl: 07-31 11:49:30] {3166} INFO - iteration 11, current learner lgbm\n",
      "[flaml.automl: 07-31 11:49:30] {3343} INFO -  at 3.2s,\testimator lgbm's best error=0.4028,\tbest estimator lgbm's best error=0.4028\n",
      "[flaml.automl: 07-31 11:49:30] {3166} INFO - iteration 12, current learner lgbm\n",
      "[flaml.automl: 07-31 11:49:30] {3343} INFO -  at 3.4s,\testimator lgbm's best error=0.4028,\tbest estimator lgbm's best error=0.4028\n",
      "[flaml.automl: 07-31 11:49:30] {3166} INFO - iteration 13, current learner lgbm\n",
      "[flaml.automl: 07-31 11:49:30] {3343} INFO -  at 3.6s,\testimator lgbm's best error=0.4028,\tbest estimator lgbm's best error=0.4028\n",
      "[flaml.automl: 07-31 11:49:30] {3166} INFO - iteration 14, current learner lgbm\n",
      "[flaml.automl: 07-31 11:49:31] {3343} INFO -  at 4.5s,\testimator lgbm's best error=0.4028,\tbest estimator lgbm's best error=0.4028\n",
      "[flaml.automl: 07-31 11:49:31] {3166} INFO - iteration 15, current learner lgbm\n",
      "[flaml.automl: 07-31 11:49:32] {3343} INFO -  at 4.6s,\testimator lgbm's best error=0.4028,\tbest estimator lgbm's best error=0.4028\n",
      "[flaml.automl: 07-31 11:49:32] {3166} INFO - iteration 16, current learner lgbm\n",
      "[flaml.automl: 07-31 11:49:33] {3343} INFO -  at 5.7s,\testimator lgbm's best error=0.4028,\tbest estimator lgbm's best error=0.4028\n",
      "[flaml.automl: 07-31 11:49:33] {3166} INFO - iteration 17, current learner lgbm\n",
      "[flaml.automl: 07-31 11:49:34] {3343} INFO -  at 7.4s,\testimator lgbm's best error=0.4028,\tbest estimator lgbm's best error=0.4028\n",
      "[flaml.automl: 07-31 11:49:34] {3166} INFO - iteration 18, current learner lgbm\n",
      "[flaml.automl: 07-31 11:49:34] {3343} INFO -  at 7.5s,\testimator lgbm's best error=0.4028,\tbest estimator lgbm's best error=0.4028\n",
      "[flaml.automl: 07-31 11:49:34] {3166} INFO - iteration 19, current learner lgbm\n",
      "[flaml.automl: 07-31 11:49:35] {3343} INFO -  at 7.9s,\testimator lgbm's best error=0.4028,\tbest estimator lgbm's best error=0.4028\n",
      "[flaml.automl: 07-31 11:49:35] {3166} INFO - iteration 20, current learner lgbm\n",
      "[flaml.automl: 07-31 11:49:35] {3343} INFO -  at 8.1s,\testimator lgbm's best error=0.4028,\tbest estimator lgbm's best error=0.4028\n",
      "[flaml.automl: 07-31 11:49:35] {3166} INFO - iteration 21, current learner lgbm\n",
      "[flaml.automl: 07-31 11:49:35] {3343} INFO -  at 8.4s,\testimator lgbm's best error=0.4028,\tbest estimator lgbm's best error=0.4028\n",
      "[flaml.automl: 07-31 11:49:35] {3166} INFO - iteration 22, current learner lgbm\n",
      "[flaml.automl: 07-31 11:49:36] {3343} INFO -  at 8.9s,\testimator lgbm's best error=0.4028,\tbest estimator lgbm's best error=0.4028\n",
      "[flaml.automl: 07-31 11:49:36] {3166} INFO - iteration 23, current learner lgbm\n",
      "[flaml.automl: 07-31 11:49:36] {3343} INFO -  at 9.2s,\testimator lgbm's best error=0.4028,\tbest estimator lgbm's best error=0.4028\n",
      "[flaml.automl: 07-31 11:49:36] {3166} INFO - iteration 24, current learner lgbm\n",
      "[flaml.automl: 07-31 11:49:37] {3343} INFO -  at 9.7s,\testimator lgbm's best error=0.4028,\tbest estimator lgbm's best error=0.4028\n",
      "[flaml.automl: 07-31 11:49:37] {3166} INFO - iteration 25, current learner lgbm\n",
      "[flaml.automl: 07-31 11:49:37] {3343} INFO -  at 9.9s,\testimator lgbm's best error=0.4028,\tbest estimator lgbm's best error=0.4028\n",
      "[flaml.automl: 07-31 11:49:37] {3166} INFO - iteration 26, current learner lgbm\n",
      "[flaml.automl: 07-31 11:49:38] {3343} INFO -  at 11.4s,\testimator lgbm's best error=0.4028,\tbest estimator lgbm's best error=0.4028\n",
      "[flaml.automl: 07-31 11:49:38] {3166} INFO - iteration 27, current learner lgbm\n",
      "[flaml.automl: 07-31 11:49:39] {3343} INFO -  at 12.6s,\testimator lgbm's best error=0.4028,\tbest estimator lgbm's best error=0.4028\n",
      "[flaml.automl: 07-31 11:49:39] {3166} INFO - iteration 28, current learner lgbm\n",
      "[flaml.automl: 07-31 11:49:40] {3343} INFO -  at 12.7s,\testimator lgbm's best error=0.4028,\tbest estimator lgbm's best error=0.4028\n",
      "[flaml.automl: 07-31 11:49:40] {3166} INFO - iteration 29, current learner lgbm\n",
      "[flaml.automl: 07-31 11:49:40] {3343} INFO -  at 12.9s,\testimator lgbm's best error=0.4028,\tbest estimator lgbm's best error=0.4028\n",
      "[flaml.automl: 07-31 11:49:40] {3166} INFO - iteration 30, current learner lgbm\n",
      "[flaml.automl: 07-31 11:49:41] {3343} INFO -  at 13.7s,\testimator lgbm's best error=0.4028,\tbest estimator lgbm's best error=0.4028\n",
      "[flaml.automl: 07-31 11:49:41] {3166} INFO - iteration 31, current learner lgbm\n",
      "[flaml.automl: 07-31 11:49:41] {3343} INFO -  at 14.0s,\testimator lgbm's best error=0.4028,\tbest estimator lgbm's best error=0.4028\n",
      "[flaml.automl: 07-31 11:49:41] {3166} INFO - iteration 32, current learner lgbm\n",
      "[flaml.automl: 07-31 11:49:41] {3343} INFO -  at 14.2s,\testimator lgbm's best error=0.4028,\tbest estimator lgbm's best error=0.4028\n",
      "[flaml.automl: 07-31 11:49:41] {3166} INFO - iteration 33, current learner lgbm\n",
      "[flaml.automl: 07-31 11:49:41] {3343} INFO -  at 14.4s,\testimator lgbm's best error=0.4028,\tbest estimator lgbm's best error=0.4028\n",
      "[flaml.automl: 07-31 11:49:41] {3166} INFO - iteration 34, current learner lgbm\n",
      "[flaml.automl: 07-31 11:49:43] {3343} INFO -  at 15.8s,\testimator lgbm's best error=0.4028,\tbest estimator lgbm's best error=0.4028\n",
      "[flaml.automl: 07-31 11:49:43] {3166} INFO - iteration 35, current learner lgbm\n",
      "[flaml.automl: 07-31 11:49:44] {3343} INFO -  at 17.4s,\testimator lgbm's best error=0.4028,\tbest estimator lgbm's best error=0.4028\n",
      "[flaml.automl: 07-31 11:49:44] {3166} INFO - iteration 36, current learner lgbm\n",
      "[flaml.automl: 07-31 11:49:44] {3343} INFO -  at 17.6s,\testimator lgbm's best error=0.4028,\tbest estimator lgbm's best error=0.4028\n"
     ]
    },
    {
     "name": "stderr",
     "output_type": "stream",
     "text": [
      "[flaml.automl: 07-31 11:49:44] {3166} INFO - iteration 37, current learner lgbm\n",
      "[flaml.automl: 07-31 11:49:45] {3343} INFO -  at 18.2s,\testimator lgbm's best error=0.4028,\tbest estimator lgbm's best error=0.4028\n",
      "[flaml.automl: 07-31 11:49:45] {3166} INFO - iteration 38, current learner lgbm\n",
      "[flaml.automl: 07-31 11:49:45] {3343} INFO -  at 18.4s,\testimator lgbm's best error=0.4028,\tbest estimator lgbm's best error=0.4028\n",
      "[flaml.automl: 07-31 11:49:45] {3166} INFO - iteration 39, current learner lgbm\n",
      "[flaml.automl: 07-31 11:49:46] {3343} INFO -  at 18.8s,\testimator lgbm's best error=0.4028,\tbest estimator lgbm's best error=0.4028\n",
      "[flaml.automl: 07-31 11:49:46] {3166} INFO - iteration 40, current learner lgbm\n",
      "[flaml.automl: 07-31 11:49:46] {3343} INFO -  at 19.2s,\testimator lgbm's best error=0.4028,\tbest estimator lgbm's best error=0.4028\n",
      "[flaml.automl: 07-31 11:49:46] {3166} INFO - iteration 41, current learner lgbm\n",
      "[flaml.automl: 07-31 11:49:46] {3343} INFO -  at 19.3s,\testimator lgbm's best error=0.4028,\tbest estimator lgbm's best error=0.4028\n",
      "[flaml.automl: 07-31 11:49:46] {3166} INFO - iteration 42, current learner lgbm\n",
      "[flaml.automl: 07-31 11:49:47] {3343} INFO -  at 20.0s,\testimator lgbm's best error=0.4028,\tbest estimator lgbm's best error=0.4028\n",
      "[flaml.automl: 07-31 11:49:47] {3166} INFO - iteration 43, current learner lgbm\n",
      "[flaml.automl: 07-31 11:49:48] {3343} INFO -  at 21.4s,\testimator lgbm's best error=0.4028,\tbest estimator lgbm's best error=0.4028\n",
      "[flaml.automl: 07-31 11:49:48] {3166} INFO - iteration 44, current learner lgbm\n",
      "[flaml.automl: 07-31 11:49:48] {3343} INFO -  at 21.6s,\testimator lgbm's best error=0.4028,\tbest estimator lgbm's best error=0.4028\n",
      "[flaml.automl: 07-31 11:49:48] {3166} INFO - iteration 45, current learner lgbm\n",
      "[flaml.automl: 07-31 11:49:50] {3343} INFO -  at 23.1s,\testimator lgbm's best error=0.4028,\tbest estimator lgbm's best error=0.4028\n",
      "[flaml.automl: 07-31 11:49:50] {3166} INFO - iteration 46, current learner lgbm\n",
      "[flaml.automl: 07-31 11:49:50] {3343} INFO -  at 23.2s,\testimator lgbm's best error=0.4028,\tbest estimator lgbm's best error=0.4028\n",
      "[flaml.automl: 07-31 11:49:50] {3166} INFO - iteration 47, current learner lgbm\n",
      "[flaml.automl: 07-31 11:49:51] {3343} INFO -  at 24.4s,\testimator lgbm's best error=0.4028,\tbest estimator lgbm's best error=0.4028\n",
      "[flaml.automl: 07-31 11:49:51] {3166} INFO - iteration 48, current learner lgbm\n",
      "[flaml.automl: 07-31 11:49:51] {3343} INFO -  at 24.6s,\testimator lgbm's best error=0.4028,\tbest estimator lgbm's best error=0.4028\n",
      "[flaml.automl: 07-31 11:49:51] {3166} INFO - iteration 49, current learner lgbm\n",
      "[flaml.automl: 07-31 11:49:52] {3343} INFO -  at 25.2s,\testimator lgbm's best error=0.4028,\tbest estimator lgbm's best error=0.4028\n",
      "[flaml.automl: 07-31 11:49:52] {3166} INFO - iteration 50, current learner lgbm\n",
      "[flaml.automl: 07-31 11:49:52] {3343} INFO -  at 25.4s,\testimator lgbm's best error=0.4028,\tbest estimator lgbm's best error=0.4028\n",
      "[flaml.automl: 07-31 11:49:52] {3166} INFO - iteration 51, current learner lgbm\n",
      "[flaml.automl: 07-31 11:49:53] {3343} INFO -  at 26.0s,\testimator lgbm's best error=0.4028,\tbest estimator lgbm's best error=0.4028\n",
      "[flaml.automl: 07-31 11:49:53] {3166} INFO - iteration 52, current learner lgbm\n",
      "[flaml.automl: 07-31 11:49:53] {3343} INFO -  at 26.1s,\testimator lgbm's best error=0.4028,\tbest estimator lgbm's best error=0.4028\n",
      "[flaml.automl: 07-31 11:49:53] {3166} INFO - iteration 53, current learner lgbm\n",
      "[flaml.automl: 07-31 11:49:53] {3343} INFO -  at 26.5s,\testimator lgbm's best error=0.4028,\tbest estimator lgbm's best error=0.4028\n",
      "[flaml.automl: 07-31 11:49:53] {3166} INFO - iteration 54, current learner lgbm\n",
      "[flaml.automl: 07-31 11:49:53] {3343} INFO -  at 26.6s,\testimator lgbm's best error=0.4028,\tbest estimator lgbm's best error=0.4028\n",
      "[flaml.automl: 07-31 11:49:54] {3166} INFO - iteration 55, current learner lgbm\n",
      "[flaml.automl: 07-31 11:49:54] {3343} INFO -  at 27.6s,\testimator lgbm's best error=0.4028,\tbest estimator lgbm's best error=0.4028\n",
      "[flaml.automl: 07-31 11:49:54] {3166} INFO - iteration 56, current learner lgbm\n",
      "[flaml.automl: 07-31 11:49:55] {3343} INFO -  at 27.8s,\testimator lgbm's best error=0.4028,\tbest estimator lgbm's best error=0.4028\n",
      "[flaml.automl: 07-31 11:49:55] {3166} INFO - iteration 57, current learner lgbm\n",
      "[flaml.automl: 07-31 11:49:55] {3343} INFO -  at 28.0s,\testimator lgbm's best error=0.4028,\tbest estimator lgbm's best error=0.4028\n",
      "[flaml.automl: 07-31 11:49:55] {3166} INFO - iteration 58, current learner lgbm\n",
      "[flaml.automl: 07-31 11:49:55] {3343} INFO -  at 28.5s,\testimator lgbm's best error=0.4028,\tbest estimator lgbm's best error=0.4028\n",
      "[flaml.automl: 07-31 11:49:55] {3166} INFO - iteration 59, current learner lgbm\n",
      "[flaml.automl: 07-31 11:49:56] {3343} INFO -  at 29.1s,\testimator lgbm's best error=0.4017,\tbest estimator lgbm's best error=0.4017\n",
      "[flaml.automl: 07-31 11:49:56] {3166} INFO - iteration 60, current learner lgbm\n",
      "[flaml.automl: 07-31 11:49:56] {3343} INFO -  at 29.5s,\testimator lgbm's best error=0.4017,\tbest estimator lgbm's best error=0.4017\n",
      "[flaml.automl: 07-31 11:49:56] {3166} INFO - iteration 61, current learner lgbm\n",
      "[flaml.automl: 07-31 11:49:58] {3343} INFO -  at 30.7s,\testimator lgbm's best error=0.4017,\tbest estimator lgbm's best error=0.4017\n",
      "[flaml.automl: 07-31 11:49:58] {3166} INFO - iteration 62, current learner lgbm\n",
      "[flaml.automl: 07-31 11:49:58] {3343} INFO -  at 31.2s,\testimator lgbm's best error=0.4017,\tbest estimator lgbm's best error=0.4017\n",
      "[flaml.automl: 07-31 11:49:58] {3166} INFO - iteration 63, current learner lgbm\n",
      "[flaml.automl: 07-31 11:49:59] {3343} INFO -  at 31.9s,\testimator lgbm's best error=0.4017,\tbest estimator lgbm's best error=0.4017\n",
      "[flaml.automl: 07-31 11:49:59] {3166} INFO - iteration 64, current learner lgbm\n",
      "[flaml.automl: 07-31 11:49:59] {3343} INFO -  at 32.6s,\testimator lgbm's best error=0.4017,\tbest estimator lgbm's best error=0.4017\n",
      "[flaml.automl: 07-31 11:49:59] {3166} INFO - iteration 65, current learner lgbm\n",
      "[flaml.automl: 07-31 11:50:00] {3343} INFO -  at 32.9s,\testimator lgbm's best error=0.4017,\tbest estimator lgbm's best error=0.4017\n",
      "[flaml.automl: 07-31 11:50:00] {3166} INFO - iteration 66, current learner lgbm\n",
      "[flaml.automl: 07-31 11:50:00] {3343} INFO -  at 33.1s,\testimator lgbm's best error=0.4017,\tbest estimator lgbm's best error=0.4017\n",
      "[flaml.automl: 07-31 11:50:00] {3166} INFO - iteration 67, current learner lgbm\n",
      "[flaml.automl: 07-31 11:50:02] {3343} INFO -  at 35.5s,\testimator lgbm's best error=0.4017,\tbest estimator lgbm's best error=0.4017\n",
      "[flaml.automl: 07-31 11:50:02] {3166} INFO - iteration 68, current learner lgbm\n",
      "[flaml.automl: 07-31 11:50:03] {3343} INFO -  at 36.0s,\testimator lgbm's best error=0.4017,\tbest estimator lgbm's best error=0.4017\n",
      "[flaml.automl: 07-31 11:50:03] {3166} INFO - iteration 69, current learner lgbm\n",
      "[flaml.automl: 07-31 11:50:03] {3343} INFO -  at 36.5s,\testimator lgbm's best error=0.4017,\tbest estimator lgbm's best error=0.4017\n",
      "[flaml.automl: 07-31 11:50:03] {3166} INFO - iteration 70, current learner lgbm\n",
      "[flaml.automl: 07-31 11:50:04] {3343} INFO -  at 36.9s,\testimator lgbm's best error=0.4017,\tbest estimator lgbm's best error=0.4017\n",
      "[flaml.automl: 07-31 11:50:04] {3166} INFO - iteration 71, current learner lgbm\n",
      "[flaml.automl: 07-31 11:50:04] {3343} INFO -  at 37.2s,\testimator lgbm's best error=0.4017,\tbest estimator lgbm's best error=0.4017\n",
      "[flaml.automl: 07-31 11:50:04] {3166} INFO - iteration 72, current learner lgbm\n",
      "[flaml.automl: 07-31 11:50:05] {3343} INFO -  at 37.6s,\testimator lgbm's best error=0.4017,\tbest estimator lgbm's best error=0.4017\n",
      "[flaml.automl: 07-31 11:50:05] {3166} INFO - iteration 73, current learner lgbm\n",
      "[flaml.automl: 07-31 11:50:05] {3343} INFO -  at 38.2s,\testimator lgbm's best error=0.4017,\tbest estimator lgbm's best error=0.4017\n",
      "[flaml.automl: 07-31 11:50:05] {3166} INFO - iteration 74, current learner lgbm\n",
      "[flaml.automl: 07-31 11:50:05] {3343} INFO -  at 38.5s,\testimator lgbm's best error=0.4017,\tbest estimator lgbm's best error=0.4017\n",
      "[flaml.automl: 07-31 11:50:05] {3166} INFO - iteration 75, current learner lgbm\n",
      "[flaml.automl: 07-31 11:50:07] {3343} INFO -  at 39.9s,\testimator lgbm's best error=0.4017,\tbest estimator lgbm's best error=0.4017\n"
     ]
    },
    {
     "name": "stderr",
     "output_type": "stream",
     "text": [
      "[flaml.automl: 07-31 11:50:07] {3166} INFO - iteration 76, current learner lgbm\n",
      "[flaml.automl: 07-31 11:50:07] {3343} INFO -  at 40.3s,\testimator lgbm's best error=0.4017,\tbest estimator lgbm's best error=0.4017\n",
      "[flaml.automl: 07-31 11:50:07] {3166} INFO - iteration 77, current learner lgbm\n",
      "[flaml.automl: 07-31 11:50:08] {3343} INFO -  at 40.7s,\testimator lgbm's best error=0.4017,\tbest estimator lgbm's best error=0.4017\n",
      "[flaml.automl: 07-31 11:50:08] {3166} INFO - iteration 78, current learner lgbm\n",
      "[flaml.automl: 07-31 11:50:08] {3343} INFO -  at 41.6s,\testimator lgbm's best error=0.4017,\tbest estimator lgbm's best error=0.4017\n",
      "[flaml.automl: 07-31 11:50:08] {3166} INFO - iteration 79, current learner lgbm\n",
      "[flaml.automl: 07-31 11:50:09] {3343} INFO -  at 41.9s,\testimator lgbm's best error=0.4017,\tbest estimator lgbm's best error=0.4017\n",
      "[flaml.automl: 07-31 11:50:09] {3166} INFO - iteration 80, current learner lgbm\n",
      "[flaml.automl: 07-31 11:50:09] {3343} INFO -  at 42.1s,\testimator lgbm's best error=0.4017,\tbest estimator lgbm's best error=0.4017\n",
      "[flaml.automl: 07-31 11:50:09] {3166} INFO - iteration 81, current learner lgbm\n",
      "[flaml.automl: 07-31 11:50:11] {3343} INFO -  at 44.0s,\testimator lgbm's best error=0.4017,\tbest estimator lgbm's best error=0.4017\n",
      "[flaml.automl: 07-31 11:50:11] {3166} INFO - iteration 82, current learner lgbm\n",
      "[flaml.automl: 07-31 11:50:11] {3343} INFO -  at 44.2s,\testimator lgbm's best error=0.4017,\tbest estimator lgbm's best error=0.4017\n",
      "[flaml.automl: 07-31 11:50:11] {3166} INFO - iteration 83, current learner lgbm\n",
      "[flaml.automl: 07-31 11:50:12] {3343} INFO -  at 45.2s,\testimator lgbm's best error=0.4017,\tbest estimator lgbm's best error=0.4017\n",
      "[flaml.automl: 07-31 11:50:12] {3166} INFO - iteration 84, current learner lgbm\n",
      "[flaml.automl: 07-31 11:50:13] {3343} INFO -  at 46.1s,\testimator lgbm's best error=0.4017,\tbest estimator lgbm's best error=0.4017\n",
      "[flaml.automl: 07-31 11:50:13] {3166} INFO - iteration 85, current learner lgbm\n",
      "[flaml.automl: 07-31 11:50:13] {3343} INFO -  at 46.3s,\testimator lgbm's best error=0.4017,\tbest estimator lgbm's best error=0.4017\n",
      "[flaml.automl: 07-31 11:50:13] {3166} INFO - iteration 86, current learner lgbm\n",
      "[flaml.automl: 07-31 11:50:14] {3343} INFO -  at 46.7s,\testimator lgbm's best error=0.4004,\tbest estimator lgbm's best error=0.4004\n",
      "[flaml.automl: 07-31 11:50:14] {3166} INFO - iteration 87, current learner lgbm\n",
      "[flaml.automl: 07-31 11:50:14] {3343} INFO -  at 47.4s,\testimator lgbm's best error=0.4004,\tbest estimator lgbm's best error=0.4004\n",
      "[flaml.automl: 07-31 11:50:14] {3166} INFO - iteration 88, current learner lgbm\n",
      "[flaml.automl: 07-31 11:50:14] {3343} INFO -  at 47.6s,\testimator lgbm's best error=0.4004,\tbest estimator lgbm's best error=0.4004\n",
      "[flaml.automl: 07-31 11:50:14] {3166} INFO - iteration 89, current learner lgbm\n",
      "[flaml.automl: 07-31 11:50:16] {3343} INFO -  at 49.1s,\testimator lgbm's best error=0.4004,\tbest estimator lgbm's best error=0.4004\n",
      "[flaml.automl: 07-31 11:50:16] {3166} INFO - iteration 90, current learner lgbm\n",
      "[flaml.automl: 07-31 11:50:16] {3343} INFO -  at 49.3s,\testimator lgbm's best error=0.4004,\tbest estimator lgbm's best error=0.4004\n",
      "[flaml.automl: 07-31 11:50:16] {3166} INFO - iteration 91, current learner lgbm\n",
      "[flaml.automl: 07-31 11:50:17] {3343} INFO -  at 50.2s,\testimator lgbm's best error=0.4004,\tbest estimator lgbm's best error=0.4004\n",
      "[flaml.automl: 07-31 11:50:17] {3166} INFO - iteration 92, current learner lgbm\n",
      "[flaml.automl: 07-31 11:50:18] {3343} INFO -  at 51.0s,\testimator lgbm's best error=0.4004,\tbest estimator lgbm's best error=0.4004\n",
      "[flaml.automl: 07-31 11:50:18] {3166} INFO - iteration 93, current learner lgbm\n",
      "[flaml.automl: 07-31 11:50:18] {3343} INFO -  at 51.4s,\testimator lgbm's best error=0.4004,\tbest estimator lgbm's best error=0.4004\n",
      "[flaml.automl: 07-31 11:50:18] {3166} INFO - iteration 94, current learner lgbm\n",
      "[flaml.automl: 07-31 11:50:18] {3343} INFO -  at 51.6s,\testimator lgbm's best error=0.4004,\tbest estimator lgbm's best error=0.4004\n",
      "[flaml.automl: 07-31 11:50:18] {3166} INFO - iteration 95, current learner lgbm\n",
      "[flaml.automl: 07-31 11:50:19] {3343} INFO -  at 52.5s,\testimator lgbm's best error=0.4004,\tbest estimator lgbm's best error=0.4004\n",
      "[flaml.automl: 07-31 11:50:19] {3166} INFO - iteration 96, current learner lgbm\n",
      "[flaml.automl: 07-31 11:50:20] {3343} INFO -  at 53.3s,\testimator lgbm's best error=0.4004,\tbest estimator lgbm's best error=0.4004\n",
      "[flaml.automl: 07-31 11:50:20] {3166} INFO - iteration 97, current learner lgbm\n",
      "[flaml.automl: 07-31 11:50:21] {3343} INFO -  at 53.8s,\testimator lgbm's best error=0.4004,\tbest estimator lgbm's best error=0.4004\n",
      "[flaml.automl: 07-31 11:50:21] {3166} INFO - iteration 98, current learner lgbm\n",
      "[flaml.automl: 07-31 11:50:21] {3343} INFO -  at 53.9s,\testimator lgbm's best error=0.4004,\tbest estimator lgbm's best error=0.4004\n",
      "[flaml.automl: 07-31 11:50:21] {3166} INFO - iteration 99, current learner lgbm\n",
      "[flaml.automl: 07-31 11:50:22] {3343} INFO -  at 54.9s,\testimator lgbm's best error=0.3935,\tbest estimator lgbm's best error=0.3935\n",
      "[flaml.automl: 07-31 11:50:22] {3166} INFO - iteration 100, current learner lgbm\n",
      "[flaml.automl: 07-31 11:50:24] {3343} INFO -  at 57.0s,\testimator lgbm's best error=0.3935,\tbest estimator lgbm's best error=0.3935\n",
      "[flaml.automl: 07-31 11:50:24] {3166} INFO - iteration 101, current learner lgbm\n",
      "[flaml.automl: 07-31 11:50:24] {3343} INFO -  at 57.2s,\testimator lgbm's best error=0.3935,\tbest estimator lgbm's best error=0.3935\n",
      "[flaml.automl: 07-31 11:50:24] {3166} INFO - iteration 102, current learner lgbm\n",
      "[flaml.automl: 07-31 11:50:26] {3343} INFO -  at 59.5s,\testimator lgbm's best error=0.3935,\tbest estimator lgbm's best error=0.3935\n",
      "[flaml.automl: 07-31 11:50:27] {3602} INFO - retrain lgbm for 0.9s\n",
      "[flaml.automl: 07-31 11:50:27] {3609} INFO - retrained model: LGBMClassifier(colsample_bytree=0.7235320607245272,\n",
      "               learning_rate=0.21828684007797586, max_bin=1023,\n",
      "               min_child_samples=54, n_estimators=30, num_leaves=258,\n",
      "               reg_alpha=0.036372423583254584, reg_lambda=0.015026808813407573,\n",
      "               verbose=-1)\n",
      "[flaml.automl: 07-31 11:50:27] {2901} INFO - fit succeeded\n",
      "[flaml.automl: 07-31 11:50:27] {2902} INFO - Time taken to find the best model: 54.86752796173096\n",
      "[flaml.automl: 07-31 11:50:27] {2913} WARNING - Time taken to find the best model is 91% of the provided time budget and not all estimators' hyperparameter search converged. Consider increasing the time budget.\n"
     ]
    }
   ],
   "source": [
    "from flaml import AutoML\n",
    "\n",
    "automl3 = AutoML()\n",
    "estimator_list = ['lgbm']\n",
    "automl_settings = {\n",
    "    \"time_budget\": 60,  # total running time in seconds\n",
    "    \"task\": 'classification',  # task type\n",
    "    \"seed\": 24545678,  # random seed\n",
    "    \"metric\":  'f1',  # evaluation metric\n",
    "    \"estimator_list\": estimator_list,  # specify the list of estimators\n",
    "}\n",
    "# Fit the AutoML model with the specified settings\n",
    "automl3.fit(X_train=X_train, y_train=y_train, **automl_settings)\n",
    "pred3=automl3.predict(X_test)"
   ]
  },
  {
   "cell_type": "code",
   "execution_count": 712,
   "id": "2c03ecd8",
   "metadata": {},
   "outputs": [
    {
     "name": "stdout",
     "output_type": "stream",
     "text": [
      "Accuracy     0.752525\n",
      "Precision    0.672078\n",
      "Recall       0.589744\n",
      "F1-score     0.628225\n"
     ]
    }
   ],
   "source": [
    "evaluation2(y_test,pred3)"
   ]
  },
  {
   "cell_type": "code",
   "execution_count": 713,
   "id": "6b462fed",
   "metadata": {},
   "outputs": [
    {
     "name": "stdout",
     "output_type": "stream",
     "text": [
      "Accuracy: 0.7525\n",
      "[[538 101]\n",
      " [144 207]]\n"
     ]
    },
    {
     "data": {
      "image/png": "[encoded data removed]",
      "text/plain": [
       "<Figure size 432x360 with 2 Axes>"
      ]
     },
     "metadata": {
      "needs_background": "light"
     },
     "output_type": "display_data"
    }
   ],
   "source": [
    "import matplotlib.pyplot as plt\n",
    "from sklearn.metrics import confusion_matrix\n",
    "from sklearn.metrics import accuracy_score\n",
    "\n",
    "# Assuming y_test and y_pred are already defined as your true labels and predictions\n",
    "accuracy = accuracy_score(y_test, pred3)\n",
    "print(f'Accuracy: {accuracy:.4f}')\n",
    "cm = confusion_matrix(y_test, pred3)\n",
    "print(cm)\n",
    "# Normalize confusion matrix\n",
    "cmn = cm.astype('float') / cm.sum(axis=1)[:, np.newaxis]\n",
    "\n",
    "# Plot heatmap using matplotlib\n",
    "plt.figure(figsize=(6, 5))\n",
    "plt.imshow(cmn, interpolation='nearest', cmap='Blues')\n",
    "\n",
    "# Add text annotations\n",
    "for i in range(cmn.shape[0]):\n",
    "    for j in range(cmn.shape[1]):\n",
    "        plt.text(j, i, format(cmn[i, j], '.2f'), horizontalalignment=\"center\", color=\"black\")\n",
    "\n",
    "plt.colorbar()\n",
    "plt.title('Confusion Matrix: LGBM')\n",
    "labels = ['Accepted', 'Rejected']\n",
    "plt.xticks(ticks=np.arange(len(labels)), labels=labels)\n",
    "plt.yticks(ticks=np.arange(len(labels)), labels=labels)\n",
    "\n",
    "# Add axis labels\n",
    "#plt.xlabel('Predicted labels')\n",
    "#plt.ylabel('True labels')\n",
    "plt.savefig(\"conf_lgbm2.pdf\", format=\"pdf\", bbox_inches=\"tight\",dpi=1000)\n",
    "plt.show()"
   ]
  },
  {
   "cell_type": "code",
   "execution_count": 714,
   "id": "82575c8f",
   "metadata": {},
   "outputs": [
    {
     "data": {
      "image/png": "[encoded data removed]",
      "text/plain": [
       "<Figure size 432x288 with 1 Axes>"
      ]
     },
     "metadata": {
      "needs_background": "light"
     },
     "output_type": "display_data"
    }
   ],
   "source": [
    "import matplotlib.pyplot as plt\n",
    "import numpy as np\n",
    "# Sample data\n",
    "categories = ['Labour', 'Model:LGBM']\n",
    "subcategories = ['Total labour cost', 'Model cost: incorect acceptance (as % of total balour cost)', \n",
    "                 'Model cost:  incorrect rejection  (as % of total balour cost)','Model saving cost  (as % of total balour cost)']\n",
    "values = np.array([\n",
    "    [100, 0, 0,0],  # Category A\n",
    "    [0, np.round(((cm[0][1]*14)/(X_test.shape[0]*5))*100,2),np.round(((cm[1][0]*17)/(X_test.shape[0]*5))*100),\n",
    "     np.round(((X_test.shape[0]*5-(cm[0][1]*14+cm[1][0]*17))/(X_test.shape[0]*5))*100) ],  # Category B\n",
    "])\n",
    "\n",
    "# Custom colors\n",
    "colors = ['#5F9EA0', '#1E90FF', '#FF8C00','#808000']  # You can use any valid color codes\n",
    "\n",
    "# Create a figure and axis\n",
    "fig, ax = plt.subplots()\n",
    "\n",
    "# Create stacked bar plot\n",
    "bar_width = 0.5\n",
    "bar_positions = np.arange(len(categories))\n",
    "\n",
    "bottom_values = np.zeros(len(categories))\n",
    "for i, subcategory in enumerate(subcategories):\n",
    "    bars = ax.bar(bar_positions, values[:, i], bar_width, bottom=bottom_values, color=colors[i])\n",
    "    bottom_values += values[:, i]\n",
    "    \n",
    "    # Add values inside each bar\n",
    "    for bar in bars:\n",
    "        height = bar.get_height()\n",
    "        if height > 0: \n",
    "            ax.text(\n",
    "                bar.get_x() + bar.get_width() / 2,  # x position\n",
    "                bar.get_y() + height / 2,           # y position (centered in the bar)\n",
    "                f'{int(height)}',                   # text value\n",
    "                ha='center',                         # horizontal alignment\n",
    "                va='center',                         # vertical alignment\n",
    "                color='black'\n",
    "            )\n",
    "        else: pass\n",
    "\n",
    "# Add labels and title\n",
    "ax.set_xticks(bar_positions)\n",
    "ax.set_xticklabels(categories)\n",
    "ax.set_ylim(0, 151)  # Adjust as needed\n",
    "ax.set_ylabel('Cost (as % of labour cost)')\n",
    "#ax.set_title('Stacked Bar Plot with Custom Colors and Values')\n",
    "# Show plot\n",
    "plt.savefig(\"bar_lgbm2.pdf\", format=\"pdf\", bbox_inches=\"tight\",dpi=1000)\n",
    "plt.show()"
   ]
  },
  {
   "cell_type": "code",
   "execution_count": 715,
   "id": "d826e02c",
   "metadata": {},
   "outputs": [],
   "source": [
    "import matplotlib.pyplot as plt\n",
    "from sklearn.metrics import confusion_matrix\n",
    "from sklearn.metrics import accuracy_score"
   ]
  },
  {
   "cell_type": "markdown",
   "id": "marine-requirement",
   "metadata": {},
   "source": [
    "# (d) Optuna: LGBM"
   ]
  },
  {
   "cell_type": "code",
   "execution_count": 716,
   "id": "relative-willow",
   "metadata": {},
   "outputs": [],
   "source": [
    "#!pip install --upgrade typing_extensions\n",
    "\n",
    "import lightgbm as lgb\n",
    "import optuna\n",
    "from sklearn.metrics import accuracy_score"
   ]
  },
  {
   "cell_type": "code",
   "execution_count": 739,
   "id": "intense-gossip",
   "metadata": {},
   "outputs": [],
   "source": [
    "import lightgbm as lgb\n",
    "import optuna\n",
    "from sklearn.metrics import accuracy_score\n",
    "\n",
    "def objective(trial):\n",
    "    params = {\n",
    "        'objective': 'binary',\n",
    "        'metric': 'binary_error',\n",
    "        'boosting_type': trial.suggest_categorical('boosting_type', ['gbdt', 'dart']),\n",
    "        'num_leaves': trial.suggest_int('num_leaves', 20, 400),\n",
    "        'max_depth': trial.suggest_int('max_depth', 3, 30),\n",
    "        'learning_rate': trial.suggest_loguniform('learning_rate', 1e-5, 1e2),\n",
    "        'feature_fraction': trial.suggest_uniform('feature_fraction', 0.1, 1.0),\n",
    "        'bagging_fraction': trial.suggest_uniform('bagging_fraction', 0.1, 1.0),\n",
    "        'bagging_freq': trial.suggest_int('bagging_freq', 1, 30),\n",
    "        'min_data_in_leaf': trial.suggest_int('min_data_in_leaf', 1, 200),\n",
    "        'reg_lambda': trial.suggest_loguniform('reg_lambda', 1e-5, 1e5)\n",
    "    }\n",
    "\n",
    "    # Create LightGBM datasets\n",
    "    train_set = lgb.Dataset(X_train, y_train, silent=False)\n",
    "    valid_set = lgb.Dataset(X_test, y_test, silent=False, reference=train_set)\n",
    "\n",
    "    # Train the model\n",
    "    model = lgb.train(\n",
    "        params,\n",
    "        train_set=train_set,\n",
    "        num_boost_round=30000,\n",
    "        early_stopping_rounds=500,\n",
    "        verbose_eval=500,\n",
    "        valid_sets=[valid_set]\n",
    "    )\n",
    "\n",
    "    # Predict on the test set\n",
    "    y_pred_prob = model.predict(X_test, num_iteration=model.best_iteration)\n",
    "    y_pred = (y_pred_prob > 0.5).astype(int)  # Convert probabilities to binary predictions\n",
    "\n",
    "    # Evaluate accuracy\n",
    "    accuracy = accuracy_score(y_test, y_pred)\n",
    "    return accuracy"
   ]
  },
  {
   "cell_type": "markdown",
   "id": "exposed-button",
   "metadata": {},
   "source": [
    "study = optuna.create_study(direction='maximize')  # For maximizing accuracy\n",
    "study.optimize(objective, n_trials=500)  # You can adjust the number of trials\n",
    "\n",
    "print(\"Best hyperparameters: \", study.best_params)\n",
    "print(\"Best accuracy: \", study.best_value)"
   ]
  },
  {
   "cell_type": "code",
   "execution_count": 740,
   "id": "guided-identifier",
   "metadata": {},
   "outputs": [
    {
     "name": "stdout",
     "output_type": "stream",
     "text": [
      "Training until validation scores don't improve for 1000 rounds\n",
      "[1000]\tvalid_0's binary_error: 0.277778\n",
      "[2000]\tvalid_0's binary_error: 0.247475\n",
      "[3000]\tvalid_0's binary_error: 0.248485\n",
      "[4000]\tvalid_0's binary_error: 0.246465\n",
      "Early stopping, best iteration is:\n",
      "[3221]\tvalid_0's binary_error: 0.245455\n",
      "Accuracy: 0.7545\n"
     ]
    }
   ],
   "source": [
    "# Create LightGBM datasets\n",
    "train_set = lgb.Dataset(X_train, label=y_train)\n",
    "valid_set = lgb.Dataset(X_test, label=y_test, reference=train_set)\n",
    "\n",
    "# Define model parameters\n",
    "params = {\n",
    "    'boosting_type': 'gbdt',\n",
    "    'num_leaves': 70,\n",
    "    'max_depth': 25,\n",
    "    'learning_rate': 0.004796225126978845,\n",
    "    'feature_fraction': 0.6036416679573813,\n",
    "    'bagging_fraction': 0.7102057400975744,\n",
    "    'bagging_freq': 5,\n",
    "    'min_data_in_leaf': 188,\n",
    "    'reg_lambda': 25.867047720071138,\n",
    "    'objective': 'binary',  # Assuming binary classification\n",
    "    'metric': 'binary_error'  # You can choose the metric that fits your needs\n",
    "}\n",
    "\n",
    "# Train the model\n",
    "model = lgb.train(\n",
    "    params,\n",
    "    train_set,\n",
    "    num_boost_round=100000,  # Number of boosting rounds\n",
    "    early_stopping_rounds=1000,  # Stop if no improvement in 500 rounds\n",
    "    valid_sets=[valid_set],\n",
    "    verbose_eval=1000  # Print evaluation every 500 rounds\n",
    ")\n",
    "\n",
    "# Predict on the test set\n",
    "y_pred_prob = model.predict(X_test, num_iteration=model.best_iteration)\n",
    "y_pred = (y_pred_prob > 0.5).astype(int)  # Convert probabilities to binary predictions\n",
    "\n",
    "# Evaluate accuracy\n",
    "accuracy = accuracy_score(y_test, y_pred)\n",
    "print(f'Accuracy: {accuracy:.4f}')\n"
   ]
  },
  {
   "cell_type": "code",
   "execution_count": 741,
   "id": "cooperative-value",
   "metadata": {},
   "outputs": [],
   "source": [
    "y_pred_prob = model.predict(X_test, num_iteration=model.best_iteration)\n",
    "pred4 = (y_pred_prob > 0.5).astype(int)  # Convert probabilities to binary predictions"
   ]
  },
  {
   "cell_type": "code",
   "execution_count": 742,
   "id": "fossil-constraint",
   "metadata": {},
   "outputs": [
    {
     "name": "stdout",
     "output_type": "stream",
     "text": [
      "Accuracy     0.754545\n",
      "Precision    0.675325\n",
      "Recall       0.592593\n",
      "F1-score     0.631259\n"
     ]
    }
   ],
   "source": [
    "evaluation2(y_test,pred4)"
   ]
  },
  {
   "cell_type": "code",
   "execution_count": 743,
   "id": "opening-bermuda",
   "metadata": {},
   "outputs": [
    {
     "name": "stdout",
     "output_type": "stream",
     "text": [
      "Accuracy: 0.7545\n"
     ]
    },
    {
     "data": {
      "image/png": "[encoded data removed]",
      "text/plain": [
       "<Figure size 432x360 with 2 Axes>"
      ]
     },
     "metadata": {
      "needs_background": "light"
     },
     "output_type": "display_data"
    }
   ],
   "source": [
    "import matplotlib.pyplot as plt\n",
    "from sklearn.metrics import confusion_matrix\n",
    "from sklearn.metrics import accuracy_score\n",
    "\n",
    "# Assuming y_test and y_pred are already defined as your true labels and predictions\n",
    "accuracy = accuracy_score(y_test, pred4)\n",
    "print(f'Accuracy: {accuracy:.4f}')\n",
    "cm = confusion_matrix(y_test, pred4)\n",
    "\n",
    "# Normalize confusion matrix\n",
    "cmn = cm.astype('float') / cm.sum(axis=1)[:, np.newaxis]\n",
    "\n",
    "# Plot heatmap using matplotlib\n",
    "plt.figure(figsize=(6, 5))\n",
    "plt.imshow(cmn, interpolation='nearest', cmap='Blues')\n",
    "\n",
    "# Add text annotations\n",
    "for i in range(cmn.shape[0]):\n",
    "    for j in range(cmn.shape[1]):\n",
    "        plt.text(j, i, format(cmn[i, j], '.2f'), horizontalalignment=\"center\", color=\"black\")\n",
    "\n",
    "plt.colorbar()\n",
    "plt.title('Confusion Matrix: LGBM')\n",
    "labels = ['Accepted', 'Rejected']\n",
    "plt.xticks(ticks=np.arange(len(labels)), labels=labels)\n",
    "plt.yticks(ticks=np.arange(len(labels)), labels=labels)\n",
    "\n",
    "# Add axis labels\n",
    "#plt.xlabel('Predicted labels')\n",
    "#plt.ylabel('True labels')\n",
    "plt.savefig(\"conf_lgbm_optuna2.pdf\", format=\"pdf\", bbox_inches=\"tight\",dpi=1000)\n",
    "plt.show()"
   ]
  },
  {
   "cell_type": "code",
   "execution_count": 744,
   "id": "prospective-monday",
   "metadata": {},
   "outputs": [
    {
     "data": {
      "image/png": "[encoded data removed]",
      "text/plain": [
       "<Figure size 432x288 with 1 Axes>"
      ]
     },
     "metadata": {
      "needs_background": "light"
     },
     "output_type": "display_data"
    }
   ],
   "source": [
    "import matplotlib.pyplot as plt\n",
    "import numpy as np\n",
    "\n",
    "# Sample data\n",
    "categories = ['Labour', 'Model:LGBM']\n",
    "subcategories = ['Total labour cost', 'Model cost: incorect rejection (as % of total balour cost)', \n",
    "                 'Model cost:  incorrect acceptance  (as % of total balour cost)','Model saving cost  (as % of total balour cost)']\n",
    "values = np.array([\n",
    "    [100, 0, 0,0],  # Category A\n",
    "    [0, np.round(((cm[0][1]*14)/(X_test.shape[0]*5))*100,2),np.round(((cm[1][0]*17)/(X_test.shape[0]*5))*100),\n",
    "     np.round(((X_test.shape[0]*5-(cm[0][1]*14+cm[1][0]*17))/(X_test.shape[0]*5))*100) ],  # Category B\n",
    "])\n",
    "\n",
    "# Custom colors\n",
    "colors = ['#5F9EA0', '#1E90FF', '#FF8C00','#808000']  # You can use any valid color codes\n",
    "\n",
    "# Create a figure and axis\n",
    "fig, ax = plt.subplots()\n",
    "\n",
    "# Create stacked bar plot\n",
    "bar_width = 0.5\n",
    "bar_positions = np.arange(len(categories))\n",
    "\n",
    "bottom_values = np.zeros(len(categories))\n",
    "for i, subcategory in enumerate(subcategories):\n",
    "    bars = ax.bar(bar_positions, values[:, i], bar_width, label=subcategory, bottom=bottom_values, color=colors[i])\n",
    "    bottom_values += values[:, i]\n",
    "    \n",
    "    # Add values inside each bar\n",
    "    for bar in bars:\n",
    "        height = bar.get_height()\n",
    "        if height > 0: \n",
    "            ax.text(\n",
    "                bar.get_x() + bar.get_width() / 2,  # x position\n",
    "                bar.get_y() + height / 2,           # y position (centered in the bar)\n",
    "                f'{int(height)}',                   # text value\n",
    "                ha='center',                         # horizontal alignment\n",
    "                va='center',                         # vertical alignment\n",
    "                color='black'\n",
    "            )\n",
    "        else: pass\n",
    "\n",
    "# Add labels and title\n",
    "ax.set_xticks(bar_positions)\n",
    "ax.set_xticklabels(categories)\n",
    "ax.set_ylim(0, 151)  # Adjust as needed\n",
    "ax.set_ylabel('Cost (as % of labour cost)')\n",
    "#ax.set_title('Stacked Bar Plot with Custom Colors and Values')\n",
    "ax.legend(frameon=False,fontsize=7.5)\n",
    "# Show plot\n",
    "plt.savefig(\"bar_lgbm_optuna2.pdf\", format=\"pdf\", bbox_inches=\"tight\",dpi=1000)\n",
    "plt.show()"
   ]
  },
  {
   "cell_type": "markdown",
   "id": "greek-background",
   "metadata": {},
   "source": [
    "# Ensemble"
   ]
  },
  {
   "cell_type": "code",
   "execution_count": 723,
   "id": "infinite-belle",
   "metadata": {},
   "outputs": [],
   "source": [
    "X_data=np.array([[pred1[i],pred2[i], pred4[i]] for i in range(len(pred3))])\n",
    "y_data= y_test"
   ]
  },
  {
   "cell_type": "code",
   "execution_count": 748,
   "id": "apparent-stephen",
   "metadata": {},
   "outputs": [
    {
     "name": "stderr",
     "output_type": "stream",
     "text": [
      "[flaml.automl: 07-31 11:50:27] {2599} INFO - task = classification\n",
      "[flaml.automl: 07-31 11:50:27] {2601} INFO - Data split method: stratified\n",
      "[flaml.automl: 07-31 11:50:27] {2604} INFO - Evaluation method: cv\n",
      "[flaml.automl: 07-31 11:50:27] {2726} INFO - Minimizing error metric: 1-f1\n",
      "[flaml.automl: 07-31 11:50:27] {2870} INFO - List of ML learners in AutoML Run: ['lgbm', 'rf', 'xgboost', 'extra_tree', 'xgb_limitdepth', 'lrl1']\n",
      "[flaml.automl: 07-31 11:50:27] {3166} INFO - iteration 0, current learner lgbm\n",
      "[flaml.automl: 07-31 11:50:27] {3296} INFO - Estimated sufficient time budget=814s. Estimated necessary time budget=19s.\n",
      "[flaml.automl: 07-31 11:50:27] {3343} INFO -  at 0.1s,\testimator lgbm's best error=1.0000,\tbest estimator lgbm's best error=1.0000\n",
      "[flaml.automl: 07-31 11:50:27] {3166} INFO - iteration 1, current learner lgbm\n",
      "[flaml.automl: 07-31 11:50:28] {3343} INFO -  at 0.2s,\testimator lgbm's best error=1.0000,\tbest estimator lgbm's best error=1.0000\n",
      "[flaml.automl: 07-31 11:50:28] {3166} INFO - iteration 2, current learner lgbm\n",
      "[flaml.automl: 07-31 11:50:28] {3343} INFO -  at 0.3s,\testimator lgbm's best error=0.4078,\tbest estimator lgbm's best error=0.4078\n",
      "[flaml.automl: 07-31 11:50:28] {3166} INFO - iteration 3, current learner xgboost\n",
      "[flaml.automl: 07-31 11:50:28] {3343} INFO -  at 0.3s,\testimator xgboost's best error=0.3731,\tbest estimator xgboost's best error=0.3731\n",
      "[flaml.automl: 07-31 11:50:28] {3166} INFO - iteration 4, current learner lgbm\n",
      "[flaml.automl: 07-31 11:50:28] {3343} INFO -  at 0.4s,\testimator lgbm's best error=0.3853,\tbest estimator xgboost's best error=0.3731\n",
      "[flaml.automl: 07-31 11:50:28] {3166} INFO - iteration 5, current learner lgbm\n",
      "[flaml.automl: 07-31 11:50:28] {3343} INFO -  at 0.5s,\testimator lgbm's best error=0.3853,\tbest estimator xgboost's best error=0.3731\n",
      "[flaml.automl: 07-31 11:50:28] {3166} INFO - iteration 6, current learner lgbm\n",
      "[flaml.automl: 07-31 11:50:28] {3343} INFO -  at 0.6s,\testimator lgbm's best error=0.3748,\tbest estimator xgboost's best error=0.3731\n",
      "[flaml.automl: 07-31 11:50:28] {3166} INFO - iteration 7, current learner lgbm\n",
      "[flaml.automl: 07-31 11:50:28] {3343} INFO -  at 0.7s,\testimator lgbm's best error=0.3748,\tbest estimator xgboost's best error=0.3731\n",
      "[flaml.automl: 07-31 11:50:28] {3166} INFO - iteration 8, current learner lgbm\n",
      "[flaml.automl: 07-31 11:50:28] {3343} INFO -  at 0.8s,\testimator lgbm's best error=0.3748,\tbest estimator xgboost's best error=0.3731\n",
      "[flaml.automl: 07-31 11:50:28] {3166} INFO - iteration 9, current learner xgboost\n",
      "[flaml.automl: 07-31 11:50:28] {3343} INFO -  at 0.9s,\testimator xgboost's best error=0.3731,\tbest estimator xgboost's best error=0.3731\n",
      "[flaml.automl: 07-31 11:50:28] {3166} INFO - iteration 10, current learner xgboost\n",
      "[flaml.automl: 07-31 11:50:28] {3343} INFO -  at 1.0s,\testimator xgboost's best error=0.3731,\tbest estimator xgboost's best error=0.3731\n",
      "[flaml.automl: 07-31 11:50:28] {3166} INFO - iteration 11, current learner xgboost\n",
      "[flaml.automl: 07-31 11:50:28] {3343} INFO -  at 1.1s,\testimator xgboost's best error=0.3627,\tbest estimator xgboost's best error=0.3627\n",
      "[flaml.automl: 07-31 11:50:28] {3166} INFO - iteration 12, current learner extra_tree\n",
      "[flaml.automl: 07-31 11:50:29] {3343} INFO -  at 1.3s,\testimator extra_tree's best error=0.3650,\tbest estimator xgboost's best error=0.3627\n",
      "[flaml.automl: 07-31 11:50:29] {3166} INFO - iteration 13, current learner rf\n",
      "[flaml.automl: 07-31 11:50:29] {3343} INFO -  at 1.6s,\testimator rf's best error=0.3492,\tbest estimator rf's best error=0.3492\n",
      "[flaml.automl: 07-31 11:50:29] {3166} INFO - iteration 14, current learner xgboost\n",
      "[flaml.automl: 07-31 11:50:29] {3343} INFO -  at 1.6s,\testimator xgboost's best error=0.3627,\tbest estimator rf's best error=0.3492\n",
      "[flaml.automl: 07-31 11:50:29] {3166} INFO - iteration 15, current learner extra_tree\n",
      "[flaml.automl: 07-31 11:50:29] {3343} INFO -  at 1.8s,\testimator extra_tree's best error=0.3650,\tbest estimator rf's best error=0.3492\n",
      "[flaml.automl: 07-31 11:50:29] {3166} INFO - iteration 16, current learner rf\n",
      "[flaml.automl: 07-31 11:50:29] {3343} INFO -  at 2.1s,\testimator rf's best error=0.3492,\tbest estimator rf's best error=0.3492\n",
      "[flaml.automl: 07-31 11:50:29] {3166} INFO - iteration 17, current learner extra_tree\n",
      "[flaml.automl: 07-31 11:50:30] {3343} INFO -  at 2.4s,\testimator extra_tree's best error=0.3650,\tbest estimator rf's best error=0.3492\n",
      "[flaml.automl: 07-31 11:50:30] {3166} INFO - iteration 18, current learner lgbm\n",
      "[flaml.automl: 07-31 11:50:30] {3343} INFO -  at 2.5s,\testimator lgbm's best error=0.3748,\tbest estimator rf's best error=0.3492\n",
      "[flaml.automl: 07-31 11:50:30] {3166} INFO - iteration 19, current learner xgboost\n",
      "[flaml.automl: 07-31 11:50:30] {3343} INFO -  at 2.6s,\testimator xgboost's best error=0.3627,\tbest estimator rf's best error=0.3492\n",
      "[flaml.automl: 07-31 11:50:30] {3166} INFO - iteration 20, current learner rf\n",
      "[flaml.automl: 07-31 11:50:30] {3343} INFO -  at 3.0s,\testimator rf's best error=0.3492,\tbest estimator rf's best error=0.3492\n",
      "[flaml.automl: 07-31 11:50:30] {3166} INFO - iteration 21, current learner xgboost\n",
      "[flaml.automl: 07-31 11:50:30] {3343} INFO -  at 3.0s,\testimator xgboost's best error=0.3627,\tbest estimator rf's best error=0.3492\n",
      "[flaml.automl: 07-31 11:50:30] {3166} INFO - iteration 22, current learner rf\n",
      "[flaml.automl: 07-31 11:50:31] {3343} INFO -  at 3.2s,\testimator rf's best error=0.3492,\tbest estimator rf's best error=0.3492\n",
      "[flaml.automl: 07-31 11:50:31] {3166} INFO - iteration 23, current learner rf\n",
      "[flaml.automl: 07-31 11:50:31] {3343} INFO -  at 3.5s,\testimator rf's best error=0.3492,\tbest estimator rf's best error=0.3492\n",
      "[flaml.automl: 07-31 11:50:31] {3166} INFO - iteration 24, current learner extra_tree\n",
      "[flaml.automl: 07-31 11:50:31] {3343} INFO -  at 3.8s,\testimator extra_tree's best error=0.3569,\tbest estimator rf's best error=0.3492\n",
      "[flaml.automl: 07-31 11:50:31] {3166} INFO - iteration 25, current learner extra_tree\n",
      "[flaml.automl: 07-31 11:50:31] {3343} INFO -  at 4.0s,\testimator extra_tree's best error=0.3540,\tbest estimator rf's best error=0.3492\n",
      "[flaml.automl: 07-31 11:50:31] {3166} INFO - iteration 26, current learner rf\n",
      "[flaml.automl: 07-31 11:50:32] {3343} INFO -  at 4.3s,\testimator rf's best error=0.3473,\tbest estimator rf's best error=0.3473\n",
      "[flaml.automl: 07-31 11:50:32] {3166} INFO - iteration 27, current learner xgboost\n",
      "[flaml.automl: 07-31 11:50:32] {3343} INFO -  at 4.4s,\testimator xgboost's best error=0.3627,\tbest estimator rf's best error=0.3473\n",
      "[flaml.automl: 07-31 11:50:32] {3166} INFO - iteration 28, current learner extra_tree\n",
      "[flaml.automl: 07-31 11:50:32] {3343} INFO -  at 4.6s,\testimator extra_tree's best error=0.3540,\tbest estimator rf's best error=0.3473\n",
      "[flaml.automl: 07-31 11:50:32] {3166} INFO - iteration 29, current learner extra_tree\n",
      "[flaml.automl: 07-31 11:50:32] {3343} INFO -  at 5.0s,\testimator extra_tree's best error=0.3540,\tbest estimator rf's best error=0.3473\n",
      "[flaml.automl: 07-31 11:50:32] {3166} INFO - iteration 30, current learner lgbm\n",
      "[flaml.automl: 07-31 11:50:33] {3343} INFO -  at 5.1s,\testimator lgbm's best error=0.3748,\tbest estimator rf's best error=0.3473\n",
      "[flaml.automl: 07-31 11:50:33] {3166} INFO - iteration 31, current learner lgbm\n",
      "[flaml.automl: 07-31 11:50:33] {3343} INFO -  at 5.2s,\testimator lgbm's best error=0.3729,\tbest estimator rf's best error=0.3473\n",
      "[flaml.automl: 07-31 11:50:33] {3166} INFO - iteration 32, current learner rf\n",
      "[flaml.automl: 07-31 11:50:33] {3343} INFO -  at 5.5s,\testimator rf's best error=0.3473,\tbest estimator rf's best error=0.3473\n",
      "[flaml.automl: 07-31 11:50:33] {3166} INFO - iteration 33, current learner extra_tree\n",
      "[flaml.automl: 07-31 11:50:33] {3343} INFO -  at 5.9s,\testimator extra_tree's best error=0.3540,\tbest estimator rf's best error=0.3473\n",
      "[flaml.automl: 07-31 11:50:33] {3166} INFO - iteration 34, current learner rf\n",
      "[flaml.automl: 07-31 11:50:34] {3343} INFO -  at 6.3s,\testimator rf's best error=0.3473,\tbest estimator rf's best error=0.3473\n",
      "[flaml.automl: 07-31 11:50:34] {3166} INFO - iteration 35, current learner rf\n",
      "[flaml.automl: 07-31 11:50:34] {3343} INFO -  at 6.5s,\testimator rf's best error=0.3473,\tbest estimator rf's best error=0.3473\n"
     ]
    },
    {
     "name": "stderr",
     "output_type": "stream",
     "text": [
      "[flaml.automl: 07-31 11:50:34] {3166} INFO - iteration 36, current learner extra_tree\n",
      "[flaml.automl: 07-31 11:50:34] {3343} INFO -  at 6.8s,\testimator extra_tree's best error=0.3540,\tbest estimator rf's best error=0.3473\n",
      "[flaml.automl: 07-31 11:50:34] {3166} INFO - iteration 37, current learner xgboost\n",
      "[flaml.automl: 07-31 11:50:34] {3343} INFO -  at 6.8s,\testimator xgboost's best error=0.3627,\tbest estimator rf's best error=0.3473\n",
      "[flaml.automl: 07-31 11:50:34] {3166} INFO - iteration 38, current learner xgboost\n",
      "[flaml.automl: 07-31 11:50:34] {3343} INFO -  at 6.9s,\testimator xgboost's best error=0.3627,\tbest estimator rf's best error=0.3473\n",
      "[flaml.automl: 07-31 11:50:34] {3166} INFO - iteration 39, current learner rf\n",
      "[flaml.automl: 07-31 11:50:35] {3343} INFO -  at 7.4s,\testimator rf's best error=0.3473,\tbest estimator rf's best error=0.3473\n",
      "[flaml.automl: 07-31 11:50:35] {3166} INFO - iteration 40, current learner xgboost\n",
      "[flaml.automl: 07-31 11:50:35] {3343} INFO -  at 7.4s,\testimator xgboost's best error=0.3627,\tbest estimator rf's best error=0.3473\n",
      "[flaml.automl: 07-31 11:50:35] {3166} INFO - iteration 41, current learner xgboost\n",
      "[flaml.automl: 07-31 11:50:35] {3343} INFO -  at 7.5s,\testimator xgboost's best error=0.3627,\tbest estimator rf's best error=0.3473\n",
      "[flaml.automl: 07-31 11:50:35] {3166} INFO - iteration 42, current learner lgbm\n",
      "[flaml.automl: 07-31 11:50:35] {3343} INFO -  at 7.6s,\testimator lgbm's best error=0.3729,\tbest estimator rf's best error=0.3473\n",
      "[flaml.automl: 07-31 11:50:35] {3166} INFO - iteration 43, current learner xgboost\n",
      "[flaml.automl: 07-31 11:50:35] {3343} INFO -  at 7.7s,\testimator xgboost's best error=0.3627,\tbest estimator rf's best error=0.3473\n",
      "[flaml.automl: 07-31 11:50:35] {3166} INFO - iteration 44, current learner extra_tree\n",
      "[flaml.automl: 07-31 11:50:35] {3343} INFO -  at 8.0s,\testimator extra_tree's best error=0.3540,\tbest estimator rf's best error=0.3473\n",
      "[flaml.automl: 07-31 11:50:35] {3166} INFO - iteration 45, current learner xgboost\n",
      "[flaml.automl: 07-31 11:50:35] {3343} INFO -  at 8.1s,\testimator xgboost's best error=0.3627,\tbest estimator rf's best error=0.3473\n",
      "[flaml.automl: 07-31 11:50:35] {3166} INFO - iteration 46, current learner rf\n",
      "[flaml.automl: 07-31 11:50:36] {3343} INFO -  at 8.4s,\testimator rf's best error=0.3417,\tbest estimator rf's best error=0.3417\n",
      "[flaml.automl: 07-31 11:50:36] {3166} INFO - iteration 47, current learner xgboost\n",
      "[flaml.automl: 07-31 11:50:36] {3343} INFO -  at 8.4s,\testimator xgboost's best error=0.3627,\tbest estimator rf's best error=0.3417\n",
      "[flaml.automl: 07-31 11:50:36] {3166} INFO - iteration 48, current learner rf\n",
      "[flaml.automl: 07-31 11:50:36] {3343} INFO -  at 8.7s,\testimator rf's best error=0.3417,\tbest estimator rf's best error=0.3417\n",
      "[flaml.automl: 07-31 11:50:36] {3166} INFO - iteration 49, current learner rf\n",
      "[flaml.automl: 07-31 11:50:36] {3343} INFO -  at 9.0s,\testimator rf's best error=0.3417,\tbest estimator rf's best error=0.3417\n",
      "[flaml.automl: 07-31 11:50:36] {3166} INFO - iteration 50, current learner xgboost\n",
      "[flaml.automl: 07-31 11:50:36] {3343} INFO -  at 9.0s,\testimator xgboost's best error=0.3627,\tbest estimator rf's best error=0.3417\n",
      "[flaml.automl: 07-31 11:50:36] {3166} INFO - iteration 51, current learner rf\n",
      "[flaml.automl: 07-31 11:50:37] {3343} INFO -  at 9.3s,\testimator rf's best error=0.3417,\tbest estimator rf's best error=0.3417\n",
      "[flaml.automl: 07-31 11:50:37] {3166} INFO - iteration 52, current learner rf\n",
      "[flaml.automl: 07-31 11:50:37] {3343} INFO -  at 9.6s,\testimator rf's best error=0.3417,\tbest estimator rf's best error=0.3417\n",
      "[flaml.automl: 07-31 11:50:37] {3166} INFO - iteration 53, current learner rf\n",
      "[flaml.automl: 07-31 11:50:37] {3343} INFO -  at 9.8s,\testimator rf's best error=0.3417,\tbest estimator rf's best error=0.3417\n",
      "[flaml.automl: 07-31 11:50:37] {3166} INFO - iteration 54, current learner lgbm\n",
      "[flaml.automl: 07-31 11:50:37] {3343} INFO -  at 9.9s,\testimator lgbm's best error=0.3698,\tbest estimator rf's best error=0.3417\n",
      "[flaml.automl: 07-31 11:50:37] {3166} INFO - iteration 55, current learner rf\n",
      "[flaml.automl: 07-31 11:50:38] {3343} INFO -  at 10.2s,\testimator rf's best error=0.3417,\tbest estimator rf's best error=0.3417\n",
      "[flaml.automl: 07-31 11:50:38] {3166} INFO - iteration 56, current learner lgbm\n",
      "[flaml.automl: 07-31 11:50:38] {3343} INFO -  at 10.2s,\testimator lgbm's best error=0.3698,\tbest estimator rf's best error=0.3417\n",
      "[flaml.automl: 07-31 11:50:38] {3166} INFO - iteration 57, current learner rf\n",
      "[flaml.automl: 07-31 11:50:38] {3343} INFO -  at 10.7s,\testimator rf's best error=0.3417,\tbest estimator rf's best error=0.3417\n",
      "[flaml.automl: 07-31 11:50:38] {3166} INFO - iteration 58, current learner rf\n",
      "[flaml.automl: 07-31 11:50:38] {3343} INFO -  at 10.9s,\testimator rf's best error=0.3417,\tbest estimator rf's best error=0.3417\n",
      "[flaml.automl: 07-31 11:50:38] {3166} INFO - iteration 59, current learner lgbm\n",
      "[flaml.automl: 07-31 11:50:38] {3343} INFO -  at 10.9s,\testimator lgbm's best error=0.3681,\tbest estimator rf's best error=0.3417\n",
      "[flaml.automl: 07-31 11:50:38] {3166} INFO - iteration 60, current learner rf\n",
      "[flaml.automl: 07-31 11:50:39] {3343} INFO -  at 11.3s,\testimator rf's best error=0.3417,\tbest estimator rf's best error=0.3417\n",
      "[flaml.automl: 07-31 11:50:39] {3166} INFO - iteration 61, current learner lgbm\n",
      "[flaml.automl: 07-31 11:50:39] {3343} INFO -  at 11.4s,\testimator lgbm's best error=0.3681,\tbest estimator rf's best error=0.3417\n",
      "[flaml.automl: 07-31 11:50:39] {3166} INFO - iteration 62, current learner rf\n",
      "[flaml.automl: 07-31 11:50:39] {3343} INFO -  at 11.6s,\testimator rf's best error=0.3417,\tbest estimator rf's best error=0.3417\n",
      "[flaml.automl: 07-31 11:50:39] {3166} INFO - iteration 63, current learner xgboost\n",
      "[flaml.automl: 07-31 11:50:39] {3343} INFO -  at 11.6s,\testimator xgboost's best error=0.3627,\tbest estimator rf's best error=0.3417\n",
      "[flaml.automl: 07-31 11:50:39] {3166} INFO - iteration 64, current learner lgbm\n",
      "[flaml.automl: 07-31 11:50:39] {3343} INFO -  at 11.7s,\testimator lgbm's best error=0.3681,\tbest estimator rf's best error=0.3417\n",
      "[flaml.automl: 07-31 11:50:39] {3166} INFO - iteration 65, current learner rf\n",
      "[flaml.automl: 07-31 11:50:40] {3343} INFO -  at 12.1s,\testimator rf's best error=0.3417,\tbest estimator rf's best error=0.3417\n",
      "[flaml.automl: 07-31 11:50:40] {3166} INFO - iteration 66, current learner xgboost\n",
      "[flaml.automl: 07-31 11:50:40] {3343} INFO -  at 12.2s,\testimator xgboost's best error=0.3627,\tbest estimator rf's best error=0.3417\n",
      "[flaml.automl: 07-31 11:50:40] {3166} INFO - iteration 67, current learner rf\n",
      "[flaml.automl: 07-31 11:50:40] {3343} INFO -  at 12.5s,\testimator rf's best error=0.3417,\tbest estimator rf's best error=0.3417\n",
      "[flaml.automl: 07-31 11:50:40] {3166} INFO - iteration 68, current learner lgbm\n",
      "[flaml.automl: 07-31 11:50:40] {3343} INFO -  at 12.6s,\testimator lgbm's best error=0.3681,\tbest estimator rf's best error=0.3417\n",
      "[flaml.automl: 07-31 11:50:40] {3166} INFO - iteration 69, current learner rf\n",
      "[flaml.automl: 07-31 11:50:40] {3343} INFO -  at 13.0s,\testimator rf's best error=0.3368,\tbest estimator rf's best error=0.3368\n",
      "[flaml.automl: 07-31 11:50:40] {3166} INFO - iteration 70, current learner xgboost\n",
      "[flaml.automl: 07-31 11:50:40] {3343} INFO -  at 13.0s,\testimator xgboost's best error=0.3627,\tbest estimator rf's best error=0.3368\n",
      "[flaml.automl: 07-31 11:50:40] {3166} INFO - iteration 71, current learner rf\n",
      "[flaml.automl: 07-31 11:50:41] {3343} INFO -  at 13.3s,\testimator rf's best error=0.3368,\tbest estimator rf's best error=0.3368\n",
      "[flaml.automl: 07-31 11:50:41] {3166} INFO - iteration 72, current learner extra_tree\n",
      "[flaml.automl: 07-31 11:50:41] {3343} INFO -  at 13.6s,\testimator extra_tree's best error=0.3540,\tbest estimator rf's best error=0.3368\n",
      "[flaml.automl: 07-31 11:50:41] {3166} INFO - iteration 73, current learner xgboost\n",
      "[flaml.automl: 07-31 11:50:41] {3343} INFO -  at 13.6s,\testimator xgboost's best error=0.3627,\tbest estimator rf's best error=0.3368\n",
      "[flaml.automl: 07-31 11:50:41] {3166} INFO - iteration 74, current learner xgboost\n",
      "[flaml.automl: 07-31 11:50:41] {3343} INFO -  at 13.7s,\testimator xgboost's best error=0.3627,\tbest estimator rf's best error=0.3368\n"
     ]
    },
    {
     "name": "stderr",
     "output_type": "stream",
     "text": [
      "[flaml.automl: 07-31 11:50:41] {3166} INFO - iteration 75, current learner rf\n",
      "[flaml.automl: 07-31 11:50:41] {3343} INFO -  at 13.9s,\testimator rf's best error=0.3368,\tbest estimator rf's best error=0.3368\n",
      "[flaml.automl: 07-31 11:50:41] {3166} INFO - iteration 76, current learner rf\n",
      "[flaml.automl: 07-31 11:50:42] {3343} INFO -  at 14.4s,\testimator rf's best error=0.3368,\tbest estimator rf's best error=0.3368\n",
      "[flaml.automl: 07-31 11:50:42] {3166} INFO - iteration 77, current learner xgboost\n",
      "[flaml.automl: 07-31 11:50:42] {3343} INFO -  at 14.4s,\testimator xgboost's best error=0.3627,\tbest estimator rf's best error=0.3368\n",
      "[flaml.automl: 07-31 11:50:42] {3166} INFO - iteration 78, current learner rf\n",
      "[flaml.automl: 07-31 11:50:42] {3343} INFO -  at 14.8s,\testimator rf's best error=0.3368,\tbest estimator rf's best error=0.3368\n",
      "[flaml.automl: 07-31 11:50:42] {3166} INFO - iteration 79, current learner rf\n",
      "[flaml.automl: 07-31 11:50:42] {3343} INFO -  at 15.0s,\testimator rf's best error=0.3368,\tbest estimator rf's best error=0.3368\n",
      "[flaml.automl: 07-31 11:50:42] {3166} INFO - iteration 80, current learner extra_tree\n",
      "[flaml.automl: 07-31 11:50:43] {3343} INFO -  at 15.4s,\testimator extra_tree's best error=0.3540,\tbest estimator rf's best error=0.3368\n",
      "[flaml.automl: 07-31 11:50:43] {3166} INFO - iteration 81, current learner rf\n",
      "[flaml.automl: 07-31 11:50:43] {3343} INFO -  at 15.6s,\testimator rf's best error=0.3368,\tbest estimator rf's best error=0.3368\n",
      "[flaml.automl: 07-31 11:50:43] {3166} INFO - iteration 82, current learner xgboost\n",
      "[flaml.automl: 07-31 11:50:43] {3343} INFO -  at 15.7s,\testimator xgboost's best error=0.3627,\tbest estimator rf's best error=0.3368\n",
      "[flaml.automl: 07-31 11:50:43] {3166} INFO - iteration 83, current learner xgboost\n",
      "[flaml.automl: 07-31 11:50:43] {3343} INFO -  at 15.7s,\testimator xgboost's best error=0.3627,\tbest estimator rf's best error=0.3368\n",
      "[flaml.automl: 07-31 11:50:43] {3166} INFO - iteration 84, current learner xgboost\n",
      "[flaml.automl: 07-31 11:50:43] {3343} INFO -  at 15.7s,\testimator xgboost's best error=0.3627,\tbest estimator rf's best error=0.3368\n",
      "[flaml.automl: 07-31 11:50:43] {3166} INFO - iteration 85, current learner rf\n",
      "[flaml.automl: 07-31 11:50:44] {3343} INFO -  at 16.2s,\testimator rf's best error=0.3368,\tbest estimator rf's best error=0.3368\n",
      "[flaml.automl: 07-31 11:50:44] {3166} INFO - iteration 86, current learner xgboost\n",
      "[flaml.automl: 07-31 11:50:44] {3343} INFO -  at 16.2s,\testimator xgboost's best error=0.3627,\tbest estimator rf's best error=0.3368\n",
      "[flaml.automl: 07-31 11:50:44] {3166} INFO - iteration 87, current learner rf\n",
      "[flaml.automl: 07-31 11:50:44] {3343} INFO -  at 16.4s,\testimator rf's best error=0.3368,\tbest estimator rf's best error=0.3368\n",
      "[flaml.automl: 07-31 11:50:44] {3166} INFO - iteration 88, current learner rf\n",
      "[flaml.automl: 07-31 11:50:44] {3343} INFO -  at 16.9s,\testimator rf's best error=0.3368,\tbest estimator rf's best error=0.3368\n",
      "[flaml.automl: 07-31 11:50:44] {3166} INFO - iteration 89, current learner xgboost\n",
      "[flaml.automl: 07-31 11:50:44] {3343} INFO -  at 16.9s,\testimator xgboost's best error=0.3627,\tbest estimator rf's best error=0.3368\n",
      "[flaml.automl: 07-31 11:50:44] {3166} INFO - iteration 90, current learner rf\n",
      "[flaml.automl: 07-31 11:50:45] {3343} INFO -  at 17.4s,\testimator rf's best error=0.3368,\tbest estimator rf's best error=0.3368\n",
      "[flaml.automl: 07-31 11:50:45] {3166} INFO - iteration 91, current learner extra_tree\n",
      "[flaml.automl: 07-31 11:50:45] {3343} INFO -  at 17.7s,\testimator extra_tree's best error=0.3540,\tbest estimator rf's best error=0.3368\n",
      "[flaml.automl: 07-31 11:50:45] {3166} INFO - iteration 92, current learner xgboost\n",
      "[flaml.automl: 07-31 11:50:45] {3343} INFO -  at 17.8s,\testimator xgboost's best error=0.3627,\tbest estimator rf's best error=0.3368\n",
      "[flaml.automl: 07-31 11:50:45] {3166} INFO - iteration 93, current learner rf\n",
      "[flaml.automl: 07-31 11:50:45] {3343} INFO -  at 18.0s,\testimator rf's best error=0.3368,\tbest estimator rf's best error=0.3368\n",
      "[flaml.automl: 07-31 11:50:45] {3166} INFO - iteration 94, current learner lgbm\n",
      "[flaml.automl: 07-31 11:50:45] {3343} INFO -  at 18.1s,\testimator lgbm's best error=0.3681,\tbest estimator rf's best error=0.3368\n",
      "[flaml.automl: 07-31 11:50:45] {3166} INFO - iteration 95, current learner extra_tree\n",
      "[flaml.automl: 07-31 11:50:46] {3343} INFO -  at 18.3s,\testimator extra_tree's best error=0.3540,\tbest estimator rf's best error=0.3368\n",
      "[flaml.automl: 07-31 11:50:46] {3166} INFO - iteration 96, current learner rf\n",
      "[flaml.automl: 07-31 11:50:46] {3343} INFO -  at 18.6s,\testimator rf's best error=0.3368,\tbest estimator rf's best error=0.3368\n",
      "[flaml.automl: 07-31 11:50:46] {3166} INFO - iteration 97, current learner rf\n",
      "[flaml.automl: 07-31 11:50:46] {3343} INFO -  at 18.9s,\testimator rf's best error=0.3368,\tbest estimator rf's best error=0.3368\n",
      "[flaml.automl: 07-31 11:50:46] {3166} INFO - iteration 98, current learner rf\n",
      "[flaml.automl: 07-31 11:50:47] {3343} INFO -  at 19.3s,\testimator rf's best error=0.3368,\tbest estimator rf's best error=0.3368\n",
      "[flaml.automl: 07-31 11:50:47] {3166} INFO - iteration 99, current learner rf\n",
      "[flaml.automl: 07-31 11:50:47] {3343} INFO -  at 19.6s,\testimator rf's best error=0.3368,\tbest estimator rf's best error=0.3368\n",
      "[flaml.automl: 07-31 11:50:47] {3166} INFO - iteration 100, current learner xgboost\n",
      "[flaml.automl: 07-31 11:50:47] {3343} INFO -  at 19.6s,\testimator xgboost's best error=0.3627,\tbest estimator rf's best error=0.3368\n",
      "[flaml.automl: 07-31 11:50:47] {3166} INFO - iteration 101, current learner rf\n",
      "[flaml.automl: 07-31 11:50:47] {3343} INFO -  at 20.0s,\testimator rf's best error=0.3368,\tbest estimator rf's best error=0.3368\n",
      "[flaml.automl: 07-31 11:50:47] {3166} INFO - iteration 102, current learner lgbm\n",
      "[flaml.automl: 07-31 11:50:47] {3343} INFO -  at 20.1s,\testimator lgbm's best error=0.3681,\tbest estimator rf's best error=0.3368\n",
      "[flaml.automl: 07-31 11:50:47] {3166} INFO - iteration 103, current learner xgboost\n",
      "[flaml.automl: 07-31 11:50:48] {3343} INFO -  at 20.1s,\testimator xgboost's best error=0.3627,\tbest estimator rf's best error=0.3368\n",
      "[flaml.automl: 07-31 11:50:48] {3166} INFO - iteration 104, current learner rf\n",
      "[flaml.automl: 07-31 11:50:48] {3343} INFO -  at 20.5s,\testimator rf's best error=0.3368,\tbest estimator rf's best error=0.3368\n",
      "[flaml.automl: 07-31 11:50:48] {3166} INFO - iteration 105, current learner xgb_limitdepth\n",
      "[flaml.automl: 07-31 11:50:48] {3343} INFO -  at 20.6s,\testimator xgb_limitdepth's best error=0.3951,\tbest estimator rf's best error=0.3368\n",
      "[flaml.automl: 07-31 11:50:48] {3166} INFO - iteration 106, current learner xgb_limitdepth\n",
      "[flaml.automl: 07-31 11:50:48] {3343} INFO -  at 20.6s,\testimator xgb_limitdepth's best error=0.3951,\tbest estimator rf's best error=0.3368\n",
      "[flaml.automl: 07-31 11:50:48] {3166} INFO - iteration 107, current learner xgb_limitdepth\n",
      "[flaml.automl: 07-31 11:50:48] {3343} INFO -  at 20.7s,\testimator xgb_limitdepth's best error=0.3951,\tbest estimator rf's best error=0.3368\n",
      "[flaml.automl: 07-31 11:50:48] {3166} INFO - iteration 108, current learner xgb_limitdepth\n",
      "[flaml.automl: 07-31 11:50:48] {3343} INFO -  at 20.8s,\testimator xgb_limitdepth's best error=0.3696,\tbest estimator rf's best error=0.3368\n",
      "[flaml.automl: 07-31 11:50:48] {3166} INFO - iteration 109, current learner xgb_limitdepth\n",
      "[flaml.automl: 07-31 11:50:48] {3343} INFO -  at 20.8s,\testimator xgb_limitdepth's best error=0.3656,\tbest estimator rf's best error=0.3368\n",
      "[flaml.automl: 07-31 11:50:48] {3166} INFO - iteration 110, current learner xgb_limitdepth\n",
      "[flaml.automl: 07-31 11:50:48] {3343} INFO -  at 20.9s,\testimator xgb_limitdepth's best error=0.3656,\tbest estimator rf's best error=0.3368\n",
      "[flaml.automl: 07-31 11:50:48] {3166} INFO - iteration 111, current learner lgbm\n",
      "[flaml.automl: 07-31 11:50:48] {3343} INFO -  at 20.9s,\testimator lgbm's best error=0.3681,\tbest estimator rf's best error=0.3368\n",
      "[flaml.automl: 07-31 11:50:48] {3166} INFO - iteration 112, current learner xgb_limitdepth\n",
      "[flaml.automl: 07-31 11:50:48] {3343} INFO -  at 21.0s,\testimator xgb_limitdepth's best error=0.3656,\tbest estimator rf's best error=0.3368\n",
      "[flaml.automl: 07-31 11:50:48] {3166} INFO - iteration 113, current learner xgb_limitdepth\n"
     ]
    },
    {
     "name": "stderr",
     "output_type": "stream",
     "text": [
      "[flaml.automl: 07-31 11:50:48] {3343} INFO -  at 21.1s,\testimator xgb_limitdepth's best error=0.3656,\tbest estimator rf's best error=0.3368\n",
      "[flaml.automl: 07-31 11:50:48] {3166} INFO - iteration 114, current learner xgb_limitdepth\n",
      "[flaml.automl: 07-31 11:50:49] {3343} INFO -  at 21.2s,\testimator xgb_limitdepth's best error=0.3656,\tbest estimator rf's best error=0.3368\n",
      "[flaml.automl: 07-31 11:50:49] {3166} INFO - iteration 115, current learner rf\n",
      "[flaml.automl: 07-31 11:50:49] {3343} INFO -  at 21.4s,\testimator rf's best error=0.3368,\tbest estimator rf's best error=0.3368\n",
      "[flaml.automl: 07-31 11:50:49] {3166} INFO - iteration 116, current learner rf\n",
      "[flaml.automl: 07-31 11:50:49] {3343} INFO -  at 21.8s,\testimator rf's best error=0.3368,\tbest estimator rf's best error=0.3368\n",
      "[flaml.automl: 07-31 11:50:49] {3166} INFO - iteration 117, current learner xgb_limitdepth\n",
      "[flaml.automl: 07-31 11:50:49] {3343} INFO -  at 21.9s,\testimator xgb_limitdepth's best error=0.3656,\tbest estimator rf's best error=0.3368\n",
      "[flaml.automl: 07-31 11:50:49] {3166} INFO - iteration 118, current learner xgb_limitdepth\n",
      "[flaml.automl: 07-31 11:50:49] {3343} INFO -  at 21.9s,\testimator xgb_limitdepth's best error=0.3656,\tbest estimator rf's best error=0.3368\n",
      "[flaml.automl: 07-31 11:50:49] {3166} INFO - iteration 119, current learner lgbm\n",
      "[flaml.automl: 07-31 11:50:49] {3343} INFO -  at 22.0s,\testimator lgbm's best error=0.3681,\tbest estimator rf's best error=0.3368\n",
      "[flaml.automl: 07-31 11:50:49] {3166} INFO - iteration 120, current learner xgb_limitdepth\n",
      "[flaml.automl: 07-31 11:50:49] {3343} INFO -  at 22.1s,\testimator xgb_limitdepth's best error=0.3656,\tbest estimator rf's best error=0.3368\n",
      "[flaml.automl: 07-31 11:50:49] {3166} INFO - iteration 121, current learner xgb_limitdepth\n",
      "[flaml.automl: 07-31 11:50:50] {3343} INFO -  at 22.2s,\testimator xgb_limitdepth's best error=0.3627,\tbest estimator rf's best error=0.3368\n",
      "[flaml.automl: 07-31 11:50:50] {3166} INFO - iteration 122, current learner xgb_limitdepth\n",
      "[flaml.automl: 07-31 11:50:50] {3343} INFO -  at 22.3s,\testimator xgb_limitdepth's best error=0.3627,\tbest estimator rf's best error=0.3368\n",
      "[flaml.automl: 07-31 11:50:50] {3166} INFO - iteration 123, current learner xgboost\n",
      "[flaml.automl: 07-31 11:50:50] {3343} INFO -  at 22.3s,\testimator xgboost's best error=0.3627,\tbest estimator rf's best error=0.3368\n",
      "[flaml.automl: 07-31 11:50:50] {3166} INFO - iteration 124, current learner rf\n",
      "[flaml.automl: 07-31 11:50:50] {3343} INFO -  at 22.5s,\testimator rf's best error=0.3368,\tbest estimator rf's best error=0.3368\n",
      "[flaml.automl: 07-31 11:50:50] {3166} INFO - iteration 125, current learner lgbm\n",
      "[flaml.automl: 07-31 11:50:50] {3343} INFO -  at 22.6s,\testimator lgbm's best error=0.3648,\tbest estimator rf's best error=0.3368\n",
      "[flaml.automl: 07-31 11:50:50] {3166} INFO - iteration 126, current learner lgbm\n",
      "[flaml.automl: 07-31 11:50:50] {3343} INFO -  at 22.7s,\testimator lgbm's best error=0.3648,\tbest estimator rf's best error=0.3368\n",
      "[flaml.automl: 07-31 11:50:50] {3166} INFO - iteration 127, current learner lgbm\n",
      "[flaml.automl: 07-31 11:50:50] {3343} INFO -  at 22.8s,\testimator lgbm's best error=0.3648,\tbest estimator rf's best error=0.3368\n",
      "[flaml.automl: 07-31 11:50:50] {3166} INFO - iteration 128, current learner rf\n",
      "[flaml.automl: 07-31 11:50:51] {3343} INFO -  at 23.2s,\testimator rf's best error=0.3368,\tbest estimator rf's best error=0.3368\n",
      "[flaml.automl: 07-31 11:50:51] {3166} INFO - iteration 129, current learner xgb_limitdepth\n",
      "[flaml.automl: 07-31 11:50:51] {3343} INFO -  at 23.4s,\testimator xgb_limitdepth's best error=0.3627,\tbest estimator rf's best error=0.3368\n",
      "[flaml.automl: 07-31 11:50:51] {3166} INFO - iteration 130, current learner xgboost\n",
      "[flaml.automl: 07-31 11:50:51] {3343} INFO -  at 23.4s,\testimator xgboost's best error=0.3627,\tbest estimator rf's best error=0.3368\n",
      "[flaml.automl: 07-31 11:50:51] {3166} INFO - iteration 131, current learner xgboost\n",
      "[flaml.automl: 07-31 11:50:51] {3343} INFO -  at 23.5s,\testimator xgboost's best error=0.3627,\tbest estimator rf's best error=0.3368\n",
      "[flaml.automl: 07-31 11:50:51] {3166} INFO - iteration 132, current learner xgb_limitdepth\n",
      "[flaml.automl: 07-31 11:50:51] {3343} INFO -  at 23.6s,\testimator xgb_limitdepth's best error=0.3627,\tbest estimator rf's best error=0.3368\n",
      "[flaml.automl: 07-31 11:50:51] {3166} INFO - iteration 133, current learner lgbm\n",
      "[flaml.automl: 07-31 11:50:51] {3343} INFO -  at 23.7s,\testimator lgbm's best error=0.3648,\tbest estimator rf's best error=0.3368\n",
      "[flaml.automl: 07-31 11:50:51] {3166} INFO - iteration 134, current learner rf\n",
      "[flaml.automl: 07-31 11:50:52] {3343} INFO -  at 24.1s,\testimator rf's best error=0.3368,\tbest estimator rf's best error=0.3368\n",
      "[flaml.automl: 07-31 11:50:52] {3166} INFO - iteration 135, current learner xgboost\n",
      "[flaml.automl: 07-31 11:50:52] {3343} INFO -  at 24.2s,\testimator xgboost's best error=0.3627,\tbest estimator rf's best error=0.3368\n",
      "[flaml.automl: 07-31 11:50:52] {3166} INFO - iteration 136, current learner xgb_limitdepth\n",
      "[flaml.automl: 07-31 11:50:52] {3343} INFO -  at 24.3s,\testimator xgb_limitdepth's best error=0.3627,\tbest estimator rf's best error=0.3368\n",
      "[flaml.automl: 07-31 11:50:52] {3166} INFO - iteration 137, current learner xgboost\n",
      "[flaml.automl: 07-31 11:50:52] {3343} INFO -  at 24.4s,\testimator xgboost's best error=0.3627,\tbest estimator rf's best error=0.3368\n",
      "[flaml.automl: 07-31 11:50:52] {3166} INFO - iteration 138, current learner lgbm\n",
      "[flaml.automl: 07-31 11:50:52] {3343} INFO -  at 24.5s,\testimator lgbm's best error=0.3648,\tbest estimator rf's best error=0.3368\n",
      "[flaml.automl: 07-31 11:50:52] {3166} INFO - iteration 139, current learner extra_tree\n",
      "[flaml.automl: 07-31 11:50:52] {3343} INFO -  at 25.0s,\testimator extra_tree's best error=0.3540,\tbest estimator rf's best error=0.3368\n",
      "[flaml.automl: 07-31 11:50:52] {3166} INFO - iteration 140, current learner rf\n",
      "[flaml.automl: 07-31 11:50:53] {3343} INFO -  at 25.2s,\testimator rf's best error=0.3368,\tbest estimator rf's best error=0.3368\n",
      "[flaml.automl: 07-31 11:50:53] {3166} INFO - iteration 141, current learner extra_tree\n",
      "[flaml.automl: 07-31 11:50:53] {3343} INFO -  at 25.4s,\testimator extra_tree's best error=0.3501,\tbest estimator rf's best error=0.3368\n",
      "[flaml.automl: 07-31 11:50:53] {3166} INFO - iteration 142, current learner rf\n",
      "[flaml.automl: 07-31 11:50:53] {3343} INFO -  at 25.8s,\testimator rf's best error=0.3368,\tbest estimator rf's best error=0.3368\n",
      "[flaml.automl: 07-31 11:50:53] {3166} INFO - iteration 143, current learner xgb_limitdepth\n",
      "[flaml.automl: 07-31 11:50:53] {3343} INFO -  at 25.9s,\testimator xgb_limitdepth's best error=0.3627,\tbest estimator rf's best error=0.3368\n",
      "[flaml.automl: 07-31 11:50:53] {3166} INFO - iteration 144, current learner xgboost\n",
      "[flaml.automl: 07-31 11:50:53] {3343} INFO -  at 25.9s,\testimator xgboost's best error=0.3627,\tbest estimator rf's best error=0.3368\n",
      "[flaml.automl: 07-31 11:50:53] {3166} INFO - iteration 145, current learner xgboost\n",
      "[flaml.automl: 07-31 11:50:53] {3343} INFO -  at 26.0s,\testimator xgboost's best error=0.3627,\tbest estimator rf's best error=0.3368\n",
      "[flaml.automl: 07-31 11:50:53] {3166} INFO - iteration 146, current learner lgbm\n",
      "[flaml.automl: 07-31 11:50:54] {3343} INFO -  at 26.2s,\testimator lgbm's best error=0.3648,\tbest estimator rf's best error=0.3368\n",
      "[flaml.automl: 07-31 11:50:54] {3166} INFO - iteration 147, current learner lgbm\n",
      "[flaml.automl: 07-31 11:50:54] {3343} INFO -  at 26.2s,\testimator lgbm's best error=0.3648,\tbest estimator rf's best error=0.3368\n",
      "[flaml.automl: 07-31 11:50:54] {3166} INFO - iteration 148, current learner rf\n",
      "[flaml.automl: 07-31 11:50:54] {3343} INFO -  at 26.6s,\testimator rf's best error=0.3368,\tbest estimator rf's best error=0.3368\n",
      "[flaml.automl: 07-31 11:50:54] {3166} INFO - iteration 149, current learner lgbm\n",
      "[flaml.automl: 07-31 11:50:54] {3343} INFO -  at 26.7s,\testimator lgbm's best error=0.3648,\tbest estimator rf's best error=0.3368\n",
      "[flaml.automl: 07-31 11:50:54] {3166} INFO - iteration 150, current learner lgbm\n",
      "[flaml.automl: 07-31 11:50:54] {3343} INFO -  at 26.9s,\testimator lgbm's best error=0.3648,\tbest estimator rf's best error=0.3368\n",
      "[flaml.automl: 07-31 11:50:54] {3166} INFO - iteration 151, current learner rf\n"
     ]
    },
    {
     "name": "stderr",
     "output_type": "stream",
     "text": [
      "[flaml.automl: 07-31 11:50:55] {3343} INFO -  at 27.2s,\testimator rf's best error=0.3368,\tbest estimator rf's best error=0.3368\n",
      "[flaml.automl: 07-31 11:50:55] {3166} INFO - iteration 152, current learner xgboost\n",
      "[flaml.automl: 07-31 11:50:55] {3343} INFO -  at 27.3s,\testimator xgboost's best error=0.3627,\tbest estimator rf's best error=0.3368\n",
      "[flaml.automl: 07-31 11:50:55] {3166} INFO - iteration 153, current learner xgboost\n",
      "[flaml.automl: 07-31 11:50:55] {3343} INFO -  at 27.3s,\testimator xgboost's best error=0.3627,\tbest estimator rf's best error=0.3368\n",
      "[flaml.automl: 07-31 11:50:55] {3166} INFO - iteration 154, current learner lgbm\n",
      "[flaml.automl: 07-31 11:50:55] {3343} INFO -  at 27.5s,\testimator lgbm's best error=0.3648,\tbest estimator rf's best error=0.3368\n",
      "[flaml.automl: 07-31 11:50:55] {3166} INFO - iteration 155, current learner lgbm\n",
      "[flaml.automl: 07-31 11:50:55] {3343} INFO -  at 27.6s,\testimator lgbm's best error=0.3648,\tbest estimator rf's best error=0.3368\n",
      "[flaml.automl: 07-31 11:50:55] {3166} INFO - iteration 156, current learner xgb_limitdepth\n",
      "[flaml.automl: 07-31 11:50:55] {3343} INFO -  at 27.7s,\testimator xgb_limitdepth's best error=0.3627,\tbest estimator rf's best error=0.3368\n",
      "[flaml.automl: 07-31 11:50:55] {3166} INFO - iteration 157, current learner xgboost\n",
      "[flaml.automl: 07-31 11:50:55] {3343} INFO -  at 27.7s,\testimator xgboost's best error=0.3627,\tbest estimator rf's best error=0.3368\n",
      "[flaml.automl: 07-31 11:50:55] {3166} INFO - iteration 158, current learner rf\n",
      "[flaml.automl: 07-31 11:50:56] {3343} INFO -  at 28.1s,\testimator rf's best error=0.3368,\tbest estimator rf's best error=0.3368\n",
      "[flaml.automl: 07-31 11:50:56] {3166} INFO - iteration 159, current learner rf\n",
      "[flaml.automl: 07-31 11:50:56] {3343} INFO -  at 28.5s,\testimator rf's best error=0.3368,\tbest estimator rf's best error=0.3368\n",
      "[flaml.automl: 07-31 11:50:56] {3166} INFO - iteration 160, current learner extra_tree\n",
      "[flaml.automl: 07-31 11:50:56] {3343} INFO -  at 28.8s,\testimator extra_tree's best error=0.3501,\tbest estimator rf's best error=0.3368\n",
      "[flaml.automl: 07-31 11:50:56] {3166} INFO - iteration 161, current learner rf\n",
      "[flaml.automl: 07-31 11:50:56] {3343} INFO -  at 29.0s,\testimator rf's best error=0.3368,\tbest estimator rf's best error=0.3368\n",
      "[flaml.automl: 07-31 11:50:56] {3166} INFO - iteration 162, current learner xgboost\n",
      "[flaml.automl: 07-31 11:50:56] {3343} INFO -  at 29.1s,\testimator xgboost's best error=0.3627,\tbest estimator rf's best error=0.3368\n",
      "[flaml.automl: 07-31 11:50:56] {3166} INFO - iteration 163, current learner xgb_limitdepth\n",
      "[flaml.automl: 07-31 11:50:57] {3343} INFO -  at 29.2s,\testimator xgb_limitdepth's best error=0.3571,\tbest estimator rf's best error=0.3368\n",
      "[flaml.automl: 07-31 11:50:57] {3166} INFO - iteration 164, current learner xgb_limitdepth\n",
      "[flaml.automl: 07-31 11:50:57] {3343} INFO -  at 29.2s,\testimator xgb_limitdepth's best error=0.3571,\tbest estimator rf's best error=0.3368\n",
      "[flaml.automl: 07-31 11:50:57] {3166} INFO - iteration 165, current learner rf\n",
      "[flaml.automl: 07-31 11:50:57] {3343} INFO -  at 29.6s,\testimator rf's best error=0.3368,\tbest estimator rf's best error=0.3368\n",
      "[flaml.automl: 07-31 11:50:57] {3166} INFO - iteration 166, current learner xgboost\n",
      "[flaml.automl: 07-31 11:50:57] {3343} INFO -  at 29.7s,\testimator xgboost's best error=0.3627,\tbest estimator rf's best error=0.3368\n",
      "[flaml.automl: 07-31 11:50:57] {3166} INFO - iteration 167, current learner xgb_limitdepth\n",
      "[flaml.automl: 07-31 11:50:57] {3343} INFO -  at 29.7s,\testimator xgb_limitdepth's best error=0.3571,\tbest estimator rf's best error=0.3368\n",
      "[flaml.automl: 07-31 11:50:57] {3166} INFO - iteration 168, current learner xgb_limitdepth\n",
      "[flaml.automl: 07-31 11:50:57] {3343} INFO -  at 29.8s,\testimator xgb_limitdepth's best error=0.3571,\tbest estimator rf's best error=0.3368\n",
      "[flaml.automl: 07-31 11:50:57] {3166} INFO - iteration 169, current learner rf\n",
      "[flaml.automl: 07-31 11:50:57] {3343} INFO -  at 30.1s,\testimator rf's best error=0.3368,\tbest estimator rf's best error=0.3368\n",
      "[flaml.automl: 07-31 11:50:57] {3166} INFO - iteration 170, current learner lgbm\n",
      "[flaml.automl: 07-31 11:50:58] {3343} INFO -  at 30.2s,\testimator lgbm's best error=0.3648,\tbest estimator rf's best error=0.3368\n",
      "[flaml.automl: 07-31 11:50:58] {3166} INFO - iteration 171, current learner lgbm\n",
      "[flaml.automl: 07-31 11:50:58] {3343} INFO -  at 30.3s,\testimator lgbm's best error=0.3648,\tbest estimator rf's best error=0.3368\n",
      "[flaml.automl: 07-31 11:50:58] {3166} INFO - iteration 172, current learner xgboost\n",
      "[flaml.automl: 07-31 11:50:58] {3343} INFO -  at 30.4s,\testimator xgboost's best error=0.3627,\tbest estimator rf's best error=0.3368\n",
      "[flaml.automl: 07-31 11:50:58] {3166} INFO - iteration 173, current learner extra_tree\n",
      "[flaml.automl: 07-31 11:50:58] {3343} INFO -  at 30.7s,\testimator extra_tree's best error=0.3501,\tbest estimator rf's best error=0.3368\n",
      "[flaml.automl: 07-31 11:50:58] {3166} INFO - iteration 174, current learner extra_tree\n",
      "[flaml.automl: 07-31 11:50:58] {3343} INFO -  at 31.0s,\testimator extra_tree's best error=0.3501,\tbest estimator rf's best error=0.3368\n",
      "[flaml.automl: 07-31 11:50:58] {3166} INFO - iteration 175, current learner rf\n",
      "[flaml.automl: 07-31 11:50:59] {3343} INFO -  at 31.4s,\testimator rf's best error=0.3368,\tbest estimator rf's best error=0.3368\n",
      "[flaml.automl: 07-31 11:50:59] {3166} INFO - iteration 176, current learner xgb_limitdepth\n",
      "[flaml.automl: 07-31 11:50:59] {3343} INFO -  at 31.5s,\testimator xgb_limitdepth's best error=0.3571,\tbest estimator rf's best error=0.3368\n",
      "[flaml.automl: 07-31 11:50:59] {3166} INFO - iteration 177, current learner xgboost\n",
      "[flaml.automl: 07-31 11:50:59] {3343} INFO -  at 31.5s,\testimator xgboost's best error=0.3627,\tbest estimator rf's best error=0.3368\n",
      "[flaml.automl: 07-31 11:50:59] {3166} INFO - iteration 178, current learner xgboost\n",
      "[flaml.automl: 07-31 11:50:59] {3343} INFO -  at 31.6s,\testimator xgboost's best error=0.3627,\tbest estimator rf's best error=0.3368\n",
      "[flaml.automl: 07-31 11:50:59] {3166} INFO - iteration 179, current learner xgboost\n",
      "[flaml.automl: 07-31 11:50:59] {3343} INFO -  at 31.6s,\testimator xgboost's best error=0.3627,\tbest estimator rf's best error=0.3368\n",
      "[flaml.automl: 07-31 11:50:59] {3166} INFO - iteration 180, current learner xgb_limitdepth\n",
      "[flaml.automl: 07-31 11:50:59] {3343} INFO -  at 31.7s,\testimator xgb_limitdepth's best error=0.3571,\tbest estimator rf's best error=0.3368\n",
      "[flaml.automl: 07-31 11:50:59] {3166} INFO - iteration 181, current learner extra_tree\n",
      "[flaml.automl: 07-31 11:50:59] {3343} INFO -  at 32.1s,\testimator extra_tree's best error=0.3501,\tbest estimator rf's best error=0.3368\n",
      "[flaml.automl: 07-31 11:50:59] {3166} INFO - iteration 182, current learner rf\n",
      "[flaml.automl: 07-31 11:51:00] {3343} INFO -  at 32.3s,\testimator rf's best error=0.3368,\tbest estimator rf's best error=0.3368\n",
      "[flaml.automl: 07-31 11:51:00] {3166} INFO - iteration 183, current learner lgbm\n",
      "[flaml.automl: 07-31 11:51:00] {3343} INFO -  at 32.5s,\testimator lgbm's best error=0.3648,\tbest estimator rf's best error=0.3368\n",
      "[flaml.automl: 07-31 11:51:00] {3166} INFO - iteration 184, current learner xgboost\n",
      "[flaml.automl: 07-31 11:51:00] {3343} INFO -  at 32.6s,\testimator xgboost's best error=0.3627,\tbest estimator rf's best error=0.3368\n",
      "[flaml.automl: 07-31 11:51:00] {3166} INFO - iteration 185, current learner extra_tree\n",
      "[flaml.automl: 07-31 11:51:00] {3343} INFO -  at 32.8s,\testimator extra_tree's best error=0.3501,\tbest estimator rf's best error=0.3368\n",
      "[flaml.automl: 07-31 11:51:00] {3166} INFO - iteration 186, current learner rf\n",
      "[flaml.automl: 07-31 11:51:00] {3343} INFO -  at 33.1s,\testimator rf's best error=0.3368,\tbest estimator rf's best error=0.3368\n",
      "[flaml.automl: 07-31 11:51:00] {3166} INFO - iteration 187, current learner xgb_limitdepth\n",
      "[flaml.automl: 07-31 11:51:01] {3343} INFO -  at 33.1s,\testimator xgb_limitdepth's best error=0.3571,\tbest estimator rf's best error=0.3368\n",
      "[flaml.automl: 07-31 11:51:01] {3166} INFO - iteration 188, current learner lgbm\n",
      "[flaml.automl: 07-31 11:51:01] {3343} INFO -  at 33.2s,\testimator lgbm's best error=0.3648,\tbest estimator rf's best error=0.3368\n",
      "[flaml.automl: 07-31 11:51:01] {3166} INFO - iteration 189, current learner rf\n"
     ]
    },
    {
     "name": "stderr",
     "output_type": "stream",
     "text": [
      "[flaml.automl: 07-31 11:51:01] {3343} INFO -  at 33.6s,\testimator rf's best error=0.3368,\tbest estimator rf's best error=0.3368\n",
      "[flaml.automl: 07-31 11:51:01] {3166} INFO - iteration 190, current learner xgb_limitdepth\n",
      "[flaml.automl: 07-31 11:51:01] {3343} INFO -  at 33.7s,\testimator xgb_limitdepth's best error=0.3571,\tbest estimator rf's best error=0.3368\n",
      "[flaml.automl: 07-31 11:51:01] {3166} INFO - iteration 191, current learner rf\n",
      "[flaml.automl: 07-31 11:51:01] {3343} INFO -  at 34.0s,\testimator rf's best error=0.3368,\tbest estimator rf's best error=0.3368\n",
      "[flaml.automl: 07-31 11:51:01] {3166} INFO - iteration 192, current learner extra_tree\n",
      "[flaml.automl: 07-31 11:51:02] {3343} INFO -  at 34.3s,\testimator extra_tree's best error=0.3501,\tbest estimator rf's best error=0.3368\n",
      "[flaml.automl: 07-31 11:51:02] {3166} INFO - iteration 193, current learner xgboost\n",
      "[flaml.automl: 07-31 11:51:02] {3343} INFO -  at 34.4s,\testimator xgboost's best error=0.3627,\tbest estimator rf's best error=0.3368\n",
      "[flaml.automl: 07-31 11:51:02] {3166} INFO - iteration 194, current learner xgb_limitdepth\n",
      "[flaml.automl: 07-31 11:51:02] {3343} INFO -  at 34.4s,\testimator xgb_limitdepth's best error=0.3571,\tbest estimator rf's best error=0.3368\n",
      "[flaml.automl: 07-31 11:51:02] {3166} INFO - iteration 195, current learner rf\n",
      "[flaml.automl: 07-31 11:51:02] {3343} INFO -  at 34.7s,\testimator rf's best error=0.3368,\tbest estimator rf's best error=0.3368\n",
      "[flaml.automl: 07-31 11:51:02] {3166} INFO - iteration 196, current learner lgbm\n",
      "[flaml.automl: 07-31 11:51:02] {3343} INFO -  at 34.8s,\testimator lgbm's best error=0.3648,\tbest estimator rf's best error=0.3368\n",
      "[flaml.automl: 07-31 11:51:02] {3166} INFO - iteration 197, current learner xgb_limitdepth\n",
      "[flaml.automl: 07-31 11:51:02] {3343} INFO -  at 34.9s,\testimator xgb_limitdepth's best error=0.3571,\tbest estimator rf's best error=0.3368\n",
      "[flaml.automl: 07-31 11:51:02] {3166} INFO - iteration 198, current learner xgb_limitdepth\n",
      "[flaml.automl: 07-31 11:51:02] {3343} INFO -  at 35.1s,\testimator xgb_limitdepth's best error=0.3571,\tbest estimator rf's best error=0.3368\n",
      "[flaml.automl: 07-31 11:51:02] {3166} INFO - iteration 199, current learner xgb_limitdepth\n",
      "[flaml.automl: 07-31 11:51:03] {3343} INFO -  at 35.2s,\testimator xgb_limitdepth's best error=0.3571,\tbest estimator rf's best error=0.3368\n",
      "[flaml.automl: 07-31 11:51:03] {3166} INFO - iteration 200, current learner xgb_limitdepth\n",
      "[flaml.automl: 07-31 11:51:03] {3343} INFO -  at 35.2s,\testimator xgb_limitdepth's best error=0.3571,\tbest estimator rf's best error=0.3368\n",
      "[flaml.automl: 07-31 11:51:03] {3166} INFO - iteration 201, current learner lgbm\n",
      "[flaml.automl: 07-31 11:51:03] {3343} INFO -  at 35.3s,\testimator lgbm's best error=0.3648,\tbest estimator rf's best error=0.3368\n",
      "[flaml.automl: 07-31 11:51:03] {3166} INFO - iteration 202, current learner rf\n",
      "[flaml.automl: 07-31 11:51:03] {3343} INFO -  at 35.6s,\testimator rf's best error=0.3368,\tbest estimator rf's best error=0.3368\n",
      "[flaml.automl: 07-31 11:51:03] {3166} INFO - iteration 203, current learner xgboost\n",
      "[flaml.automl: 07-31 11:51:03] {3343} INFO -  at 35.6s,\testimator xgboost's best error=0.3627,\tbest estimator rf's best error=0.3368\n",
      "[flaml.automl: 07-31 11:51:03] {3166} INFO - iteration 204, current learner xgb_limitdepth\n",
      "[flaml.automl: 07-31 11:51:03] {3343} INFO -  at 35.7s,\testimator xgb_limitdepth's best error=0.3571,\tbest estimator rf's best error=0.3368\n",
      "[flaml.automl: 07-31 11:51:03] {3166} INFO - iteration 205, current learner xgb_limitdepth\n",
      "[flaml.automl: 07-31 11:51:03] {3343} INFO -  at 35.8s,\testimator xgb_limitdepth's best error=0.3571,\tbest estimator rf's best error=0.3368\n",
      "[flaml.automl: 07-31 11:51:03] {3166} INFO - iteration 206, current learner xgboost\n",
      "[flaml.automl: 07-31 11:51:03] {3343} INFO -  at 35.9s,\testimator xgboost's best error=0.3627,\tbest estimator rf's best error=0.3368\n",
      "[flaml.automl: 07-31 11:51:03] {3166} INFO - iteration 207, current learner xgb_limitdepth\n",
      "[flaml.automl: 07-31 11:51:03] {3343} INFO -  at 35.9s,\testimator xgb_limitdepth's best error=0.3571,\tbest estimator rf's best error=0.3368\n",
      "[flaml.automl: 07-31 11:51:03] {3166} INFO - iteration 208, current learner xgboost\n",
      "[flaml.automl: 07-31 11:51:03] {3343} INFO -  at 36.0s,\testimator xgboost's best error=0.3627,\tbest estimator rf's best error=0.3368\n",
      "[flaml.automl: 07-31 11:51:03] {3166} INFO - iteration 209, current learner xgboost\n",
      "[flaml.automl: 07-31 11:51:03] {3343} INFO -  at 36.0s,\testimator xgboost's best error=0.3627,\tbest estimator rf's best error=0.3368\n",
      "[flaml.automl: 07-31 11:51:03] {3166} INFO - iteration 210, current learner xgboost\n",
      "[flaml.automl: 07-31 11:51:03] {3343} INFO -  at 36.1s,\testimator xgboost's best error=0.3627,\tbest estimator rf's best error=0.3368\n",
      "[flaml.automl: 07-31 11:51:03] {3166} INFO - iteration 211, current learner xgboost\n",
      "[flaml.automl: 07-31 11:51:04] {3343} INFO -  at 36.1s,\testimator xgboost's best error=0.3627,\tbest estimator rf's best error=0.3368\n",
      "[flaml.automl: 07-31 11:51:04] {3166} INFO - iteration 212, current learner xgboost\n",
      "[flaml.automl: 07-31 11:51:04] {3343} INFO -  at 36.2s,\testimator xgboost's best error=0.3627,\tbest estimator rf's best error=0.3368\n",
      "[flaml.automl: 07-31 11:51:04] {3166} INFO - iteration 213, current learner xgb_limitdepth\n",
      "[flaml.automl: 07-31 11:51:04] {3343} INFO -  at 36.3s,\testimator xgb_limitdepth's best error=0.3551,\tbest estimator rf's best error=0.3368\n",
      "[flaml.automl: 07-31 11:51:04] {3166} INFO - iteration 214, current learner xgb_limitdepth\n",
      "[flaml.automl: 07-31 11:51:04] {3343} INFO -  at 36.4s,\testimator xgb_limitdepth's best error=0.3551,\tbest estimator rf's best error=0.3368\n",
      "[flaml.automl: 07-31 11:51:04] {3166} INFO - iteration 215, current learner rf\n",
      "[flaml.automl: 07-31 11:51:04] {3343} INFO -  at 36.7s,\testimator rf's best error=0.3368,\tbest estimator rf's best error=0.3368\n",
      "[flaml.automl: 07-31 11:51:04] {3166} INFO - iteration 216, current learner xgb_limitdepth\n",
      "[flaml.automl: 07-31 11:51:04] {3343} INFO -  at 36.8s,\testimator xgb_limitdepth's best error=0.3551,\tbest estimator rf's best error=0.3368\n",
      "[flaml.automl: 07-31 11:51:04] {3166} INFO - iteration 217, current learner rf\n",
      "[flaml.automl: 07-31 11:51:05] {3343} INFO -  at 37.2s,\testimator rf's best error=0.3368,\tbest estimator rf's best error=0.3368\n",
      "[flaml.automl: 07-31 11:51:05] {3166} INFO - iteration 218, current learner rf\n",
      "[flaml.automl: 07-31 11:51:05] {3343} INFO -  at 37.5s,\testimator rf's best error=0.3368,\tbest estimator rf's best error=0.3368\n",
      "[flaml.automl: 07-31 11:51:05] {3166} INFO - iteration 219, current learner lrl1\n",
      "[flaml.automl: 07-31 11:51:05] {3343} INFO -  at 37.6s,\testimator lrl1's best error=0.4007,\tbest estimator rf's best error=0.3368\n",
      "[flaml.automl: 07-31 11:51:05] {3166} INFO - iteration 220, current learner lrl1\n",
      "[flaml.automl: 07-31 11:51:05] {3343} INFO -  at 37.7s,\testimator lrl1's best error=0.4007,\tbest estimator rf's best error=0.3368\n",
      "[flaml.automl: 07-31 11:51:05] {3166} INFO - iteration 221, current learner lrl1\n",
      "[flaml.automl: 07-31 11:51:05] {3343} INFO -  at 37.8s,\testimator lrl1's best error=0.4007,\tbest estimator rf's best error=0.3368\n",
      "[flaml.automl: 07-31 11:51:05] {3166} INFO - iteration 222, current learner xgboost\n",
      "[flaml.automl: 07-31 11:51:05] {3343} INFO -  at 37.9s,\testimator xgboost's best error=0.3627,\tbest estimator rf's best error=0.3368\n",
      "[flaml.automl: 07-31 11:51:05] {3166} INFO - iteration 223, current learner lrl1\n",
      "[flaml.automl: 07-31 11:51:05] {3343} INFO -  at 38.0s,\testimator lrl1's best error=0.4007,\tbest estimator rf's best error=0.3368\n",
      "[flaml.automl: 07-31 11:51:05] {3166} INFO - iteration 224, current learner lrl1\n",
      "[flaml.automl: 07-31 11:51:05] {3343} INFO -  at 38.1s,\testimator lrl1's best error=0.4007,\tbest estimator rf's best error=0.3368\n",
      "[flaml.automl: 07-31 11:51:05] {3166} INFO - iteration 225, current learner rf\n",
      "[flaml.automl: 07-31 11:51:06] {3343} INFO -  at 38.3s,\testimator rf's best error=0.3368,\tbest estimator rf's best error=0.3368\n",
      "[flaml.automl: 07-31 11:51:06] {3166} INFO - iteration 226, current learner lrl1\n",
      "[flaml.automl: 07-31 11:51:06] {3343} INFO -  at 38.4s,\testimator lrl1's best error=0.4007,\tbest estimator rf's best error=0.3368\n"
     ]
    },
    {
     "name": "stderr",
     "output_type": "stream",
     "text": [
      "[flaml.automl: 07-31 11:51:06] {3166} INFO - iteration 227, current learner lrl1\n",
      "[flaml.automl: 07-31 11:51:06] {3343} INFO -  at 38.5s,\testimator lrl1's best error=0.4007,\tbest estimator rf's best error=0.3368\n",
      "[flaml.automl: 07-31 11:51:06] {3166} INFO - iteration 228, current learner lrl1\n",
      "[flaml.automl: 07-31 11:51:06] {3343} INFO -  at 38.6s,\testimator lrl1's best error=0.4007,\tbest estimator rf's best error=0.3368\n",
      "[flaml.automl: 07-31 11:51:06] {3166} INFO - iteration 229, current learner lrl1\n",
      "[flaml.automl: 07-31 11:51:06] {3343} INFO -  at 38.7s,\testimator lrl1's best error=0.4007,\tbest estimator rf's best error=0.3368\n",
      "[flaml.automl: 07-31 11:51:06] {3166} INFO - iteration 230, current learner lrl1\n",
      "[flaml.automl: 07-31 11:51:06] {3343} INFO -  at 38.8s,\testimator lrl1's best error=0.4007,\tbest estimator rf's best error=0.3368\n",
      "[flaml.automl: 07-31 11:51:06] {3166} INFO - iteration 231, current learner lrl1\n",
      "[flaml.automl: 07-31 11:51:06] {3343} INFO -  at 38.9s,\testimator lrl1's best error=0.4007,\tbest estimator rf's best error=0.3368\n",
      "[flaml.automl: 07-31 11:51:06] {3166} INFO - iteration 232, current learner lrl1\n",
      "[flaml.automl: 07-31 11:51:06] {3343} INFO -  at 39.0s,\testimator lrl1's best error=0.4007,\tbest estimator rf's best error=0.3368\n",
      "[flaml.automl: 07-31 11:51:06] {3166} INFO - iteration 233, current learner lrl1\n",
      "[flaml.automl: 07-31 11:51:07] {3343} INFO -  at 39.1s,\testimator lrl1's best error=0.4007,\tbest estimator rf's best error=0.3368\n",
      "[flaml.automl: 07-31 11:51:07] {3166} INFO - iteration 234, current learner lrl1\n",
      "[flaml.automl: 07-31 11:51:07] {3343} INFO -  at 39.2s,\testimator lrl1's best error=0.4007,\tbest estimator rf's best error=0.3368\n",
      "[flaml.automl: 07-31 11:51:07] {3166} INFO - iteration 235, current learner lrl1\n",
      "[flaml.automl: 07-31 11:51:07] {3343} INFO -  at 39.3s,\testimator lrl1's best error=0.4007,\tbest estimator rf's best error=0.3368\n",
      "[flaml.automl: 07-31 11:51:07] {3166} INFO - iteration 236, current learner lrl1\n",
      "[flaml.automl: 07-31 11:51:07] {3343} INFO -  at 39.4s,\testimator lrl1's best error=0.4007,\tbest estimator rf's best error=0.3368\n",
      "[flaml.automl: 07-31 11:51:07] {3166} INFO - iteration 237, current learner lrl1\n",
      "[flaml.automl: 07-31 11:51:07] {3343} INFO -  at 39.5s,\testimator lrl1's best error=0.4007,\tbest estimator rf's best error=0.3368\n",
      "[flaml.automl: 07-31 11:51:07] {3166} INFO - iteration 238, current learner lrl1\n",
      "[flaml.automl: 07-31 11:51:07] {3343} INFO -  at 39.6s,\testimator lrl1's best error=0.4007,\tbest estimator rf's best error=0.3368\n",
      "[flaml.automl: 07-31 11:51:07] {3166} INFO - iteration 239, current learner lrl1\n",
      "[flaml.automl: 07-31 11:51:07] {3343} INFO -  at 39.7s,\testimator lrl1's best error=0.4007,\tbest estimator rf's best error=0.3368\n",
      "[flaml.automl: 07-31 11:51:07] {3166} INFO - iteration 240, current learner lrl1\n",
      "[flaml.automl: 07-31 11:51:07] {3343} INFO -  at 39.8s,\testimator lrl1's best error=0.4007,\tbest estimator rf's best error=0.3368\n",
      "[flaml.automl: 07-31 11:51:07] {3166} INFO - iteration 241, current learner lrl1\n",
      "[flaml.automl: 07-31 11:51:07] {3343} INFO -  at 39.9s,\testimator lrl1's best error=0.4007,\tbest estimator rf's best error=0.3368\n",
      "[flaml.automl: 07-31 11:51:07] {3166} INFO - iteration 242, current learner lgbm\n",
      "[flaml.automl: 07-31 11:51:07] {3343} INFO -  at 40.0s,\testimator lgbm's best error=0.3648,\tbest estimator rf's best error=0.3368\n",
      "[flaml.automl: 07-31 11:51:07] {3166} INFO - iteration 243, current learner lrl1\n",
      "[flaml.automl: 07-31 11:51:08] {3343} INFO -  at 40.2s,\testimator lrl1's best error=0.4007,\tbest estimator rf's best error=0.3368\n",
      "[flaml.automl: 07-31 11:51:08] {3166} INFO - iteration 244, current learner lrl1\n",
      "[flaml.automl: 07-31 11:51:08] {3343} INFO -  at 40.3s,\testimator lrl1's best error=0.4007,\tbest estimator rf's best error=0.3368\n",
      "[flaml.automl: 07-31 11:51:08] {3166} INFO - iteration 245, current learner lrl1\n",
      "[flaml.automl: 07-31 11:51:08] {3343} INFO -  at 40.4s,\testimator lrl1's best error=0.4007,\tbest estimator rf's best error=0.3368\n",
      "[flaml.automl: 07-31 11:51:08] {3166} INFO - iteration 246, current learner xgb_limitdepth\n",
      "[flaml.automl: 07-31 11:51:08] {3343} INFO -  at 40.5s,\testimator xgb_limitdepth's best error=0.3551,\tbest estimator rf's best error=0.3368\n",
      "[flaml.automl: 07-31 11:51:08] {3166} INFO - iteration 247, current learner lrl1\n",
      "[flaml.automl: 07-31 11:51:08] {3343} INFO -  at 40.5s,\testimator lrl1's best error=0.4007,\tbest estimator rf's best error=0.3368\n",
      "[flaml.automl: 07-31 11:51:08] {3166} INFO - iteration 248, current learner lrl1\n",
      "[flaml.automl: 07-31 11:51:08] {3343} INFO -  at 40.7s,\testimator lrl1's best error=0.4007,\tbest estimator rf's best error=0.3368\n",
      "[flaml.automl: 07-31 11:51:08] {3166} INFO - iteration 249, current learner xgboost\n",
      "[flaml.automl: 07-31 11:51:08] {3343} INFO -  at 40.7s,\testimator xgboost's best error=0.3627,\tbest estimator rf's best error=0.3368\n",
      "[flaml.automl: 07-31 11:51:08] {3166} INFO - iteration 250, current learner lrl1\n",
      "[flaml.automl: 07-31 11:51:08] {3343} INFO -  at 40.8s,\testimator lrl1's best error=0.4007,\tbest estimator rf's best error=0.3368\n",
      "[flaml.automl: 07-31 11:51:08] {3166} INFO - iteration 251, current learner lrl1\n",
      "[flaml.automl: 07-31 11:51:08] {3343} INFO -  at 40.9s,\testimator lrl1's best error=0.4007,\tbest estimator rf's best error=0.3368\n",
      "[flaml.automl: 07-31 11:51:08] {3166} INFO - iteration 252, current learner rf\n",
      "[flaml.automl: 07-31 11:51:09] {3343} INFO -  at 41.3s,\testimator rf's best error=0.3368,\tbest estimator rf's best error=0.3368\n",
      "[flaml.automl: 07-31 11:51:09] {3166} INFO - iteration 253, current learner lrl1\n",
      "[flaml.automl: 07-31 11:51:09] {3343} INFO -  at 41.4s,\testimator lrl1's best error=0.4007,\tbest estimator rf's best error=0.3368\n",
      "[flaml.automl: 07-31 11:51:09] {3166} INFO - iteration 254, current learner lrl1\n",
      "[flaml.automl: 07-31 11:51:09] {3343} INFO -  at 41.5s,\testimator lrl1's best error=0.4007,\tbest estimator rf's best error=0.3368\n",
      "[flaml.automl: 07-31 11:51:09] {3166} INFO - iteration 255, current learner lrl1\n",
      "[flaml.automl: 07-31 11:51:09] {3343} INFO -  at 41.6s,\testimator lrl1's best error=0.4007,\tbest estimator rf's best error=0.3368\n",
      "[flaml.automl: 07-31 11:51:09] {3166} INFO - iteration 256, current learner lgbm\n",
      "[flaml.automl: 07-31 11:51:09] {3343} INFO -  at 41.7s,\testimator lgbm's best error=0.3648,\tbest estimator rf's best error=0.3368\n",
      "[flaml.automl: 07-31 11:51:09] {3166} INFO - iteration 257, current learner lrl1\n",
      "[flaml.automl: 07-31 11:51:09] {3343} INFO -  at 41.8s,\testimator lrl1's best error=0.4007,\tbest estimator rf's best error=0.3368\n",
      "[flaml.automl: 07-31 11:51:09] {3166} INFO - iteration 258, current learner xgb_limitdepth\n",
      "[flaml.automl: 07-31 11:51:09] {3343} INFO -  at 42.0s,\testimator xgb_limitdepth's best error=0.3551,\tbest estimator rf's best error=0.3368\n",
      "[flaml.automl: 07-31 11:51:09] {3166} INFO - iteration 259, current learner lrl1\n",
      "[flaml.automl: 07-31 11:51:09] {3343} INFO -  at 42.1s,\testimator lrl1's best error=0.4007,\tbest estimator rf's best error=0.3368\n",
      "[flaml.automl: 07-31 11:51:09] {3166} INFO - iteration 260, current learner lrl1\n",
      "[flaml.automl: 07-31 11:51:10] {3343} INFO -  at 42.2s,\testimator lrl1's best error=0.4007,\tbest estimator rf's best error=0.3368\n",
      "[flaml.automl: 07-31 11:51:10] {3166} INFO - iteration 261, current learner lrl1\n",
      "[flaml.automl: 07-31 11:51:10] {3343} INFO -  at 42.3s,\testimator lrl1's best error=0.4007,\tbest estimator rf's best error=0.3368\n",
      "[flaml.automl: 07-31 11:51:10] {3166} INFO - iteration 262, current learner lrl1\n",
      "[flaml.automl: 07-31 11:51:10] {3343} INFO -  at 42.4s,\testimator lrl1's best error=0.4007,\tbest estimator rf's best error=0.3368\n",
      "[flaml.automl: 07-31 11:51:10] {3166} INFO - iteration 263, current learner lrl1\n",
      "[flaml.automl: 07-31 11:51:10] {3343} INFO -  at 42.5s,\testimator lrl1's best error=0.4007,\tbest estimator rf's best error=0.3368\n",
      "[flaml.automl: 07-31 11:51:10] {3166} INFO - iteration 264, current learner xgboost\n",
      "[flaml.automl: 07-31 11:51:10] {3343} INFO -  at 42.5s,\testimator xgboost's best error=0.3627,\tbest estimator rf's best error=0.3368\n",
      "[flaml.automl: 07-31 11:51:10] {3166} INFO - iteration 265, current learner lrl1\n",
      "[flaml.automl: 07-31 11:51:10] {3343} INFO -  at 42.7s,\testimator lrl1's best error=0.4007,\tbest estimator rf's best error=0.3368\n"
     ]
    },
    {
     "name": "stderr",
     "output_type": "stream",
     "text": [
      "[flaml.automl: 07-31 11:51:10] {3166} INFO - iteration 266, current learner lrl1\n",
      "[flaml.automl: 07-31 11:51:10] {3343} INFO -  at 42.8s,\testimator lrl1's best error=0.4007,\tbest estimator rf's best error=0.3368\n",
      "[flaml.automl: 07-31 11:51:10] {3166} INFO - iteration 267, current learner lrl1\n",
      "[flaml.automl: 07-31 11:51:10] {3343} INFO -  at 42.9s,\testimator lrl1's best error=0.4007,\tbest estimator rf's best error=0.3368\n",
      "[flaml.automl: 07-31 11:51:10] {3166} INFO - iteration 268, current learner lrl1\n",
      "[flaml.automl: 07-31 11:51:10] {3343} INFO -  at 43.1s,\testimator lrl1's best error=0.4007,\tbest estimator rf's best error=0.3368\n",
      "[flaml.automl: 07-31 11:51:10] {3166} INFO - iteration 269, current learner lrl1\n",
      "[flaml.automl: 07-31 11:51:11] {3343} INFO -  at 43.2s,\testimator lrl1's best error=0.4007,\tbest estimator rf's best error=0.3368\n",
      "[flaml.automl: 07-31 11:51:11] {3166} INFO - iteration 270, current learner lrl1\n",
      "[flaml.automl: 07-31 11:51:11] {3343} INFO -  at 43.3s,\testimator lrl1's best error=0.4007,\tbest estimator rf's best error=0.3368\n",
      "[flaml.automl: 07-31 11:51:11] {3166} INFO - iteration 271, current learner xgboost\n",
      "[flaml.automl: 07-31 11:51:11] {3343} INFO -  at 43.4s,\testimator xgboost's best error=0.3627,\tbest estimator rf's best error=0.3368\n",
      "[flaml.automl: 07-31 11:51:11] {3166} INFO - iteration 272, current learner lrl1\n",
      "[flaml.automl: 07-31 11:51:11] {3343} INFO -  at 43.5s,\testimator lrl1's best error=0.4007,\tbest estimator rf's best error=0.3368\n",
      "[flaml.automl: 07-31 11:51:11] {3166} INFO - iteration 273, current learner xgb_limitdepth\n",
      "[flaml.automl: 07-31 11:51:11] {3343} INFO -  at 43.6s,\testimator xgb_limitdepth's best error=0.3551,\tbest estimator rf's best error=0.3368\n",
      "[flaml.automl: 07-31 11:51:11] {3166} INFO - iteration 274, current learner extra_tree\n",
      "[flaml.automl: 07-31 11:51:11] {3343} INFO -  at 43.9s,\testimator extra_tree's best error=0.3501,\tbest estimator rf's best error=0.3368\n",
      "[flaml.automl: 07-31 11:51:11] {3166} INFO - iteration 275, current learner extra_tree\n",
      "[flaml.automl: 07-31 11:51:12] {3343} INFO -  at 44.2s,\testimator extra_tree's best error=0.3501,\tbest estimator rf's best error=0.3368\n",
      "[flaml.automl: 07-31 11:51:12] {3166} INFO - iteration 276, current learner extra_tree\n",
      "[flaml.automl: 07-31 11:51:12] {3343} INFO -  at 44.5s,\testimator extra_tree's best error=0.3501,\tbest estimator rf's best error=0.3368\n",
      "[flaml.automl: 07-31 11:51:12] {3166} INFO - iteration 277, current learner xgboost\n",
      "[flaml.automl: 07-31 11:51:12] {3343} INFO -  at 44.5s,\testimator xgboost's best error=0.3627,\tbest estimator rf's best error=0.3368\n",
      "[flaml.automl: 07-31 11:51:12] {3166} INFO - iteration 278, current learner lrl1\n",
      "[flaml.automl: 07-31 11:51:12] {3343} INFO -  at 44.6s,\testimator lrl1's best error=0.4007,\tbest estimator rf's best error=0.3368\n",
      "[flaml.automl: 07-31 11:51:12] {3166} INFO - iteration 279, current learner xgb_limitdepth\n",
      "[flaml.automl: 07-31 11:51:12] {3343} INFO -  at 44.7s,\testimator xgb_limitdepth's best error=0.3551,\tbest estimator rf's best error=0.3368\n",
      "[flaml.automl: 07-31 11:51:12] {3166} INFO - iteration 280, current learner lrl1\n",
      "[flaml.automl: 07-31 11:51:12] {3343} INFO -  at 44.8s,\testimator lrl1's best error=0.4007,\tbest estimator rf's best error=0.3368\n",
      "[flaml.automl: 07-31 11:51:12] {3166} INFO - iteration 281, current learner lrl1\n",
      "[flaml.automl: 07-31 11:51:12] {3343} INFO -  at 44.9s,\testimator lrl1's best error=0.4007,\tbest estimator rf's best error=0.3368\n",
      "[flaml.automl: 07-31 11:51:12] {3166} INFO - iteration 282, current learner rf\n",
      "[flaml.automl: 07-31 11:51:13] {3343} INFO -  at 45.2s,\testimator rf's best error=0.3368,\tbest estimator rf's best error=0.3368\n",
      "[flaml.automl: 07-31 11:51:13] {3166} INFO - iteration 283, current learner extra_tree\n",
      "[flaml.automl: 07-31 11:51:13] {3343} INFO -  at 45.4s,\testimator extra_tree's best error=0.3501,\tbest estimator rf's best error=0.3368\n",
      "[flaml.automl: 07-31 11:51:13] {3166} INFO - iteration 284, current learner xgboost\n",
      "[flaml.automl: 07-31 11:51:13] {3343} INFO -  at 45.5s,\testimator xgboost's best error=0.3627,\tbest estimator rf's best error=0.3368\n",
      "[flaml.automl: 07-31 11:51:13] {3166} INFO - iteration 285, current learner lrl1\n",
      "[flaml.automl: 07-31 11:51:13] {3343} INFO -  at 45.6s,\testimator lrl1's best error=0.4007,\tbest estimator rf's best error=0.3368\n",
      "[flaml.automl: 07-31 11:51:13] {3166} INFO - iteration 286, current learner lrl1\n",
      "[flaml.automl: 07-31 11:51:13] {3343} INFO -  at 45.7s,\testimator lrl1's best error=0.4007,\tbest estimator rf's best error=0.3368\n",
      "[flaml.automl: 07-31 11:51:13] {3166} INFO - iteration 287, current learner lrl1\n",
      "[flaml.automl: 07-31 11:51:13] {3343} INFO -  at 45.8s,\testimator lrl1's best error=0.4007,\tbest estimator rf's best error=0.3368\n",
      "[flaml.automl: 07-31 11:51:13] {3166} INFO - iteration 288, current learner lrl1\n",
      "[flaml.automl: 07-31 11:51:13] {3343} INFO -  at 45.9s,\testimator lrl1's best error=0.4007,\tbest estimator rf's best error=0.3368\n",
      "[flaml.automl: 07-31 11:51:13] {3166} INFO - iteration 289, current learner xgboost\n",
      "[flaml.automl: 07-31 11:51:13] {3343} INFO -  at 45.9s,\testimator xgboost's best error=0.3627,\tbest estimator rf's best error=0.3368\n",
      "[flaml.automl: 07-31 11:51:13] {3166} INFO - iteration 290, current learner xgboost\n",
      "[flaml.automl: 07-31 11:51:13] {3343} INFO -  at 45.9s,\testimator xgboost's best error=0.3627,\tbest estimator rf's best error=0.3368\n",
      "[flaml.automl: 07-31 11:51:13] {3166} INFO - iteration 291, current learner lrl1\n",
      "[flaml.automl: 07-31 11:51:13] {3343} INFO -  at 46.0s,\testimator lrl1's best error=0.4007,\tbest estimator rf's best error=0.3368\n",
      "[flaml.automl: 07-31 11:51:13] {3166} INFO - iteration 292, current learner lrl1\n",
      "[flaml.automl: 07-31 11:51:14] {3343} INFO -  at 46.1s,\testimator lrl1's best error=0.4007,\tbest estimator rf's best error=0.3368\n",
      "[flaml.automl: 07-31 11:51:14] {3166} INFO - iteration 293, current learner lrl1\n",
      "[flaml.automl: 07-31 11:51:14] {3343} INFO -  at 46.2s,\testimator lrl1's best error=0.4007,\tbest estimator rf's best error=0.3368\n",
      "[flaml.automl: 07-31 11:51:14] {3166} INFO - iteration 294, current learner lrl1\n",
      "[flaml.automl: 07-31 11:51:14] {3343} INFO -  at 46.3s,\testimator lrl1's best error=0.4007,\tbest estimator rf's best error=0.3368\n",
      "[flaml.automl: 07-31 11:51:14] {3166} INFO - iteration 295, current learner lrl1\n",
      "[flaml.automl: 07-31 11:51:14] {3343} INFO -  at 46.4s,\testimator lrl1's best error=0.4007,\tbest estimator rf's best error=0.3368\n",
      "[flaml.automl: 07-31 11:51:14] {3166} INFO - iteration 296, current learner xgb_limitdepth\n",
      "[flaml.automl: 07-31 11:51:14] {3343} INFO -  at 46.5s,\testimator xgb_limitdepth's best error=0.3551,\tbest estimator rf's best error=0.3368\n",
      "[flaml.automl: 07-31 11:51:14] {3166} INFO - iteration 297, current learner lrl1\n",
      "[flaml.automl: 07-31 11:51:14] {3343} INFO -  at 46.6s,\testimator lrl1's best error=0.4007,\tbest estimator rf's best error=0.3368\n",
      "[flaml.automl: 07-31 11:51:14] {3166} INFO - iteration 298, current learner lrl1\n",
      "[flaml.automl: 07-31 11:51:14] {3343} INFO -  at 46.7s,\testimator lrl1's best error=0.4007,\tbest estimator rf's best error=0.3368\n",
      "[flaml.automl: 07-31 11:51:14] {3166} INFO - iteration 299, current learner extra_tree\n",
      "[flaml.automl: 07-31 11:51:14] {3343} INFO -  at 47.1s,\testimator extra_tree's best error=0.3501,\tbest estimator rf's best error=0.3368\n",
      "[flaml.automl: 07-31 11:51:14] {3166} INFO - iteration 300, current learner xgboost\n",
      "[flaml.automl: 07-31 11:51:15] {3343} INFO -  at 47.1s,\testimator xgboost's best error=0.3627,\tbest estimator rf's best error=0.3368\n",
      "[flaml.automl: 07-31 11:51:15] {3166} INFO - iteration 301, current learner rf\n",
      "[flaml.automl: 07-31 11:51:15] {3343} INFO -  at 47.5s,\testimator rf's best error=0.3368,\tbest estimator rf's best error=0.3368\n",
      "[flaml.automl: 07-31 11:51:15] {3166} INFO - iteration 302, current learner xgboost\n",
      "[flaml.automl: 07-31 11:51:15] {3343} INFO -  at 47.5s,\testimator xgboost's best error=0.3627,\tbest estimator rf's best error=0.3368\n",
      "[flaml.automl: 07-31 11:51:15] {3166} INFO - iteration 303, current learner rf\n",
      "[flaml.automl: 07-31 11:51:15] {3343} INFO -  at 48.0s,\testimator rf's best error=0.3368,\tbest estimator rf's best error=0.3368\n",
      "[flaml.automl: 07-31 11:51:15] {3166} INFO - iteration 304, current learner lrl1\n"
     ]
    },
    {
     "name": "stderr",
     "output_type": "stream",
     "text": [
      "[flaml.automl: 07-31 11:51:15] {3343} INFO -  at 48.1s,\testimator lrl1's best error=0.4007,\tbest estimator rf's best error=0.3368\n",
      "[flaml.automl: 07-31 11:51:15] {3166} INFO - iteration 305, current learner rf\n",
      "[flaml.automl: 07-31 11:51:16] {3343} INFO -  at 48.4s,\testimator rf's best error=0.3368,\tbest estimator rf's best error=0.3368\n",
      "[flaml.automl: 07-31 11:51:16] {3166} INFO - iteration 306, current learner lrl1\n",
      "[flaml.automl: 07-31 11:51:16] {3343} INFO -  at 48.5s,\testimator lrl1's best error=0.4007,\tbest estimator rf's best error=0.3368\n",
      "[flaml.automl: 07-31 11:51:16] {3166} INFO - iteration 307, current learner lrl1\n",
      "[flaml.automl: 07-31 11:51:16] {3343} INFO -  at 48.6s,\testimator lrl1's best error=0.4007,\tbest estimator rf's best error=0.3368\n",
      "[flaml.automl: 07-31 11:51:16] {3166} INFO - iteration 308, current learner lrl1\n",
      "[flaml.automl: 07-31 11:51:16] {3343} INFO -  at 48.7s,\testimator lrl1's best error=0.4007,\tbest estimator rf's best error=0.3368\n",
      "[flaml.automl: 07-31 11:51:16] {3166} INFO - iteration 309, current learner lrl1\n",
      "[flaml.automl: 07-31 11:51:16] {3343} INFO -  at 48.8s,\testimator lrl1's best error=0.4007,\tbest estimator rf's best error=0.3368\n",
      "[flaml.automl: 07-31 11:51:16] {3166} INFO - iteration 310, current learner rf\n",
      "[flaml.automl: 07-31 11:51:16] {3343} INFO -  at 49.0s,\testimator rf's best error=0.3368,\tbest estimator rf's best error=0.3368\n",
      "[flaml.automl: 07-31 11:51:16] {3166} INFO - iteration 311, current learner extra_tree\n",
      "[flaml.automl: 07-31 11:51:17] {3343} INFO -  at 49.4s,\testimator extra_tree's best error=0.3501,\tbest estimator rf's best error=0.3368\n",
      "[flaml.automl: 07-31 11:51:17] {3166} INFO - iteration 312, current learner xgboost\n",
      "[flaml.automl: 07-31 11:51:17] {3343} INFO -  at 49.5s,\testimator xgboost's best error=0.3627,\tbest estimator rf's best error=0.3368\n",
      "[flaml.automl: 07-31 11:51:17] {3166} INFO - iteration 313, current learner rf\n",
      "[flaml.automl: 07-31 11:51:17] {3343} INFO -  at 49.9s,\testimator rf's best error=0.3368,\tbest estimator rf's best error=0.3368\n",
      "[flaml.automl: 07-31 11:51:17] {3166} INFO - iteration 314, current learner lrl1\n",
      "[flaml.automl: 07-31 11:51:17] {3343} INFO -  at 50.0s,\testimator lrl1's best error=0.4007,\tbest estimator rf's best error=0.3368\n",
      "[flaml.automl: 07-31 11:51:17] {3166} INFO - iteration 315, current learner xgboost\n",
      "[flaml.automl: 07-31 11:51:17] {3343} INFO -  at 50.0s,\testimator xgboost's best error=0.3627,\tbest estimator rf's best error=0.3368\n",
      "[flaml.automl: 07-31 11:51:17] {3166} INFO - iteration 316, current learner lrl1\n",
      "[flaml.automl: 07-31 11:51:17] {3343} INFO -  at 50.1s,\testimator lrl1's best error=0.4007,\tbest estimator rf's best error=0.3368\n",
      "[flaml.automl: 07-31 11:51:17] {3166} INFO - iteration 317, current learner lrl1\n",
      "[flaml.automl: 07-31 11:51:18] {3343} INFO -  at 50.2s,\testimator lrl1's best error=0.4007,\tbest estimator rf's best error=0.3368\n",
      "[flaml.automl: 07-31 11:51:18] {3166} INFO - iteration 318, current learner xgboost\n",
      "[flaml.automl: 07-31 11:51:18] {3343} INFO -  at 50.2s,\testimator xgboost's best error=0.3627,\tbest estimator rf's best error=0.3368\n",
      "[flaml.automl: 07-31 11:51:18] {3166} INFO - iteration 319, current learner rf\n",
      "[flaml.automl: 07-31 11:51:18] {3343} INFO -  at 50.7s,\testimator rf's best error=0.3368,\tbest estimator rf's best error=0.3368\n",
      "[flaml.automl: 07-31 11:51:18] {3166} INFO - iteration 320, current learner rf\n",
      "[flaml.automl: 07-31 11:51:18] {3343} INFO -  at 50.9s,\testimator rf's best error=0.3368,\tbest estimator rf's best error=0.3368\n",
      "[flaml.automl: 07-31 11:51:18] {3166} INFO - iteration 321, current learner xgb_limitdepth\n",
      "[flaml.automl: 07-31 11:51:18] {3343} INFO -  at 51.0s,\testimator xgb_limitdepth's best error=0.3551,\tbest estimator rf's best error=0.3368\n",
      "[flaml.automl: 07-31 11:51:18] {3166} INFO - iteration 322, current learner lrl1\n",
      "[flaml.automl: 07-31 11:51:19] {3343} INFO -  at 51.1s,\testimator lrl1's best error=0.4007,\tbest estimator rf's best error=0.3368\n",
      "[flaml.automl: 07-31 11:51:19] {3166} INFO - iteration 323, current learner rf\n",
      "[flaml.automl: 07-31 11:51:19] {3343} INFO -  at 51.5s,\testimator rf's best error=0.3368,\tbest estimator rf's best error=0.3368\n",
      "[flaml.automl: 07-31 11:51:19] {3166} INFO - iteration 324, current learner xgboost\n",
      "[flaml.automl: 07-31 11:51:19] {3343} INFO -  at 51.5s,\testimator xgboost's best error=0.3627,\tbest estimator rf's best error=0.3368\n",
      "[flaml.automl: 07-31 11:51:19] {3166} INFO - iteration 325, current learner lrl1\n",
      "[flaml.automl: 07-31 11:51:19] {3343} INFO -  at 51.6s,\testimator lrl1's best error=0.4007,\tbest estimator rf's best error=0.3368\n",
      "[flaml.automl: 07-31 11:51:19] {3166} INFO - iteration 326, current learner xgboost\n",
      "[flaml.automl: 07-31 11:51:19] {3343} INFO -  at 51.7s,\testimator xgboost's best error=0.3627,\tbest estimator rf's best error=0.3368\n",
      "[flaml.automl: 07-31 11:51:19] {3166} INFO - iteration 327, current learner lrl1\n",
      "[flaml.automl: 07-31 11:51:19] {3343} INFO -  at 51.8s,\testimator lrl1's best error=0.4007,\tbest estimator rf's best error=0.3368\n",
      "[flaml.automl: 07-31 11:51:19] {3166} INFO - iteration 328, current learner rf\n",
      "[flaml.automl: 07-31 11:51:19] {3343} INFO -  at 52.1s,\testimator rf's best error=0.3368,\tbest estimator rf's best error=0.3368\n",
      "[flaml.automl: 07-31 11:51:19] {3166} INFO - iteration 329, current learner rf\n",
      "[flaml.automl: 07-31 11:51:20] {3343} INFO -  at 52.4s,\testimator rf's best error=0.3368,\tbest estimator rf's best error=0.3368\n",
      "[flaml.automl: 07-31 11:51:20] {3166} INFO - iteration 330, current learner xgb_limitdepth\n",
      "[flaml.automl: 07-31 11:51:20] {3343} INFO -  at 52.5s,\testimator xgb_limitdepth's best error=0.3551,\tbest estimator rf's best error=0.3368\n",
      "[flaml.automl: 07-31 11:51:20] {3166} INFO - iteration 331, current learner extra_tree\n",
      "[flaml.automl: 07-31 11:51:20] {3343} INFO -  at 52.8s,\testimator extra_tree's best error=0.3501,\tbest estimator rf's best error=0.3368\n",
      "[flaml.automl: 07-31 11:51:20] {3166} INFO - iteration 332, current learner rf\n",
      "[flaml.automl: 07-31 11:51:21] {3343} INFO -  at 53.1s,\testimator rf's best error=0.3368,\tbest estimator rf's best error=0.3368\n",
      "[flaml.automl: 07-31 11:51:21] {3166} INFO - iteration 333, current learner lrl1\n",
      "[flaml.automl: 07-31 11:51:21] {3343} INFO -  at 53.2s,\testimator lrl1's best error=0.4007,\tbest estimator rf's best error=0.3368\n",
      "[flaml.automl: 07-31 11:51:21] {3166} INFO - iteration 334, current learner xgb_limitdepth\n",
      "[flaml.automl: 07-31 11:51:21] {3343} INFO -  at 53.3s,\testimator xgb_limitdepth's best error=0.3551,\tbest estimator rf's best error=0.3368\n",
      "[flaml.automl: 07-31 11:51:21] {3166} INFO - iteration 335, current learner lrl1\n",
      "[flaml.automl: 07-31 11:51:21] {3343} INFO -  at 53.4s,\testimator lrl1's best error=0.4007,\tbest estimator rf's best error=0.3368\n",
      "[flaml.automl: 07-31 11:51:21] {3166} INFO - iteration 336, current learner rf\n",
      "[flaml.automl: 07-31 11:51:21] {3343} INFO -  at 53.7s,\testimator rf's best error=0.3368,\tbest estimator rf's best error=0.3368\n",
      "[flaml.automl: 07-31 11:51:21] {3166} INFO - iteration 337, current learner lrl1\n",
      "[flaml.automl: 07-31 11:51:21] {3343} INFO -  at 53.8s,\testimator lrl1's best error=0.4007,\tbest estimator rf's best error=0.3368\n",
      "[flaml.automl: 07-31 11:51:21] {3166} INFO - iteration 338, current learner rf\n",
      "[flaml.automl: 07-31 11:51:22] {3343} INFO -  at 54.2s,\testimator rf's best error=0.3368,\tbest estimator rf's best error=0.3368\n",
      "[flaml.automl: 07-31 11:51:22] {3166} INFO - iteration 339, current learner xgb_limitdepth\n",
      "[flaml.automl: 07-31 11:51:22] {3343} INFO -  at 54.3s,\testimator xgb_limitdepth's best error=0.3551,\tbest estimator rf's best error=0.3368\n",
      "[flaml.automl: 07-31 11:51:22] {3166} INFO - iteration 340, current learner lrl1\n",
      "[flaml.automl: 07-31 11:51:22] {3343} INFO -  at 54.4s,\testimator lrl1's best error=0.4007,\tbest estimator rf's best error=0.3368\n",
      "[flaml.automl: 07-31 11:51:22] {3166} INFO - iteration 341, current learner lgbm\n",
      "[flaml.automl: 07-31 11:51:22] {3343} INFO -  at 54.5s,\testimator lgbm's best error=0.3648,\tbest estimator rf's best error=0.3368\n",
      "[flaml.automl: 07-31 11:51:22] {3166} INFO - iteration 342, current learner xgboost\n",
      "[flaml.automl: 07-31 11:51:22] {3343} INFO -  at 54.5s,\testimator xgboost's best error=0.3627,\tbest estimator rf's best error=0.3368\n"
     ]
    },
    {
     "name": "stderr",
     "output_type": "stream",
     "text": [
      "[flaml.automl: 07-31 11:51:22] {3166} INFO - iteration 343, current learner lrl1\n",
      "[flaml.automl: 07-31 11:51:22] {3343} INFO -  at 54.6s,\testimator lrl1's best error=0.4007,\tbest estimator rf's best error=0.3368\n",
      "[flaml.automl: 07-31 11:51:22] {3166} INFO - iteration 344, current learner lrl1\n",
      "[flaml.automl: 07-31 11:51:22] {3343} INFO -  at 54.7s,\testimator lrl1's best error=0.4007,\tbest estimator rf's best error=0.3368\n",
      "[flaml.automl: 07-31 11:51:22] {3166} INFO - iteration 345, current learner xgb_limitdepth\n",
      "[flaml.automl: 07-31 11:51:22] {3343} INFO -  at 54.8s,\testimator xgb_limitdepth's best error=0.3551,\tbest estimator rf's best error=0.3368\n",
      "[flaml.automl: 07-31 11:51:22] {3166} INFO - iteration 346, current learner lrl1\n",
      "[flaml.automl: 07-31 11:51:22] {3343} INFO -  at 54.9s,\testimator lrl1's best error=0.4007,\tbest estimator rf's best error=0.3368\n",
      "[flaml.automl: 07-31 11:51:22] {3166} INFO - iteration 347, current learner lrl1\n",
      "[flaml.automl: 07-31 11:51:22] {3343} INFO -  at 55.0s,\testimator lrl1's best error=0.4007,\tbest estimator rf's best error=0.3368\n",
      "[flaml.automl: 07-31 11:51:22] {3166} INFO - iteration 348, current learner lrl1\n",
      "[flaml.automl: 07-31 11:51:23] {3343} INFO -  at 55.1s,\testimator lrl1's best error=0.4007,\tbest estimator rf's best error=0.3368\n",
      "[flaml.automl: 07-31 11:51:23] {3166} INFO - iteration 349, current learner lrl1\n",
      "[flaml.automl: 07-31 11:51:23] {3343} INFO -  at 55.2s,\testimator lrl1's best error=0.4007,\tbest estimator rf's best error=0.3368\n",
      "[flaml.automl: 07-31 11:51:23] {3166} INFO - iteration 350, current learner rf\n",
      "[flaml.automl: 07-31 11:51:23] {3343} INFO -  at 55.5s,\testimator rf's best error=0.3368,\tbest estimator rf's best error=0.3368\n",
      "[flaml.automl: 07-31 11:51:23] {3166} INFO - iteration 351, current learner lrl1\n",
      "[flaml.automl: 07-31 11:51:23] {3343} INFO -  at 55.6s,\testimator lrl1's best error=0.4007,\tbest estimator rf's best error=0.3368\n",
      "[flaml.automl: 07-31 11:51:23] {3166} INFO - iteration 352, current learner lrl1\n",
      "[flaml.automl: 07-31 11:51:23] {3343} INFO -  at 55.7s,\testimator lrl1's best error=0.4007,\tbest estimator rf's best error=0.3368\n",
      "[flaml.automl: 07-31 11:51:23] {3166} INFO - iteration 353, current learner lrl1\n",
      "[flaml.automl: 07-31 11:51:23] {3343} INFO -  at 55.8s,\testimator lrl1's best error=0.4007,\tbest estimator rf's best error=0.3368\n",
      "[flaml.automl: 07-31 11:51:23] {3166} INFO - iteration 354, current learner lrl1\n",
      "[flaml.automl: 07-31 11:51:23] {3343} INFO -  at 55.9s,\testimator lrl1's best error=0.4007,\tbest estimator rf's best error=0.3368\n",
      "[flaml.automl: 07-31 11:51:23] {3166} INFO - iteration 355, current learner lgbm\n",
      "[flaml.automl: 07-31 11:51:23] {3343} INFO -  at 56.0s,\testimator lgbm's best error=0.3648,\tbest estimator rf's best error=0.3368\n",
      "[flaml.automl: 07-31 11:51:23] {3166} INFO - iteration 356, current learner lrl1\n",
      "[flaml.automl: 07-31 11:51:24] {3343} INFO -  at 56.1s,\testimator lrl1's best error=0.4007,\tbest estimator rf's best error=0.3368\n",
      "[flaml.automl: 07-31 11:51:24] {3166} INFO - iteration 357, current learner lrl1\n",
      "[flaml.automl: 07-31 11:51:24] {3343} INFO -  at 56.2s,\testimator lrl1's best error=0.4007,\tbest estimator rf's best error=0.3368\n",
      "[flaml.automl: 07-31 11:51:24] {3166} INFO - iteration 358, current learner xgboost\n",
      "[flaml.automl: 07-31 11:51:24] {3343} INFO -  at 56.3s,\testimator xgboost's best error=0.3627,\tbest estimator rf's best error=0.3368\n",
      "[flaml.automl: 07-31 11:51:24] {3166} INFO - iteration 359, current learner xgboost\n",
      "[flaml.automl: 07-31 11:51:24] {3343} INFO -  at 56.3s,\testimator xgboost's best error=0.3627,\tbest estimator rf's best error=0.3368\n",
      "[flaml.automl: 07-31 11:51:24] {3166} INFO - iteration 360, current learner lrl1\n",
      "[flaml.automl: 07-31 11:51:24] {3343} INFO -  at 56.4s,\testimator lrl1's best error=0.4007,\tbest estimator rf's best error=0.3368\n",
      "[flaml.automl: 07-31 11:51:24] {3166} INFO - iteration 361, current learner xgboost\n",
      "[flaml.automl: 07-31 11:51:24] {3343} INFO -  at 56.5s,\testimator xgboost's best error=0.3627,\tbest estimator rf's best error=0.3368\n",
      "[flaml.automl: 07-31 11:51:24] {3166} INFO - iteration 362, current learner lrl1\n",
      "[flaml.automl: 07-31 11:51:24] {3343} INFO -  at 56.6s,\testimator lrl1's best error=0.4007,\tbest estimator rf's best error=0.3368\n",
      "[flaml.automl: 07-31 11:51:24] {3166} INFO - iteration 363, current learner xgboost\n",
      "[flaml.automl: 07-31 11:51:24] {3343} INFO -  at 56.6s,\testimator xgboost's best error=0.3627,\tbest estimator rf's best error=0.3368\n",
      "[flaml.automl: 07-31 11:51:24] {3166} INFO - iteration 364, current learner lrl1\n",
      "[flaml.automl: 07-31 11:51:24] {3343} INFO -  at 56.7s,\testimator lrl1's best error=0.4007,\tbest estimator rf's best error=0.3368\n",
      "[flaml.automl: 07-31 11:51:24] {3166} INFO - iteration 365, current learner lrl1\n",
      "[flaml.automl: 07-31 11:51:24] {3343} INFO -  at 56.8s,\testimator lrl1's best error=0.4007,\tbest estimator rf's best error=0.3368\n",
      "[flaml.automl: 07-31 11:51:24] {3166} INFO - iteration 366, current learner xgboost\n",
      "[flaml.automl: 07-31 11:51:24] {3343} INFO -  at 56.9s,\testimator xgboost's best error=0.3627,\tbest estimator rf's best error=0.3368\n",
      "[flaml.automl: 07-31 11:51:24] {3166} INFO - iteration 367, current learner rf\n",
      "[flaml.automl: 07-31 11:51:25] {3343} INFO -  at 57.2s,\testimator rf's best error=0.3368,\tbest estimator rf's best error=0.3368\n",
      "[flaml.automl: 07-31 11:51:25] {3166} INFO - iteration 368, current learner lrl1\n",
      "[flaml.automl: 07-31 11:51:25] {3343} INFO -  at 57.3s,\testimator lrl1's best error=0.4007,\tbest estimator rf's best error=0.3368\n",
      "[flaml.automl: 07-31 11:51:25] {3166} INFO - iteration 369, current learner xgb_limitdepth\n",
      "[flaml.automl: 07-31 11:51:25] {3343} INFO -  at 57.5s,\testimator xgb_limitdepth's best error=0.3551,\tbest estimator rf's best error=0.3368\n",
      "[flaml.automl: 07-31 11:51:25] {3166} INFO - iteration 370, current learner lrl1\n",
      "[flaml.automl: 07-31 11:51:25] {3343} INFO -  at 57.6s,\testimator lrl1's best error=0.4007,\tbest estimator rf's best error=0.3368\n",
      "[flaml.automl: 07-31 11:51:25] {3166} INFO - iteration 371, current learner lrl1\n",
      "[flaml.automl: 07-31 11:51:25] {3343} INFO -  at 57.7s,\testimator lrl1's best error=0.4007,\tbest estimator rf's best error=0.3368\n",
      "[flaml.automl: 07-31 11:51:25] {3166} INFO - iteration 372, current learner lrl1\n",
      "[flaml.automl: 07-31 11:51:25] {3343} INFO -  at 57.8s,\testimator lrl1's best error=0.4007,\tbest estimator rf's best error=0.3368\n",
      "[flaml.automl: 07-31 11:51:25] {3166} INFO - iteration 373, current learner xgb_limitdepth\n",
      "[flaml.automl: 07-31 11:51:25] {3343} INFO -  at 57.9s,\testimator xgb_limitdepth's best error=0.3551,\tbest estimator rf's best error=0.3368\n",
      "[flaml.automl: 07-31 11:51:25] {3166} INFO - iteration 374, current learner extra_tree\n",
      "[flaml.automl: 07-31 11:51:26] {3343} INFO -  at 58.2s,\testimator extra_tree's best error=0.3501,\tbest estimator rf's best error=0.3368\n",
      "[flaml.automl: 07-31 11:51:26] {3166} INFO - iteration 375, current learner rf\n",
      "[flaml.automl: 07-31 11:51:26] {3343} INFO -  at 58.5s,\testimator rf's best error=0.3368,\tbest estimator rf's best error=0.3368\n",
      "[flaml.automl: 07-31 11:51:26] {3166} INFO - iteration 376, current learner xgboost\n",
      "[flaml.automl: 07-31 11:51:26] {3343} INFO -  at 58.5s,\testimator xgboost's best error=0.3627,\tbest estimator rf's best error=0.3368\n",
      "[flaml.automl: 07-31 11:51:26] {3166} INFO - iteration 377, current learner lgbm\n",
      "[flaml.automl: 07-31 11:51:26] {3343} INFO -  at 58.7s,\testimator lgbm's best error=0.3648,\tbest estimator rf's best error=0.3368\n",
      "[flaml.automl: 07-31 11:51:26] {3166} INFO - iteration 378, current learner rf\n",
      "[flaml.automl: 07-31 11:51:27] {3343} INFO -  at 59.1s,\testimator rf's best error=0.3368,\tbest estimator rf's best error=0.3368\n",
      "[flaml.automl: 07-31 11:51:27] {3166} INFO - iteration 379, current learner lrl1\n",
      "[flaml.automl: 07-31 11:51:27] {3343} INFO -  at 59.2s,\testimator lrl1's best error=0.4007,\tbest estimator rf's best error=0.3368\n",
      "[flaml.automl: 07-31 11:51:27] {3166} INFO - iteration 380, current learner lgbm\n",
      "[flaml.automl: 07-31 11:51:27] {3343} INFO -  at 59.3s,\testimator lgbm's best error=0.3648,\tbest estimator rf's best error=0.3368\n",
      "[flaml.automl: 07-31 11:51:27] {3166} INFO - iteration 381, current learner xgboost\n"
     ]
    },
    {
     "name": "stderr",
     "output_type": "stream",
     "text": [
      "[flaml.automl: 07-31 11:51:27] {3343} INFO -  at 59.4s,\testimator xgboost's best error=0.3627,\tbest estimator rf's best error=0.3368\n",
      "[flaml.automl: 07-31 11:51:27] {3166} INFO - iteration 382, current learner lrl1\n",
      "[flaml.automl: 07-31 11:51:27] {3343} INFO -  at 59.5s,\testimator lrl1's best error=0.4007,\tbest estimator rf's best error=0.3368\n",
      "[flaml.automl: 07-31 11:51:27] {3166} INFO - iteration 383, current learner lrl1\n",
      "[flaml.automl: 07-31 11:51:27] {3343} INFO -  at 59.6s,\testimator lrl1's best error=0.4007,\tbest estimator rf's best error=0.3368\n",
      "[flaml.automl: 07-31 11:51:27] {3166} INFO - iteration 384, current learner lrl1\n",
      "[flaml.automl: 07-31 11:51:27] {3343} INFO -  at 59.7s,\testimator lrl1's best error=0.4007,\tbest estimator rf's best error=0.3368\n",
      "[flaml.automl: 07-31 11:51:27] {3166} INFO - iteration 385, current learner rf\n",
      "[flaml.automl: 07-31 11:51:27] {3343} INFO -  at 60.0s,\testimator rf's best error=0.3368,\tbest estimator rf's best error=0.3368\n",
      "[flaml.automl: 07-31 11:51:27] {3166} INFO - iteration 386, current learner xgboost\n",
      "[flaml.automl: 07-31 11:51:27] {3343} INFO -  at 60.1s,\testimator xgboost's best error=0.3627,\tbest estimator rf's best error=0.3368\n",
      "[flaml.automl: 07-31 11:51:27] {3166} INFO - iteration 387, current learner xgb_limitdepth\n",
      "[flaml.automl: 07-31 11:51:28] {3343} INFO -  at 60.1s,\testimator xgb_limitdepth's best error=0.3551,\tbest estimator rf's best error=0.3368\n",
      "[flaml.automl: 07-31 11:51:28] {3166} INFO - iteration 388, current learner lrl1\n",
      "[flaml.automl: 07-31 11:51:28] {3343} INFO -  at 60.2s,\testimator lrl1's best error=0.4007,\tbest estimator rf's best error=0.3368\n",
      "[flaml.automl: 07-31 11:51:28] {3166} INFO - iteration 389, current learner rf\n",
      "[flaml.automl: 07-31 11:51:28] {3343} INFO -  at 60.5s,\testimator rf's best error=0.3368,\tbest estimator rf's best error=0.3368\n",
      "[flaml.automl: 07-31 11:51:28] {3166} INFO - iteration 390, current learner rf\n",
      "[flaml.automl: 07-31 11:51:28] {3343} INFO -  at 60.8s,\testimator rf's best error=0.3368,\tbest estimator rf's best error=0.3368\n",
      "[flaml.automl: 07-31 11:51:28] {3166} INFO - iteration 391, current learner xgboost\n",
      "[flaml.automl: 07-31 11:51:28] {3343} INFO -  at 60.8s,\testimator xgboost's best error=0.3627,\tbest estimator rf's best error=0.3368\n",
      "[flaml.automl: 07-31 11:51:28] {3166} INFO - iteration 392, current learner lrl1\n",
      "[flaml.automl: 07-31 11:51:28] {3343} INFO -  at 60.9s,\testimator lrl1's best error=0.4007,\tbest estimator rf's best error=0.3368\n",
      "[flaml.automl: 07-31 11:51:28] {3166} INFO - iteration 393, current learner extra_tree\n",
      "[flaml.automl: 07-31 11:51:29] {3343} INFO -  at 61.3s,\testimator extra_tree's best error=0.3501,\tbest estimator rf's best error=0.3368\n",
      "[flaml.automl: 07-31 11:51:29] {3166} INFO - iteration 394, current learner lgbm\n",
      "[flaml.automl: 07-31 11:51:29] {3343} INFO -  at 61.4s,\testimator lgbm's best error=0.3648,\tbest estimator rf's best error=0.3368\n",
      "[flaml.automl: 07-31 11:51:29] {3166} INFO - iteration 395, current learner extra_tree\n",
      "[flaml.automl: 07-31 11:51:29] {3343} INFO -  at 61.6s,\testimator extra_tree's best error=0.3416,\tbest estimator rf's best error=0.3368\n",
      "[flaml.automl: 07-31 11:51:29] {3166} INFO - iteration 396, current learner xgboost\n",
      "[flaml.automl: 07-31 11:51:29] {3343} INFO -  at 61.7s,\testimator xgboost's best error=0.3627,\tbest estimator rf's best error=0.3368\n",
      "[flaml.automl: 07-31 11:51:29] {3166} INFO - iteration 397, current learner lrl1\n",
      "[flaml.automl: 07-31 11:51:29] {3343} INFO -  at 61.8s,\testimator lrl1's best error=0.4007,\tbest estimator rf's best error=0.3368\n",
      "[flaml.automl: 07-31 11:51:29] {3166} INFO - iteration 398, current learner extra_tree\n",
      "[flaml.automl: 07-31 11:51:30] {3343} INFO -  at 62.2s,\testimator extra_tree's best error=0.3416,\tbest estimator rf's best error=0.3368\n",
      "[flaml.automl: 07-31 11:51:30] {3166} INFO - iteration 399, current learner lgbm\n",
      "[flaml.automl: 07-31 11:51:30] {3343} INFO -  at 62.3s,\testimator lgbm's best error=0.3648,\tbest estimator rf's best error=0.3368\n",
      "[flaml.automl: 07-31 11:51:30] {3166} INFO - iteration 400, current learner extra_tree\n",
      "[flaml.automl: 07-31 11:51:30] {3343} INFO -  at 62.7s,\testimator extra_tree's best error=0.3416,\tbest estimator rf's best error=0.3368\n",
      "[flaml.automl: 07-31 11:51:30] {3166} INFO - iteration 401, current learner lrl1\n",
      "[flaml.automl: 07-31 11:51:30] {3343} INFO -  at 62.8s,\testimator lrl1's best error=0.4007,\tbest estimator rf's best error=0.3368\n",
      "[flaml.automl: 07-31 11:51:30] {3166} INFO - iteration 402, current learner extra_tree\n",
      "[flaml.automl: 07-31 11:51:30] {3343} INFO -  at 63.0s,\testimator extra_tree's best error=0.3416,\tbest estimator rf's best error=0.3368\n",
      "[flaml.automl: 07-31 11:51:30] {3166} INFO - iteration 403, current learner lrl1\n",
      "[flaml.automl: 07-31 11:51:30] {3343} INFO -  at 63.1s,\testimator lrl1's best error=0.4007,\tbest estimator rf's best error=0.3368\n",
      "[flaml.automl: 07-31 11:51:30] {3166} INFO - iteration 404, current learner extra_tree\n",
      "[flaml.automl: 07-31 11:51:31] {3343} INFO -  at 63.4s,\testimator extra_tree's best error=0.3416,\tbest estimator rf's best error=0.3368\n",
      "[flaml.automl: 07-31 11:51:31] {3166} INFO - iteration 405, current learner extra_tree\n",
      "[flaml.automl: 07-31 11:51:31] {3343} INFO -  at 63.7s,\testimator extra_tree's best error=0.3416,\tbest estimator rf's best error=0.3368\n",
      "[flaml.automl: 07-31 11:51:31] {3166} INFO - iteration 406, current learner lrl1\n",
      "[flaml.automl: 07-31 11:51:31] {3343} INFO -  at 63.8s,\testimator lrl1's best error=0.4007,\tbest estimator rf's best error=0.3368\n",
      "[flaml.automl: 07-31 11:51:31] {3166} INFO - iteration 407, current learner lrl1\n",
      "[flaml.automl: 07-31 11:51:31] {3343} INFO -  at 63.9s,\testimator lrl1's best error=0.4007,\tbest estimator rf's best error=0.3368\n",
      "[flaml.automl: 07-31 11:51:31] {3166} INFO - iteration 408, current learner lgbm\n",
      "[flaml.automl: 07-31 11:51:31] {3343} INFO -  at 64.0s,\testimator lgbm's best error=0.3648,\tbest estimator rf's best error=0.3368\n",
      "[flaml.automl: 07-31 11:51:31] {3166} INFO - iteration 409, current learner xgb_limitdepth\n",
      "[flaml.automl: 07-31 11:51:32] {3343} INFO -  at 64.2s,\testimator xgb_limitdepth's best error=0.3551,\tbest estimator rf's best error=0.3368\n",
      "[flaml.automl: 07-31 11:51:32] {3166} INFO - iteration 410, current learner extra_tree\n",
      "[flaml.automl: 07-31 11:51:32] {3343} INFO -  at 64.4s,\testimator extra_tree's best error=0.3416,\tbest estimator rf's best error=0.3368\n",
      "[flaml.automl: 07-31 11:51:32] {3166} INFO - iteration 411, current learner lrl1\n",
      "[flaml.automl: 07-31 11:51:32] {3343} INFO -  at 64.5s,\testimator lrl1's best error=0.4007,\tbest estimator rf's best error=0.3368\n",
      "[flaml.automl: 07-31 11:51:32] {3166} INFO - iteration 412, current learner xgboost\n",
      "[flaml.automl: 07-31 11:51:32] {3343} INFO -  at 64.6s,\testimator xgboost's best error=0.3627,\tbest estimator rf's best error=0.3368\n",
      "[flaml.automl: 07-31 11:51:32] {3166} INFO - iteration 413, current learner xgboost\n",
      "[flaml.automl: 07-31 11:51:32] {3343} INFO -  at 64.6s,\testimator xgboost's best error=0.3627,\tbest estimator rf's best error=0.3368\n",
      "[flaml.automl: 07-31 11:51:32] {3166} INFO - iteration 414, current learner rf\n",
      "[flaml.automl: 07-31 11:51:32] {3343} INFO -  at 65.1s,\testimator rf's best error=0.3368,\tbest estimator rf's best error=0.3368\n",
      "[flaml.automl: 07-31 11:51:32] {3166} INFO - iteration 415, current learner extra_tree\n",
      "[flaml.automl: 07-31 11:51:33] {3343} INFO -  at 65.3s,\testimator extra_tree's best error=0.3416,\tbest estimator rf's best error=0.3368\n",
      "[flaml.automl: 07-31 11:51:33] {3166} INFO - iteration 416, current learner rf\n",
      "[flaml.automl: 07-31 11:51:33] {3343} INFO -  at 65.7s,\testimator rf's best error=0.3368,\tbest estimator rf's best error=0.3368\n",
      "[flaml.automl: 07-31 11:51:33] {3166} INFO - iteration 417, current learner extra_tree\n",
      "[flaml.automl: 07-31 11:51:33] {3343} INFO -  at 66.0s,\testimator extra_tree's best error=0.3416,\tbest estimator rf's best error=0.3368\n",
      "[flaml.automl: 07-31 11:51:33] {3166} INFO - iteration 418, current learner lrl1\n",
      "[flaml.automl: 07-31 11:51:33] {3343} INFO -  at 66.1s,\testimator lrl1's best error=0.4007,\tbest estimator rf's best error=0.3368\n",
      "[flaml.automl: 07-31 11:51:33] {3166} INFO - iteration 419, current learner xgb_limitdepth\n"
     ]
    },
    {
     "name": "stderr",
     "output_type": "stream",
     "text": [
      "[flaml.automl: 07-31 11:51:34] {3343} INFO -  at 66.2s,\testimator xgb_limitdepth's best error=0.3551,\tbest estimator rf's best error=0.3368\n",
      "[flaml.automl: 07-31 11:51:34] {3166} INFO - iteration 420, current learner lrl1\n",
      "[flaml.automl: 07-31 11:51:34] {3343} INFO -  at 66.3s,\testimator lrl1's best error=0.4007,\tbest estimator rf's best error=0.3368\n",
      "[flaml.automl: 07-31 11:51:34] {3166} INFO - iteration 421, current learner extra_tree\n",
      "[flaml.automl: 07-31 11:51:34] {3343} INFO -  at 66.4s,\testimator extra_tree's best error=0.3416,\tbest estimator rf's best error=0.3368\n",
      "[flaml.automl: 07-31 11:51:34] {3166} INFO - iteration 422, current learner lrl1\n",
      "[flaml.automl: 07-31 11:51:34] {3343} INFO -  at 66.5s,\testimator lrl1's best error=0.4007,\tbest estimator rf's best error=0.3368\n",
      "[flaml.automl: 07-31 11:51:34] {3166} INFO - iteration 423, current learner extra_tree\n",
      "[flaml.automl: 07-31 11:51:34] {3343} INFO -  at 66.8s,\testimator extra_tree's best error=0.3416,\tbest estimator rf's best error=0.3368\n",
      "[flaml.automl: 07-31 11:51:34] {3166} INFO - iteration 424, current learner lrl1\n",
      "[flaml.automl: 07-31 11:51:34] {3343} INFO -  at 66.9s,\testimator lrl1's best error=0.4007,\tbest estimator rf's best error=0.3368\n",
      "[flaml.automl: 07-31 11:51:34] {3166} INFO - iteration 425, current learner extra_tree\n",
      "[flaml.automl: 07-31 11:51:35] {3343} INFO -  at 67.3s,\testimator extra_tree's best error=0.3416,\tbest estimator rf's best error=0.3368\n",
      "[flaml.automl: 07-31 11:51:35] {3166} INFO - iteration 426, current learner rf\n",
      "[flaml.automl: 07-31 11:51:35] {3343} INFO -  at 67.6s,\testimator rf's best error=0.3368,\tbest estimator rf's best error=0.3368\n",
      "[flaml.automl: 07-31 11:51:35] {3166} INFO - iteration 427, current learner rf\n",
      "[flaml.automl: 07-31 11:51:35] {3343} INFO -  at 67.8s,\testimator rf's best error=0.3368,\tbest estimator rf's best error=0.3368\n",
      "[flaml.automl: 07-31 11:51:35] {3166} INFO - iteration 428, current learner lgbm\n",
      "[flaml.automl: 07-31 11:51:35] {3343} INFO -  at 67.9s,\testimator lgbm's best error=0.3648,\tbest estimator rf's best error=0.3368\n",
      "[flaml.automl: 07-31 11:51:35] {3166} INFO - iteration 429, current learner rf\n",
      "[flaml.automl: 07-31 11:51:36] {3343} INFO -  at 68.2s,\testimator rf's best error=0.3368,\tbest estimator rf's best error=0.3368\n",
      "[flaml.automl: 07-31 11:51:36] {3166} INFO - iteration 430, current learner extra_tree\n",
      "[flaml.automl: 07-31 11:51:36] {3343} INFO -  at 68.5s,\testimator extra_tree's best error=0.3416,\tbest estimator rf's best error=0.3368\n",
      "[flaml.automl: 07-31 11:51:36] {3166} INFO - iteration 431, current learner rf\n",
      "[flaml.automl: 07-31 11:51:36] {3343} INFO -  at 68.9s,\testimator rf's best error=0.3368,\tbest estimator rf's best error=0.3368\n",
      "[flaml.automl: 07-31 11:51:36] {3166} INFO - iteration 432, current learner lgbm\n",
      "[flaml.automl: 07-31 11:51:36] {3343} INFO -  at 69.0s,\testimator lgbm's best error=0.3648,\tbest estimator rf's best error=0.3368\n",
      "[flaml.automl: 07-31 11:51:36] {3166} INFO - iteration 433, current learner lrl1\n",
      "[flaml.automl: 07-31 11:51:37] {3343} INFO -  at 69.1s,\testimator lrl1's best error=0.4007,\tbest estimator rf's best error=0.3368\n",
      "[flaml.automl: 07-31 11:51:37] {3166} INFO - iteration 434, current learner extra_tree\n",
      "[flaml.automl: 07-31 11:51:37] {3343} INFO -  at 69.5s,\testimator extra_tree's best error=0.3416,\tbest estimator rf's best error=0.3368\n",
      "[flaml.automl: 07-31 11:51:37] {3166} INFO - iteration 435, current learner lrl1\n",
      "[flaml.automl: 07-31 11:51:37] {3343} INFO -  at 69.6s,\testimator lrl1's best error=0.4007,\tbest estimator rf's best error=0.3368\n",
      "[flaml.automl: 07-31 11:51:37] {3166} INFO - iteration 436, current learner extra_tree\n",
      "[flaml.automl: 07-31 11:51:37] {3343} INFO -  at 70.0s,\testimator extra_tree's best error=0.3416,\tbest estimator rf's best error=0.3368\n",
      "[flaml.automl: 07-31 11:51:37] {3166} INFO - iteration 437, current learner extra_tree\n",
      "[flaml.automl: 07-31 11:51:38] {3343} INFO -  at 70.2s,\testimator extra_tree's best error=0.3416,\tbest estimator rf's best error=0.3368\n",
      "[flaml.automl: 07-31 11:51:38] {3166} INFO - iteration 438, current learner extra_tree\n",
      "[flaml.automl: 07-31 11:51:38] {3343} INFO -  at 70.5s,\testimator extra_tree's best error=0.3416,\tbest estimator rf's best error=0.3368\n",
      "[flaml.automl: 07-31 11:51:38] {3166} INFO - iteration 439, current learner extra_tree\n",
      "[flaml.automl: 07-31 11:51:38] {3343} INFO -  at 70.8s,\testimator extra_tree's best error=0.3416,\tbest estimator rf's best error=0.3368\n",
      "[flaml.automl: 07-31 11:51:38] {3166} INFO - iteration 440, current learner lrl1\n",
      "[flaml.automl: 07-31 11:51:38] {3343} INFO -  at 70.9s,\testimator lrl1's best error=0.4007,\tbest estimator rf's best error=0.3368\n",
      "[flaml.automl: 07-31 11:51:38] {3166} INFO - iteration 441, current learner extra_tree\n",
      "[flaml.automl: 07-31 11:51:39] {3343} INFO -  at 71.2s,\testimator extra_tree's best error=0.3416,\tbest estimator rf's best error=0.3368\n",
      "[flaml.automl: 07-31 11:51:39] {3166} INFO - iteration 442, current learner lrl1\n",
      "[flaml.automl: 07-31 11:51:39] {3343} INFO -  at 71.3s,\testimator lrl1's best error=0.4007,\tbest estimator rf's best error=0.3368\n",
      "[flaml.automl: 07-31 11:51:39] {3166} INFO - iteration 443, current learner lgbm\n",
      "[flaml.automl: 07-31 11:51:39] {3343} INFO -  at 71.3s,\testimator lgbm's best error=0.3648,\tbest estimator rf's best error=0.3368\n",
      "[flaml.automl: 07-31 11:51:39] {3166} INFO - iteration 444, current learner lrl1\n",
      "[flaml.automl: 07-31 11:51:39] {3343} INFO -  at 71.4s,\testimator lrl1's best error=0.4007,\tbest estimator rf's best error=0.3368\n",
      "[flaml.automl: 07-31 11:51:39] {3166} INFO - iteration 445, current learner rf\n",
      "[flaml.automl: 07-31 11:51:39] {3343} INFO -  at 71.7s,\testimator rf's best error=0.3368,\tbest estimator rf's best error=0.3368\n",
      "[flaml.automl: 07-31 11:51:39] {3166} INFO - iteration 446, current learner extra_tree\n",
      "[flaml.automl: 07-31 11:51:40] {3343} INFO -  at 72.2s,\testimator extra_tree's best error=0.3416,\tbest estimator rf's best error=0.3368\n",
      "[flaml.automl: 07-31 11:51:40] {3166} INFO - iteration 447, current learner lgbm\n",
      "[flaml.automl: 07-31 11:51:40] {3343} INFO -  at 72.3s,\testimator lgbm's best error=0.3648,\tbest estimator rf's best error=0.3368\n",
      "[flaml.automl: 07-31 11:51:40] {3166} INFO - iteration 448, current learner extra_tree\n",
      "[flaml.automl: 07-31 11:51:40] {3343} INFO -  at 72.6s,\testimator extra_tree's best error=0.3416,\tbest estimator rf's best error=0.3368\n",
      "[flaml.automl: 07-31 11:51:40] {3166} INFO - iteration 449, current learner lgbm\n",
      "[flaml.automl: 07-31 11:51:40] {3343} INFO -  at 72.7s,\testimator lgbm's best error=0.3648,\tbest estimator rf's best error=0.3368\n",
      "[flaml.automl: 07-31 11:51:40] {3166} INFO - iteration 450, current learner lrl1\n",
      "[flaml.automl: 07-31 11:51:40] {3343} INFO -  at 72.8s,\testimator lrl1's best error=0.4007,\tbest estimator rf's best error=0.3368\n",
      "[flaml.automl: 07-31 11:51:40] {3166} INFO - iteration 451, current learner lrl1\n",
      "[flaml.automl: 07-31 11:51:40] {3343} INFO -  at 72.9s,\testimator lrl1's best error=0.4007,\tbest estimator rf's best error=0.3368\n",
      "[flaml.automl: 07-31 11:51:40] {3166} INFO - iteration 452, current learner lrl1\n",
      "[flaml.automl: 07-31 11:51:40] {3343} INFO -  at 73.0s,\testimator lrl1's best error=0.4007,\tbest estimator rf's best error=0.3368\n",
      "[flaml.automl: 07-31 11:51:40] {3166} INFO - iteration 453, current learner lrl1\n",
      "[flaml.automl: 07-31 11:51:41] {3343} INFO -  at 73.1s,\testimator lrl1's best error=0.4007,\tbest estimator rf's best error=0.3368\n",
      "[flaml.automl: 07-31 11:51:41] {3166} INFO - iteration 454, current learner rf\n",
      "[flaml.automl: 07-31 11:51:41] {3343} INFO -  at 73.4s,\testimator rf's best error=0.3368,\tbest estimator rf's best error=0.3368\n",
      "[flaml.automl: 07-31 11:51:41] {3166} INFO - iteration 455, current learner rf\n",
      "[flaml.automl: 07-31 11:51:41] {3343} INFO -  at 73.8s,\testimator rf's best error=0.3368,\tbest estimator rf's best error=0.3368\n",
      "[flaml.automl: 07-31 11:51:41] {3166} INFO - iteration 456, current learner rf\n",
      "[flaml.automl: 07-31 11:51:42] {3343} INFO -  at 74.2s,\testimator rf's best error=0.3368,\tbest estimator rf's best error=0.3368\n",
      "[flaml.automl: 07-31 11:51:42] {3166} INFO - iteration 457, current learner extra_tree\n",
      "[flaml.automl: 07-31 11:51:42] {3343} INFO -  at 74.4s,\testimator extra_tree's best error=0.3416,\tbest estimator rf's best error=0.3368\n"
     ]
    },
    {
     "name": "stderr",
     "output_type": "stream",
     "text": [
      "[flaml.automl: 07-31 11:51:42] {3166} INFO - iteration 458, current learner lrl1\n",
      "[flaml.automl: 07-31 11:51:42] {3343} INFO -  at 74.5s,\testimator lrl1's best error=0.4007,\tbest estimator rf's best error=0.3368\n",
      "[flaml.automl: 07-31 11:51:42] {3166} INFO - iteration 459, current learner lrl1\n",
      "[flaml.automl: 07-31 11:51:42] {3343} INFO -  at 74.6s,\testimator lrl1's best error=0.4007,\tbest estimator rf's best error=0.3368\n",
      "[flaml.automl: 07-31 11:51:42] {3166} INFO - iteration 460, current learner lrl1\n",
      "[flaml.automl: 07-31 11:51:42] {3343} INFO -  at 74.7s,\testimator lrl1's best error=0.4007,\tbest estimator rf's best error=0.3368\n",
      "[flaml.automl: 07-31 11:51:42] {3166} INFO - iteration 461, current learner lrl1\n",
      "[flaml.automl: 07-31 11:51:42] {3343} INFO -  at 74.9s,\testimator lrl1's best error=0.4007,\tbest estimator rf's best error=0.3368\n",
      "[flaml.automl: 07-31 11:51:42] {3166} INFO - iteration 462, current learner lrl1\n",
      "[flaml.automl: 07-31 11:51:42] {3343} INFO -  at 75.0s,\testimator lrl1's best error=0.4007,\tbest estimator rf's best error=0.3368\n",
      "[flaml.automl: 07-31 11:51:42] {3166} INFO - iteration 463, current learner extra_tree\n",
      "[flaml.automl: 07-31 11:51:43] {3343} INFO -  at 75.3s,\testimator extra_tree's best error=0.3416,\tbest estimator rf's best error=0.3368\n",
      "[flaml.automl: 07-31 11:51:43] {3166} INFO - iteration 464, current learner xgboost\n",
      "[flaml.automl: 07-31 11:51:43] {3343} INFO -  at 75.3s,\testimator xgboost's best error=0.3627,\tbest estimator rf's best error=0.3368\n",
      "[flaml.automl: 07-31 11:51:43] {3166} INFO - iteration 465, current learner rf\n",
      "[flaml.automl: 07-31 11:51:43] {3343} INFO -  at 75.6s,\testimator rf's best error=0.3368,\tbest estimator rf's best error=0.3368\n",
      "[flaml.automl: 07-31 11:51:43] {3166} INFO - iteration 466, current learner rf\n",
      "[flaml.automl: 07-31 11:51:43] {3343} INFO -  at 75.8s,\testimator rf's best error=0.3368,\tbest estimator rf's best error=0.3368\n",
      "[flaml.automl: 07-31 11:51:43] {3166} INFO - iteration 467, current learner lrl1\n",
      "[flaml.automl: 07-31 11:51:43] {3343} INFO -  at 75.9s,\testimator lrl1's best error=0.4007,\tbest estimator rf's best error=0.3368\n",
      "[flaml.automl: 07-31 11:51:43] {3166} INFO - iteration 468, current learner rf\n",
      "[flaml.automl: 07-31 11:51:44] {3343} INFO -  at 76.2s,\testimator rf's best error=0.3368,\tbest estimator rf's best error=0.3368\n",
      "[flaml.automl: 07-31 11:51:44] {3166} INFO - iteration 469, current learner xgboost\n",
      "[flaml.automl: 07-31 11:51:44] {3343} INFO -  at 76.3s,\testimator xgboost's best error=0.3627,\tbest estimator rf's best error=0.3368\n",
      "[flaml.automl: 07-31 11:51:44] {3166} INFO - iteration 470, current learner lrl1\n",
      "[flaml.automl: 07-31 11:51:44] {3343} INFO -  at 76.4s,\testimator lrl1's best error=0.4007,\tbest estimator rf's best error=0.3368\n",
      "[flaml.automl: 07-31 11:51:44] {3166} INFO - iteration 471, current learner xgboost\n",
      "[flaml.automl: 07-31 11:51:44] {3343} INFO -  at 76.4s,\testimator xgboost's best error=0.3627,\tbest estimator rf's best error=0.3368\n",
      "[flaml.automl: 07-31 11:51:44] {3166} INFO - iteration 472, current learner lrl1\n",
      "[flaml.automl: 07-31 11:51:44] {3343} INFO -  at 76.5s,\testimator lrl1's best error=0.4007,\tbest estimator rf's best error=0.3368\n",
      "[flaml.automl: 07-31 11:51:44] {3166} INFO - iteration 473, current learner xgboost\n",
      "[flaml.automl: 07-31 11:51:44] {3343} INFO -  at 76.6s,\testimator xgboost's best error=0.3627,\tbest estimator rf's best error=0.3368\n",
      "[flaml.automl: 07-31 11:51:44] {3166} INFO - iteration 474, current learner extra_tree\n",
      "[flaml.automl: 07-31 11:51:44] {3343} INFO -  at 76.8s,\testimator extra_tree's best error=0.3416,\tbest estimator rf's best error=0.3368\n",
      "[flaml.automl: 07-31 11:51:44] {3166} INFO - iteration 475, current learner xgboost\n",
      "[flaml.automl: 07-31 11:51:44] {3343} INFO -  at 76.9s,\testimator xgboost's best error=0.3627,\tbest estimator rf's best error=0.3368\n",
      "[flaml.automl: 07-31 11:51:44] {3166} INFO - iteration 476, current learner lrl1\n",
      "[flaml.automl: 07-31 11:51:44] {3343} INFO -  at 77.0s,\testimator lrl1's best error=0.4007,\tbest estimator rf's best error=0.3368\n",
      "[flaml.automl: 07-31 11:51:44] {3166} INFO - iteration 477, current learner xgboost\n",
      "[flaml.automl: 07-31 11:51:44] {3343} INFO -  at 77.1s,\testimator xgboost's best error=0.3627,\tbest estimator rf's best error=0.3368\n",
      "[flaml.automl: 07-31 11:51:44] {3166} INFO - iteration 478, current learner extra_tree\n",
      "[flaml.automl: 07-31 11:51:45] {3343} INFO -  at 77.4s,\testimator extra_tree's best error=0.3416,\tbest estimator rf's best error=0.3368\n",
      "[flaml.automl: 07-31 11:51:45] {3166} INFO - iteration 479, current learner extra_tree\n",
      "[flaml.automl: 07-31 11:51:45] {3343} INFO -  at 77.6s,\testimator extra_tree's best error=0.3416,\tbest estimator rf's best error=0.3368\n",
      "[flaml.automl: 07-31 11:51:45] {3166} INFO - iteration 480, current learner lrl1\n",
      "[flaml.automl: 07-31 11:51:45] {3343} INFO -  at 77.7s,\testimator lrl1's best error=0.4007,\tbest estimator rf's best error=0.3368\n",
      "[flaml.automl: 07-31 11:51:45] {3166} INFO - iteration 481, current learner lgbm\n",
      "[flaml.automl: 07-31 11:51:45] {3343} INFO -  at 77.8s,\testimator lgbm's best error=0.3648,\tbest estimator rf's best error=0.3368\n",
      "[flaml.automl: 07-31 11:51:45] {3166} INFO - iteration 482, current learner lrl1\n",
      "[flaml.automl: 07-31 11:51:45] {3343} INFO -  at 77.9s,\testimator lrl1's best error=0.4007,\tbest estimator rf's best error=0.3368\n",
      "[flaml.automl: 07-31 11:51:45] {3166} INFO - iteration 483, current learner lrl1\n",
      "[flaml.automl: 07-31 11:51:45] {3343} INFO -  at 78.0s,\testimator lrl1's best error=0.4007,\tbest estimator rf's best error=0.3368\n",
      "[flaml.automl: 07-31 11:51:45] {3166} INFO - iteration 484, current learner lgbm\n",
      "[flaml.automl: 07-31 11:51:46] {3343} INFO -  at 78.1s,\testimator lgbm's best error=0.3648,\tbest estimator rf's best error=0.3368\n",
      "[flaml.automl: 07-31 11:51:46] {3166} INFO - iteration 485, current learner extra_tree\n",
      "[flaml.automl: 07-31 11:51:46] {3343} INFO -  at 78.4s,\testimator extra_tree's best error=0.3416,\tbest estimator rf's best error=0.3368\n",
      "[flaml.automl: 07-31 11:51:46] {3166} INFO - iteration 486, current learner xgboost\n",
      "[flaml.automl: 07-31 11:51:46] {3343} INFO -  at 78.5s,\testimator xgboost's best error=0.3627,\tbest estimator rf's best error=0.3368\n",
      "[flaml.automl: 07-31 11:51:46] {3166} INFO - iteration 487, current learner lrl1\n",
      "[flaml.automl: 07-31 11:51:46] {3343} INFO -  at 78.6s,\testimator lrl1's best error=0.4007,\tbest estimator rf's best error=0.3368\n",
      "[flaml.automl: 07-31 11:51:46] {3166} INFO - iteration 488, current learner extra_tree\n",
      "[flaml.automl: 07-31 11:51:46] {3343} INFO -  at 79.0s,\testimator extra_tree's best error=0.3416,\tbest estimator rf's best error=0.3368\n",
      "[flaml.automl: 07-31 11:51:46] {3166} INFO - iteration 489, current learner xgb_limitdepth\n",
      "[flaml.automl: 07-31 11:51:46] {3343} INFO -  at 79.1s,\testimator xgb_limitdepth's best error=0.3551,\tbest estimator rf's best error=0.3368\n",
      "[flaml.automl: 07-31 11:51:46] {3166} INFO - iteration 490, current learner extra_tree\n",
      "[flaml.automl: 07-31 11:51:47] {3343} INFO -  at 79.4s,\testimator extra_tree's best error=0.3416,\tbest estimator rf's best error=0.3368\n",
      "[flaml.automl: 07-31 11:51:47] {3166} INFO - iteration 491, current learner extra_tree\n",
      "[flaml.automl: 07-31 11:51:47] {3343} INFO -  at 79.7s,\testimator extra_tree's best error=0.3416,\tbest estimator rf's best error=0.3368\n",
      "[flaml.automl: 07-31 11:51:47] {3166} INFO - iteration 492, current learner xgboost\n",
      "[flaml.automl: 07-31 11:51:47] {3343} INFO -  at 79.8s,\testimator xgboost's best error=0.3627,\tbest estimator rf's best error=0.3368\n",
      "[flaml.automl: 07-31 11:51:47] {3166} INFO - iteration 493, current learner lgbm\n",
      "[flaml.automl: 07-31 11:51:47] {3343} INFO -  at 79.9s,\testimator lgbm's best error=0.3648,\tbest estimator rf's best error=0.3368\n",
      "[flaml.automl: 07-31 11:51:47] {3166} INFO - iteration 494, current learner extra_tree\n",
      "[flaml.automl: 07-31 11:51:48] {3343} INFO -  at 80.2s,\testimator extra_tree's best error=0.3416,\tbest estimator rf's best error=0.3368\n",
      "[flaml.automl: 07-31 11:51:48] {3166} INFO - iteration 495, current learner xgboost\n",
      "[flaml.automl: 07-31 11:51:48] {3343} INFO -  at 80.2s,\testimator xgboost's best error=0.3627,\tbest estimator rf's best error=0.3368\n",
      "[flaml.automl: 07-31 11:51:48] {3166} INFO - iteration 496, current learner extra_tree\n"
     ]
    },
    {
     "name": "stderr",
     "output_type": "stream",
     "text": [
      "[flaml.automl: 07-31 11:51:48] {3343} INFO -  at 80.5s,\testimator extra_tree's best error=0.3416,\tbest estimator rf's best error=0.3368\n",
      "[flaml.automl: 07-31 11:51:48] {3166} INFO - iteration 497, current learner lrl1\n",
      "[flaml.automl: 07-31 11:51:48] {3343} INFO -  at 80.6s,\testimator lrl1's best error=0.4007,\tbest estimator rf's best error=0.3368\n",
      "[flaml.automl: 07-31 11:51:48] {3166} INFO - iteration 498, current learner extra_tree\n",
      "[flaml.automl: 07-31 11:51:48] {3343} INFO -  at 81.0s,\testimator extra_tree's best error=0.3416,\tbest estimator rf's best error=0.3368\n",
      "[flaml.automl: 07-31 11:51:48] {3166} INFO - iteration 499, current learner xgboost\n",
      "[flaml.automl: 07-31 11:51:48] {3343} INFO -  at 81.1s,\testimator xgboost's best error=0.3627,\tbest estimator rf's best error=0.3368\n",
      "[flaml.automl: 07-31 11:51:48] {3166} INFO - iteration 500, current learner xgboost\n",
      "[flaml.automl: 07-31 11:51:48] {3343} INFO -  at 81.1s,\testimator xgboost's best error=0.3627,\tbest estimator rf's best error=0.3368\n",
      "[flaml.automl: 07-31 11:51:48] {3166} INFO - iteration 501, current learner lrl1\n",
      "[flaml.automl: 07-31 11:51:49] {3343} INFO -  at 81.2s,\testimator lrl1's best error=0.4007,\tbest estimator rf's best error=0.3368\n",
      "[flaml.automl: 07-31 11:51:49] {3166} INFO - iteration 502, current learner lrl1\n",
      "[flaml.automl: 07-31 11:51:49] {3343} INFO -  at 81.3s,\testimator lrl1's best error=0.4007,\tbest estimator rf's best error=0.3368\n",
      "[flaml.automl: 07-31 11:51:49] {3166} INFO - iteration 503, current learner lrl1\n",
      "[flaml.automl: 07-31 11:51:49] {3343} INFO -  at 81.4s,\testimator lrl1's best error=0.4007,\tbest estimator rf's best error=0.3368\n",
      "[flaml.automl: 07-31 11:51:49] {3166} INFO - iteration 504, current learner lrl1\n",
      "[flaml.automl: 07-31 11:51:49] {3343} INFO -  at 81.5s,\testimator lrl1's best error=0.4007,\tbest estimator rf's best error=0.3368\n",
      "[flaml.automl: 07-31 11:51:49] {3166} INFO - iteration 505, current learner xgboost\n",
      "[flaml.automl: 07-31 11:51:49] {3343} INFO -  at 81.6s,\testimator xgboost's best error=0.3627,\tbest estimator rf's best error=0.3368\n",
      "[flaml.automl: 07-31 11:51:49] {3166} INFO - iteration 506, current learner rf\n",
      "[flaml.automl: 07-31 11:51:49] {3343} INFO -  at 82.0s,\testimator rf's best error=0.3368,\tbest estimator rf's best error=0.3368\n",
      "[flaml.automl: 07-31 11:51:49] {3166} INFO - iteration 507, current learner xgboost\n",
      "[flaml.automl: 07-31 11:51:49] {3343} INFO -  at 82.0s,\testimator xgboost's best error=0.3627,\tbest estimator rf's best error=0.3368\n",
      "[flaml.automl: 07-31 11:51:49] {3166} INFO - iteration 508, current learner xgboost\n",
      "[flaml.automl: 07-31 11:51:49] {3343} INFO -  at 82.1s,\testimator xgboost's best error=0.3627,\tbest estimator rf's best error=0.3368\n",
      "[flaml.automl: 07-31 11:51:49] {3166} INFO - iteration 509, current learner rf\n",
      "[flaml.automl: 07-31 11:51:50] {3343} INFO -  at 82.3s,\testimator rf's best error=0.3368,\tbest estimator rf's best error=0.3368\n",
      "[flaml.automl: 07-31 11:51:50] {3166} INFO - iteration 510, current learner extra_tree\n",
      "[flaml.automl: 07-31 11:51:50] {3343} INFO -  at 82.6s,\testimator extra_tree's best error=0.3416,\tbest estimator rf's best error=0.3368\n",
      "[flaml.automl: 07-31 11:51:50] {3166} INFO - iteration 511, current learner extra_tree\n",
      "[flaml.automl: 07-31 11:51:50] {3343} INFO -  at 82.8s,\testimator extra_tree's best error=0.3416,\tbest estimator rf's best error=0.3368\n",
      "[flaml.automl: 07-31 11:51:50] {3166} INFO - iteration 512, current learner lrl1\n",
      "[flaml.automl: 07-31 11:51:50] {3343} INFO -  at 82.9s,\testimator lrl1's best error=0.4007,\tbest estimator rf's best error=0.3368\n",
      "[flaml.automl: 07-31 11:51:50] {3166} INFO - iteration 513, current learner rf\n",
      "[flaml.automl: 07-31 11:51:51] {3343} INFO -  at 83.5s,\testimator rf's best error=0.3368,\tbest estimator rf's best error=0.3368\n",
      "[flaml.automl: 07-31 11:51:51] {3166} INFO - iteration 514, current learner lrl1\n",
      "[flaml.automl: 07-31 11:51:51] {3343} INFO -  at 83.6s,\testimator lrl1's best error=0.4007,\tbest estimator rf's best error=0.3368\n",
      "[flaml.automl: 07-31 11:51:51] {3166} INFO - iteration 515, current learner xgboost\n",
      "[flaml.automl: 07-31 11:51:51] {3343} INFO -  at 83.6s,\testimator xgboost's best error=0.3627,\tbest estimator rf's best error=0.3368\n",
      "[flaml.automl: 07-31 11:51:51] {3166} INFO - iteration 516, current learner extra_tree\n",
      "[flaml.automl: 07-31 11:51:51] {3343} INFO -  at 84.1s,\testimator extra_tree's best error=0.3416,\tbest estimator rf's best error=0.3368\n",
      "[flaml.automl: 07-31 11:51:51] {3166} INFO - iteration 517, current learner xgboost\n",
      "[flaml.automl: 07-31 11:51:52] {3343} INFO -  at 84.1s,\testimator xgboost's best error=0.3627,\tbest estimator rf's best error=0.3368\n",
      "[flaml.automl: 07-31 11:51:52] {3166} INFO - iteration 518, current learner lgbm\n",
      "[flaml.automl: 07-31 11:51:52] {3343} INFO -  at 84.2s,\testimator lgbm's best error=0.3648,\tbest estimator rf's best error=0.3368\n",
      "[flaml.automl: 07-31 11:51:52] {3166} INFO - iteration 519, current learner xgboost\n",
      "[flaml.automl: 07-31 11:51:52] {3343} INFO -  at 84.3s,\testimator xgboost's best error=0.3627,\tbest estimator rf's best error=0.3368\n",
      "[flaml.automl: 07-31 11:51:52] {3166} INFO - iteration 520, current learner xgb_limitdepth\n",
      "[flaml.automl: 07-31 11:51:52] {3343} INFO -  at 84.4s,\testimator xgb_limitdepth's best error=0.3551,\tbest estimator rf's best error=0.3368\n",
      "[flaml.automl: 07-31 11:51:52] {3166} INFO - iteration 521, current learner extra_tree\n",
      "[flaml.automl: 07-31 11:51:52] {3343} INFO -  at 84.7s,\testimator extra_tree's best error=0.3416,\tbest estimator rf's best error=0.3368\n",
      "[flaml.automl: 07-31 11:51:52] {3166} INFO - iteration 522, current learner extra_tree\n",
      "[flaml.automl: 07-31 11:51:52] {3343} INFO -  at 85.1s,\testimator extra_tree's best error=0.3416,\tbest estimator rf's best error=0.3368\n",
      "[flaml.automl: 07-31 11:51:52] {3166} INFO - iteration 523, current learner rf\n",
      "[flaml.automl: 07-31 11:51:53] {3343} INFO -  at 85.3s,\testimator rf's best error=0.3368,\tbest estimator rf's best error=0.3368\n",
      "[flaml.automl: 07-31 11:51:53] {3166} INFO - iteration 524, current learner extra_tree\n",
      "[flaml.automl: 07-31 11:51:53] {3343} INFO -  at 85.7s,\testimator extra_tree's best error=0.3416,\tbest estimator rf's best error=0.3368\n",
      "[flaml.automl: 07-31 11:51:53] {3166} INFO - iteration 525, current learner lrl1\n",
      "[flaml.automl: 07-31 11:51:53] {3343} INFO -  at 85.8s,\testimator lrl1's best error=0.4007,\tbest estimator rf's best error=0.3368\n",
      "[flaml.automl: 07-31 11:51:53] {3166} INFO - iteration 526, current learner lrl1\n",
      "[flaml.automl: 07-31 11:51:53] {3343} INFO -  at 85.9s,\testimator lrl1's best error=0.4007,\tbest estimator rf's best error=0.3368\n",
      "[flaml.automl: 07-31 11:51:53] {3166} INFO - iteration 527, current learner extra_tree\n",
      "[flaml.automl: 07-31 11:51:53] {3343} INFO -  at 86.1s,\testimator extra_tree's best error=0.3416,\tbest estimator rf's best error=0.3368\n",
      "[flaml.automl: 07-31 11:51:53] {3166} INFO - iteration 528, current learner lrl1\n",
      "[flaml.automl: 07-31 11:51:54] {3343} INFO -  at 86.2s,\testimator lrl1's best error=0.4007,\tbest estimator rf's best error=0.3368\n",
      "[flaml.automl: 07-31 11:51:54] {3166} INFO - iteration 529, current learner lrl1\n",
      "[flaml.automl: 07-31 11:51:54] {3343} INFO -  at 86.3s,\testimator lrl1's best error=0.4007,\tbest estimator rf's best error=0.3368\n",
      "[flaml.automl: 07-31 11:51:54] {3166} INFO - iteration 530, current learner extra_tree\n",
      "[flaml.automl: 07-31 11:51:54] {3343} INFO -  at 86.6s,\testimator extra_tree's best error=0.3416,\tbest estimator rf's best error=0.3368\n",
      "[flaml.automl: 07-31 11:51:54] {3166} INFO - iteration 531, current learner lgbm\n",
      "[flaml.automl: 07-31 11:51:54] {3343} INFO -  at 86.7s,\testimator lgbm's best error=0.3648,\tbest estimator rf's best error=0.3368\n",
      "[flaml.automl: 07-31 11:51:54] {3166} INFO - iteration 532, current learner rf\n",
      "[flaml.automl: 07-31 11:51:54] {3343} INFO -  at 86.9s,\testimator rf's best error=0.3368,\tbest estimator rf's best error=0.3368\n",
      "[flaml.automl: 07-31 11:51:54] {3166} INFO - iteration 533, current learner rf\n",
      "[flaml.automl: 07-31 11:51:55] {3343} INFO -  at 87.2s,\testimator rf's best error=0.3368,\tbest estimator rf's best error=0.3368\n",
      "[flaml.automl: 07-31 11:51:55] {3166} INFO - iteration 534, current learner extra_tree\n",
      "[flaml.automl: 07-31 11:51:55] {3343} INFO -  at 87.5s,\testimator extra_tree's best error=0.3416,\tbest estimator rf's best error=0.3368\n"
     ]
    },
    {
     "name": "stderr",
     "output_type": "stream",
     "text": [
      "[flaml.automl: 07-31 11:51:55] {3166} INFO - iteration 535, current learner xgboost\n",
      "[flaml.automl: 07-31 11:51:55] {3343} INFO -  at 87.5s,\testimator xgboost's best error=0.3627,\tbest estimator rf's best error=0.3368\n",
      "[flaml.automl: 07-31 11:51:55] {3166} INFO - iteration 536, current learner lrl1\n",
      "[flaml.automl: 07-31 11:51:55] {3343} INFO -  at 87.6s,\testimator lrl1's best error=0.4007,\tbest estimator rf's best error=0.3368\n",
      "[flaml.automl: 07-31 11:51:55] {3166} INFO - iteration 537, current learner rf\n",
      "[flaml.automl: 07-31 11:51:55] {3343} INFO -  at 87.8s,\testimator rf's best error=0.3368,\tbest estimator rf's best error=0.3368\n",
      "[flaml.automl: 07-31 11:51:55] {3166} INFO - iteration 538, current learner lrl1\n",
      "[flaml.automl: 07-31 11:51:55] {3343} INFO -  at 87.9s,\testimator lrl1's best error=0.4007,\tbest estimator rf's best error=0.3368\n",
      "[flaml.automl: 07-31 11:51:55] {3166} INFO - iteration 539, current learner lrl1\n",
      "[flaml.automl: 07-31 11:51:55] {3343} INFO -  at 88.0s,\testimator lrl1's best error=0.4007,\tbest estimator rf's best error=0.3368\n",
      "[flaml.automl: 07-31 11:51:55] {3166} INFO - iteration 540, current learner lrl1\n",
      "[flaml.automl: 07-31 11:51:55] {3343} INFO -  at 88.1s,\testimator lrl1's best error=0.4007,\tbest estimator rf's best error=0.3368\n",
      "[flaml.automl: 07-31 11:51:55] {3166} INFO - iteration 541, current learner xgb_limitdepth\n",
      "[flaml.automl: 07-31 11:51:56] {3343} INFO -  at 88.2s,\testimator xgb_limitdepth's best error=0.3551,\tbest estimator rf's best error=0.3368\n",
      "[flaml.automl: 07-31 11:51:56] {3166} INFO - iteration 542, current learner xgb_limitdepth\n",
      "[flaml.automl: 07-31 11:51:56] {3343} INFO -  at 88.3s,\testimator xgb_limitdepth's best error=0.3551,\tbest estimator rf's best error=0.3368\n",
      "[flaml.automl: 07-31 11:51:56] {3166} INFO - iteration 543, current learner extra_tree\n",
      "[flaml.automl: 07-31 11:51:56] {3343} INFO -  at 88.5s,\testimator extra_tree's best error=0.3416,\tbest estimator rf's best error=0.3368\n",
      "[flaml.automl: 07-31 11:51:56] {3166} INFO - iteration 544, current learner lgbm\n",
      "[flaml.automl: 07-31 11:51:56] {3343} INFO -  at 88.6s,\testimator lgbm's best error=0.3648,\tbest estimator rf's best error=0.3368\n",
      "[flaml.automl: 07-31 11:51:56] {3166} INFO - iteration 545, current learner xgboost\n",
      "[flaml.automl: 07-31 11:51:56] {3343} INFO -  at 88.7s,\testimator xgboost's best error=0.3627,\tbest estimator rf's best error=0.3368\n",
      "[flaml.automl: 07-31 11:51:56] {3166} INFO - iteration 546, current learner extra_tree\n",
      "[flaml.automl: 07-31 11:51:56] {3343} INFO -  at 88.9s,\testimator extra_tree's best error=0.3416,\tbest estimator rf's best error=0.3368\n",
      "[flaml.automl: 07-31 11:51:56] {3166} INFO - iteration 547, current learner lrl1\n",
      "[flaml.automl: 07-31 11:51:56] {3343} INFO -  at 89.0s,\testimator lrl1's best error=0.4007,\tbest estimator rf's best error=0.3368\n",
      "[flaml.automl: 07-31 11:51:56] {3166} INFO - iteration 548, current learner extra_tree\n",
      "[flaml.automl: 07-31 11:51:57] {3343} INFO -  at 89.3s,\testimator extra_tree's best error=0.3416,\tbest estimator rf's best error=0.3368\n",
      "[flaml.automl: 07-31 11:51:57] {3166} INFO - iteration 549, current learner extra_tree\n",
      "[flaml.automl: 07-31 11:51:57] {3343} INFO -  at 89.5s,\testimator extra_tree's best error=0.3416,\tbest estimator rf's best error=0.3368\n",
      "[flaml.automl: 07-31 11:51:57] {3166} INFO - iteration 550, current learner rf\n",
      "[flaml.automl: 07-31 11:51:57] {3343} INFO -  at 89.8s,\testimator rf's best error=0.3368,\tbest estimator rf's best error=0.3368\n",
      "[flaml.automl: 07-31 11:51:57] {3166} INFO - iteration 551, current learner lgbm\n",
      "[flaml.automl: 07-31 11:51:57] {3343} INFO -  at 89.9s,\testimator lgbm's best error=0.3648,\tbest estimator rf's best error=0.3368\n",
      "[flaml.automl: 07-31 11:51:57] {3166} INFO - iteration 552, current learner lrl1\n",
      "[flaml.automl: 07-31 11:51:57] {3343} INFO -  at 90.0s,\testimator lrl1's best error=0.4007,\tbest estimator rf's best error=0.3368\n",
      "[flaml.automl: 07-31 11:51:57] {3166} INFO - iteration 553, current learner xgboost\n",
      "[flaml.automl: 07-31 11:51:57] {3343} INFO -  at 90.1s,\testimator xgboost's best error=0.3627,\tbest estimator rf's best error=0.3368\n",
      "[flaml.automl: 07-31 11:51:57] {3166} INFO - iteration 554, current learner lrl1\n",
      "[flaml.automl: 07-31 11:51:58] {3343} INFO -  at 90.2s,\testimator lrl1's best error=0.4007,\tbest estimator rf's best error=0.3368\n",
      "[flaml.automl: 07-31 11:51:58] {3166} INFO - iteration 555, current learner rf\n",
      "[flaml.automl: 07-31 11:51:58] {3343} INFO -  at 90.6s,\testimator rf's best error=0.3368,\tbest estimator rf's best error=0.3368\n",
      "[flaml.automl: 07-31 11:51:58] {3166} INFO - iteration 556, current learner xgboost\n",
      "[flaml.automl: 07-31 11:51:58] {3343} INFO -  at 90.6s,\testimator xgboost's best error=0.3627,\tbest estimator rf's best error=0.3368\n",
      "[flaml.automl: 07-31 11:51:58] {3166} INFO - iteration 557, current learner extra_tree\n",
      "[flaml.automl: 07-31 11:51:58] {3343} INFO -  at 91.0s,\testimator extra_tree's best error=0.3416,\tbest estimator rf's best error=0.3368\n",
      "[flaml.automl: 07-31 11:51:58] {3166} INFO - iteration 558, current learner lrl1\n",
      "[flaml.automl: 07-31 11:51:58] {3343} INFO -  at 91.1s,\testimator lrl1's best error=0.4007,\tbest estimator rf's best error=0.3368\n",
      "[flaml.automl: 07-31 11:51:58] {3166} INFO - iteration 559, current learner extra_tree\n",
      "[flaml.automl: 07-31 11:51:59] {3343} INFO -  at 91.3s,\testimator extra_tree's best error=0.3416,\tbest estimator rf's best error=0.3368\n",
      "[flaml.automl: 07-31 11:51:59] {3166} INFO - iteration 560, current learner rf\n",
      "[flaml.automl: 07-31 11:51:59] {3343} INFO -  at 91.6s,\testimator rf's best error=0.3368,\tbest estimator rf's best error=0.3368\n",
      "[flaml.automl: 07-31 11:51:59] {3166} INFO - iteration 561, current learner xgboost\n",
      "[flaml.automl: 07-31 11:51:59] {3343} INFO -  at 91.6s,\testimator xgboost's best error=0.3627,\tbest estimator rf's best error=0.3368\n",
      "[flaml.automl: 07-31 11:51:59] {3166} INFO - iteration 562, current learner extra_tree\n",
      "[flaml.automl: 07-31 11:51:59] {3343} INFO -  at 91.8s,\testimator extra_tree's best error=0.3416,\tbest estimator rf's best error=0.3368\n",
      "[flaml.automl: 07-31 11:51:59] {3166} INFO - iteration 563, current learner xgb_limitdepth\n",
      "[flaml.automl: 07-31 11:51:59] {3343} INFO -  at 92.0s,\testimator xgb_limitdepth's best error=0.3551,\tbest estimator rf's best error=0.3368\n",
      "[flaml.automl: 07-31 11:51:59] {3166} INFO - iteration 564, current learner lrl1\n",
      "[flaml.automl: 07-31 11:51:59] {3343} INFO -  at 92.0s,\testimator lrl1's best error=0.4007,\tbest estimator rf's best error=0.3368\n",
      "[flaml.automl: 07-31 11:51:59] {3166} INFO - iteration 565, current learner rf\n",
      "[flaml.automl: 07-31 11:52:00] {3343} INFO -  at 92.4s,\testimator rf's best error=0.3368,\tbest estimator rf's best error=0.3368\n",
      "[flaml.automl: 07-31 11:52:00] {3166} INFO - iteration 566, current learner lgbm\n",
      "[flaml.automl: 07-31 11:52:00] {3343} INFO -  at 92.5s,\testimator lgbm's best error=0.3648,\tbest estimator rf's best error=0.3368\n",
      "[flaml.automl: 07-31 11:52:00] {3166} INFO - iteration 567, current learner extra_tree\n",
      "[flaml.automl: 07-31 11:52:00] {3343} INFO -  at 92.9s,\testimator extra_tree's best error=0.3416,\tbest estimator rf's best error=0.3368\n",
      "[flaml.automl: 07-31 11:52:00] {3166} INFO - iteration 568, current learner lrl1\n",
      "[flaml.automl: 07-31 11:52:00] {3343} INFO -  at 93.0s,\testimator lrl1's best error=0.4007,\tbest estimator rf's best error=0.3368\n",
      "[flaml.automl: 07-31 11:52:00] {3166} INFO - iteration 569, current learner lgbm\n",
      "[flaml.automl: 07-31 11:52:00] {3343} INFO -  at 93.0s,\testimator lgbm's best error=0.3627,\tbest estimator rf's best error=0.3368\n",
      "[flaml.automl: 07-31 11:52:00] {3166} INFO - iteration 570, current learner xgb_limitdepth\n",
      "[flaml.automl: 07-31 11:52:01] {3343} INFO -  at 93.2s,\testimator xgb_limitdepth's best error=0.3551,\tbest estimator rf's best error=0.3368\n",
      "[flaml.automl: 07-31 11:52:01] {3166} INFO - iteration 571, current learner lrl1\n",
      "[flaml.automl: 07-31 11:52:01] {3343} INFO -  at 93.3s,\testimator lrl1's best error=0.4007,\tbest estimator rf's best error=0.3368\n",
      "[flaml.automl: 07-31 11:52:01] {3166} INFO - iteration 572, current learner extra_tree\n",
      "[flaml.automl: 07-31 11:52:01] {3343} INFO -  at 93.5s,\testimator extra_tree's best error=0.3416,\tbest estimator rf's best error=0.3368\n"
     ]
    },
    {
     "name": "stderr",
     "output_type": "stream",
     "text": [
      "[flaml.automl: 07-31 11:52:01] {3166} INFO - iteration 573, current learner lrl1\n",
      "[flaml.automl: 07-31 11:52:01] {3343} INFO -  at 93.6s,\testimator lrl1's best error=0.4007,\tbest estimator rf's best error=0.3368\n",
      "[flaml.automl: 07-31 11:52:01] {3166} INFO - iteration 574, current learner xgb_limitdepth\n",
      "[flaml.automl: 07-31 11:52:01] {3343} INFO -  at 93.7s,\testimator xgb_limitdepth's best error=0.3551,\tbest estimator rf's best error=0.3368\n",
      "[flaml.automl: 07-31 11:52:01] {3166} INFO - iteration 575, current learner lgbm\n",
      "[flaml.automl: 07-31 11:52:01] {3343} INFO -  at 93.8s,\testimator lgbm's best error=0.3627,\tbest estimator rf's best error=0.3368\n",
      "[flaml.automl: 07-31 11:52:01] {3166} INFO - iteration 576, current learner extra_tree\n",
      "[flaml.automl: 07-31 11:52:01] {3343} INFO -  at 94.1s,\testimator extra_tree's best error=0.3416,\tbest estimator rf's best error=0.3368\n",
      "[flaml.automl: 07-31 11:52:01] {3166} INFO - iteration 577, current learner lrl1\n",
      "[flaml.automl: 07-31 11:52:02] {3343} INFO -  at 94.2s,\testimator lrl1's best error=0.4007,\tbest estimator rf's best error=0.3368\n",
      "[flaml.automl: 07-31 11:52:02] {3166} INFO - iteration 578, current learner lrl1\n",
      "[flaml.automl: 07-31 11:52:02] {3343} INFO -  at 94.2s,\testimator lrl1's best error=0.4007,\tbest estimator rf's best error=0.3368\n",
      "[flaml.automl: 07-31 11:52:02] {3166} INFO - iteration 579, current learner xgb_limitdepth\n",
      "[flaml.automl: 07-31 11:52:02] {3343} INFO -  at 94.3s,\testimator xgb_limitdepth's best error=0.3551,\tbest estimator rf's best error=0.3368\n",
      "[flaml.automl: 07-31 11:52:02] {3166} INFO - iteration 580, current learner xgb_limitdepth\n",
      "[flaml.automl: 07-31 11:52:02] {3343} INFO -  at 94.5s,\testimator xgb_limitdepth's best error=0.3551,\tbest estimator rf's best error=0.3368\n",
      "[flaml.automl: 07-31 11:52:02] {3166} INFO - iteration 581, current learner extra_tree\n",
      "[flaml.automl: 07-31 11:52:02] {3343} INFO -  at 94.7s,\testimator extra_tree's best error=0.3416,\tbest estimator rf's best error=0.3368\n",
      "[flaml.automl: 07-31 11:52:02] {3166} INFO - iteration 582, current learner xgboost\n",
      "[flaml.automl: 07-31 11:52:02] {3343} INFO -  at 94.8s,\testimator xgboost's best error=0.3627,\tbest estimator rf's best error=0.3368\n",
      "[flaml.automl: 07-31 11:52:02] {3166} INFO - iteration 583, current learner extra_tree\n",
      "[flaml.automl: 07-31 11:52:03] {3343} INFO -  at 95.1s,\testimator extra_tree's best error=0.3416,\tbest estimator rf's best error=0.3368\n",
      "[flaml.automl: 07-31 11:52:03] {3166} INFO - iteration 584, current learner xgb_limitdepth\n",
      "[flaml.automl: 07-31 11:52:03] {3343} INFO -  at 95.2s,\testimator xgb_limitdepth's best error=0.3551,\tbest estimator rf's best error=0.3368\n",
      "[flaml.automl: 07-31 11:52:03] {3166} INFO - iteration 585, current learner xgboost\n",
      "[flaml.automl: 07-31 11:52:03] {3343} INFO -  at 95.2s,\testimator xgboost's best error=0.3627,\tbest estimator rf's best error=0.3368\n",
      "[flaml.automl: 07-31 11:52:03] {3166} INFO - iteration 586, current learner lrl1\n",
      "[flaml.automl: 07-31 11:52:03] {3343} INFO -  at 95.3s,\testimator lrl1's best error=0.4007,\tbest estimator rf's best error=0.3368\n",
      "[flaml.automl: 07-31 11:52:03] {3166} INFO - iteration 587, current learner rf\n",
      "[flaml.automl: 07-31 11:52:03] {3343} INFO -  at 95.6s,\testimator rf's best error=0.3368,\tbest estimator rf's best error=0.3368\n",
      "[flaml.automl: 07-31 11:52:03] {3166} INFO - iteration 588, current learner lrl1\n",
      "[flaml.automl: 07-31 11:52:03] {3343} INFO -  at 95.7s,\testimator lrl1's best error=0.4007,\tbest estimator rf's best error=0.3368\n",
      "[flaml.automl: 07-31 11:52:03] {3166} INFO - iteration 589, current learner xgboost\n",
      "[flaml.automl: 07-31 11:52:03] {3343} INFO -  at 95.7s,\testimator xgboost's best error=0.3627,\tbest estimator rf's best error=0.3368\n",
      "[flaml.automl: 07-31 11:52:03] {3166} INFO - iteration 590, current learner lrl1\n",
      "[flaml.automl: 07-31 11:52:03] {3343} INFO -  at 95.8s,\testimator lrl1's best error=0.4007,\tbest estimator rf's best error=0.3368\n",
      "[flaml.automl: 07-31 11:52:03] {3166} INFO - iteration 591, current learner extra_tree\n",
      "[flaml.automl: 07-31 11:52:04] {3343} INFO -  at 96.1s,\testimator extra_tree's best error=0.3416,\tbest estimator rf's best error=0.3368\n",
      "[flaml.automl: 07-31 11:52:04] {3166} INFO - iteration 592, current learner lrl1\n",
      "[flaml.automl: 07-31 11:52:04] {3343} INFO -  at 96.2s,\testimator lrl1's best error=0.4007,\tbest estimator rf's best error=0.3368\n",
      "[flaml.automl: 07-31 11:52:04] {3166} INFO - iteration 593, current learner xgboost\n",
      "[flaml.automl: 07-31 11:52:04] {3343} INFO -  at 96.3s,\testimator xgboost's best error=0.3627,\tbest estimator rf's best error=0.3368\n",
      "[flaml.automl: 07-31 11:52:04] {3166} INFO - iteration 594, current learner rf\n",
      "[flaml.automl: 07-31 11:52:04] {3343} INFO -  at 96.6s,\testimator rf's best error=0.3368,\tbest estimator rf's best error=0.3368\n",
      "[flaml.automl: 07-31 11:52:04] {3166} INFO - iteration 595, current learner lrl1\n",
      "[flaml.automl: 07-31 11:52:04] {3343} INFO -  at 96.7s,\testimator lrl1's best error=0.4007,\tbest estimator rf's best error=0.3368\n",
      "[flaml.automl: 07-31 11:52:04] {3166} INFO - iteration 596, current learner xgboost\n",
      "[flaml.automl: 07-31 11:52:04] {3343} INFO -  at 96.8s,\testimator xgboost's best error=0.3627,\tbest estimator rf's best error=0.3368\n",
      "[flaml.automl: 07-31 11:52:04] {3166} INFO - iteration 597, current learner lrl1\n",
      "[flaml.automl: 07-31 11:52:04] {3343} INFO -  at 96.9s,\testimator lrl1's best error=0.4007,\tbest estimator rf's best error=0.3368\n",
      "[flaml.automl: 07-31 11:52:04] {3166} INFO - iteration 598, current learner lrl1\n",
      "[flaml.automl: 07-31 11:52:04] {3343} INFO -  at 97.0s,\testimator lrl1's best error=0.4007,\tbest estimator rf's best error=0.3368\n",
      "[flaml.automl: 07-31 11:52:04] {3166} INFO - iteration 599, current learner rf\n",
      "[flaml.automl: 07-31 11:52:05] {3343} INFO -  at 97.2s,\testimator rf's best error=0.3368,\tbest estimator rf's best error=0.3368\n",
      "[flaml.automl: 07-31 11:52:05] {3166} INFO - iteration 600, current learner rf\n",
      "[flaml.automl: 07-31 11:52:05] {3343} INFO -  at 97.6s,\testimator rf's best error=0.3368,\tbest estimator rf's best error=0.3368\n",
      "[flaml.automl: 07-31 11:52:05] {3166} INFO - iteration 601, current learner rf\n",
      "[flaml.automl: 07-31 11:52:05] {3343} INFO -  at 97.8s,\testimator rf's best error=0.3368,\tbest estimator rf's best error=0.3368\n",
      "[flaml.automl: 07-31 11:52:05] {3166} INFO - iteration 602, current learner rf\n",
      "[flaml.automl: 07-31 11:52:05] {3343} INFO -  at 98.1s,\testimator rf's best error=0.3368,\tbest estimator rf's best error=0.3368\n",
      "[flaml.automl: 07-31 11:52:05] {3166} INFO - iteration 603, current learner xgboost\n",
      "[flaml.automl: 07-31 11:52:06] {3343} INFO -  at 98.2s,\testimator xgboost's best error=0.3627,\tbest estimator rf's best error=0.3368\n",
      "[flaml.automl: 07-31 11:52:06] {3166} INFO - iteration 604, current learner lgbm\n",
      "[flaml.automl: 07-31 11:52:06] {3343} INFO -  at 98.2s,\testimator lgbm's best error=0.3627,\tbest estimator rf's best error=0.3368\n",
      "[flaml.automl: 07-31 11:52:06] {3166} INFO - iteration 605, current learner rf\n",
      "[flaml.automl: 07-31 11:52:06] {3343} INFO -  at 98.5s,\testimator rf's best error=0.3368,\tbest estimator rf's best error=0.3368\n",
      "[flaml.automl: 07-31 11:52:06] {3166} INFO - iteration 606, current learner xgb_limitdepth\n",
      "[flaml.automl: 07-31 11:52:06] {3343} INFO -  at 98.6s,\testimator xgb_limitdepth's best error=0.3551,\tbest estimator rf's best error=0.3368\n",
      "[flaml.automl: 07-31 11:52:06] {3166} INFO - iteration 607, current learner lrl1\n",
      "[flaml.automl: 07-31 11:52:06] {3343} INFO -  at 98.7s,\testimator lrl1's best error=0.4007,\tbest estimator rf's best error=0.3368\n",
      "[flaml.automl: 07-31 11:52:06] {3166} INFO - iteration 608, current learner rf\n",
      "[flaml.automl: 07-31 11:52:06] {3343} INFO -  at 99.0s,\testimator rf's best error=0.3368,\tbest estimator rf's best error=0.3368\n",
      "[flaml.automl: 07-31 11:52:06] {3166} INFO - iteration 609, current learner xgboost\n",
      "[flaml.automl: 07-31 11:52:06] {3343} INFO -  at 99.0s,\testimator xgboost's best error=0.3627,\tbest estimator rf's best error=0.3368\n",
      "[flaml.automl: 07-31 11:52:06] {3166} INFO - iteration 610, current learner rf\n",
      "[flaml.automl: 07-31 11:52:07] {3343} INFO -  at 99.3s,\testimator rf's best error=0.3368,\tbest estimator rf's best error=0.3368\n",
      "[flaml.automl: 07-31 11:52:07] {3166} INFO - iteration 611, current learner lrl1\n"
     ]
    },
    {
     "name": "stderr",
     "output_type": "stream",
     "text": [
      "[flaml.automl: 07-31 11:52:07] {3343} INFO -  at 99.4s,\testimator lrl1's best error=0.4007,\tbest estimator rf's best error=0.3368\n",
      "[flaml.automl: 07-31 11:52:07] {3166} INFO - iteration 612, current learner lrl1\n",
      "[flaml.automl: 07-31 11:52:07] {3343} INFO -  at 99.5s,\testimator lrl1's best error=0.4007,\tbest estimator rf's best error=0.3368\n",
      "[flaml.automl: 07-31 11:52:07] {3166} INFO - iteration 613, current learner extra_tree\n",
      "[flaml.automl: 07-31 11:52:07] {3343} INFO -  at 99.7s,\testimator extra_tree's best error=0.3416,\tbest estimator rf's best error=0.3368\n",
      "[flaml.automl: 07-31 11:52:07] {3166} INFO - iteration 614, current learner extra_tree\n",
      "[flaml.automl: 07-31 11:52:07] {3343} INFO -  at 99.9s,\testimator extra_tree's best error=0.3416,\tbest estimator rf's best error=0.3368\n",
      "[flaml.automl: 07-31 11:52:07] {3166} INFO - iteration 615, current learner lrl1\n",
      "[flaml.automl: 07-31 11:52:07] {3343} INFO -  at 100.0s,\testimator lrl1's best error=0.4007,\tbest estimator rf's best error=0.3368\n",
      "[flaml.automl: 07-31 11:52:07] {3602} INFO - retrain rf for 0.1s\n",
      "[flaml.automl: 07-31 11:52:07] {3609} INFO - retrained model: RandomForestClassifier(max_features=0.3936011148835248, max_leaf_nodes=4,\n",
      "                       n_estimators=5, n_jobs=-1)\n",
      "[flaml.automl: 07-31 11:52:07] {2901} INFO - fit succeeded\n",
      "[flaml.automl: 07-31 11:52:07] {2902} INFO - Time taken to find the best model: 12.995606899261475\n"
     ]
    }
   ],
   "source": [
    "from flaml import AutoML\n",
    "automl = AutoML()\n",
    "#estimator_list = ['rf','lgbm','extra_tree']\n",
    "# Specify automl goal and constraint\n",
    "automl_settings = {\n",
    "    \"time_budget\": 100,  # total running time in seconds\n",
    "    \"task\": 'classification',  # task type\n",
    "    \"seed\": 24545678,  # random seed\n",
    "    \"metric\" : 'f1',\n",
    " #\"estimator_list\": estimator_list,  # specify the list of estimators\n",
    "}\n",
    "\n",
    "automl.fit(X_train=X_data, y_train=y_data, **automl_settings)"
   ]
  },
  {
   "cell_type": "code",
   "execution_count": 725,
   "id": "automated-threat",
   "metadata": {},
   "outputs": [
    {
     "name": "stdout",
     "output_type": "stream",
     "text": [
      "Accuracy     0.744444\n",
      "Precision    0.619512\n",
      "Recall       0.723647\n",
      "F1-score     0.667543\n"
     ]
    }
   ],
   "source": [
    "pred=automl.predict(X_data)\n",
    "evaluation2(y_test,pred)"
   ]
  },
  {
   "cell_type": "code",
   "execution_count": 726,
   "id": "sharing-effort",
   "metadata": {},
   "outputs": [
    {
     "name": "stdout",
     "output_type": "stream",
     "text": [
      "Accuracy: 0.7444\n"
     ]
    },
    {
     "data": {
      "image/png": "[encoded data removed]",
      "text/plain": [
       "<Figure size 432x360 with 2 Axes>"
      ]
     },
     "metadata": {
      "needs_background": "light"
     },
     "output_type": "display_data"
    }
   ],
   "source": [
    "pred=automl.predict(X_data)\n",
    "import matplotlib.pyplot as plt\n",
    "from sklearn.metrics import confusion_matrix\n",
    "from sklearn.metrics import accuracy_score\n",
    "\n",
    "# Assuming y_test and y_pred are already defined as your true labels and predictions\n",
    "accuracy = accuracy_score(y_test, pred)\n",
    "print(f'Accuracy: {accuracy:.4f}')\n",
    "cm = confusion_matrix(y_test, pred)\n",
    "\n",
    "# Normalize confusion matrix\n",
    "cmn = cm.astype('float') / cm.sum(axis=1)[:, np.newaxis]\n",
    "\n",
    "# Plot heatmap using matplotlib\n",
    "plt.figure(figsize=(6, 5))\n",
    "plt.imshow(cmn, interpolation='nearest', cmap='Blues')\n",
    "\n",
    "# Add text annotations\n",
    "for i in range(cmn.shape[0]):\n",
    "    for j in range(cmn.shape[1]):\n",
    "        plt.text(j, i, format(cmn[i, j], '.2f'), horizontalalignment=\"center\", color=\"black\")\n",
    "\n",
    "plt.colorbar()\n",
    "plt.title('Confusion Matrix: Ensemble')\n",
    "labels = ['Accepted', 'Rejected']\n",
    "plt.xticks(ticks=np.arange(len(labels)), labels=labels)\n",
    "plt.yticks(ticks=np.arange(len(labels)), labels=labels)\n",
    "\n",
    "# Add axis labels\n",
    "#plt.xlabel('Predicted labels')\n",
    "#plt.ylabel('True labels')\n",
    "plt.savefig(\"conf_ensemble2.pdf\", format=\"pdf\", bbox_inches=\"tight\",dpi=1000)\n",
    "plt.show()"
   ]
  },
  {
   "cell_type": "code",
   "execution_count": 727,
   "id": "deluxe-minnesota",
   "metadata": {},
   "outputs": [
    {
     "data": {
      "image/png": "[encoded data removed]",
      "text/plain": [
       "<Figure size 432x288 with 1 Axes>"
      ]
     },
     "metadata": {
      "needs_background": "light"
     },
     "output_type": "display_data"
    }
   ],
   "source": [
    "import matplotlib.pyplot as plt\n",
    "import numpy as np\n",
    "\n",
    "# Sample data\n",
    "categories = ['Labour', 'Model:Ensemble']\n",
    "subcategories = ['Total labour cost', 'Model cost: incorect acceptance (as % of total balour cost)', \n",
    "                 'Model cost:  incorrect rejection  (as % of total balour cost)','Model saving cost  (as % of total balour cost)']\n",
    "values = np.array([\n",
    "    [100, 0, 0,0],  # Category A\n",
    "    [0, np.round(((cm[0][1]*14)/(X_test.shape[0]*5))*100,2),np.round(((cm[1][0]*17)/(X_test.shape[0]*5))*100),\n",
    "     np.round(((X_test.shape[0]*5-(cm[0][1]*14+cm[1][0]*17))/(X_test.shape[0]*5))*100) ],  # Category B\n",
    "])\n",
    "\n",
    "# Custom colors\n",
    "colors = ['#5F9EA0', '#1E90FF', '#FF8C00','#808000']  # You can use any valid color codes\n",
    "\n",
    "# Create a figure and axis\n",
    "fig, ax = plt.subplots()\n",
    "\n",
    "# Create stacked bar plot\n",
    "bar_width = 0.5\n",
    "bar_positions = np.arange(len(categories))\n",
    "\n",
    "bottom_values = np.zeros(len(categories))\n",
    "for i, subcategory in enumerate(subcategories):\n",
    "    bars = ax.bar(bar_positions, values[:, i], bar_width, bottom=bottom_values, color=colors[i])\n",
    "    bottom_values += values[:, i]\n",
    "    \n",
    "    # Add values inside each bar\n",
    "    for bar in bars:\n",
    "        height = bar.get_height()\n",
    "        if height > 0: \n",
    "            ax.text(\n",
    "                bar.get_x() + bar.get_width() / 2,  # x position\n",
    "                bar.get_y() + height / 2,           # y position (centered in the bar)\n",
    "                f'{int(height)}',                   # text value\n",
    "                ha='center',                         # horizontal alignment\n",
    "                va='center',                         # vertical alignment\n",
    "                color='black'\n",
    "            )\n",
    "        else: pass\n",
    "\n",
    "# Add labels and title\n",
    "ax.set_xticks(bar_positions)\n",
    "ax.set_xticklabels(categories)\n",
    "ax.set_ylim(0, 151)  # Adjust as needed\n",
    "ax.set_ylabel('Cost (as % of labour cost)')\n",
    "#ax.set_title('Stacked Bar Plot with Custom Colors and Values')\n",
    "# Show plot\n",
    "plt.savefig(\"bar_ensemble2.pdf\", format=\"pdf\", bbox_inches=\"tight\",dpi=1000)\n",
    "plt.show()"
   ]
  },
  {
   "cell_type": "code",
   "execution_count": 728,
   "id": "placed-component",
   "metadata": {},
   "outputs": [
    {
     "data": {
      "text/plain": [
       "0.7383838383838384"
      ]
     },
     "execution_count": 728,
     "metadata": {},
     "output_type": "execute_result"
    }
   ],
   "source": [
    "evaluation1(y_test,pred1)[0]"
   ]
  },
  {
   "cell_type": "code",
   "execution_count": 729,
   "id": "informed-article",
   "metadata": {},
   "outputs": [
    {
     "data": {
      "application/vnd.plotly.v1+json": {
       "config": {
        "plotlyServerURL": "https://plot.ly"
       },
       "data": [
        {
         "colorbar": {
          "tickfont": {
           "size": 20
          }
         },
         "colorscale": [
          [
           0,
           "rgb(232, 245, 171)"
          ],
          [
           0.09090909090909091,
           "rgb(220, 219, 137)"
          ],
          [
           0.18181818181818182,
           "rgb(209, 193, 107)"
          ],
          [
           0.2727272727272727,
           "rgb(199, 168, 83)"
          ],
          [
           0.36363636363636365,
           "rgb(186, 143, 66)"
          ],
          [
           0.45454545454545453,
           "rgb(170, 121, 60)"
          ],
          [
           0.5454545454545454,
           "rgb(151, 103, 58)"
          ],
          [
           0.6363636363636364,
           "rgb(129, 87, 56)"
          ],
          [
           0.7272727272727273,
           "rgb(104, 72, 53)"
          ],
          [
           0.8181818181818182,
           "rgb(80, 59, 46)"
          ],
          [
           0.9090909090909091,
           "rgb(57, 45, 37)"
          ],
          [
           1,
           "rgb(34, 30, 27)"
          ]
         ],
         "hoverongaps": true,
         "opacity": 0.6,
         "type": "heatmap",
         "x": [
          "<b>RF</b>",
          "<b>XGBoost</b>",
          "<b>LGBM</b>",
          "<b>Ensemble</b>"
         ],
         "y": [
          "<b>Accuracy</b>",
          "<b>Precision</b>",
          "<b>Recall</b>",
          "<b>F1-score</b>"
         ],
         "z": [
          [
           0.738,
           0.727,
           0.755,
           0.744
          ],
          [
           0.645,
           0.632,
           0.675,
           0.62
          ],
          [
           0.584,
           0.553,
           0.593,
           0.724
          ],
          [
           0.613,
           0.59,
           0.631,
           0.668
          ]
         ]
        }
       ],
       "layout": {
        "annotations": [
         {
          "font": {
           "color": "black",
           "size": 22
          },
          "showarrow": false,
          "text": "0.738",
          "x": 0,
          "y": 0
         },
         {
          "font": {
           "color": "black",
           "size": 22
          },
          "showarrow": false,
          "text": "0.727",
          "x": 1,
          "y": 0
         },
         {
          "font": {
           "color": "black",
           "size": 22
          },
          "showarrow": false,
          "text": "0.755",
          "x": 2,
          "y": 0
         },
         {
          "font": {
           "color": "black",
           "size": 22
          },
          "showarrow": false,
          "text": "0.744",
          "x": 3,
          "y": 0
         },
         {
          "font": {
           "color": "black",
           "size": 22
          },
          "showarrow": false,
          "text": "0.645",
          "x": 0,
          "y": 1
         },
         {
          "font": {
           "color": "black",
           "size": 22
          },
          "showarrow": false,
          "text": "0.632",
          "x": 1,
          "y": 1
         },
         {
          "font": {
           "color": "black",
           "size": 22
          },
          "showarrow": false,
          "text": "0.675",
          "x": 2,
          "y": 1
         },
         {
          "font": {
           "color": "black",
           "size": 22
          },
          "showarrow": false,
          "text": "0.62",
          "x": 3,
          "y": 1
         },
         {
          "font": {
           "color": "black",
           "size": 22
          },
          "showarrow": false,
          "text": "0.584",
          "x": 0,
          "y": 2
         },
         {
          "font": {
           "color": "black",
           "size": 22
          },
          "showarrow": false,
          "text": "0.553",
          "x": 1,
          "y": 2
         },
         {
          "font": {
           "color": "black",
           "size": 22
          },
          "showarrow": false,
          "text": "0.593",
          "x": 2,
          "y": 2
         },
         {
          "font": {
           "color": "black",
           "size": 22
          },
          "showarrow": false,
          "text": "0.724",
          "x": 3,
          "y": 2
         },
         {
          "font": {
           "color": "black",
           "size": 22
          },
          "showarrow": false,
          "text": "0.613",
          "x": 0,
          "y": 3
         },
         {
          "font": {
           "color": "black",
           "size": 22
          },
          "showarrow": false,
          "text": "0.59",
          "x": 1,
          "y": 3
         },
         {
          "font": {
           "color": "black",
           "size": 22
          },
          "showarrow": false,
          "text": "0.631",
          "x": 2,
          "y": 3
         },
         {
          "font": {
           "color": "black",
           "size": 22
          },
          "showarrow": false,
          "text": "0.668",
          "x": 3,
          "y": 3
         }
        ],
        "height": 400,
        "margin": {
         "b": 20,
         "l": 20,
         "r": 20,
         "t": 20
        },
        "plot_bgcolor": "rgba(0,0,0,0)",
        "template": {
         "data": {
          "bar": [
           {
            "error_x": {
             "color": "#2a3f5f"
            },
            "error_y": {
             "color": "#2a3f5f"
            },
            "marker": {
             "line": {
              "color": "#E5ECF6",
              "width": 0.5
             }
            },
            "type": "bar"
           }
          ],
          "barpolar": [
           {
            "marker": {
             "line": {
              "color": "#E5ECF6",
              "width": 0.5
             }
            },
            "type": "barpolar"
           }
          ],
          "carpet": [
           {
            "aaxis": {
             "endlinecolor": "#2a3f5f",
             "gridcolor": "white",
             "linecolor": "white",
             "minorgridcolor": "white",
             "startlinecolor": "#2a3f5f"
            },
            "baxis": {
             "endlinecolor": "#2a3f5f",
             "gridcolor": "white",
             "linecolor": "white",
             "minorgridcolor": "white",
             "startlinecolor": "#2a3f5f"
            },
            "type": "carpet"
           }
          ],
          "choropleth": [
           {
            "colorbar": {
             "outlinewidth": 0,
             "ticks": ""
            },
            "type": "choropleth"
           }
          ],
          "contour": [
           {
            "colorbar": {
             "outlinewidth": 0,
             "ticks": ""
            },
            "colorscale": [
             [
              0,
              "#0d0887"
             ],
             [
              0.1111111111111111,
              "#46039f"
             ],
             [
              0.2222222222222222,
              "#7201a8"
             ],
             [
              0.3333333333333333,
              "#9c179e"
             ],
             [
              0.4444444444444444,
              "#bd3786"
             ],
             [
              0.5555555555555556,
              "#d8576b"
             ],
             [
              0.6666666666666666,
              "#ed7953"
             ],
             [
              0.7777777777777778,
              "#fb9f3a"
             ],
             [
              0.8888888888888888,
              "#fdca26"
             ],
             [
              1,
              "#f0f921"
             ]
            ],
            "type": "contour"
           }
          ],
          "contourcarpet": [
           {
            "colorbar": {
             "outlinewidth": 0,
             "ticks": ""
            },
            "type": "contourcarpet"
           }
          ],
          "heatmap": [
           {
            "colorbar": {
             "outlinewidth": 0,
             "ticks": ""
            },
            "colorscale": [
             [
              0,
              "#0d0887"
             ],
             [
              0.1111111111111111,
              "#46039f"
             ],
             [
              0.2222222222222222,
              "#7201a8"
             ],
             [
              0.3333333333333333,
              "#9c179e"
             ],
             [
              0.4444444444444444,
              "#bd3786"
             ],
             [
              0.5555555555555556,
              "#d8576b"
             ],
             [
              0.6666666666666666,
              "#ed7953"
             ],
             [
              0.7777777777777778,
              "#fb9f3a"
             ],
             [
              0.8888888888888888,
              "#fdca26"
             ],
             [
              1,
              "#f0f921"
             ]
            ],
            "type": "heatmap"
           }
          ],
          "heatmapgl": [
           {
            "colorbar": {
             "outlinewidth": 0,
             "ticks": ""
            },
            "colorscale": [
             [
              0,
              "#0d0887"
             ],
             [
              0.1111111111111111,
              "#46039f"
             ],
             [
              0.2222222222222222,
              "#7201a8"
             ],
             [
              0.3333333333333333,
              "#9c179e"
             ],
             [
              0.4444444444444444,
              "#bd3786"
             ],
             [
              0.5555555555555556,
              "#d8576b"
             ],
             [
              0.6666666666666666,
              "#ed7953"
             ],
             [
              0.7777777777777778,
              "#fb9f3a"
             ],
             [
              0.8888888888888888,
              "#fdca26"
             ],
             [
              1,
              "#f0f921"
             ]
            ],
            "type": "heatmapgl"
           }
          ],
          "histogram": [
           {
            "marker": {
             "colorbar": {
              "outlinewidth": 0,
              "ticks": ""
             }
            },
            "type": "histogram"
           }
          ],
          "histogram2d": [
           {
            "colorbar": {
             "outlinewidth": 0,
             "ticks": ""
            },
            "colorscale": [
             [
              0,
              "#0d0887"
             ],
             [
              0.1111111111111111,
              "#46039f"
             ],
             [
              0.2222222222222222,
              "#7201a8"
             ],
             [
              0.3333333333333333,
              "#9c179e"
             ],
             [
              0.4444444444444444,
              "#bd3786"
             ],
             [
              0.5555555555555556,
              "#d8576b"
             ],
             [
              0.6666666666666666,
              "#ed7953"
             ],
             [
              0.7777777777777778,
              "#fb9f3a"
             ],
             [
              0.8888888888888888,
              "#fdca26"
             ],
             [
              1,
              "#f0f921"
             ]
            ],
            "type": "histogram2d"
           }
          ],
          "histogram2dcontour": [
           {
            "colorbar": {
             "outlinewidth": 0,
             "ticks": ""
            },
            "colorscale": [
             [
              0,
              "#0d0887"
             ],
             [
              0.1111111111111111,
              "#46039f"
             ],
             [
              0.2222222222222222,
              "#7201a8"
             ],
             [
              0.3333333333333333,
              "#9c179e"
             ],
             [
              0.4444444444444444,
              "#bd3786"
             ],
             [
              0.5555555555555556,
              "#d8576b"
             ],
             [
              0.6666666666666666,
              "#ed7953"
             ],
             [
              0.7777777777777778,
              "#fb9f3a"
             ],
             [
              0.8888888888888888,
              "#fdca26"
             ],
             [
              1,
              "#f0f921"
             ]
            ],
            "type": "histogram2dcontour"
           }
          ],
          "mesh3d": [
           {
            "colorbar": {
             "outlinewidth": 0,
             "ticks": ""
            },
            "type": "mesh3d"
           }
          ],
          "parcoords": [
           {
            "line": {
             "colorbar": {
              "outlinewidth": 0,
              "ticks": ""
             }
            },
            "type": "parcoords"
           }
          ],
          "pie": [
           {
            "automargin": true,
            "type": "pie"
           }
          ],
          "scatter": [
           {
            "marker": {
             "colorbar": {
              "outlinewidth": 0,
              "ticks": ""
             }
            },
            "type": "scatter"
           }
          ],
          "scatter3d": [
           {
            "line": {
             "colorbar": {
              "outlinewidth": 0,
              "ticks": ""
             }
            },
            "marker": {
             "colorbar": {
              "outlinewidth": 0,
              "ticks": ""
             }
            },
            "type": "scatter3d"
           }
          ],
          "scattercarpet": [
           {
            "marker": {
             "colorbar": {
              "outlinewidth": 0,
              "ticks": ""
             }
            },
            "type": "scattercarpet"
           }
          ],
          "scattergeo": [
           {
            "marker": {
             "colorbar": {
              "outlinewidth": 0,
              "ticks": ""
             }
            },
            "type": "scattergeo"
           }
          ],
          "scattergl": [
           {
            "marker": {
             "colorbar": {
              "outlinewidth": 0,
              "ticks": ""
             }
            },
            "type": "scattergl"
           }
          ],
          "scattermapbox": [
           {
            "marker": {
             "colorbar": {
              "outlinewidth": 0,
              "ticks": ""
             }
            },
            "type": "scattermapbox"
           }
          ],
          "scatterpolar": [
           {
            "marker": {
             "colorbar": {
              "outlinewidth": 0,
              "ticks": ""
             }
            },
            "type": "scatterpolar"
           }
          ],
          "scatterpolargl": [
           {
            "marker": {
             "colorbar": {
              "outlinewidth": 0,
              "ticks": ""
             }
            },
            "type": "scatterpolargl"
           }
          ],
          "scatterternary": [
           {
            "marker": {
             "colorbar": {
              "outlinewidth": 0,
              "ticks": ""
             }
            },
            "type": "scatterternary"
           }
          ],
          "surface": [
           {
            "colorbar": {
             "outlinewidth": 0,
             "ticks": ""
            },
            "colorscale": [
             [
              0,
              "#0d0887"
             ],
             [
              0.1111111111111111,
              "#46039f"
             ],
             [
              0.2222222222222222,
              "#7201a8"
             ],
             [
              0.3333333333333333,
              "#9c179e"
             ],
             [
              0.4444444444444444,
              "#bd3786"
             ],
             [
              0.5555555555555556,
              "#d8576b"
             ],
             [
              0.6666666666666666,
              "#ed7953"
             ],
             [
              0.7777777777777778,
              "#fb9f3a"
             ],
             [
              0.8888888888888888,
              "#fdca26"
             ],
             [
              1,
              "#f0f921"
             ]
            ],
            "type": "surface"
           }
          ],
          "table": [
           {
            "cells": {
             "fill": {
              "color": "#EBF0F8"
             },
             "line": {
              "color": "white"
             }
            },
            "header": {
             "fill": {
              "color": "#C8D4E3"
             },
             "line": {
              "color": "white"
             }
            },
            "type": "table"
           }
          ]
         },
         "layout": {
          "annotationdefaults": {
           "arrowcolor": "#2a3f5f",
           "arrowhead": 0,
           "arrowwidth": 1
          },
          "coloraxis": {
           "colorbar": {
            "outlinewidth": 0,
            "ticks": ""
           }
          },
          "colorscale": {
           "diverging": [
            [
             0,
             "#8e0152"
            ],
            [
             0.1,
             "#c51b7d"
            ],
            [
             0.2,
             "#de77ae"
            ],
            [
             0.3,
             "#f1b6da"
            ],
            [
             0.4,
             "#fde0ef"
            ],
            [
             0.5,
             "#f7f7f7"
            ],
            [
             0.6,
             "#e6f5d0"
            ],
            [
             0.7,
             "#b8e186"
            ],
            [
             0.8,
             "#7fbc41"
            ],
            [
             0.9,
             "#4d9221"
            ],
            [
             1,
             "#276419"
            ]
           ],
           "sequential": [
            [
             0,
             "#0d0887"
            ],
            [
             0.1111111111111111,
             "#46039f"
            ],
            [
             0.2222222222222222,
             "#7201a8"
            ],
            [
             0.3333333333333333,
             "#9c179e"
            ],
            [
             0.4444444444444444,
             "#bd3786"
            ],
            [
             0.5555555555555556,
             "#d8576b"
            ],
            [
             0.6666666666666666,
             "#ed7953"
            ],
            [
             0.7777777777777778,
             "#fb9f3a"
            ],
            [
             0.8888888888888888,
             "#fdca26"
            ],
            [
             1,
             "#f0f921"
            ]
           ],
           "sequentialminus": [
            [
             0,
             "#0d0887"
            ],
            [
             0.1111111111111111,
             "#46039f"
            ],
            [
             0.2222222222222222,
             "#7201a8"
            ],
            [
             0.3333333333333333,
             "#9c179e"
            ],
            [
             0.4444444444444444,
             "#bd3786"
            ],
            [
             0.5555555555555556,
             "#d8576b"
            ],
            [
             0.6666666666666666,
             "#ed7953"
            ],
            [
             0.7777777777777778,
             "#fb9f3a"
            ],
            [
             0.8888888888888888,
             "#fdca26"
            ],
            [
             1,
             "#f0f921"
            ]
           ]
          },
          "colorway": [
           "#636efa",
           "#EF553B",
           "#00cc96",
           "#ab63fa",
           "#FFA15A",
           "#19d3f3",
           "#FF6692",
           "#B6E880",
           "#FF97FF",
           "#FECB52"
          ],
          "font": {
           "color": "#2a3f5f"
          },
          "geo": {
           "bgcolor": "white",
           "lakecolor": "white",
           "landcolor": "#E5ECF6",
           "showlakes": true,
           "showland": true,
           "subunitcolor": "white"
          },
          "hoverlabel": {
           "align": "left"
          },
          "hovermode": "closest",
          "mapbox": {
           "style": "light"
          },
          "paper_bgcolor": "white",
          "plot_bgcolor": "#E5ECF6",
          "polar": {
           "angularaxis": {
            "gridcolor": "white",
            "linecolor": "white",
            "ticks": ""
           },
           "bgcolor": "#E5ECF6",
           "radialaxis": {
            "gridcolor": "white",
            "linecolor": "white",
            "ticks": ""
           }
          },
          "scene": {
           "xaxis": {
            "backgroundcolor": "#E5ECF6",
            "gridcolor": "white",
            "gridwidth": 2,
            "linecolor": "white",
            "showbackground": true,
            "ticks": "",
            "zerolinecolor": "white"
           },
           "yaxis": {
            "backgroundcolor": "#E5ECF6",
            "gridcolor": "white",
            "gridwidth": 2,
            "linecolor": "white",
            "showbackground": true,
            "ticks": "",
            "zerolinecolor": "white"
           },
           "zaxis": {
            "backgroundcolor": "#E5ECF6",
            "gridcolor": "white",
            "gridwidth": 2,
            "linecolor": "white",
            "showbackground": true,
            "ticks": "",
            "zerolinecolor": "white"
           }
          },
          "shapedefaults": {
           "line": {
            "color": "#2a3f5f"
           }
          },
          "ternary": {
           "aaxis": {
            "gridcolor": "white",
            "linecolor": "white",
            "ticks": ""
           },
           "baxis": {
            "gridcolor": "white",
            "linecolor": "white",
            "ticks": ""
           },
           "bgcolor": "#E5ECF6",
           "caxis": {
            "gridcolor": "white",
            "linecolor": "white",
            "ticks": ""
           }
          },
          "title": {
           "x": 0.05
          },
          "xaxis": {
           "automargin": true,
           "gridcolor": "white",
           "linecolor": "white",
           "ticks": "",
           "title": {
            "standoff": 15
           },
           "zerolinecolor": "white",
           "zerolinewidth": 2
          },
          "yaxis": {
           "automargin": true,
           "gridcolor": "white",
           "linecolor": "white",
           "ticks": "",
           "title": {
            "standoff": 15
           },
           "zerolinecolor": "white",
           "zerolinewidth": 2
          }
         }
        },
        "title": {
         "text": "",
         "x": 0.5,
         "xanchor": "center",
         "y": 0.8,
         "yanchor": "top"
        },
        "width": 1400,
        "xaxis": {
         "linecolor": "black",
         "linewidth": 0.1,
         "mirror": true,
         "side": "top",
         "tickfont": {
          "size": 24
         }
        },
        "yaxis": {
         "linecolor": "black",
         "linewidth": 0.1,
         "mirror": true,
         "tickfont": {
          "size": 24
         }
        }
       }
      },
      "text/html": [
       "<div>                            <div id=\"8b88244b-a12f-41a7-a4e3-ab07f1c4e9a1\" class=\"plotly-graph-div\" style=\"height:400px; width:1400px;\"></div>            <script type=\"text/javascript\">                require([\"plotly\"], function(Plotly) {                    window.PLOTLYENV=window.PLOTLYENV || {};                                    if (document.getElementById(\"8b88244b-a12f-41a7-a4e3-ab07f1c4e9a1\")) {                    Plotly.newPlot(                        \"8b88244b-a12f-41a7-a4e3-ab07f1c4e9a1\",                        [{\"colorbar\": {\"tickfont\": {\"size\": 20}}, \"colorscale\": [[0.0, \"rgb(232, 245, 171)\"], [0.09090909090909091, \"rgb(220, 219, 137)\"], [0.18181818181818182, \"rgb(209, 193, 107)\"], [0.2727272727272727, \"rgb(199, 168, 83)\"], [0.36363636363636365, \"rgb(186, 143, 66)\"], [0.45454545454545453, \"rgb(170, 121, 60)\"], [0.5454545454545454, \"rgb(151, 103, 58)\"], [0.6363636363636364, \"rgb(129, 87, 56)\"], [0.7272727272727273, \"rgb(104, 72, 53)\"], [0.8181818181818182, \"rgb(80, 59, 46)\"], [0.9090909090909091, \"rgb(57, 45, 37)\"], [1.0, \"rgb(34, 30, 27)\"]], \"hoverongaps\": true, \"opacity\": 0.6, \"type\": \"heatmap\", \"x\": [\"<b>RF</b>\", \"<b>XGBoost</b>\", \"<b>LGBM</b>\", \"<b>Ensemble</b>\"], \"y\": [\"<b>Accuracy</b>\", \"<b>Precision</b>\", \"<b>Recall</b>\", \"<b>F1-score</b>\"], \"z\": [[0.738, 0.727, 0.755, 0.744], [0.645, 0.632, 0.675, 0.62], [0.584, 0.553, 0.593, 0.724], [0.613, 0.59, 0.631, 0.668]]}],                        {\"annotations\": [{\"font\": {\"color\": \"black\", \"size\": 22}, \"showarrow\": false, \"text\": \"0.738\", \"x\": 0, \"y\": 0}, {\"font\": {\"color\": \"black\", \"size\": 22}, \"showarrow\": false, \"text\": \"0.727\", \"x\": 1, \"y\": 0}, {\"font\": {\"color\": \"black\", \"size\": 22}, \"showarrow\": false, \"text\": \"0.755\", \"x\": 2, \"y\": 0}, {\"font\": {\"color\": \"black\", \"size\": 22}, \"showarrow\": false, \"text\": \"0.744\", \"x\": 3, \"y\": 0}, {\"font\": {\"color\": \"black\", \"size\": 22}, \"showarrow\": false, \"text\": \"0.645\", \"x\": 0, \"y\": 1}, {\"font\": {\"color\": \"black\", \"size\": 22}, \"showarrow\": false, \"text\": \"0.632\", \"x\": 1, \"y\": 1}, {\"font\": {\"color\": \"black\", \"size\": 22}, \"showarrow\": false, \"text\": \"0.675\", \"x\": 2, \"y\": 1}, {\"font\": {\"color\": \"black\", \"size\": 22}, \"showarrow\": false, \"text\": \"0.62\", \"x\": 3, \"y\": 1}, {\"font\": {\"color\": \"black\", \"size\": 22}, \"showarrow\": false, \"text\": \"0.584\", \"x\": 0, \"y\": 2}, {\"font\": {\"color\": \"black\", \"size\": 22}, \"showarrow\": false, \"text\": \"0.553\", \"x\": 1, \"y\": 2}, {\"font\": {\"color\": \"black\", \"size\": 22}, \"showarrow\": false, \"text\": \"0.593\", \"x\": 2, \"y\": 2}, {\"font\": {\"color\": \"black\", \"size\": 22}, \"showarrow\": false, \"text\": \"0.724\", \"x\": 3, \"y\": 2}, {\"font\": {\"color\": \"black\", \"size\": 22}, \"showarrow\": false, \"text\": \"0.613\", \"x\": 0, \"y\": 3}, {\"font\": {\"color\": \"black\", \"size\": 22}, \"showarrow\": false, \"text\": \"0.59\", \"x\": 1, \"y\": 3}, {\"font\": {\"color\": \"black\", \"size\": 22}, \"showarrow\": false, \"text\": \"0.631\", \"x\": 2, \"y\": 3}, {\"font\": {\"color\": \"black\", \"size\": 22}, \"showarrow\": false, \"text\": \"0.668\", \"x\": 3, \"y\": 3}], \"height\": 400, \"margin\": {\"b\": 20, \"l\": 20, \"r\": 20, \"t\": 20}, \"plot_bgcolor\": \"rgba(0,0,0,0)\", \"template\": {\"data\": {\"bar\": [{\"error_x\": {\"color\": \"#2a3f5f\"}, \"error_y\": {\"color\": \"#2a3f5f\"}, \"marker\": {\"line\": {\"color\": \"#E5ECF6\", \"width\": 0.5}}, \"type\": \"bar\"}], \"barpolar\": [{\"marker\": {\"line\": {\"color\": \"#E5ECF6\", \"width\": 0.5}}, \"type\": \"barpolar\"}], \"carpet\": [{\"aaxis\": {\"endlinecolor\": \"#2a3f5f\", \"gridcolor\": \"white\", \"linecolor\": \"white\", \"minorgridcolor\": \"white\", \"startlinecolor\": \"#2a3f5f\"}, \"baxis\": {\"endlinecolor\": \"#2a3f5f\", \"gridcolor\": \"white\", \"linecolor\": \"white\", \"minorgridcolor\": \"white\", \"startlinecolor\": \"#2a3f5f\"}, \"type\": \"carpet\"}], \"choropleth\": [{\"colorbar\": {\"outlinewidth\": 0, \"ticks\": \"\"}, \"type\": \"choropleth\"}], \"contour\": [{\"colorbar\": {\"outlinewidth\": 0, \"ticks\": \"\"}, \"colorscale\": [[0.0, \"#0d0887\"], [0.1111111111111111, \"#46039f\"], [0.2222222222222222, \"#7201a8\"], [0.3333333333333333, \"#9c179e\"], [0.4444444444444444, \"#bd3786\"], [0.5555555555555556, \"#d8576b\"], [0.6666666666666666, \"#ed7953\"], [0.7777777777777778, \"#fb9f3a\"], [0.8888888888888888, \"#fdca26\"], [1.0, \"#f0f921\"]], \"type\": \"contour\"}], \"contourcarpet\": [{\"colorbar\": {\"outlinewidth\": 0, \"ticks\": \"\"}, \"type\": \"contourcarpet\"}], \"heatmap\": [{\"colorbar\": {\"outlinewidth\": 0, \"ticks\": \"\"}, \"colorscale\": [[0.0, \"#0d0887\"], [0.1111111111111111, \"#46039f\"], [0.2222222222222222, \"#7201a8\"], [0.3333333333333333, \"#9c179e\"], [0.4444444444444444, \"#bd3786\"], [0.5555555555555556, \"#d8576b\"], [0.6666666666666666, \"#ed7953\"], [0.7777777777777778, \"#fb9f3a\"], [0.8888888888888888, \"#fdca26\"], [1.0, \"#f0f921\"]], \"type\": \"heatmap\"}], \"heatmapgl\": [{\"colorbar\": {\"outlinewidth\": 0, \"ticks\": \"\"}, \"colorscale\": [[0.0, \"#0d0887\"], [0.1111111111111111, \"#46039f\"], [0.2222222222222222, \"#7201a8\"], [0.3333333333333333, \"#9c179e\"], [0.4444444444444444, \"#bd3786\"], [0.5555555555555556, \"#d8576b\"], [0.6666666666666666, \"#ed7953\"], [0.7777777777777778, \"#fb9f3a\"], [0.8888888888888888, \"#fdca26\"], [1.0, \"#f0f921\"]], \"type\": \"heatmapgl\"}], \"histogram\": [{\"marker\": {\"colorbar\": {\"outlinewidth\": 0, \"ticks\": \"\"}}, \"type\": \"histogram\"}], \"histogram2d\": [{\"colorbar\": {\"outlinewidth\": 0, \"ticks\": \"\"}, \"colorscale\": [[0.0, \"#0d0887\"], [0.1111111111111111, \"#46039f\"], [0.2222222222222222, \"#7201a8\"], [0.3333333333333333, \"#9c179e\"], [0.4444444444444444, \"#bd3786\"], [0.5555555555555556, \"#d8576b\"], [0.6666666666666666, \"#ed7953\"], [0.7777777777777778, \"#fb9f3a\"], [0.8888888888888888, \"#fdca26\"], [1.0, \"#f0f921\"]], \"type\": \"histogram2d\"}], \"histogram2dcontour\": [{\"colorbar\": {\"outlinewidth\": 0, \"ticks\": \"\"}, \"colorscale\": [[0.0, \"#0d0887\"], [0.1111111111111111, \"#46039f\"], [0.2222222222222222, \"#7201a8\"], [0.3333333333333333, \"#9c179e\"], [0.4444444444444444, \"#bd3786\"], [0.5555555555555556, \"#d8576b\"], [0.6666666666666666, \"#ed7953\"], [0.7777777777777778, \"#fb9f3a\"], [0.8888888888888888, \"#fdca26\"], [1.0, \"#f0f921\"]], \"type\": \"histogram2dcontour\"}], \"mesh3d\": [{\"colorbar\": {\"outlinewidth\": 0, \"ticks\": \"\"}, \"type\": \"mesh3d\"}], \"parcoords\": [{\"line\": {\"colorbar\": {\"outlinewidth\": 0, \"ticks\": \"\"}}, \"type\": \"parcoords\"}], \"pie\": [{\"automargin\": true, \"type\": \"pie\"}], \"scatter\": [{\"marker\": {\"colorbar\": {\"outlinewidth\": 0, \"ticks\": \"\"}}, \"type\": \"scatter\"}], \"scatter3d\": [{\"line\": {\"colorbar\": {\"outlinewidth\": 0, \"ticks\": \"\"}}, \"marker\": {\"colorbar\": {\"outlinewidth\": 0, \"ticks\": \"\"}}, \"type\": \"scatter3d\"}], \"scattercarpet\": [{\"marker\": {\"colorbar\": {\"outlinewidth\": 0, \"ticks\": \"\"}}, \"type\": \"scattercarpet\"}], \"scattergeo\": [{\"marker\": {\"colorbar\": {\"outlinewidth\": 0, \"ticks\": \"\"}}, \"type\": \"scattergeo\"}], \"scattergl\": [{\"marker\": {\"colorbar\": {\"outlinewidth\": 0, \"ticks\": \"\"}}, \"type\": \"scattergl\"}], \"scattermapbox\": [{\"marker\": {\"colorbar\": {\"outlinewidth\": 0, \"ticks\": \"\"}}, \"type\": \"scattermapbox\"}], \"scatterpolar\": [{\"marker\": {\"colorbar\": {\"outlinewidth\": 0, \"ticks\": \"\"}}, \"type\": \"scatterpolar\"}], \"scatterpolargl\": [{\"marker\": {\"colorbar\": {\"outlinewidth\": 0, \"ticks\": \"\"}}, \"type\": \"scatterpolargl\"}], \"scatterternary\": [{\"marker\": {\"colorbar\": {\"outlinewidth\": 0, \"ticks\": \"\"}}, \"type\": \"scatterternary\"}], \"surface\": [{\"colorbar\": {\"outlinewidth\": 0, \"ticks\": \"\"}, \"colorscale\": [[0.0, \"#0d0887\"], [0.1111111111111111, \"#46039f\"], [0.2222222222222222, \"#7201a8\"], [0.3333333333333333, \"#9c179e\"], [0.4444444444444444, \"#bd3786\"], [0.5555555555555556, \"#d8576b\"], [0.6666666666666666, \"#ed7953\"], [0.7777777777777778, \"#fb9f3a\"], [0.8888888888888888, \"#fdca26\"], [1.0, \"#f0f921\"]], \"type\": \"surface\"}], \"table\": [{\"cells\": {\"fill\": {\"color\": \"#EBF0F8\"}, \"line\": {\"color\": \"white\"}}, \"header\": {\"fill\": {\"color\": \"#C8D4E3\"}, \"line\": {\"color\": \"white\"}}, \"type\": \"table\"}]}, \"layout\": {\"annotationdefaults\": {\"arrowcolor\": \"#2a3f5f\", \"arrowhead\": 0, \"arrowwidth\": 1}, \"coloraxis\": {\"colorbar\": {\"outlinewidth\": 0, \"ticks\": \"\"}}, \"colorscale\": {\"diverging\": [[0, \"#8e0152\"], [0.1, \"#c51b7d\"], [0.2, \"#de77ae\"], [0.3, \"#f1b6da\"], [0.4, \"#fde0ef\"], [0.5, \"#f7f7f7\"], [0.6, \"#e6f5d0\"], [0.7, \"#b8e186\"], [0.8, \"#7fbc41\"], [0.9, \"#4d9221\"], [1, \"#276419\"]], \"sequential\": [[0.0, \"#0d0887\"], [0.1111111111111111, \"#46039f\"], [0.2222222222222222, \"#7201a8\"], [0.3333333333333333, \"#9c179e\"], [0.4444444444444444, \"#bd3786\"], [0.5555555555555556, \"#d8576b\"], [0.6666666666666666, \"#ed7953\"], [0.7777777777777778, \"#fb9f3a\"], [0.8888888888888888, \"#fdca26\"], [1.0, \"#f0f921\"]], \"sequentialminus\": [[0.0, \"#0d0887\"], [0.1111111111111111, \"#46039f\"], [0.2222222222222222, \"#7201a8\"], [0.3333333333333333, \"#9c179e\"], [0.4444444444444444, \"#bd3786\"], [0.5555555555555556, \"#d8576b\"], [0.6666666666666666, \"#ed7953\"], [0.7777777777777778, \"#fb9f3a\"], [0.8888888888888888, \"#fdca26\"], [1.0, \"#f0f921\"]]}, \"colorway\": [\"#636efa\", \"#EF553B\", \"#00cc96\", \"#ab63fa\", \"#FFA15A\", \"#19d3f3\", \"#FF6692\", \"#B6E880\", \"#FF97FF\", \"#FECB52\"], \"font\": {\"color\": \"#2a3f5f\"}, \"geo\": {\"bgcolor\": \"white\", \"lakecolor\": \"white\", \"landcolor\": \"#E5ECF6\", \"showlakes\": true, \"showland\": true, \"subunitcolor\": \"white\"}, \"hoverlabel\": {\"align\": \"left\"}, \"hovermode\": \"closest\", \"mapbox\": {\"style\": \"light\"}, \"paper_bgcolor\": \"white\", \"plot_bgcolor\": \"#E5ECF6\", \"polar\": {\"angularaxis\": {\"gridcolor\": \"white\", \"linecolor\": \"white\", \"ticks\": \"\"}, \"bgcolor\": \"#E5ECF6\", \"radialaxis\": {\"gridcolor\": \"white\", \"linecolor\": \"white\", \"ticks\": \"\"}}, \"scene\": {\"xaxis\": {\"backgroundcolor\": \"#E5ECF6\", \"gridcolor\": \"white\", \"gridwidth\": 2, \"linecolor\": \"white\", \"showbackground\": true, \"ticks\": \"\", \"zerolinecolor\": \"white\"}, \"yaxis\": {\"backgroundcolor\": \"#E5ECF6\", \"gridcolor\": \"white\", \"gridwidth\": 2, \"linecolor\": \"white\", \"showbackground\": true, \"ticks\": \"\", \"zerolinecolor\": \"white\"}, \"zaxis\": {\"backgroundcolor\": \"#E5ECF6\", \"gridcolor\": \"white\", \"gridwidth\": 2, \"linecolor\": \"white\", \"showbackground\": true, \"ticks\": \"\", \"zerolinecolor\": \"white\"}}, \"shapedefaults\": {\"line\": {\"color\": \"#2a3f5f\"}}, \"ternary\": {\"aaxis\": {\"gridcolor\": \"white\", \"linecolor\": \"white\", \"ticks\": \"\"}, \"baxis\": {\"gridcolor\": \"white\", \"linecolor\": \"white\", \"ticks\": \"\"}, \"bgcolor\": \"#E5ECF6\", \"caxis\": {\"gridcolor\": \"white\", \"linecolor\": \"white\", \"ticks\": \"\"}}, \"title\": {\"x\": 0.05}, \"xaxis\": {\"automargin\": true, \"gridcolor\": \"white\", \"linecolor\": \"white\", \"ticks\": \"\", \"title\": {\"standoff\": 15}, \"zerolinecolor\": \"white\", \"zerolinewidth\": 2}, \"yaxis\": {\"automargin\": true, \"gridcolor\": \"white\", \"linecolor\": \"white\", \"ticks\": \"\", \"title\": {\"standoff\": 15}, \"zerolinecolor\": \"white\", \"zerolinewidth\": 2}}}, \"title\": {\"text\": \"\", \"x\": 0.5, \"xanchor\": \"center\", \"y\": 0.8, \"yanchor\": \"top\"}, \"width\": 1400, \"xaxis\": {\"linecolor\": \"black\", \"linewidth\": 0.1, \"mirror\": true, \"side\": \"top\", \"tickfont\": {\"size\": 24}}, \"yaxis\": {\"linecolor\": \"black\", \"linewidth\": 0.1, \"mirror\": true, \"tickfont\": {\"size\": 24}}},                        {\"responsive\": true}                    ).then(function(){\n",
       "                            \n",
       "var gd = document.getElementById('8b88244b-a12f-41a7-a4e3-ab07f1c4e9a1');\n",
       "var x = new MutationObserver(function (mutations, observer) {{\n",
       "        var display = window.getComputedStyle(gd).display;\n",
       "        if (!display || display === 'none') {{\n",
       "            console.log([gd, 'removed!']);\n",
       "            Plotly.purge(gd);\n",
       "            observer.disconnect();\n",
       "        }}\n",
       "}});\n",
       "\n",
       "// Listen for the removal of the full notebook cells\n",
       "var notebookContainer = gd.closest('#notebook-container');\n",
       "if (notebookContainer) {{\n",
       "    x.observe(notebookContainer, {childList: true});\n",
       "}}\n",
       "\n",
       "// Listen for the clearing of the current output cell\n",
       "var outputEl = gd.closest('.output');\n",
       "if (outputEl) {{\n",
       "    x.observe(outputEl, {childList: true});\n",
       "}}\n",
       "\n",
       "                        })                };                });            </script>        </div>"
      ]
     },
     "metadata": {},
     "output_type": "display_data"
    },
    {
     "data": {
      "image/png": "[encoded data removed]",
      "text/plain": [
       "<IPython.core.display.Image object>"
      ]
     },
     "execution_count": 729,
     "metadata": {},
     "output_type": "execute_result"
    }
   ],
   "source": [
    "import numpy as np\n",
    "import plotly.graph_objects as go\n",
    "from functools import reduce\n",
    "from itertools import product\n",
    "from IPython.display import Image\n",
    "SUB = str.maketrans(\"0123456789\", \"₀₁₂₃₄₅₆₇₈₉\")\n",
    "SUP = str.maketrans(\"0123456789\", \"⁰¹²³⁴⁵⁶⁷⁸⁹\")\n",
    "z=[[np.round(evaluation1(y_test,pred1)[0],3),np.round(evaluation1(y_test,pred2)[0],3),\n",
    "    np.round(evaluation1(y_test,pred4)[0],3),np.round(evaluation1(y_test,pred)[0],3)],\n",
    "   \n",
    "   [np.round(evaluation1(y_test,pred1)[1],3),np.round(evaluation1(y_test,pred2)[1],3),\n",
    "    np.round(evaluation1(y_test,pred4)[1],3),np.round(evaluation1(y_test,pred)[1],3)],\n",
    "   \n",
    "   [np.round(evaluation1(y_test,pred1)[2],3),np.round(evaluation1(y_test,pred2)[2],3),\n",
    "    np.round(evaluation1(y_test,pred4)[2],3),np.round(evaluation1(y_test,pred)[2],3)],\n",
    "   \n",
    "   [np.round(evaluation1(y_test,pred1)[3],3),np.round(evaluation1(y_test,pred2)[3],3),\n",
    "   np.round(evaluation1(y_test,pred4)[3],3), np.round(evaluation1(y_test,pred)[3],3)]]\n",
    "\n",
    "x=['<b>RF</b>', '<b>XGBoost</b>',  '<b>LGBM</b>', '<b>Ensemble</b>']\n",
    "y=['<b>Accuracy</b>','<b>Precision</b>','<b>Recall</b>','<b>F1-score</b>']\n",
    "\n",
    "def get_anno_text(z_value):\n",
    "    annotations=[]\n",
    "    a, b = len(z_value), len(z_value[0])\n",
    "    flat_z = reduce(lambda x,y: x+y, z_value) # z_value.flat if you deal with numpy\n",
    "    coords = product(range(a), range(b))\n",
    "    for pos, elem in zip(coords, flat_z):\n",
    "        annotations.append({'font': {'color': 'black'},\n",
    "                    'showarrow': False,\n",
    "                    'text': str(elem),\n",
    "                    'x': pos[1],\n",
    "                    'y': pos[0],\n",
    "                        'font.size':22   })\n",
    "    return annotations\n",
    "\n",
    "fig = go.Figure(data=go.Heatmap(\n",
    "                   z=z,\n",
    "                   x=x,\n",
    "                   y=y,\n",
    "                   hoverongaps = True, colorscale ='turbid',\n",
    "    opacity=0.6,colorbar=dict(tickfont=dict(size=20)) ))#matter#\n",
    "\n",
    "fig.update_layout(title={'text': \"\",\n",
    "        'y':0.8,\n",
    "        'x':0.5,\n",
    "        'xanchor': 'center',\n",
    "        'yanchor': 'top'},\n",
    "           plot_bgcolor='rgba(0,0,0,0)',       \n",
    "    annotations = get_anno_text(z),\n",
    "                 width=1400,\n",
    "height=400,xaxis={'side': 'top'},margin=dict(l=20, r=20, t=20, b=20))\n",
    "\n",
    "fig.update_xaxes(tickfont = dict(size=24),linewidth=0.1, linecolor='black',\n",
    "    \n",
    "                 mirror=True)\n",
    "fig.update_yaxes(tickfont = dict(size=24),linewidth=0.1, linecolor='black',\n",
    "        \n",
    "                 mirror=True)\n",
    "fig.write_image(\"table_12.png\",engine=\"kaleido\")\n",
    "#plt.savefig(\"table.pdf\", format=\"pdf\", bbox_inches=\"tight\")\n",
    "fig.show()\n",
    "Image('table_12.png')"
   ]
  },
  {
   "cell_type": "code",
   "execution_count": 730,
   "id": "binary-wagon",
   "metadata": {},
   "outputs": [
    {
     "data": {
      "application/vnd.plotly.v1+json": {
       "config": {
        "plotlyServerURL": "https://plot.ly"
       },
       "data": [
        {
         "colorbar": {
          "tickfont": {
           "size": 20
          }
         },
         "colorscale": [
          [
           0,
           "rgb(232, 245, 171)"
          ],
          [
           0.09090909090909091,
           "rgb(220, 219, 137)"
          ],
          [
           0.18181818181818182,
           "rgb(209, 193, 107)"
          ],
          [
           0.2727272727272727,
           "rgb(199, 168, 83)"
          ],
          [
           0.36363636363636365,
           "rgb(186, 143, 66)"
          ],
          [
           0.45454545454545453,
           "rgb(170, 121, 60)"
          ],
          [
           0.5454545454545454,
           "rgb(151, 103, 58)"
          ],
          [
           0.6363636363636364,
           "rgb(129, 87, 56)"
          ],
          [
           0.7272727272727273,
           "rgb(104, 72, 53)"
          ],
          [
           0.8181818181818182,
           "rgb(80, 59, 46)"
          ],
          [
           0.9090909090909091,
           "rgb(57, 45, 37)"
          ],
          [
           1,
           "rgb(34, 30, 27)"
          ]
         ],
         "hoverongaps": true,
         "opacity": 0.6,
         "type": "heatmap",
         "x": [
          "<b>RF</b>",
          "<b>XGBoost</b>",
          "<b>LGBM</b>"
         ],
         "y": [
          "<b>Accuracy</b>",
          "<b>Precision</b>",
          "<b>Recall</b>",
          "<b>F1-score</b>"
         ],
         "z": [
          [
           0.738,
           0.727,
           0.755
          ],
          [
           0.645,
           0.632,
           0.675
          ],
          [
           0.584,
           0.553,
           0.593
          ],
          [
           0.613,
           0.59,
           0.631
          ]
         ]
        }
       ],
       "layout": {
        "annotations": [
         {
          "font": {
           "color": "black",
           "size": 22
          },
          "showarrow": false,
          "text": "0.738",
          "x": 0,
          "y": 0
         },
         {
          "font": {
           "color": "black",
           "size": 22
          },
          "showarrow": false,
          "text": "0.727",
          "x": 1,
          "y": 0
         },
         {
          "font": {
           "color": "black",
           "size": 22
          },
          "showarrow": false,
          "text": "0.755",
          "x": 2,
          "y": 0
         },
         {
          "font": {
           "color": "black",
           "size": 22
          },
          "showarrow": false,
          "text": "0.645",
          "x": 0,
          "y": 1
         },
         {
          "font": {
           "color": "black",
           "size": 22
          },
          "showarrow": false,
          "text": "0.632",
          "x": 1,
          "y": 1
         },
         {
          "font": {
           "color": "black",
           "size": 22
          },
          "showarrow": false,
          "text": "0.675",
          "x": 2,
          "y": 1
         },
         {
          "font": {
           "color": "black",
           "size": 22
          },
          "showarrow": false,
          "text": "0.584",
          "x": 0,
          "y": 2
         },
         {
          "font": {
           "color": "black",
           "size": 22
          },
          "showarrow": false,
          "text": "0.553",
          "x": 1,
          "y": 2
         },
         {
          "font": {
           "color": "black",
           "size": 22
          },
          "showarrow": false,
          "text": "0.593",
          "x": 2,
          "y": 2
         },
         {
          "font": {
           "color": "black",
           "size": 22
          },
          "showarrow": false,
          "text": "0.613",
          "x": 0,
          "y": 3
         },
         {
          "font": {
           "color": "black",
           "size": 22
          },
          "showarrow": false,
          "text": "0.59",
          "x": 1,
          "y": 3
         },
         {
          "font": {
           "color": "black",
           "size": 22
          },
          "showarrow": false,
          "text": "0.631",
          "x": 2,
          "y": 3
         }
        ],
        "height": 400,
        "margin": {
         "b": 20,
         "l": 20,
         "r": 20,
         "t": 20
        },
        "plot_bgcolor": "rgba(0,0,0,0)",
        "template": {
         "data": {
          "bar": [
           {
            "error_x": {
             "color": "#2a3f5f"
            },
            "error_y": {
             "color": "#2a3f5f"
            },
            "marker": {
             "line": {
              "color": "#E5ECF6",
              "width": 0.5
             }
            },
            "type": "bar"
           }
          ],
          "barpolar": [
           {
            "marker": {
             "line": {
              "color": "#E5ECF6",
              "width": 0.5
             }
            },
            "type": "barpolar"
           }
          ],
          "carpet": [
           {
            "aaxis": {
             "endlinecolor": "#2a3f5f",
             "gridcolor": "white",
             "linecolor": "white",
             "minorgridcolor": "white",
             "startlinecolor": "#2a3f5f"
            },
            "baxis": {
             "endlinecolor": "#2a3f5f",
             "gridcolor": "white",
             "linecolor": "white",
             "minorgridcolor": "white",
             "startlinecolor": "#2a3f5f"
            },
            "type": "carpet"
           }
          ],
          "choropleth": [
           {
            "colorbar": {
             "outlinewidth": 0,
             "ticks": ""
            },
            "type": "choropleth"
           }
          ],
          "contour": [
           {
            "colorbar": {
             "outlinewidth": 0,
             "ticks": ""
            },
            "colorscale": [
             [
              0,
              "#0d0887"
             ],
             [
              0.1111111111111111,
              "#46039f"
             ],
             [
              0.2222222222222222,
              "#7201a8"
             ],
             [
              0.3333333333333333,
              "#9c179e"
             ],
             [
              0.4444444444444444,
              "#bd3786"
             ],
             [
              0.5555555555555556,
              "#d8576b"
             ],
             [
              0.6666666666666666,
              "#ed7953"
             ],
             [
              0.7777777777777778,
              "#fb9f3a"
             ],
             [
              0.8888888888888888,
              "#fdca26"
             ],
             [
              1,
              "#f0f921"
             ]
            ],
            "type": "contour"
           }
          ],
          "contourcarpet": [
           {
            "colorbar": {
             "outlinewidth": 0,
             "ticks": ""
            },
            "type": "contourcarpet"
           }
          ],
          "heatmap": [
           {
            "colorbar": {
             "outlinewidth": 0,
             "ticks": ""
            },
            "colorscale": [
             [
              0,
              "#0d0887"
             ],
             [
              0.1111111111111111,
              "#46039f"
             ],
             [
              0.2222222222222222,
              "#7201a8"
             ],
             [
              0.3333333333333333,
              "#9c179e"
             ],
             [
              0.4444444444444444,
              "#bd3786"
             ],
             [
              0.5555555555555556,
              "#d8576b"
             ],
             [
              0.6666666666666666,
              "#ed7953"
             ],
             [
              0.7777777777777778,
              "#fb9f3a"
             ],
             [
              0.8888888888888888,
              "#fdca26"
             ],
             [
              1,
              "#f0f921"
             ]
            ],
            "type": "heatmap"
           }
          ],
          "heatmapgl": [
           {
            "colorbar": {
             "outlinewidth": 0,
             "ticks": ""
            },
            "colorscale": [
             [
              0,
              "#0d0887"
             ],
             [
              0.1111111111111111,
              "#46039f"
             ],
             [
              0.2222222222222222,
              "#7201a8"
             ],
             [
              0.3333333333333333,
              "#9c179e"
             ],
             [
              0.4444444444444444,
              "#bd3786"
             ],
             [
              0.5555555555555556,
              "#d8576b"
             ],
             [
              0.6666666666666666,
              "#ed7953"
             ],
             [
              0.7777777777777778,
              "#fb9f3a"
             ],
             [
              0.8888888888888888,
              "#fdca26"
             ],
             [
              1,
              "#f0f921"
             ]
            ],
            "type": "heatmapgl"
           }
          ],
          "histogram": [
           {
            "marker": {
             "colorbar": {
              "outlinewidth": 0,
              "ticks": ""
             }
            },
            "type": "histogram"
           }
          ],
          "histogram2d": [
           {
            "colorbar": {
             "outlinewidth": 0,
             "ticks": ""
            },
            "colorscale": [
             [
              0,
              "#0d0887"
             ],
             [
              0.1111111111111111,
              "#46039f"
             ],
             [
              0.2222222222222222,
              "#7201a8"
             ],
             [
              0.3333333333333333,
              "#9c179e"
             ],
             [
              0.4444444444444444,
              "#bd3786"
             ],
             [
              0.5555555555555556,
              "#d8576b"
             ],
             [
              0.6666666666666666,
              "#ed7953"
             ],
             [
              0.7777777777777778,
              "#fb9f3a"
             ],
             [
              0.8888888888888888,
              "#fdca26"
             ],
             [
              1,
              "#f0f921"
             ]
            ],
            "type": "histogram2d"
           }
          ],
          "histogram2dcontour": [
           {
            "colorbar": {
             "outlinewidth": 0,
             "ticks": ""
            },
            "colorscale": [
             [
              0,
              "#0d0887"
             ],
             [
              0.1111111111111111,
              "#46039f"
             ],
             [
              0.2222222222222222,
              "#7201a8"
             ],
             [
              0.3333333333333333,
              "#9c179e"
             ],
             [
              0.4444444444444444,
              "#bd3786"
             ],
             [
              0.5555555555555556,
              "#d8576b"
             ],
             [
              0.6666666666666666,
              "#ed7953"
             ],
             [
              0.7777777777777778,
              "#fb9f3a"
             ],
             [
              0.8888888888888888,
              "#fdca26"
             ],
             [
              1,
              "#f0f921"
             ]
            ],
            "type": "histogram2dcontour"
           }
          ],
          "mesh3d": [
           {
            "colorbar": {
             "outlinewidth": 0,
             "ticks": ""
            },
            "type": "mesh3d"
           }
          ],
          "parcoords": [
           {
            "line": {
             "colorbar": {
              "outlinewidth": 0,
              "ticks": ""
             }
            },
            "type": "parcoords"
           }
          ],
          "pie": [
           {
            "automargin": true,
            "type": "pie"
           }
          ],
          "scatter": [
           {
            "marker": {
             "colorbar": {
              "outlinewidth": 0,
              "ticks": ""
             }
            },
            "type": "scatter"
           }
          ],
          "scatter3d": [
           {
            "line": {
             "colorbar": {
              "outlinewidth": 0,
              "ticks": ""
             }
            },
            "marker": {
             "colorbar": {
              "outlinewidth": 0,
              "ticks": ""
             }
            },
            "type": "scatter3d"
           }
          ],
          "scattercarpet": [
           {
            "marker": {
             "colorbar": {
              "outlinewidth": 0,
              "ticks": ""
             }
            },
            "type": "scattercarpet"
           }
          ],
          "scattergeo": [
           {
            "marker": {
             "colorbar": {
              "outlinewidth": 0,
              "ticks": ""
             }
            },
            "type": "scattergeo"
           }
          ],
          "scattergl": [
           {
            "marker": {
             "colorbar": {
              "outlinewidth": 0,
              "ticks": ""
             }
            },
            "type": "scattergl"
           }
          ],
          "scattermapbox": [
           {
            "marker": {
             "colorbar": {
              "outlinewidth": 0,
              "ticks": ""
             }
            },
            "type": "scattermapbox"
           }
          ],
          "scatterpolar": [
           {
            "marker": {
             "colorbar": {
              "outlinewidth": 0,
              "ticks": ""
             }
            },
            "type": "scatterpolar"
           }
          ],
          "scatterpolargl": [
           {
            "marker": {
             "colorbar": {
              "outlinewidth": 0,
              "ticks": ""
             }
            },
            "type": "scatterpolargl"
           }
          ],
          "scatterternary": [
           {
            "marker": {
             "colorbar": {
              "outlinewidth": 0,
              "ticks": ""
             }
            },
            "type": "scatterternary"
           }
          ],
          "surface": [
           {
            "colorbar": {
             "outlinewidth": 0,
             "ticks": ""
            },
            "colorscale": [
             [
              0,
              "#0d0887"
             ],
             [
              0.1111111111111111,
              "#46039f"
             ],
             [
              0.2222222222222222,
              "#7201a8"
             ],
             [
              0.3333333333333333,
              "#9c179e"
             ],
             [
              0.4444444444444444,
              "#bd3786"
             ],
             [
              0.5555555555555556,
              "#d8576b"
             ],
             [
              0.6666666666666666,
              "#ed7953"
             ],
             [
              0.7777777777777778,
              "#fb9f3a"
             ],
             [
              0.8888888888888888,
              "#fdca26"
             ],
             [
              1,
              "#f0f921"
             ]
            ],
            "type": "surface"
           }
          ],
          "table": [
           {
            "cells": {
             "fill": {
              "color": "#EBF0F8"
             },
             "line": {
              "color": "white"
             }
            },
            "header": {
             "fill": {
              "color": "#C8D4E3"
             },
             "line": {
              "color": "white"
             }
            },
            "type": "table"
           }
          ]
         },
         "layout": {
          "annotationdefaults": {
           "arrowcolor": "#2a3f5f",
           "arrowhead": 0,
           "arrowwidth": 1
          },
          "coloraxis": {
           "colorbar": {
            "outlinewidth": 0,
            "ticks": ""
           }
          },
          "colorscale": {
           "diverging": [
            [
             0,
             "#8e0152"
            ],
            [
             0.1,
             "#c51b7d"
            ],
            [
             0.2,
             "#de77ae"
            ],
            [
             0.3,
             "#f1b6da"
            ],
            [
             0.4,
             "#fde0ef"
            ],
            [
             0.5,
             "#f7f7f7"
            ],
            [
             0.6,
             "#e6f5d0"
            ],
            [
             0.7,
             "#b8e186"
            ],
            [
             0.8,
             "#7fbc41"
            ],
            [
             0.9,
             "#4d9221"
            ],
            [
             1,
             "#276419"
            ]
           ],
           "sequential": [
            [
             0,
             "#0d0887"
            ],
            [
             0.1111111111111111,
             "#46039f"
            ],
            [
             0.2222222222222222,
             "#7201a8"
            ],
            [
             0.3333333333333333,
             "#9c179e"
            ],
            [
             0.4444444444444444,
             "#bd3786"
            ],
            [
             0.5555555555555556,
             "#d8576b"
            ],
            [
             0.6666666666666666,
             "#ed7953"
            ],
            [
             0.7777777777777778,
             "#fb9f3a"
            ],
            [
             0.8888888888888888,
             "#fdca26"
            ],
            [
             1,
             "#f0f921"
            ]
           ],
           "sequentialminus": [
            [
             0,
             "#0d0887"
            ],
            [
             0.1111111111111111,
             "#46039f"
            ],
            [
             0.2222222222222222,
             "#7201a8"
            ],
            [
             0.3333333333333333,
             "#9c179e"
            ],
            [
             0.4444444444444444,
             "#bd3786"
            ],
            [
             0.5555555555555556,
             "#d8576b"
            ],
            [
             0.6666666666666666,
             "#ed7953"
            ],
            [
             0.7777777777777778,
             "#fb9f3a"
            ],
            [
             0.8888888888888888,
             "#fdca26"
            ],
            [
             1,
             "#f0f921"
            ]
           ]
          },
          "colorway": [
           "#636efa",
           "#EF553B",
           "#00cc96",
           "#ab63fa",
           "#FFA15A",
           "#19d3f3",
           "#FF6692",
           "#B6E880",
           "#FF97FF",
           "#FECB52"
          ],
          "font": {
           "color": "#2a3f5f"
          },
          "geo": {
           "bgcolor": "white",
           "lakecolor": "white",
           "landcolor": "#E5ECF6",
           "showlakes": true,
           "showland": true,
           "subunitcolor": "white"
          },
          "hoverlabel": {
           "align": "left"
          },
          "hovermode": "closest",
          "mapbox": {
           "style": "light"
          },
          "paper_bgcolor": "white",
          "plot_bgcolor": "#E5ECF6",
          "polar": {
           "angularaxis": {
            "gridcolor": "white",
            "linecolor": "white",
            "ticks": ""
           },
           "bgcolor": "#E5ECF6",
           "radialaxis": {
            "gridcolor": "white",
            "linecolor": "white",
            "ticks": ""
           }
          },
          "scene": {
           "xaxis": {
            "backgroundcolor": "#E5ECF6",
            "gridcolor": "white",
            "gridwidth": 2,
            "linecolor": "white",
            "showbackground": true,
            "ticks": "",
            "zerolinecolor": "white"
           },
           "yaxis": {
            "backgroundcolor": "#E5ECF6",
            "gridcolor": "white",
            "gridwidth": 2,
            "linecolor": "white",
            "showbackground": true,
            "ticks": "",
            "zerolinecolor": "white"
           },
           "zaxis": {
            "backgroundcolor": "#E5ECF6",
            "gridcolor": "white",
            "gridwidth": 2,
            "linecolor": "white",
            "showbackground": true,
            "ticks": "",
            "zerolinecolor": "white"
           }
          },
          "shapedefaults": {
           "line": {
            "color": "#2a3f5f"
           }
          },
          "ternary": {
           "aaxis": {
            "gridcolor": "white",
            "linecolor": "white",
            "ticks": ""
           },
           "baxis": {
            "gridcolor": "white",
            "linecolor": "white",
            "ticks": ""
           },
           "bgcolor": "#E5ECF6",
           "caxis": {
            "gridcolor": "white",
            "linecolor": "white",
            "ticks": ""
           }
          },
          "title": {
           "x": 0.05
          },
          "xaxis": {
           "automargin": true,
           "gridcolor": "white",
           "linecolor": "white",
           "ticks": "",
           "title": {
            "standoff": 15
           },
           "zerolinecolor": "white",
           "zerolinewidth": 2
          },
          "yaxis": {
           "automargin": true,
           "gridcolor": "white",
           "linecolor": "white",
           "ticks": "",
           "title": {
            "standoff": 15
           },
           "zerolinecolor": "white",
           "zerolinewidth": 2
          }
         }
        },
        "title": {
         "text": "",
         "x": 0.5,
         "xanchor": "center",
         "y": 0.8,
         "yanchor": "top"
        },
        "width": 1200,
        "xaxis": {
         "linecolor": "black",
         "linewidth": 0.1,
         "mirror": true,
         "side": "top",
         "tickfont": {
          "size": 24
         }
        },
        "yaxis": {
         "linecolor": "black",
         "linewidth": 0.1,
         "mirror": true,
         "tickfont": {
          "size": 24
         }
        }
       }
      },
      "text/html": [
       "<div>                            <div id=\"082a26e2-3324-41b8-805a-9e01164daf1e\" class=\"plotly-graph-div\" style=\"height:400px; width:1200px;\"></div>            <script type=\"text/javascript\">                require([\"plotly\"], function(Plotly) {                    window.PLOTLYENV=window.PLOTLYENV || {};                                    if (document.getElementById(\"082a26e2-3324-41b8-805a-9e01164daf1e\")) {                    Plotly.newPlot(                        \"082a26e2-3324-41b8-805a-9e01164daf1e\",                        [{\"colorbar\": {\"tickfont\": {\"size\": 20}}, \"colorscale\": [[0.0, \"rgb(232, 245, 171)\"], [0.09090909090909091, \"rgb(220, 219, 137)\"], [0.18181818181818182, \"rgb(209, 193, 107)\"], [0.2727272727272727, \"rgb(199, 168, 83)\"], [0.36363636363636365, \"rgb(186, 143, 66)\"], [0.45454545454545453, \"rgb(170, 121, 60)\"], [0.5454545454545454, \"rgb(151, 103, 58)\"], [0.6363636363636364, \"rgb(129, 87, 56)\"], [0.7272727272727273, \"rgb(104, 72, 53)\"], [0.8181818181818182, \"rgb(80, 59, 46)\"], [0.9090909090909091, \"rgb(57, 45, 37)\"], [1.0, \"rgb(34, 30, 27)\"]], \"hoverongaps\": true, \"opacity\": 0.6, \"type\": \"heatmap\", \"x\": [\"<b>RF</b>\", \"<b>XGBoost</b>\", \"<b>LGBM</b>\"], \"y\": [\"<b>Accuracy</b>\", \"<b>Precision</b>\", \"<b>Recall</b>\", \"<b>F1-score</b>\"], \"z\": [[0.738, 0.727, 0.755], [0.645, 0.632, 0.675], [0.584, 0.553, 0.593], [0.613, 0.59, 0.631]]}],                        {\"annotations\": [{\"font\": {\"color\": \"black\", \"size\": 22}, \"showarrow\": false, \"text\": \"0.738\", \"x\": 0, \"y\": 0}, {\"font\": {\"color\": \"black\", \"size\": 22}, \"showarrow\": false, \"text\": \"0.727\", \"x\": 1, \"y\": 0}, {\"font\": {\"color\": \"black\", \"size\": 22}, \"showarrow\": false, \"text\": \"0.755\", \"x\": 2, \"y\": 0}, {\"font\": {\"color\": \"black\", \"size\": 22}, \"showarrow\": false, \"text\": \"0.645\", \"x\": 0, \"y\": 1}, {\"font\": {\"color\": \"black\", \"size\": 22}, \"showarrow\": false, \"text\": \"0.632\", \"x\": 1, \"y\": 1}, {\"font\": {\"color\": \"black\", \"size\": 22}, \"showarrow\": false, \"text\": \"0.675\", \"x\": 2, \"y\": 1}, {\"font\": {\"color\": \"black\", \"size\": 22}, \"showarrow\": false, \"text\": \"0.584\", \"x\": 0, \"y\": 2}, {\"font\": {\"color\": \"black\", \"size\": 22}, \"showarrow\": false, \"text\": \"0.553\", \"x\": 1, \"y\": 2}, {\"font\": {\"color\": \"black\", \"size\": 22}, \"showarrow\": false, \"text\": \"0.593\", \"x\": 2, \"y\": 2}, {\"font\": {\"color\": \"black\", \"size\": 22}, \"showarrow\": false, \"text\": \"0.613\", \"x\": 0, \"y\": 3}, {\"font\": {\"color\": \"black\", \"size\": 22}, \"showarrow\": false, \"text\": \"0.59\", \"x\": 1, \"y\": 3}, {\"font\": {\"color\": \"black\", \"size\": 22}, \"showarrow\": false, \"text\": \"0.631\", \"x\": 2, \"y\": 3}], \"height\": 400, \"margin\": {\"b\": 20, \"l\": 20, \"r\": 20, \"t\": 20}, \"plot_bgcolor\": \"rgba(0,0,0,0)\", \"template\": {\"data\": {\"bar\": [{\"error_x\": {\"color\": \"#2a3f5f\"}, \"error_y\": {\"color\": \"#2a3f5f\"}, \"marker\": {\"line\": {\"color\": \"#E5ECF6\", \"width\": 0.5}}, \"type\": \"bar\"}], \"barpolar\": [{\"marker\": {\"line\": {\"color\": \"#E5ECF6\", \"width\": 0.5}}, \"type\": \"barpolar\"}], \"carpet\": [{\"aaxis\": {\"endlinecolor\": \"#2a3f5f\", \"gridcolor\": \"white\", \"linecolor\": \"white\", \"minorgridcolor\": \"white\", \"startlinecolor\": \"#2a3f5f\"}, \"baxis\": {\"endlinecolor\": \"#2a3f5f\", \"gridcolor\": \"white\", \"linecolor\": \"white\", \"minorgridcolor\": \"white\", \"startlinecolor\": \"#2a3f5f\"}, \"type\": \"carpet\"}], \"choropleth\": [{\"colorbar\": {\"outlinewidth\": 0, \"ticks\": \"\"}, \"type\": \"choropleth\"}], \"contour\": [{\"colorbar\": {\"outlinewidth\": 0, \"ticks\": \"\"}, \"colorscale\": [[0.0, \"#0d0887\"], [0.1111111111111111, \"#46039f\"], [0.2222222222222222, \"#7201a8\"], [0.3333333333333333, \"#9c179e\"], [0.4444444444444444, \"#bd3786\"], [0.5555555555555556, \"#d8576b\"], [0.6666666666666666, \"#ed7953\"], [0.7777777777777778, \"#fb9f3a\"], [0.8888888888888888, \"#fdca26\"], [1.0, \"#f0f921\"]], \"type\": \"contour\"}], \"contourcarpet\": [{\"colorbar\": {\"outlinewidth\": 0, \"ticks\": \"\"}, \"type\": \"contourcarpet\"}], \"heatmap\": [{\"colorbar\": {\"outlinewidth\": 0, \"ticks\": \"\"}, \"colorscale\": [[0.0, \"#0d0887\"], [0.1111111111111111, \"#46039f\"], [0.2222222222222222, \"#7201a8\"], [0.3333333333333333, \"#9c179e\"], [0.4444444444444444, \"#bd3786\"], [0.5555555555555556, \"#d8576b\"], [0.6666666666666666, \"#ed7953\"], [0.7777777777777778, \"#fb9f3a\"], [0.8888888888888888, \"#fdca26\"], [1.0, \"#f0f921\"]], \"type\": \"heatmap\"}], \"heatmapgl\": [{\"colorbar\": {\"outlinewidth\": 0, \"ticks\": \"\"}, \"colorscale\": [[0.0, \"#0d0887\"], [0.1111111111111111, \"#46039f\"], [0.2222222222222222, \"#7201a8\"], [0.3333333333333333, \"#9c179e\"], [0.4444444444444444, \"#bd3786\"], [0.5555555555555556, \"#d8576b\"], [0.6666666666666666, \"#ed7953\"], [0.7777777777777778, \"#fb9f3a\"], [0.8888888888888888, \"#fdca26\"], [1.0, \"#f0f921\"]], \"type\": \"heatmapgl\"}], \"histogram\": [{\"marker\": {\"colorbar\": {\"outlinewidth\": 0, \"ticks\": \"\"}}, \"type\": \"histogram\"}], \"histogram2d\": [{\"colorbar\": {\"outlinewidth\": 0, \"ticks\": \"\"}, \"colorscale\": [[0.0, \"#0d0887\"], [0.1111111111111111, \"#46039f\"], [0.2222222222222222, \"#7201a8\"], [0.3333333333333333, \"#9c179e\"], [0.4444444444444444, \"#bd3786\"], [0.5555555555555556, \"#d8576b\"], [0.6666666666666666, \"#ed7953\"], [0.7777777777777778, \"#fb9f3a\"], [0.8888888888888888, \"#fdca26\"], [1.0, \"#f0f921\"]], \"type\": \"histogram2d\"}], \"histogram2dcontour\": [{\"colorbar\": {\"outlinewidth\": 0, \"ticks\": \"\"}, \"colorscale\": [[0.0, \"#0d0887\"], [0.1111111111111111, \"#46039f\"], [0.2222222222222222, \"#7201a8\"], [0.3333333333333333, \"#9c179e\"], [0.4444444444444444, \"#bd3786\"], [0.5555555555555556, \"#d8576b\"], [0.6666666666666666, \"#ed7953\"], [0.7777777777777778, \"#fb9f3a\"], [0.8888888888888888, \"#fdca26\"], [1.0, \"#f0f921\"]], \"type\": \"histogram2dcontour\"}], \"mesh3d\": [{\"colorbar\": {\"outlinewidth\": 0, \"ticks\": \"\"}, \"type\": \"mesh3d\"}], \"parcoords\": [{\"line\": {\"colorbar\": {\"outlinewidth\": 0, \"ticks\": \"\"}}, \"type\": \"parcoords\"}], \"pie\": [{\"automargin\": true, \"type\": \"pie\"}], \"scatter\": [{\"marker\": {\"colorbar\": {\"outlinewidth\": 0, \"ticks\": \"\"}}, \"type\": \"scatter\"}], \"scatter3d\": [{\"line\": {\"colorbar\": {\"outlinewidth\": 0, \"ticks\": \"\"}}, \"marker\": {\"colorbar\": {\"outlinewidth\": 0, \"ticks\": \"\"}}, \"type\": \"scatter3d\"}], \"scattercarpet\": [{\"marker\": {\"colorbar\": {\"outlinewidth\": 0, \"ticks\": \"\"}}, \"type\": \"scattercarpet\"}], \"scattergeo\": [{\"marker\": {\"colorbar\": {\"outlinewidth\": 0, \"ticks\": \"\"}}, \"type\": \"scattergeo\"}], \"scattergl\": [{\"marker\": {\"colorbar\": {\"outlinewidth\": 0, \"ticks\": \"\"}}, \"type\": \"scattergl\"}], \"scattermapbox\": [{\"marker\": {\"colorbar\": {\"outlinewidth\": 0, \"ticks\": \"\"}}, \"type\": \"scattermapbox\"}], \"scatterpolar\": [{\"marker\": {\"colorbar\": {\"outlinewidth\": 0, \"ticks\": \"\"}}, \"type\": \"scatterpolar\"}], \"scatterpolargl\": [{\"marker\": {\"colorbar\": {\"outlinewidth\": 0, \"ticks\": \"\"}}, \"type\": \"scatterpolargl\"}], \"scatterternary\": [{\"marker\": {\"colorbar\": {\"outlinewidth\": 0, \"ticks\": \"\"}}, \"type\": \"scatterternary\"}], \"surface\": [{\"colorbar\": {\"outlinewidth\": 0, \"ticks\": \"\"}, \"colorscale\": [[0.0, \"#0d0887\"], [0.1111111111111111, \"#46039f\"], [0.2222222222222222, \"#7201a8\"], [0.3333333333333333, \"#9c179e\"], [0.4444444444444444, \"#bd3786\"], [0.5555555555555556, \"#d8576b\"], [0.6666666666666666, \"#ed7953\"], [0.7777777777777778, \"#fb9f3a\"], [0.8888888888888888, \"#fdca26\"], [1.0, \"#f0f921\"]], \"type\": \"surface\"}], \"table\": [{\"cells\": {\"fill\": {\"color\": \"#EBF0F8\"}, \"line\": {\"color\": \"white\"}}, \"header\": {\"fill\": {\"color\": \"#C8D4E3\"}, \"line\": {\"color\": \"white\"}}, \"type\": \"table\"}]}, \"layout\": {\"annotationdefaults\": {\"arrowcolor\": \"#2a3f5f\", \"arrowhead\": 0, \"arrowwidth\": 1}, \"coloraxis\": {\"colorbar\": {\"outlinewidth\": 0, \"ticks\": \"\"}}, \"colorscale\": {\"diverging\": [[0, \"#8e0152\"], [0.1, \"#c51b7d\"], [0.2, \"#de77ae\"], [0.3, \"#f1b6da\"], [0.4, \"#fde0ef\"], [0.5, \"#f7f7f7\"], [0.6, \"#e6f5d0\"], [0.7, \"#b8e186\"], [0.8, \"#7fbc41\"], [0.9, \"#4d9221\"], [1, \"#276419\"]], \"sequential\": [[0.0, \"#0d0887\"], [0.1111111111111111, \"#46039f\"], [0.2222222222222222, \"#7201a8\"], [0.3333333333333333, \"#9c179e\"], [0.4444444444444444, \"#bd3786\"], [0.5555555555555556, \"#d8576b\"], [0.6666666666666666, \"#ed7953\"], [0.7777777777777778, \"#fb9f3a\"], [0.8888888888888888, \"#fdca26\"], [1.0, \"#f0f921\"]], \"sequentialminus\": [[0.0, \"#0d0887\"], [0.1111111111111111, \"#46039f\"], [0.2222222222222222, \"#7201a8\"], [0.3333333333333333, \"#9c179e\"], [0.4444444444444444, \"#bd3786\"], [0.5555555555555556, \"#d8576b\"], [0.6666666666666666, \"#ed7953\"], [0.7777777777777778, \"#fb9f3a\"], [0.8888888888888888, \"#fdca26\"], [1.0, \"#f0f921\"]]}, \"colorway\": [\"#636efa\", \"#EF553B\", \"#00cc96\", \"#ab63fa\", \"#FFA15A\", \"#19d3f3\", \"#FF6692\", \"#B6E880\", \"#FF97FF\", \"#FECB52\"], \"font\": {\"color\": \"#2a3f5f\"}, \"geo\": {\"bgcolor\": \"white\", \"lakecolor\": \"white\", \"landcolor\": \"#E5ECF6\", \"showlakes\": true, \"showland\": true, \"subunitcolor\": \"white\"}, \"hoverlabel\": {\"align\": \"left\"}, \"hovermode\": \"closest\", \"mapbox\": {\"style\": \"light\"}, \"paper_bgcolor\": \"white\", \"plot_bgcolor\": \"#E5ECF6\", \"polar\": {\"angularaxis\": {\"gridcolor\": \"white\", \"linecolor\": \"white\", \"ticks\": \"\"}, \"bgcolor\": \"#E5ECF6\", \"radialaxis\": {\"gridcolor\": \"white\", \"linecolor\": \"white\", \"ticks\": \"\"}}, \"scene\": {\"xaxis\": {\"backgroundcolor\": \"#E5ECF6\", \"gridcolor\": \"white\", \"gridwidth\": 2, \"linecolor\": \"white\", \"showbackground\": true, \"ticks\": \"\", \"zerolinecolor\": \"white\"}, \"yaxis\": {\"backgroundcolor\": \"#E5ECF6\", \"gridcolor\": \"white\", \"gridwidth\": 2, \"linecolor\": \"white\", \"showbackground\": true, \"ticks\": \"\", \"zerolinecolor\": \"white\"}, \"zaxis\": {\"backgroundcolor\": \"#E5ECF6\", \"gridcolor\": \"white\", \"gridwidth\": 2, \"linecolor\": \"white\", \"showbackground\": true, \"ticks\": \"\", \"zerolinecolor\": \"white\"}}, \"shapedefaults\": {\"line\": {\"color\": \"#2a3f5f\"}}, \"ternary\": {\"aaxis\": {\"gridcolor\": \"white\", \"linecolor\": \"white\", \"ticks\": \"\"}, \"baxis\": {\"gridcolor\": \"white\", \"linecolor\": \"white\", \"ticks\": \"\"}, \"bgcolor\": \"#E5ECF6\", \"caxis\": {\"gridcolor\": \"white\", \"linecolor\": \"white\", \"ticks\": \"\"}}, \"title\": {\"x\": 0.05}, \"xaxis\": {\"automargin\": true, \"gridcolor\": \"white\", \"linecolor\": \"white\", \"ticks\": \"\", \"title\": {\"standoff\": 15}, \"zerolinecolor\": \"white\", \"zerolinewidth\": 2}, \"yaxis\": {\"automargin\": true, \"gridcolor\": \"white\", \"linecolor\": \"white\", \"ticks\": \"\", \"title\": {\"standoff\": 15}, \"zerolinecolor\": \"white\", \"zerolinewidth\": 2}}}, \"title\": {\"text\": \"\", \"x\": 0.5, \"xanchor\": \"center\", \"y\": 0.8, \"yanchor\": \"top\"}, \"width\": 1200, \"xaxis\": {\"linecolor\": \"black\", \"linewidth\": 0.1, \"mirror\": true, \"side\": \"top\", \"tickfont\": {\"size\": 24}}, \"yaxis\": {\"linecolor\": \"black\", \"linewidth\": 0.1, \"mirror\": true, \"tickfont\": {\"size\": 24}}},                        {\"responsive\": true}                    ).then(function(){\n",
       "                            \n",
       "var gd = document.getElementById('082a26e2-3324-41b8-805a-9e01164daf1e');\n",
       "var x = new MutationObserver(function (mutations, observer) {{\n",
       "        var display = window.getComputedStyle(gd).display;\n",
       "        if (!display || display === 'none') {{\n",
       "            console.log([gd, 'removed!']);\n",
       "            Plotly.purge(gd);\n",
       "            observer.disconnect();\n",
       "        }}\n",
       "}});\n",
       "\n",
       "// Listen for the removal of the full notebook cells\n",
       "var notebookContainer = gd.closest('#notebook-container');\n",
       "if (notebookContainer) {{\n",
       "    x.observe(notebookContainer, {childList: true});\n",
       "}}\n",
       "\n",
       "// Listen for the clearing of the current output cell\n",
       "var outputEl = gd.closest('.output');\n",
       "if (outputEl) {{\n",
       "    x.observe(outputEl, {childList: true});\n",
       "}}\n",
       "\n",
       "                        })                };                });            </script>        </div>"
      ]
     },
     "metadata": {},
     "output_type": "display_data"
    },
    {
     "data": {
      "image/png": "[encoded data removed]",
      "text/plain": [
       "<IPython.core.display.Image object>"
      ]
     },
     "execution_count": 730,
     "metadata": {},
     "output_type": "execute_result"
    }
   ],
   "source": [
    "import numpy as np\n",
    "import plotly.graph_objects as go\n",
    "from functools import reduce\n",
    "from itertools import product\n",
    "from IPython.display import Image\n",
    "SUB = str.maketrans(\"0123456789\", \"₀₁₂₃₄₅₆₇₈₉\")\n",
    "SUP = str.maketrans(\"0123456789\", \"⁰¹²³⁴⁵⁶⁷⁸⁹\")\n",
    "z=[[np.round(evaluation1(y_test,pred1)[0],3),np.round(evaluation1(y_test,pred2)[0],3),\n",
    "    np.round(evaluation1(y_test,pred4)[0],3)],\n",
    "   \n",
    "   [np.round(evaluation1(y_test,pred1)[1],3),np.round(evaluation1(y_test,pred2)[1],3),\n",
    "    np.round(evaluation1(y_test,pred4)[1],3)],\n",
    "   \n",
    "   [np.round(evaluation1(y_test,pred1)[2],3),np.round(evaluation1(y_test,pred2)[2],3),\n",
    "    np.round(evaluation1(y_test,pred4)[2],3)],\n",
    "   \n",
    "   [np.round(evaluation1(y_test,pred1)[3],3),np.round(evaluation1(y_test,pred2)[3],3),\n",
    "   np.round(evaluation1(y_test,pred4)[3],3)]]\n",
    "\n",
    "x=['<b>RF</b>', '<b>XGBoost</b>',  '<b>LGBM</b>', ]\n",
    "y=['<b>Accuracy</b>','<b>Precision</b>','<b>Recall</b>','<b>F1-score</b>']\n",
    "\n",
    "def get_anno_text(z_value):\n",
    "    annotations=[]\n",
    "    a, b = len(z_value), len(z_value[0])\n",
    "    flat_z = reduce(lambda x,y: x+y, z_value) # z_value.flat if you deal with numpy\n",
    "    coords = product(range(a), range(b))\n",
    "    for pos, elem in zip(coords, flat_z):\n",
    "        annotations.append({'font': {'color': 'black'},\n",
    "                    'showarrow': False,\n",
    "                    'text': str(elem),\n",
    "                    'x': pos[1],\n",
    "                    'y': pos[0],\n",
    "                        'font.size':22   })\n",
    "    return annotations\n",
    "\n",
    "fig = go.Figure(data=go.Heatmap(\n",
    "                   z=z,\n",
    "                   x=x,\n",
    "                   y=y,\n",
    "                   hoverongaps = True, colorscale ='turbid',\n",
    "    opacity=0.6,colorbar=dict(tickfont=dict(size=20)) ))#matter#\n",
    "\n",
    "fig.update_layout(title={'text': \"\",\n",
    "        'y':0.8,\n",
    "        'x':0.5,\n",
    "        'xanchor': 'center',\n",
    "        'yanchor': 'top'},\n",
    "           plot_bgcolor='rgba(0,0,0,0)',       \n",
    "    annotations = get_anno_text(z),\n",
    "                 width=1200,\n",
    "height=400,xaxis={'side': 'top'},margin=dict(l=20, r=20, t=20, b=20))\n",
    "\n",
    "fig.update_xaxes(tickfont = dict(size=24),linewidth=0.1, linecolor='black',\n",
    "    \n",
    "                 mirror=True)\n",
    "fig.update_yaxes(tickfont = dict(size=24),linewidth=0.1, linecolor='black',\n",
    "        \n",
    "                 mirror=True)\n",
    "fig.write_image(\"table_22.png\",engine=\"kaleido\")\n",
    "#plt.savefig(\"table.pdf\", format=\"pdf\", bbox_inches=\"tight\")\n",
    "fig.show()\n",
    "Image('table_22.png')"
   ]
  },
  {
   "cell_type": "markdown",
   "id": "precious-recorder",
   "metadata": {},
   "source": [
    "# Varying class weights and accessing Probability thresholds"
   ]
  },
  {
   "cell_type": "code",
   "execution_count": 731,
   "id": "premium-demographic",
   "metadata": {},
   "outputs": [
    {
     "name": "stdout",
     "output_type": "stream",
     "text": [
      "[1000]\tcv_agg's binary_error: 0.278176 + 0.0141904\n",
      "[2000]\tcv_agg's binary_error: 0.272339 + 0.0159588\n",
      "[3000]\tcv_agg's binary_error: 0.271329 + 0.0152969\n",
      "Best number of boosting rounds: 2881\n",
      "Best score: 0.270205895753341\n",
      "[1000]\tvalid_0's binary_error: 0.277778\n",
      "[2000]\tvalid_0's binary_error: 0.247475\n",
      "Accuracy: 0.7515\n",
      "Best parameters: {'boosting_type': 'gbdt', 'num_leaves': 70, 'max_depth': 25, 'learning_rate': 0.004796225126978845, 'feature_fraction': 0.6036416679573813, 'bagging_fraction': 0.7102057400975744, 'bagging_freq': 5, 'min_data_in_leaf': 188, 'reg_lambda': 25.867047720071138, 'objective': 'binary', 'metric': 'binary_error'}\n"
     ]
    }
   ],
   "source": [
    "import lightgbm as lgb\n",
    "from sklearn.metrics import accuracy_score\n",
    "import numpy as np\n",
    "import pandas as pd\n",
    "\n",
    "# Create LightGBM datasets\n",
    "train_set = lgb.Dataset(X_train, label=y_train)\n",
    "# Define the initial model parameters\n",
    "params = {\n",
    "    'boosting_type': 'gbdt',\n",
    "    'num_leaves': 70,\n",
    "    'max_depth': 25,\n",
    "    'learning_rate': 0.004796225126978845,\n",
    "    'feature_fraction': 0.6036416679573813,\n",
    "    'bagging_fraction': 0.7102057400975744,\n",
    "    'bagging_freq': 5,\n",
    "    'min_data_in_leaf': 188,\n",
    "    'reg_lambda': 25.867047720071138,\n",
    "    'objective': 'binary',\n",
    "    'metric': 'binary_error'\n",
    "}\n",
    "\n",
    "# Perform cross-validation to find the best parameters\n",
    "cv_results = lgb.cv(\n",
    "    params,\n",
    "    train_set,\n",
    "    num_boost_round=100000,\n",
    "    early_stopping_rounds=1000,\n",
    "    verbose_eval=1000,\n",
    "    stratified=True,\n",
    "    nfold=5  # Number of folds for cross-validation\n",
    ")\n",
    "\n",
    "# Extract the best number of boosting rounds and the best score\n",
    "best_num_boost_round = len(cv_results['binary_error-mean'])\n",
    "best_score = min(cv_results['binary_error-mean'])\n",
    "\n",
    "print(f'Best number of boosting rounds: {best_num_boost_round}')\n",
    "print(f'Best score: {best_score}')\n",
    "\n",
    "# Train the model with the best parameters\n",
    "model = lgb.train(\n",
    "    params,\n",
    "    train_set,\n",
    "    num_boost_round=best_num_boost_round,\n",
    "    valid_sets=[lgb.Dataset(X_test, label=y_test)],  # Validation dataset\n",
    "    verbose_eval=1000\n",
    ")\n",
    "\n",
    "# Predict on the test set\n",
    "y_pred_prob = model.predict(X_test, num_iteration=model.best_iteration)\n",
    "y_pred = (y_pred_prob > 0.5).astype(int)  # Convert probabilities to binary predictions\n",
    "\n",
    "# Evaluate accuracy\n",
    "accuracy = accuracy_score(y_test, y_pred)\n",
    "print(f'Accuracy: {accuracy:.4f}')\n",
    "\n",
    "# Retrieve the best parameters\n",
    "best_params = model.params\n",
    "print('Best parameters:', best_params)"
   ]
  },
  {
   "cell_type": "code",
   "execution_count": 732,
   "id": "popular-teens",
   "metadata": {},
   "outputs": [
    {
     "name": "stdout",
     "output_type": "stream",
     "text": [
      "   class_weights   roc_auc  best_threshold  accuracy_best\n",
      "0   {0: 1, 1: 1}  0.779249               0       0.354545\n",
      "1   {0: 1, 1: 2}  0.778589               0       0.354545\n",
      "2   {0: 1, 1: 5}  0.776400               0       0.354545\n",
      "3  {0: 1, 1: 10}  0.776224               0       0.354545\n"
     ]
    },
    {
     "data": {
      "image/png": "[encoded data removed]",
      "text/plain": [
       "<Figure size 864x576 with 1 Axes>"
      ]
     },
     "metadata": {
      "needs_background": "light"
     },
     "output_type": "display_data"
    },
    {
     "data": {
      "image/png": "[encoded data removed]",
      "text/plain": [
       "<Figure size 864x576 with 1 Axes>"
      ]
     },
     "metadata": {
      "needs_background": "light"
     },
     "output_type": "display_data"
    }
   ],
   "source": [
    "import numpy as np\n",
    "import pandas as pd\n",
    "from sklearn.model_selection import train_test_split\n",
    "from sklearn.metrics import accuracy_score, precision_recall_curve, roc_curve, auc\n",
    "import lightgbm as lgb\n",
    "import matplotlib.pyplot as plt\n",
    "\n",
    "# Define different class weights to test\n",
    "class_weights_list = [{0: 1, 1: 1}, {0: 1, 1: 2}, {0: 1, 1: 5}, {0: 1, 1: 10}]\n",
    "\n",
    "# Initialize dictionaries to store results\n",
    "results = []\n",
    "\n",
    "# Iterate over different class weights\n",
    "for class_weights in class_weights_list:\n",
    "    # Create LGBM classifier with class weights\n",
    "    clf = lgb.LGBMClassifier(class_weight=class_weights,boosting_type= 'gbdt', num_leaves= 70, \n",
    "                             max_depth= 25, learning_rate=0.004796225126978845,\n",
    "                             feature_fraction= 0.6036416679573813, bagging_fraction=0.7102057400975744, \n",
    "                             bagging_freq= 5, min_data_in_leaf= 188, reg_lambda=25.867047720071138, \n",
    "               verbose=-1,random_state=42)\n",
    "    \n",
    "    # Train the model\n",
    "    clf.fit(X_train, y_train)\n",
    "    \n",
    "    # Predict probabilities\n",
    "    y_proba = clf.predict_proba(X_test)[:, 1]\n",
    "    \n",
    "    # Evaluate performance with different thresholds\n",
    "    precisions, recalls, thresholds = precision_recall_curve(y_test, y_proba)\n",
    "    fpr, tpr, roc_thresholds = roc_curve(y_test, y_proba)\n",
    "    roc_auc = auc(fpr, tpr)\n",
    "    \n",
    "    # Check if there are thresholds\n",
    "    if len(thresholds) > 0:\n",
    "        # Determine best threshold for precision-recall tradeoff\n",
    "        best_threshold_idx = np.argmax(precisions - recalls)\n",
    "        if best_threshold_idx < len(thresholds):\n",
    "            best_threshold = thresholds[best_threshold_idx]\n",
    "        else:\n",
    "            best_threshold = 0  # Default to 0 if index is out of bounds\n",
    "    else:\n",
    "        best_threshold = 0\n",
    "    \n",
    "    # Predict using the best threshold\n",
    "    y_pred_best = (y_proba >= best_threshold).astype(int)\n",
    "    accuracy_best = accuracy_score(y_test, y_pred_best)\n",
    "    \n",
    "    # Store results\n",
    "    results.append({\n",
    "        'class_weights': class_weights,\n",
    "        'roc_auc': roc_auc,\n",
    "        'best_threshold': best_threshold,\n",
    "        'accuracy_best': accuracy_best\n",
    "    })\n",
    "\n",
    "# Convert results to DataFrame for better readability\n",
    "results_df = pd.DataFrame(results)\n",
    "# Print results\n",
    "print(results_df)\n",
    "# Plot ROC Curve for each class weight setting\n",
    "plt.figure(figsize=(12, 8))\n",
    "for i, class_weights in enumerate(class_weights_list):\n",
    "    fpr, tpr, _ = roc_curve(y_test, clf.predict_proba(X_test)[:, 1])\n",
    "    plt.plot(fpr, tpr, label=f'Class Weights {class_weights} (AUC = {results_df[\"roc_auc\"][i]:.2f})')\n",
    "plt.plot([0, 1], [0, 1], 'k--')\n",
    "plt.xlabel('False Positive Rate')\n",
    "plt.ylabel('True Positive Rate')\n",
    "plt.title('ROC Curve for Different Class Weights')\n",
    "plt.legend(loc='lower right')\n",
    "plt.show()\n",
    "# Plot Precision-Recall Curve for each class weight setting\n",
    "plt.figure(figsize=(12, 8))\n",
    "for i, class_weights in enumerate(class_weights_list):\n",
    "    precisions, recalls, _ = precision_recall_curve(y_test, clf.predict_proba(X_test)[:, 1])\n",
    "    plt.plot(recalls, precisions, label=f'Class Weights {class_weights}')\n",
    "plt.xlabel('Recall')\n",
    "plt.ylabel('Precision')\n",
    "plt.title('Precision-Recall Curve for Different Class Weights')\n",
    "plt.legend(loc='lower right')\n",
    "plt.show()"
   ]
  },
  {
   "cell_type": "code",
   "execution_count": 733,
   "id": "assisted-syndrome",
   "metadata": {},
   "outputs": [
    {
     "name": "stdout",
     "output_type": "stream",
     "text": [
      "  class_weights  best_threshold  best_accuracy  \\\n",
      "0  {0: 1, 1: 1}        0.504949       0.754545   \n",
      "1  {0: 1, 1: 2}        0.643535       0.755556   \n",
      "2  {0: 1, 1: 3}        0.683131       0.754545   \n",
      "3  {0: 1, 1: 4}        0.772222       0.754545   \n",
      "4  {0: 1, 1: 5}        0.693030       0.753535   \n",
      "5  {0: 1, 1: 6}        0.801919       0.753535   \n",
      "\n",
      "                                          accuracies  \\\n",
      "0  [0.45252525252525255, 0.498989898989899, 0.527...   \n",
      "1  [0.43434343434343436, 0.4717171717171717, 0.49...   \n",
      "2  [0.42525252525252527, 0.4626262626262626, 0.48...   \n",
      "3  [0.42424242424242425, 0.4575757575757576, 0.48...   \n",
      "4  [0.42525252525252527, 0.4484848484848485, 0.47...   \n",
      "5  [0.42525252525252527, 0.45454545454545453, 0.4...   \n",
      "\n",
      "                                          thresholds  \n",
      "0  [0.01, 0.0198989898989899, 0.02979797979797979...  \n",
      "1  [0.01, 0.0198989898989899, 0.02979797979797979...  \n",
      "2  [0.01, 0.0198989898989899, 0.02979797979797979...  \n",
      "3  [0.01, 0.0198989898989899, 0.02979797979797979...  \n",
      "4  [0.01, 0.0198989898989899, 0.02979797979797979...  \n",
      "5  [0.01, 0.0198989898989899, 0.02979797979797979...  \n"
     ]
    },
    {
     "data": {
      "image/png": "[encoded data removed]",
      "text/plain": [
       "<Figure size 576x360 with 1 Axes>"
      ]
     },
     "metadata": {
      "needs_background": "light"
     },
     "output_type": "display_data"
    }
   ],
   "source": [
    "import numpy as np\n",
    "import pandas as pd\n",
    "from sklearn.model_selection import train_test_split\n",
    "from sklearn.metrics import accuracy_score, precision_recall_curve, roc_curve, auc\n",
    "import lightgbm as lgb\n",
    "import matplotlib.pyplot as plt\n",
    "\n",
    "\n",
    "\n",
    "class_weights_list = [{0: 1, 1: 1}, {0: 1, 1: 2}, {0: 1, 1: 3}, {0: 1, 1: 4},{0: 1, 1: 5},{0: 1, 1: 6}]\n",
    "\n",
    "# Initialize dictionaries to store results\n",
    "results = []\n",
    "\n",
    "# Probability thresholds to test\n",
    "thresholds_to_test = np.linspace(0.01, 0.99, 100)\n",
    "\n",
    "# Iterate over different class weights\n",
    "for class_weights in class_weights_list:\n",
    "    # Create LGBM classifier with class weights\n",
    "    clf = lgb.LGBMClassifier(class_weight=class_weights, boosting_type= 'gbdt', colsample_bytree=0.3158372113629838,\n",
    "               learning_rate=0.0737698358037508, max_bin=511, n_estimators=139,\n",
    "               num_leaves=366, reg_alpha=0.004049096820212068,\n",
    "               reg_lambda=0.020151533326488984, verbose=-1,\n",
    "                             objective= 'binary', metric= 'binary_error',random_state=42)\n",
    "    \n",
    "    # Train the model\n",
    "    clf.fit(X_train, y_train)\n",
    "    \n",
    "    # Predict probabilities\n",
    "    y_proba = clf.predict_proba(X_test)[:, 1]\n",
    "    \n",
    "    # Initialize a list to store accuracy for different thresholds\n",
    "    accuracies = []\n",
    "    \n",
    "    # Test each threshold\n",
    "    for threshold in thresholds_to_test:\n",
    "        y_pred = (y_proba >= threshold).astype(int)\n",
    "        accuracy = accuracy_score(y_test, y_pred)\n",
    "        accuracies.append(accuracy)\n",
    "    \n",
    "    # Store results\n",
    "    results.append({\n",
    "        'class_weights': class_weights,\n",
    "        'best_threshold': thresholds_to_test[np.argmax(accuracies)],\n",
    "        'best_accuracy': max(accuracies),\n",
    "        'accuracies': accuracies,\n",
    "        'thresholds': thresholds_to_test\n",
    "    })\n",
    "\n",
    "# Convert results to DataFrame for better readability\n",
    "results_df = pd.DataFrame(results)\n",
    "\n",
    "# Print results\n",
    "print(results_df)\n",
    "\n",
    "# Plot accuracy vs. threshold for each class weight setting\n",
    "plt.figure(figsize=(8, 5))\n",
    "for i, class_weights in enumerate(class_weights_list):\n",
    "    plt.plot(results[i]['thresholds'], results[i]['accuracies'], label=f'Class Weights {class_weights}')\n",
    "plt.xlabel('Probability Decision Threshold')\n",
    "plt.ylabel('Accuracy')\n",
    "plt.title('Accuracy vs. Decision Threshold for Different Class Weights')\n",
    "plt.legend(loc='lower right')\n",
    "plt.savefig(\"class_weights.pdf\", format=\"pdf\", bbox_inches=\"tight\",dpi=1000)\n",
    "plt.show()"
   ]
  },
  {
   "cell_type": "code",
   "execution_count": null,
   "id": "younger-vertical",
   "metadata": {},
   "outputs": [],
   "source": []
  },
  {
   "cell_type": "code",
   "execution_count": null,
   "id": "clear-section",
   "metadata": {},
   "outputs": [],
   "source": []
  },
  {
   "cell_type": "code",
   "execution_count": null,
   "id": "regular-wildlife",
   "metadata": {},
   "outputs": [],
   "source": []
  }
 ],
 "metadata": {
  "kernelspec": {
   "display_name": "Python 3",
   "language": "python",
   "name": "python3"
  },
  "language_info": {
   "codemirror_mode": {
    "name": "ipython",
    "version": 3
   },
   "file_extension": ".py",
   "mimetype": "text/x-python",
   "name": "python",
   "nbconvert_exporter": "python",
   "pygments_lexer": "ipython3",
   "version": "3.8.6"
  }
 },
 "nbformat": 4,
 "nbformat_minor": 5
}
